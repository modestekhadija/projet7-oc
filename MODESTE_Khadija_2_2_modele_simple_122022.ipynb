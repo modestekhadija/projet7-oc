{
  "cells": [
    {
      "cell_type": "markdown",
      "id": "230ba233",
      "metadata": {
        "id": "230ba233"
      },
      "source": [
        "# <center><span style='background:yellow'> Détectez les Bad Buzz grâce au Deep Learning</span></center>\n",
        "# <center><span style='background:yellow'>Modèle sur mesure simple</span></center>\n",
        "==============================================================================================="
      ]
    },
    {
      "cell_type": "markdown",
      "id": "253d9ec4",
      "metadata": {
        "id": "253d9ec4"
      },
      "source": [
        "### Sommaire <a class=\"anchor\" id=\"sommaire\"></a>\n",
        "* [Import des librairies et chargement des données](#00)\n",
        "* [Séparation des données d'entraînement, de validation et de test](#10)\n",
        "* [Application de la régression logistique](#20)\n",
        "* [Optimisation des hyperparamètres du modèle de régression](#30)\n",
        "* [Sauvegarde du modèle final](#40)"
      ]
    },
    {
      "cell_type": "markdown",
      "id": "e480d484",
      "metadata": {
        "id": "e480d484"
      },
      "source": [
        "## Import des librairies et chargement des données<a class=\"anchor\" id=\"00\"></a>"
      ]
    },
    {
      "cell_type": "code",
      "source": [
        "from google.colab import drive\n",
        "drive.mount('/content/drive')"
      ],
      "metadata": {
        "id": "-2kT9nXXp4o1",
        "colab": {
          "base_uri": "https://localhost:8080/"
        },
        "outputId": "02f484f2-4211-4a8a-daf6-12e2840929ff"
      },
      "id": "-2kT9nXXp4o1",
      "execution_count": null,
      "outputs": [
        {
          "output_type": "stream",
          "name": "stdout",
          "text": [
            "Mounted at /content/drive\n"
          ]
        }
      ]
    },
    {
      "cell_type": "code",
      "source": [
        "pip install gensim==4.2.0"
      ],
      "metadata": {
        "colab": {
          "base_uri": "https://localhost:8080/"
        },
        "id": "ybd8opruq3jI",
        "outputId": "58a8eca9-4ebf-4dd1-cbf3-36fb949e4872"
      },
      "id": "ybd8opruq3jI",
      "execution_count": null,
      "outputs": [
        {
          "output_type": "stream",
          "name": "stdout",
          "text": [
            "Looking in indexes: https://pypi.org/simple, https://us-python.pkg.dev/colab-wheels/public/simple/\n",
            "Collecting gensim==4.2.0\n",
            "  Downloading gensim-4.2.0-cp38-cp38-manylinux_2_12_x86_64.manylinux2010_x86_64.whl (24.1 MB)\n",
            "\u001b[K     |████████████████████████████████| 24.1 MB 1.4 MB/s \n",
            "\u001b[?25hRequirement already satisfied: smart-open>=1.8.1 in /usr/local/lib/python3.8/dist-packages (from gensim==4.2.0) (6.3.0)\n",
            "Requirement already satisfied: numpy>=1.17.0 in /usr/local/lib/python3.8/dist-packages (from gensim==4.2.0) (1.21.6)\n",
            "Requirement already satisfied: scipy>=0.18.1 in /usr/local/lib/python3.8/dist-packages (from gensim==4.2.0) (1.7.3)\n",
            "Installing collected packages: gensim\n",
            "  Attempting uninstall: gensim\n",
            "    Found existing installation: gensim 3.6.0\n",
            "    Uninstalling gensim-3.6.0:\n",
            "      Successfully uninstalled gensim-3.6.0\n",
            "Successfully installed gensim-4.2.0\n"
          ]
        }
      ]
    },
    {
      "cell_type": "code",
      "execution_count": null,
      "id": "156f44fd",
      "metadata": {
        "id": "156f44fd"
      },
      "outputs": [],
      "source": [
        "import numpy as np\n",
        "import pandas as pd\n",
        "\n",
        "# Visualisation\n",
        "import matplotlib.pyplot as plt\n",
        "import seaborn as sns\n",
        "\n",
        "from sklearn.linear_model import LogisticRegression\n",
        "from sklearn.model_selection import train_test_split\n",
        "from sklearn.metrics import fbeta_score, make_scorer\n",
        "from sklearn.model_selection import GridSearchCV\n",
        "from joblib import dump, load\n",
        "import gensim\n",
        "from gensim.models import KeyedVectors\n",
        "from tqdm import tqdm"
      ]
    },
    {
      "cell_type": "markdown",
      "id": "cc97bcbd-cedb-45ec-8be0-96fe50bab497",
      "metadata": {
        "id": "cc97bcbd-cedb-45ec-8be0-96fe50bab497",
        "tags": []
      },
      "source": [
        "### Lecture des données d'entraînement, de validation et de test<a class=\"anchor\" id=\"10\"></a>"
      ]
    },
    {
      "cell_type": "code",
      "execution_count": null,
      "id": "729e33da",
      "metadata": {
        "id": "729e33da",
        "scrolled": true
      },
      "outputs": [],
      "source": [
        "path = '/content/drive/MyDrive/p7/'\n",
        "\n",
        "# Chargement des données\n",
        "train = pd.read_csv(path + 'data/train.csv', index_col=0, encoding='utf-8')\n",
        "validation = pd.read_csv(path + 'data/validation.csv', index_col=0, encoding='utf-8')\n",
        "\n",
        "train.dropna(inplace=True)\n",
        "validation.dropna(inplace=True)"
      ]
    },
    {
      "cell_type": "code",
      "execution_count": null,
      "id": "8d00f71f",
      "metadata": {
        "colab": {
          "base_uri": "https://localhost:8080/",
          "height": 337
        },
        "id": "8d00f71f",
        "outputId": "9cf600f6-f365-4293-d35b-f6840a88c366",
        "scrolled": true
      },
      "outputs": [
        {
          "output_type": "execute_result",
          "data": {
            "text/plain": [
              "                                                     tweet  label  \\\n",
              "1273151   #Goodsex When he makes you squirt all over him        1   \n",
              "445145   Looking for a &quot;Sexy Sailors&quot; outfit ...      0   \n",
              "499993   i dont know why twitter just now sent that thr...      0   \n",
              "122529   A particularly brutal rejection has put me off...      0   \n",
              "1322335  @bets_carabuena dear! sa friday pa dito  thurs...      1   \n",
              "\n",
              "                                          tweet_clean_lemm  \\\n",
              "1273151                                goodsex make squirt   \n",
              "445145   look quot;sexy sailors&quot outfit laura hen n...   \n",
              "499993                 not know twitter send word headache   \n",
              "122529   particularly brutal rejection writing never co...   \n",
              "1322335           dear sa friday pa dito thursday ang game   \n",
              "\n",
              "                                          tweet_clean_stem  \n",
              "1273151                                goodsex make squirt  \n",
              "445145   look quot;sexi sailors&quot outfit laura hen n...  \n",
              "499993                   nt know twitter sent word headach  \n",
              "122529   particular brutal reject write never consid eg...  \n",
              "1322335           dear sa friday pa dito thursday ang game  "
            ],
            "text/html": [
              "\n",
              "  <div id=\"df-2f61ffa4-f782-4704-9194-def9a20fb069\">\n",
              "    <div class=\"colab-df-container\">\n",
              "      <div>\n",
              "<style scoped>\n",
              "    .dataframe tbody tr th:only-of-type {\n",
              "        vertical-align: middle;\n",
              "    }\n",
              "\n",
              "    .dataframe tbody tr th {\n",
              "        vertical-align: top;\n",
              "    }\n",
              "\n",
              "    .dataframe thead th {\n",
              "        text-align: right;\n",
              "    }\n",
              "</style>\n",
              "<table border=\"1\" class=\"dataframe\">\n",
              "  <thead>\n",
              "    <tr style=\"text-align: right;\">\n",
              "      <th></th>\n",
              "      <th>tweet</th>\n",
              "      <th>label</th>\n",
              "      <th>tweet_clean_lemm</th>\n",
              "      <th>tweet_clean_stem</th>\n",
              "    </tr>\n",
              "  </thead>\n",
              "  <tbody>\n",
              "    <tr>\n",
              "      <th>1273151</th>\n",
              "      <td>#Goodsex When he makes you squirt all over him</td>\n",
              "      <td>1</td>\n",
              "      <td>goodsex make squirt</td>\n",
              "      <td>goodsex make squirt</td>\n",
              "    </tr>\n",
              "    <tr>\n",
              "      <th>445145</th>\n",
              "      <td>Looking for a &amp;quot;Sexy Sailors&amp;quot; outfit ...</td>\n",
              "      <td>0</td>\n",
              "      <td>look quot;sexy sailors&amp;quot outfit laura hen n...</td>\n",
              "      <td>look quot;sexi sailors&amp;quot outfit laura hen n...</td>\n",
              "    </tr>\n",
              "    <tr>\n",
              "      <th>499993</th>\n",
              "      <td>i dont know why twitter just now sent that thr...</td>\n",
              "      <td>0</td>\n",
              "      <td>not know twitter send word headache</td>\n",
              "      <td>nt know twitter sent word headach</td>\n",
              "    </tr>\n",
              "    <tr>\n",
              "      <th>122529</th>\n",
              "      <td>A particularly brutal rejection has put me off...</td>\n",
              "      <td>0</td>\n",
              "      <td>particularly brutal rejection writing never co...</td>\n",
              "      <td>particular brutal reject write never consid eg...</td>\n",
              "    </tr>\n",
              "    <tr>\n",
              "      <th>1322335</th>\n",
              "      <td>@bets_carabuena dear! sa friday pa dito  thurs...</td>\n",
              "      <td>1</td>\n",
              "      <td>dear sa friday pa dito thursday ang game</td>\n",
              "      <td>dear sa friday pa dito thursday ang game</td>\n",
              "    </tr>\n",
              "  </tbody>\n",
              "</table>\n",
              "</div>\n",
              "      <button class=\"colab-df-convert\" onclick=\"convertToInteractive('df-2f61ffa4-f782-4704-9194-def9a20fb069')\"\n",
              "              title=\"Convert this dataframe to an interactive table.\"\n",
              "              style=\"display:none;\">\n",
              "        \n",
              "  <svg xmlns=\"http://www.w3.org/2000/svg\" height=\"24px\"viewBox=\"0 0 24 24\"\n",
              "       width=\"24px\">\n",
              "    <path d=\"M0 0h24v24H0V0z\" fill=\"none\"/>\n",
              "    <path d=\"M18.56 5.44l.94 2.06.94-2.06 2.06-.94-2.06-.94-.94-2.06-.94 2.06-2.06.94zm-11 1L8.5 8.5l.94-2.06 2.06-.94-2.06-.94L8.5 2.5l-.94 2.06-2.06.94zm10 10l.94 2.06.94-2.06 2.06-.94-2.06-.94-.94-2.06-.94 2.06-2.06.94z\"/><path d=\"M17.41 7.96l-1.37-1.37c-.4-.4-.92-.59-1.43-.59-.52 0-1.04.2-1.43.59L10.3 9.45l-7.72 7.72c-.78.78-.78 2.05 0 2.83L4 21.41c.39.39.9.59 1.41.59.51 0 1.02-.2 1.41-.59l7.78-7.78 2.81-2.81c.8-.78.8-2.07 0-2.86zM5.41 20L4 18.59l7.72-7.72 1.47 1.35L5.41 20z\"/>\n",
              "  </svg>\n",
              "      </button>\n",
              "      \n",
              "  <style>\n",
              "    .colab-df-container {\n",
              "      display:flex;\n",
              "      flex-wrap:wrap;\n",
              "      gap: 12px;\n",
              "    }\n",
              "\n",
              "    .colab-df-convert {\n",
              "      background-color: #E8F0FE;\n",
              "      border: none;\n",
              "      border-radius: 50%;\n",
              "      cursor: pointer;\n",
              "      display: none;\n",
              "      fill: #1967D2;\n",
              "      height: 32px;\n",
              "      padding: 0 0 0 0;\n",
              "      width: 32px;\n",
              "    }\n",
              "\n",
              "    .colab-df-convert:hover {\n",
              "      background-color: #E2EBFA;\n",
              "      box-shadow: 0px 1px 2px rgba(60, 64, 67, 0.3), 0px 1px 3px 1px rgba(60, 64, 67, 0.15);\n",
              "      fill: #174EA6;\n",
              "    }\n",
              "\n",
              "    [theme=dark] .colab-df-convert {\n",
              "      background-color: #3B4455;\n",
              "      fill: #D2E3FC;\n",
              "    }\n",
              "\n",
              "    [theme=dark] .colab-df-convert:hover {\n",
              "      background-color: #434B5C;\n",
              "      box-shadow: 0px 1px 3px 1px rgba(0, 0, 0, 0.15);\n",
              "      filter: drop-shadow(0px 1px 2px rgba(0, 0, 0, 0.3));\n",
              "      fill: #FFFFFF;\n",
              "    }\n",
              "  </style>\n",
              "\n",
              "      <script>\n",
              "        const buttonEl =\n",
              "          document.querySelector('#df-2f61ffa4-f782-4704-9194-def9a20fb069 button.colab-df-convert');\n",
              "        buttonEl.style.display =\n",
              "          google.colab.kernel.accessAllowed ? 'block' : 'none';\n",
              "\n",
              "        async function convertToInteractive(key) {\n",
              "          const element = document.querySelector('#df-2f61ffa4-f782-4704-9194-def9a20fb069');\n",
              "          const dataTable =\n",
              "            await google.colab.kernel.invokeFunction('convertToInteractive',\n",
              "                                                     [key], {});\n",
              "          if (!dataTable) return;\n",
              "\n",
              "          const docLinkHtml = 'Like what you see? Visit the ' +\n",
              "            '<a target=\"_blank\" href=https://colab.research.google.com/notebooks/data_table.ipynb>data table notebook</a>'\n",
              "            + ' to learn more about interactive tables.';\n",
              "          element.innerHTML = '';\n",
              "          dataTable['output_type'] = 'display_data';\n",
              "          await google.colab.output.renderOutput(dataTable, element);\n",
              "          const docLink = document.createElement('div');\n",
              "          docLink.innerHTML = docLinkHtml;\n",
              "          element.appendChild(docLink);\n",
              "        }\n",
              "      </script>\n",
              "    </div>\n",
              "  </div>\n",
              "  "
            ]
          },
          "metadata": {},
          "execution_count": 5
        }
      ],
      "source": [
        "train.head()"
      ]
    },
    {
      "cell_type": "code",
      "execution_count": null,
      "id": "7dfa4286",
      "metadata": {
        "colab": {
          "base_uri": "https://localhost:8080/"
        },
        "id": "7dfa4286",
        "outputId": "d4494539-1859-48ed-b0af-299f58176737"
      },
      "outputs": [
        {
          "output_type": "execute_result",
          "data": {
            "text/plain": [
              "tweet               0\n",
              "label               0\n",
              "tweet_clean_lemm    0\n",
              "tweet_clean_stem    0\n",
              "dtype: int64"
            ]
          },
          "metadata": {},
          "execution_count": 6
        }
      ],
      "source": [
        "train.isna().sum()"
      ]
    },
    {
      "cell_type": "code",
      "execution_count": null,
      "id": "aVQT-UA5tzW5",
      "metadata": {
        "id": "aVQT-UA5tzW5",
        "colab": {
          "base_uri": "https://localhost:8080/"
        },
        "outputId": "cd5e61c8-5b42-4c2a-da9f-7b8f4f46ccfd"
      },
      "outputs": [
        {
          "output_type": "execute_result",
          "data": {
            "text/plain": [
              "((625617, 4), (268092, 4))"
            ]
          },
          "metadata": {},
          "execution_count": 7
        }
      ],
      "source": [
        "train.shape, validation.shape"
      ]
    },
    {
      "cell_type": "markdown",
      "id": "cfbfbaa9",
      "metadata": {
        "id": "cfbfbaa9"
      },
      "source": [
        "## Vectorisation avec Word Embedding<a class=\"anchor\" id=\"20\"></a>"
      ]
    },
    {
      "cell_type": "code",
      "execution_count": null,
      "id": "805030fb",
      "metadata": {
        "id": "805030fb"
      },
      "outputs": [],
      "source": [
        "seed = 0\n",
        "w2v_size = 100\n",
        "w2v_window = 5\n",
        "w2v_min_count = 1\n",
        "w2v_epochs = 100\n",
        "maxlen  =  25 "
      ]
    },
    {
      "cell_type": "code",
      "execution_count": null,
      "id": "68046474",
      "metadata": {
        "id": "68046474"
      },
      "outputs": [],
      "source": [
        "# Création et entraînement du modèle Word2Vec\n",
        "def w2v_vectors(serie, vector_size=100, min_count=1, window=4, epochs=100, random_state=0):\n",
        "    sentences = serie.to_list()\n",
        "    sentences =  [gensim.utils.simple_preprocess(text) for text in sentences]\n",
        "    \n",
        "    print(\"Build & train Word2Vec model ...\")\n",
        "    model  =  gensim.models.Word2Vec(min_count = min_count,\n",
        "                                       window = window,\n",
        "                                       vector_size = vector_size,\n",
        "                                       seed = random_state,\n",
        "                                       workers = 4)\n",
        "\n",
        "    model.build_vocab(sentences)\n",
        "    model.train(sentences, \n",
        "                total_examples = model.corpus_count, \n",
        "                epochs = epochs)\n",
        "    model_vectors  =  model.wv\n",
        "    words  =  model_vectors.index_to_key\n",
        "    print(\"Vocabulary size:\", len(words))\n",
        "    print(\"Word2Vec trained\")\n",
        "    return model_vectors\n",
        "\n",
        "\n",
        "\n",
        "# Vectoriser un token avec word2vec\n",
        "def word_vector(token, model_vectors, size=100):\n",
        "\n",
        "    vec = np.zeros(size).reshape((1, size))\n",
        "    count = 0\n",
        "    \n",
        "    for word in token:\n",
        "        try:\n",
        "            vec += model_vectors[word].reshape((1, size))\n",
        "            count += 1.\n",
        "            \n",
        "        except KeyError: \n",
        "            continue\n",
        "    if count != 0:\n",
        "        vec /= count\n",
        "    return vec\n",
        "\n",
        "\n",
        "# Vectorisation du corpus avec word2vec\n",
        "def model_vectorisation(serie, model_vectors, size=100):\n",
        "    print('Tokenisation ...')\n",
        "    sentences = serie.to_list()\n",
        "    sentences =  [gensim.utils.simple_preprocess(text) for text in sentences]\n",
        "\n",
        "    vectors = np.zeros((len(sentences), size)) \n",
        "    print('Vectorisation du corpus ...')\n",
        "    for i in range(len(sentences)):\n",
        "        vectors[i,:] = word_vector(model_vectors = model_vectors, \n",
        "                                   token = sentences[i], \n",
        "                                   size = size)\n",
        "        \n",
        "    vectors_df = pd.DataFrame(vectors)\n",
        "    print('matrix created')\n",
        "\n",
        "    return vectors_df"
      ]
    },
    {
      "cell_type": "code",
      "execution_count": null,
      "id": "61723a10",
      "metadata": {
        "id": "61723a10",
        "colab": {
          "base_uri": "https://localhost:8080/"
        },
        "outputId": "b2a2d453-eb1d-42c1-cd77-39af123aa089"
      },
      "outputs": [
        {
          "output_type": "stream",
          "name": "stdout",
          "text": [
            "Build & train Word2Vec model ...\n",
            "Vocabulary size: 141428\n",
            "Word2Vec trained\n"
          ]
        }
      ],
      "source": [
        "lemm_w2v_vectors = w2v_vectors(train.tweet_clean_lemm)\n",
        "lemm_w2v_vectors.save(path + \"embedding/word2vec.wordvectors\")"
      ]
    },
    {
      "cell_type": "code",
      "execution_count": null,
      "id": "ZaVnVuyaJ7Li",
      "metadata": {
        "id": "ZaVnVuyaJ7Li"
      },
      "outputs": [],
      "source": [
        "# Load w2v KeyVectors\n",
        "# lemm_w2v_vectors = KeyedVectors.load(path + \"embedding/word2vec.wordvectors\", mmap='r')"
      ]
    },
    {
      "cell_type": "code",
      "execution_count": null,
      "id": "129e4fce",
      "metadata": {
        "id": "129e4fce",
        "colab": {
          "base_uri": "https://localhost:8080/"
        },
        "outputId": "04cac88a-b925-4c9f-a2e9-2a050af56e74"
      },
      "outputs": [
        {
          "output_type": "stream",
          "name": "stdout",
          "text": [
            "Tokenisation ...\n",
            "Vectorisation du corpus ...\n",
            "matrix created\n"
          ]
        }
      ],
      "source": [
        "lemm_w2v_xtrain = model_vectorisation(train.tweet_clean_lemm, \n",
        "                               model_vectors = lemm_w2v_vectors)"
      ]
    },
    {
      "cell_type": "code",
      "execution_count": null,
      "id": "5bd3996f",
      "metadata": {
        "id": "5bd3996f",
        "colab": {
          "base_uri": "https://localhost:8080/"
        },
        "outputId": "b77ec84c-fd38-4b12-d61b-f5b324c90815"
      },
      "outputs": [
        {
          "output_type": "stream",
          "name": "stdout",
          "text": [
            "Tokenisation ...\n",
            "Vectorisation du corpus ...\n",
            "matrix created\n"
          ]
        }
      ],
      "source": [
        "lemm_w2v_xval = model_vectorisation(validation.tweet_clean_lemm,\n",
        "                                    model_vectors = lemm_w2v_vectors)"
      ]
    },
    {
      "cell_type": "code",
      "execution_count": null,
      "id": "nBYlCZd5LrHf",
      "metadata": {
        "id": "nBYlCZd5LrHf"
      },
      "outputs": [],
      "source": [
        "ytrain, yval = train.label, validation.label"
      ]
    },
    {
      "cell_type": "markdown",
      "id": "c7887deb",
      "metadata": {
        "id": "c7887deb"
      },
      "source": [
        "## Application de la régression logistique <a class=\"anchor\" id=\"20\"></a>"
      ]
    },
    {
      "cell_type": "code",
      "execution_count": null,
      "id": "93b112cb",
      "metadata": {
        "id": "93b112cb"
      },
      "outputs": [],
      "source": [
        "from sklearn.metrics import confusion_matrix, roc_curve\n",
        "from sklearn.model_selection import learning_curve, cross_validate\n",
        "from sklearn.metrics import classification_report, accuracy_score\n",
        "from time import time\n",
        "\n",
        "def learning_model(model, xtrain, ytrain, xtest, ytest, threshold=0.5, RocCurve=True, LearningCurve=True):\n",
        "    pd.options.display.float_format = '{:.2f}'.format\n",
        "    \n",
        "    ## definition du metrique de validation\n",
        "    beta = 1\n",
        "    f1_scorer = make_scorer(fbeta_score, beta=beta)    \n",
        "    print(str(model),'\\n')\n",
        "    t0 = time()\n",
        "    model.fit(xtrain, ytrain)\n",
        "    print('Learning time :', round(time()-t0, 2))\n",
        "    crossval = cross_validate(model, \n",
        "                                xtrain, \n",
        "                                ytrain, \n",
        "                                cv=4, \n",
        "                                scoring = 'accuracy',\n",
        "                                return_train_score=True)\n",
        "   \n",
        "    print('Accuracy train  mean : ', round(crossval['train_score'].mean(),2))\n",
        "    print('Accuracy validation mean : ', round(crossval['test_score'].mean(),2))\n",
        "    print('\\n')\n",
        "        \n",
        "    yprob_train = model.predict_proba(xtrain)[:,1]\n",
        "    \n",
        "    yprob_test = model.predict_proba(xtest)[:,1]\n",
        "    \n",
        "    ypred = (yprob_test>threshold)*1 \n",
        "    \n",
        "    confusion_m = pd.DataFrame(confusion_matrix(ytest, ypred)).T\n",
        "    \n",
        "    confusion_m['total'] = confusion_m.sum(axis=1)\n",
        "    \n",
        "    confusion_m.loc['total',:] = confusion_m.sum(axis=0)\n",
        "    \n",
        "    print(\"confusion_matrix :\")\n",
        "    \n",
        "    display(confusion_m.astype('int64').rename_axis(index = ['Actual'], columns=['predicted']))\n",
        "    print(\"Classification report\")\n",
        "    print(classification_report(ytest, ypred))\n",
        "    \n",
        "\n",
        "#   learning curve\n",
        "    if LearningCurve == True:\n",
        "        N, train_score, test_score = learning_curve(model, \n",
        "                                                    xtrain, \n",
        "                                                    ytrain,\n",
        "                                                    cv=4, \n",
        "                                                    train_sizes=np.linspace(0.2,1,4),)\n",
        "            \n",
        "        plt.plot(N, train_score.mean(axis=1), label = 'Train score')\n",
        "        plt.plot(N, test_score.mean(axis=1), 'r', label='Validation score')\n",
        "        plt.title('Learning Curve')\n",
        "        plt.xlabel('Nombre de tweets')\n",
        "        plt.ylabel('Accuracy score')\n",
        "        plt.legend()\n",
        "        plt.show()\n",
        "        \n",
        "#   roc curve\n",
        "    if RocCurve == True :\n",
        "        fpr_test, tpr_test, thld_test = roc_curve(ytest, yprob_test)\n",
        "        plt.plot(fpr_test, tpr_test, label='test')\n",
        "        plt.legend()\n",
        "        plt.title('Courbe ROC')\n",
        "        plt.xlabel('Taux de faux positif')\n",
        "        plt.ylabel('Taux de vrai positif')\n",
        "        plt.show() "
      ]
    },
    {
      "cell_type": "code",
      "execution_count": null,
      "id": "3c3e97af",
      "metadata": {
        "id": "3c3e97af",
        "colab": {
          "base_uri": "https://localhost:8080/"
        },
        "outputId": "cdc229fa-bd60-4a5a-b969-f2848ee06094"
      },
      "outputs": [
        {
          "output_type": "execute_result",
          "data": {
            "text/plain": [
              "LogisticRegression()"
            ]
          },
          "metadata": {},
          "execution_count": 16
        }
      ],
      "source": [
        "lr = LogisticRegression()\n",
        "lr.fit(lemm_w2v_xtrain, ytrain)"
      ]
    },
    {
      "cell_type": "code",
      "execution_count": null,
      "id": "33f807d1",
      "metadata": {
        "id": "33f807d1",
        "colab": {
          "base_uri": "https://localhost:8080/"
        },
        "outputId": "b2b4313e-58b5-4d4d-cb31-c8b4d24c422d"
      },
      "outputs": [
        {
          "output_type": "execute_result",
          "data": {
            "text/plain": [
              "((625617, 100), (625617,), (268092, 100))"
            ]
          },
          "metadata": {},
          "execution_count": 17
        }
      ],
      "source": [
        "lemm_w2v_xtrain.shape, ytrain.shape, lemm_w2v_xval.shape"
      ]
    },
    {
      "cell_type": "code",
      "execution_count": null,
      "id": "d649c189",
      "metadata": {
        "id": "d649c189",
        "scrolled": true,
        "colab": {
          "base_uri": "https://localhost:8080/",
          "height": 1000
        },
        "outputId": "9301834d-0c2c-4ff3-daf6-58022a9d08f5"
      },
      "outputs": [
        {
          "output_type": "stream",
          "name": "stdout",
          "text": [
            "LogisticRegression() \n",
            "\n",
            "Learning time : 10.53\n",
            "Accuracy train  mean :  0.74\n",
            "Accuracy validation mean :  0.74\n",
            "\n",
            "\n",
            "confusion_matrix :\n"
          ]
        },
        {
          "output_type": "display_data",
          "data": {
            "text/plain": [
              "predicted       0       1   total\n",
              "Actual                           \n",
              "0           99483   34111  133594\n",
              "1           34770   99728  134498\n",
              "total      134253  133839  268092"
            ],
            "text/html": [
              "\n",
              "  <div id=\"df-f47acfe3-20c8-4512-b88a-0eedbbb09e21\">\n",
              "    <div class=\"colab-df-container\">\n",
              "      <div>\n",
              "<style scoped>\n",
              "    .dataframe tbody tr th:only-of-type {\n",
              "        vertical-align: middle;\n",
              "    }\n",
              "\n",
              "    .dataframe tbody tr th {\n",
              "        vertical-align: top;\n",
              "    }\n",
              "\n",
              "    .dataframe thead th {\n",
              "        text-align: right;\n",
              "    }\n",
              "</style>\n",
              "<table border=\"1\" class=\"dataframe\">\n",
              "  <thead>\n",
              "    <tr style=\"text-align: right;\">\n",
              "      <th>predicted</th>\n",
              "      <th>0</th>\n",
              "      <th>1</th>\n",
              "      <th>total</th>\n",
              "    </tr>\n",
              "    <tr>\n",
              "      <th>Actual</th>\n",
              "      <th></th>\n",
              "      <th></th>\n",
              "      <th></th>\n",
              "    </tr>\n",
              "  </thead>\n",
              "  <tbody>\n",
              "    <tr>\n",
              "      <th>0</th>\n",
              "      <td>99483</td>\n",
              "      <td>34111</td>\n",
              "      <td>133594</td>\n",
              "    </tr>\n",
              "    <tr>\n",
              "      <th>1</th>\n",
              "      <td>34770</td>\n",
              "      <td>99728</td>\n",
              "      <td>134498</td>\n",
              "    </tr>\n",
              "    <tr>\n",
              "      <th>total</th>\n",
              "      <td>134253</td>\n",
              "      <td>133839</td>\n",
              "      <td>268092</td>\n",
              "    </tr>\n",
              "  </tbody>\n",
              "</table>\n",
              "</div>\n",
              "      <button class=\"colab-df-convert\" onclick=\"convertToInteractive('df-f47acfe3-20c8-4512-b88a-0eedbbb09e21')\"\n",
              "              title=\"Convert this dataframe to an interactive table.\"\n",
              "              style=\"display:none;\">\n",
              "        \n",
              "  <svg xmlns=\"http://www.w3.org/2000/svg\" height=\"24px\"viewBox=\"0 0 24 24\"\n",
              "       width=\"24px\">\n",
              "    <path d=\"M0 0h24v24H0V0z\" fill=\"none\"/>\n",
              "    <path d=\"M18.56 5.44l.94 2.06.94-2.06 2.06-.94-2.06-.94-.94-2.06-.94 2.06-2.06.94zm-11 1L8.5 8.5l.94-2.06 2.06-.94-2.06-.94L8.5 2.5l-.94 2.06-2.06.94zm10 10l.94 2.06.94-2.06 2.06-.94-2.06-.94-.94-2.06-.94 2.06-2.06.94z\"/><path d=\"M17.41 7.96l-1.37-1.37c-.4-.4-.92-.59-1.43-.59-.52 0-1.04.2-1.43.59L10.3 9.45l-7.72 7.72c-.78.78-.78 2.05 0 2.83L4 21.41c.39.39.9.59 1.41.59.51 0 1.02-.2 1.41-.59l7.78-7.78 2.81-2.81c.8-.78.8-2.07 0-2.86zM5.41 20L4 18.59l7.72-7.72 1.47 1.35L5.41 20z\"/>\n",
              "  </svg>\n",
              "      </button>\n",
              "      \n",
              "  <style>\n",
              "    .colab-df-container {\n",
              "      display:flex;\n",
              "      flex-wrap:wrap;\n",
              "      gap: 12px;\n",
              "    }\n",
              "\n",
              "    .colab-df-convert {\n",
              "      background-color: #E8F0FE;\n",
              "      border: none;\n",
              "      border-radius: 50%;\n",
              "      cursor: pointer;\n",
              "      display: none;\n",
              "      fill: #1967D2;\n",
              "      height: 32px;\n",
              "      padding: 0 0 0 0;\n",
              "      width: 32px;\n",
              "    }\n",
              "\n",
              "    .colab-df-convert:hover {\n",
              "      background-color: #E2EBFA;\n",
              "      box-shadow: 0px 1px 2px rgba(60, 64, 67, 0.3), 0px 1px 3px 1px rgba(60, 64, 67, 0.15);\n",
              "      fill: #174EA6;\n",
              "    }\n",
              "\n",
              "    [theme=dark] .colab-df-convert {\n",
              "      background-color: #3B4455;\n",
              "      fill: #D2E3FC;\n",
              "    }\n",
              "\n",
              "    [theme=dark] .colab-df-convert:hover {\n",
              "      background-color: #434B5C;\n",
              "      box-shadow: 0px 1px 3px 1px rgba(0, 0, 0, 0.15);\n",
              "      filter: drop-shadow(0px 1px 2px rgba(0, 0, 0, 0.3));\n",
              "      fill: #FFFFFF;\n",
              "    }\n",
              "  </style>\n",
              "\n",
              "      <script>\n",
              "        const buttonEl =\n",
              "          document.querySelector('#df-f47acfe3-20c8-4512-b88a-0eedbbb09e21 button.colab-df-convert');\n",
              "        buttonEl.style.display =\n",
              "          google.colab.kernel.accessAllowed ? 'block' : 'none';\n",
              "\n",
              "        async function convertToInteractive(key) {\n",
              "          const element = document.querySelector('#df-f47acfe3-20c8-4512-b88a-0eedbbb09e21');\n",
              "          const dataTable =\n",
              "            await google.colab.kernel.invokeFunction('convertToInteractive',\n",
              "                                                     [key], {});\n",
              "          if (!dataTable) return;\n",
              "\n",
              "          const docLinkHtml = 'Like what you see? Visit the ' +\n",
              "            '<a target=\"_blank\" href=https://colab.research.google.com/notebooks/data_table.ipynb>data table notebook</a>'\n",
              "            + ' to learn more about interactive tables.';\n",
              "          element.innerHTML = '';\n",
              "          dataTable['output_type'] = 'display_data';\n",
              "          await google.colab.output.renderOutput(dataTable, element);\n",
              "          const docLink = document.createElement('div');\n",
              "          docLink.innerHTML = docLinkHtml;\n",
              "          element.appendChild(docLink);\n",
              "        }\n",
              "      </script>\n",
              "    </div>\n",
              "  </div>\n",
              "  "
            ]
          },
          "metadata": {}
        },
        {
          "output_type": "stream",
          "name": "stdout",
          "text": [
            "Classification report\n",
            "              precision    recall  f1-score   support\n",
            "\n",
            "           0       0.74      0.74      0.74    134253\n",
            "           1       0.74      0.75      0.74    133839\n",
            "\n",
            "    accuracy                           0.74    268092\n",
            "   macro avg       0.74      0.74      0.74    268092\n",
            "weighted avg       0.74      0.74      0.74    268092\n",
            "\n"
          ]
        },
        {
          "output_type": "display_data",
          "data": {
            "text/plain": [
              "<Figure size 432x288 with 1 Axes>"
            ],
            "image/png": "[encoded data removed]"
          },
          "metadata": {
            "needs_background": "light"
          }
        },
        {
          "output_type": "display_data",
          "data": {
            "text/plain": [
              "<Figure size 432x288 with 1 Axes>"
            ],
            "image/png": "[encoded data removed]"
          },
          "metadata": {
            "needs_background": "light"
          }
        }
      ],
      "source": [
        "learning_model(lr, lemm_w2v_xtrain, ytrain, lemm_w2v_xval, yval)"
      ]
    },
    {
      "cell_type": "markdown",
      "id": "922fa5da-1d06-471d-b765-54ea8c467c38",
      "metadata": {
        "id": "922fa5da-1d06-471d-b765-54ea8c467c38"
      },
      "source": [
        "## Optimisation des hyperparamètres du modèle de régression <a class=\"anchor\" id=\"30\"></a>"
      ]
    },
    {
      "cell_type": "code",
      "execution_count": null,
      "id": "5d1d2fb7",
      "metadata": {
        "id": "5d1d2fb7",
        "colab": {
          "base_uri": "https://localhost:8080/"
        },
        "outputId": "dbb48dad-4dcf-4078-c7ce-c570b93eafa0"
      },
      "outputs": [
        {
          "output_type": "execute_result",
          "data": {
            "text/plain": [
              "GridSearchCV(cv=4, estimator=LogisticRegression(random_state=0),\n",
              "             param_grid={'C': array([1.00000000e-02, 2.78255940e-02, 7.74263683e-02, 2.15443469e-01,\n",
              "       5.99484250e-01, 1.66810054e+00, 4.64158883e+00, 1.29154967e+01,\n",
              "       3.59381366e+01, 1.00000000e+02]),\n",
              "                         'penalty': ['l2']},\n",
              "             scoring='accuracy')"
            ]
          },
          "metadata": {},
          "execution_count": 19
        }
      ],
      "source": [
        "from sklearn.model_selection import GridSearchCV\n",
        "lr_log = LogisticRegression(random_state=seed)\n",
        "\n",
        "params = {'C' : np.logspace(-2,2,10), 'penalty' : ['l2']}\n",
        "\n",
        "lr_grid = GridSearchCV(lr_log, param_grid=params, \n",
        "                    cv = 4, \n",
        "                    scoring = 'accuracy')\n",
        "lr_grid.fit(lemm_w2v_xtrain, ytrain)"
      ]
    },
    {
      "cell_type": "code",
      "execution_count": null,
      "id": "2eeb7f3f",
      "metadata": {
        "id": "2eeb7f3f",
        "colab": {
          "base_uri": "https://localhost:8080/",
          "height": 1000
        },
        "outputId": "fea1ac47-b737-4810-cc41-a247b9132298"
      },
      "outputs": [
        {
          "output_type": "stream",
          "name": "stdout",
          "text": [
            "LogisticRegression(C=0.01, random_state=0) \n",
            "\n",
            "Learning time : 10.5\n",
            "Accuracy train  mean :  0.74\n",
            "Accuracy validation mean :  0.74\n",
            "\n",
            "\n",
            "confusion_matrix :\n"
          ]
        },
        {
          "output_type": "display_data",
          "data": {
            "text/plain": [
              "predicted       0       1   total\n",
              "Actual                           \n",
              "0           99472   34125  133597\n",
              "1           34781   99714  134495\n",
              "total      134253  133839  268092"
            ],
            "text/html": [
              "\n",
              "  <div id=\"df-deca694c-40fc-41f2-84eb-a8dcdd9def82\">\n",
              "    <div class=\"colab-df-container\">\n",
              "      <div>\n",
              "<style scoped>\n",
              "    .dataframe tbody tr th:only-of-type {\n",
              "        vertical-align: middle;\n",
              "    }\n",
              "\n",
              "    .dataframe tbody tr th {\n",
              "        vertical-align: top;\n",
              "    }\n",
              "\n",
              "    .dataframe thead th {\n",
              "        text-align: right;\n",
              "    }\n",
              "</style>\n",
              "<table border=\"1\" class=\"dataframe\">\n",
              "  <thead>\n",
              "    <tr style=\"text-align: right;\">\n",
              "      <th>predicted</th>\n",
              "      <th>0</th>\n",
              "      <th>1</th>\n",
              "      <th>total</th>\n",
              "    </tr>\n",
              "    <tr>\n",
              "      <th>Actual</th>\n",
              "      <th></th>\n",
              "      <th></th>\n",
              "      <th></th>\n",
              "    </tr>\n",
              "  </thead>\n",
              "  <tbody>\n",
              "    <tr>\n",
              "      <th>0</th>\n",
              "      <td>99472</td>\n",
              "      <td>34125</td>\n",
              "      <td>133597</td>\n",
              "    </tr>\n",
              "    <tr>\n",
              "      <th>1</th>\n",
              "      <td>34781</td>\n",
              "      <td>99714</td>\n",
              "      <td>134495</td>\n",
              "    </tr>\n",
              "    <tr>\n",
              "      <th>total</th>\n",
              "      <td>134253</td>\n",
              "      <td>133839</td>\n",
              "      <td>268092</td>\n",
              "    </tr>\n",
              "  </tbody>\n",
              "</table>\n",
              "</div>\n",
              "      <button class=\"colab-df-convert\" onclick=\"convertToInteractive('df-deca694c-40fc-41f2-84eb-a8dcdd9def82')\"\n",
              "              title=\"Convert this dataframe to an interactive table.\"\n",
              "              style=\"display:none;\">\n",
              "        \n",
              "  <svg xmlns=\"http://www.w3.org/2000/svg\" height=\"24px\"viewBox=\"0 0 24 24\"\n",
              "       width=\"24px\">\n",
              "    <path d=\"M0 0h24v24H0V0z\" fill=\"none\"/>\n",
              "    <path d=\"M18.56 5.44l.94 2.06.94-2.06 2.06-.94-2.06-.94-.94-2.06-.94 2.06-2.06.94zm-11 1L8.5 8.5l.94-2.06 2.06-.94-2.06-.94L8.5 2.5l-.94 2.06-2.06.94zm10 10l.94 2.06.94-2.06 2.06-.94-2.06-.94-.94-2.06-.94 2.06-2.06.94z\"/><path d=\"M17.41 7.96l-1.37-1.37c-.4-.4-.92-.59-1.43-.59-.52 0-1.04.2-1.43.59L10.3 9.45l-7.72 7.72c-.78.78-.78 2.05 0 2.83L4 21.41c.39.39.9.59 1.41.59.51 0 1.02-.2 1.41-.59l7.78-7.78 2.81-2.81c.8-.78.8-2.07 0-2.86zM5.41 20L4 18.59l7.72-7.72 1.47 1.35L5.41 20z\"/>\n",
              "  </svg>\n",
              "      </button>\n",
              "      \n",
              "  <style>\n",
              "    .colab-df-container {\n",
              "      display:flex;\n",
              "      flex-wrap:wrap;\n",
              "      gap: 12px;\n",
              "    }\n",
              "\n",
              "    .colab-df-convert {\n",
              "      background-color: #E8F0FE;\n",
              "      border: none;\n",
              "      border-radius: 50%;\n",
              "      cursor: pointer;\n",
              "      display: none;\n",
              "      fill: #1967D2;\n",
              "      height: 32px;\n",
              "      padding: 0 0 0 0;\n",
              "      width: 32px;\n",
              "    }\n",
              "\n",
              "    .colab-df-convert:hover {\n",
              "      background-color: #E2EBFA;\n",
              "      box-shadow: 0px 1px 2px rgba(60, 64, 67, 0.3), 0px 1px 3px 1px rgba(60, 64, 67, 0.15);\n",
              "      fill: #174EA6;\n",
              "    }\n",
              "\n",
              "    [theme=dark] .colab-df-convert {\n",
              "      background-color: #3B4455;\n",
              "      fill: #D2E3FC;\n",
              "    }\n",
              "\n",
              "    [theme=dark] .colab-df-convert:hover {\n",
              "      background-color: #434B5C;\n",
              "      box-shadow: 0px 1px 3px 1px rgba(0, 0, 0, 0.15);\n",
              "      filter: drop-shadow(0px 1px 2px rgba(0, 0, 0, 0.3));\n",
              "      fill: #FFFFFF;\n",
              "    }\n",
              "  </style>\n",
              "\n",
              "      <script>\n",
              "        const buttonEl =\n",
              "          document.querySelector('#df-deca694c-40fc-41f2-84eb-a8dcdd9def82 button.colab-df-convert');\n",
              "        buttonEl.style.display =\n",
              "          google.colab.kernel.accessAllowed ? 'block' : 'none';\n",
              "\n",
              "        async function convertToInteractive(key) {\n",
              "          const element = document.querySelector('#df-deca694c-40fc-41f2-84eb-a8dcdd9def82');\n",
              "          const dataTable =\n",
              "            await google.colab.kernel.invokeFunction('convertToInteractive',\n",
              "                                                     [key], {});\n",
              "          if (!dataTable) return;\n",
              "\n",
              "          const docLinkHtml = 'Like what you see? Visit the ' +\n",
              "            '<a target=\"_blank\" href=https://colab.research.google.com/notebooks/data_table.ipynb>data table notebook</a>'\n",
              "            + ' to learn more about interactive tables.';\n",
              "          element.innerHTML = '';\n",
              "          dataTable['output_type'] = 'display_data';\n",
              "          await google.colab.output.renderOutput(dataTable, element);\n",
              "          const docLink = document.createElement('div');\n",
              "          docLink.innerHTML = docLinkHtml;\n",
              "          element.appendChild(docLink);\n",
              "        }\n",
              "      </script>\n",
              "    </div>\n",
              "  </div>\n",
              "  "
            ]
          },
          "metadata": {}
        },
        {
          "output_type": "stream",
          "name": "stdout",
          "text": [
            "Classification report\n",
            "              precision    recall  f1-score   support\n",
            "\n",
            "           0       0.74      0.74      0.74    134253\n",
            "           1       0.74      0.75      0.74    133839\n",
            "\n",
            "    accuracy                           0.74    268092\n",
            "   macro avg       0.74      0.74      0.74    268092\n",
            "weighted avg       0.74      0.74      0.74    268092\n",
            "\n"
          ]
        },
        {
          "output_type": "display_data",
          "data": {
            "text/plain": [
              "<Figure size 432x288 with 1 Axes>"
            ],
            "image/png": "[encoded data removed]"
          },
          "metadata": {
            "needs_background": "light"
          }
        },
        {
          "output_type": "display_data",
          "data": {
            "text/plain": [
              "<Figure size 432x288 with 1 Axes>"
            ],
            "image/png": "[encoded data removed]"
          },
          "metadata": {
            "needs_background": "light"
          }
        }
      ],
      "source": [
        "learning_model(lr_grid.best_estimator_, lemm_w2v_xtrain, ytrain, lemm_w2v_xval, yval)"
      ]
    },
    {
      "cell_type": "markdown",
      "id": "1907a758-dc9f-4455-9960-237d5fd1e30f",
      "metadata": {
        "id": "1907a758-dc9f-4455-9960-237d5fd1e30f"
      },
      "source": [
        "## Sauvegarde du modèle final <a class=\"anchor\" id=\"40\"></a>"
      ]
    },
    {
      "cell_type": "code",
      "execution_count": null,
      "id": "1ce96d4b-6e45-4e67-b3fe-b979e3c04559",
      "metadata": {
        "id": "1ce96d4b-6e45-4e67-b3fe-b979e3c04559",
        "colab": {
          "base_uri": "https://localhost:8080/"
        },
        "outputId": "6a829f65-138b-40f3-aae7-ff5320949b01"
      },
      "outputs": [
        {
          "output_type": "execute_result",
          "data": {
            "text/plain": [
              "['/content/drive/MyDrive/p7/models/best_regression_model_saved.joblib']"
            ]
          },
          "metadata": {},
          "execution_count": 21
        }
      ],
      "source": [
        "#Sauvegarde du modèle\n",
        "dump(lr_grid.best_estimator_, path + 'models/best_regression_model_saved.joblib')"
      ]
    },
    {
      "cell_type": "code",
      "execution_count": null,
      "id": "11d0652e-a629-4074-87c7-4c91ea4cb409",
      "metadata": {
        "id": "11d0652e-a629-4074-87c7-4c91ea4cb409"
      },
      "outputs": [],
      "source": [
        "# Chargement du modèle\n",
        "best_estimator_ = load(path + 'models/best_regression_model_saved.joblib')"
      ]
    },
    {
      "cell_type": "markdown",
      "id": "4c20f715",
      "metadata": {
        "id": "4c20f715"
      },
      "source": [
        "<a href=\"##sommaire\" rev=\"footnote\">&#8617;</a>"
      ]
    }
  ],
  "metadata": {
    "colab": {
      "provenance": []
    },
    "gpuClass": "standard",
    "kernelspec": {
      "display_name": "Python 3 (ipykernel)",
      "language": "python",
      "name": "python3"
    },
    "language_info": {
      "codemirror_mode": {
        "name": "ipython",
        "version": 3
      },
      "file_extension": ".py",
      "mimetype": "text/x-python",
      "name": "python",
      "nbconvert_exporter": "python",
      "pygments_lexer": "ipython3",
      "version": "3.9.13"
    }
  },
  "nbformat": 4,
  "nbformat_minor": 5
}
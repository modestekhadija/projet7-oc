{
  "cells": [
    {
      "cell_type": "markdown",
      "metadata": {
        "id": "230ba233"
      },
      "source": [
        "# <center><span style='background:yellow'> Détectez les Bad Buzz grâce au Deep Learning</span></center>\n",
        "# <center><span style='background:yellow'>Modèle de Deep Learning avec une couche embedding</span></center> \n",
        "==================================================================================================================="
      ],
      "id": "230ba233"
    },
    {
      "cell_type": "markdown",
      "metadata": {
        "id": "253d9ec4"
      },
      "source": [
        "## Sommaire <a class=\"anchor\" id=\"sommaire\"></a>\n",
        "\n",
        "* [Import des librairies, chargement des données](#00)\n",
        "* [1. Nettoyage avec lemmatisation et vectorisation avec Word2Vec](#10)  \n",
        "* [2. Nettoyage avec lemmatisation et vectorisation avec Glove](#20)  \n",
        "* [3. Nettoyage avec Stemming et vectorisation avec Word2Vec](#30)  \n",
        "* [4. Nettoyage avec Stemming et vectorisation avec Glove](#40)  "
      ],
      "id": "253d9ec4"
    },
    {
      "cell_type": "markdown",
      "metadata": {
        "id": "e480d484"
      },
      "source": [
        "## Import des librairies, chargement des données<a class=\"anchor\" id=\"00\"></a>"
      ],
      "id": "e480d484"
    },
    {
      "cell_type": "code",
      "execution_count": null,
      "metadata": {
        "id": "VUnWUdKTxxBp",
        "colab": {
          "base_uri": "https://localhost:8080/"
        },
        "outputId": "38553686-3803-4600-a4f3-cca532acbf29"
      },
      "outputs": [
        {
          "output_type": "stream",
          "name": "stdout",
          "text": [
            "Mounted at /content/drive\n"
          ]
        }
      ],
      "source": [
        "from google.colab import drive\n",
        "drive.mount('/content/drive')"
      ],
      "id": "VUnWUdKTxxBp"
    },
    {
      "cell_type": "code",
      "execution_count": null,
      "metadata": {
        "id": "ebfehYDn0-iN",
        "colab": {
          "base_uri": "https://localhost:8080/"
        },
        "outputId": "af9b4edb-f06a-451e-bd06-08b588d8f0dd"
      },
      "outputs": [
        {
          "output_type": "stream",
          "name": "stdout",
          "text": [
            "Looking in indexes: https://pypi.org/simple, https://us-python.pkg.dev/colab-wheels/public/simple/\n",
            "Collecting gensim==4.2.0\n",
            "  Downloading gensim-4.2.0-cp38-cp38-manylinux_2_12_x86_64.manylinux2010_x86_64.whl (24.1 MB)\n",
            "\u001b[K     |████████████████████████████████| 24.1 MB 96.3 MB/s \n",
            "\u001b[?25hRequirement already satisfied: scipy>=0.18.1 in /usr/local/lib/python3.8/dist-packages (from gensim==4.2.0) (1.7.3)\n",
            "Requirement already satisfied: numpy>=1.17.0 in /usr/local/lib/python3.8/dist-packages (from gensim==4.2.0) (1.21.6)\n",
            "Requirement already satisfied: smart-open>=1.8.1 in /usr/local/lib/python3.8/dist-packages (from gensim==4.2.0) (6.3.0)\n",
            "Installing collected packages: gensim\n",
            "  Attempting uninstall: gensim\n",
            "    Found existing installation: gensim 3.6.0\n",
            "    Uninstalling gensim-3.6.0:\n",
            "      Successfully uninstalled gensim-3.6.0\n",
            "Successfully installed gensim-4.2.0\n"
          ]
        }
      ],
      "source": [
        "%pip install gensim==4.2.0"
      ],
      "id": "ebfehYDn0-iN"
    },
    {
      "cell_type": "code",
      "execution_count": null,
      "metadata": {
        "id": "156f44fd",
        "colab": {
          "base_uri": "https://localhost:8080/"
        },
        "outputId": "eb286c99-af02-4dba-a728-5d0263ea20a4"
      },
      "outputs": [
        {
          "output_type": "stream",
          "name": "stdout",
          "text": [
            "Tensorflow version : 2.9.2\n",
            "Keras version : 2.9.0\n",
            "gensim version : 4.2.0\n"
          ]
        }
      ],
      "source": [
        "import numpy as np\n",
        "import pandas as pd\n",
        "\n",
        "# Visualisation\n",
        "import matplotlib.pyplot as plt\n",
        "import seaborn as sns\n",
        "from sklearn.model_selection import train_test_split\n",
        "\n",
        "import gensim\n",
        "from gensim.models import KeyedVectors\n",
        "import keras\n",
        "import gensim.downloader\n",
        "import tensorflow\n",
        "from tensorflow.keras import models\n",
        "from tensorflow.keras.preprocessing.sequence import pad_sequences\n",
        "from tensorflow.keras.preprocessing.text import Tokenizer\n",
        "from tensorflow.keras import models, Sequential\n",
        "from tensorflow.keras.layers import Embedding, Flatten, Dense, Dropout, GlobalAveragePooling1D\n",
        "\n",
        "print('Tensorflow version :', tensorflow.__version__)\n",
        "print('Keras version :', keras.__version__)\n",
        "print('gensim version :', gensim.__version__)"
      ],
      "id": "156f44fd"
    },
    {
      "cell_type": "code",
      "execution_count": null,
      "metadata": {
        "id": "LfrjlsAYsTpY"
      },
      "outputs": [],
      "source": [
        "# Chargement des données\n",
        "path = '/content/drive/MyDrive/p7/'"
      ],
      "id": "LfrjlsAYsTpY"
    },
    {
      "cell_type": "code",
      "execution_count": null,
      "metadata": {
        "id": "tBDayzPihheQ"
      },
      "outputs": [],
      "source": [
        "train = pd.read_csv(path + 'data/train.csv', index_col=0, encoding='utf-8')\n",
        "validation = pd.read_csv(path + 'data/validation.csv', index_col=0, encoding='utf-8')\n",
        "test = pd.read_csv(path + 'data/test.csv', index_col=0, encoding='utf-8')\n",
        "\n",
        "train.dropna(inplace=True)\n",
        "validation.dropna(inplace=True)\n",
        "test.dropna(inplace=True)"
      ],
      "id": "tBDayzPihheQ"
    },
    {
      "cell_type": "code",
      "execution_count": null,
      "metadata": {
        "colab": {
          "base_uri": "https://localhost:8080/",
          "height": 337
        },
        "id": "TxhPs4xHKCYV",
        "outputId": "23be8761-7572-40f2-979f-ac8e351c172e"
      },
      "outputs": [
        {
          "output_type": "execute_result",
          "data": {
            "text/plain": [
              "                                                     tweet  label  \\\n",
              "1273151   #Goodsex When he makes you squirt all over him        1   \n",
              "445145   Looking for a &quot;Sexy Sailors&quot; outfit ...      0   \n",
              "499993   i dont know why twitter just now sent that thr...      0   \n",
              "122529   A particularly brutal rejection has put me off...      0   \n",
              "1322335  @bets_carabuena dear! sa friday pa dito  thurs...      1   \n",
              "\n",
              "                                          tweet_clean_lemm  \\\n",
              "1273151                                goodsex make squirt   \n",
              "445145   look quot;sexy sailors&quot outfit laura hen n...   \n",
              "499993                 not know twitter send word headache   \n",
              "122529   particularly brutal rejection writing never co...   \n",
              "1322335           dear sa friday pa dito thursday ang game   \n",
              "\n",
              "                                          tweet_clean_stem  \n",
              "1273151                                goodsex make squirt  \n",
              "445145   look quot;sexi sailors&quot outfit laura hen n...  \n",
              "499993                   nt know twitter sent word headach  \n",
              "122529   particular brutal reject write never consid eg...  \n",
              "1322335           dear sa friday pa dito thursday ang game  "
            ],
            "text/html": [
              "\n",
              "  <div id=\"df-addd7cc2-24b7-4554-9d60-ce71957f9f3d\">\n",
              "    <div class=\"colab-df-container\">\n",
              "      <div>\n",
              "<style scoped>\n",
              "    .dataframe tbody tr th:only-of-type {\n",
              "        vertical-align: middle;\n",
              "    }\n",
              "\n",
              "    .dataframe tbody tr th {\n",
              "        vertical-align: top;\n",
              "    }\n",
              "\n",
              "    .dataframe thead th {\n",
              "        text-align: right;\n",
              "    }\n",
              "</style>\n",
              "<table border=\"1\" class=\"dataframe\">\n",
              "  <thead>\n",
              "    <tr style=\"text-align: right;\">\n",
              "      <th></th>\n",
              "      <th>tweet</th>\n",
              "      <th>label</th>\n",
              "      <th>tweet_clean_lemm</th>\n",
              "      <th>tweet_clean_stem</th>\n",
              "    </tr>\n",
              "  </thead>\n",
              "  <tbody>\n",
              "    <tr>\n",
              "      <th>1273151</th>\n",
              "      <td>#Goodsex When he makes you squirt all over him</td>\n",
              "      <td>1</td>\n",
              "      <td>goodsex make squirt</td>\n",
              "      <td>goodsex make squirt</td>\n",
              "    </tr>\n",
              "    <tr>\n",
              "      <th>445145</th>\n",
              "      <td>Looking for a &amp;quot;Sexy Sailors&amp;quot; outfit ...</td>\n",
              "      <td>0</td>\n",
              "      <td>look quot;sexy sailors&amp;quot outfit laura hen n...</td>\n",
              "      <td>look quot;sexi sailors&amp;quot outfit laura hen n...</td>\n",
              "    </tr>\n",
              "    <tr>\n",
              "      <th>499993</th>\n",
              "      <td>i dont know why twitter just now sent that thr...</td>\n",
              "      <td>0</td>\n",
              "      <td>not know twitter send word headache</td>\n",
              "      <td>nt know twitter sent word headach</td>\n",
              "    </tr>\n",
              "    <tr>\n",
              "      <th>122529</th>\n",
              "      <td>A particularly brutal rejection has put me off...</td>\n",
              "      <td>0</td>\n",
              "      <td>particularly brutal rejection writing never co...</td>\n",
              "      <td>particular brutal reject write never consid eg...</td>\n",
              "    </tr>\n",
              "    <tr>\n",
              "      <th>1322335</th>\n",
              "      <td>@bets_carabuena dear! sa friday pa dito  thurs...</td>\n",
              "      <td>1</td>\n",
              "      <td>dear sa friday pa dito thursday ang game</td>\n",
              "      <td>dear sa friday pa dito thursday ang game</td>\n",
              "    </tr>\n",
              "  </tbody>\n",
              "</table>\n",
              "</div>\n",
              "      <button class=\"colab-df-convert\" onclick=\"convertToInteractive('df-addd7cc2-24b7-4554-9d60-ce71957f9f3d')\"\n",
              "              title=\"Convert this dataframe to an interactive table.\"\n",
              "              style=\"display:none;\">\n",
              "        \n",
              "  <svg xmlns=\"http://www.w3.org/2000/svg\" height=\"24px\"viewBox=\"0 0 24 24\"\n",
              "       width=\"24px\">\n",
              "    <path d=\"M0 0h24v24H0V0z\" fill=\"none\"/>\n",
              "    <path d=\"M18.56 5.44l.94 2.06.94-2.06 2.06-.94-2.06-.94-.94-2.06-.94 2.06-2.06.94zm-11 1L8.5 8.5l.94-2.06 2.06-.94-2.06-.94L8.5 2.5l-.94 2.06-2.06.94zm10 10l.94 2.06.94-2.06 2.06-.94-2.06-.94-.94-2.06-.94 2.06-2.06.94z\"/><path d=\"M17.41 7.96l-1.37-1.37c-.4-.4-.92-.59-1.43-.59-.52 0-1.04.2-1.43.59L10.3 9.45l-7.72 7.72c-.78.78-.78 2.05 0 2.83L4 21.41c.39.39.9.59 1.41.59.51 0 1.02-.2 1.41-.59l7.78-7.78 2.81-2.81c.8-.78.8-2.07 0-2.86zM5.41 20L4 18.59l7.72-7.72 1.47 1.35L5.41 20z\"/>\n",
              "  </svg>\n",
              "      </button>\n",
              "      \n",
              "  <style>\n",
              "    .colab-df-container {\n",
              "      display:flex;\n",
              "      flex-wrap:wrap;\n",
              "      gap: 12px;\n",
              "    }\n",
              "\n",
              "    .colab-df-convert {\n",
              "      background-color: #E8F0FE;\n",
              "      border: none;\n",
              "      border-radius: 50%;\n",
              "      cursor: pointer;\n",
              "      display: none;\n",
              "      fill: #1967D2;\n",
              "      height: 32px;\n",
              "      padding: 0 0 0 0;\n",
              "      width: 32px;\n",
              "    }\n",
              "\n",
              "    .colab-df-convert:hover {\n",
              "      background-color: #E2EBFA;\n",
              "      box-shadow: 0px 1px 2px rgba(60, 64, 67, 0.3), 0px 1px 3px 1px rgba(60, 64, 67, 0.15);\n",
              "      fill: #174EA6;\n",
              "    }\n",
              "\n",
              "    [theme=dark] .colab-df-convert {\n",
              "      background-color: #3B4455;\n",
              "      fill: #D2E3FC;\n",
              "    }\n",
              "\n",
              "    [theme=dark] .colab-df-convert:hover {\n",
              "      background-color: #434B5C;\n",
              "      box-shadow: 0px 1px 3px 1px rgba(0, 0, 0, 0.15);\n",
              "      filter: drop-shadow(0px 1px 2px rgba(0, 0, 0, 0.3));\n",
              "      fill: #FFFFFF;\n",
              "    }\n",
              "  </style>\n",
              "\n",
              "      <script>\n",
              "        const buttonEl =\n",
              "          document.querySelector('#df-addd7cc2-24b7-4554-9d60-ce71957f9f3d button.colab-df-convert');\n",
              "        buttonEl.style.display =\n",
              "          google.colab.kernel.accessAllowed ? 'block' : 'none';\n",
              "\n",
              "        async function convertToInteractive(key) {\n",
              "          const element = document.querySelector('#df-addd7cc2-24b7-4554-9d60-ce71957f9f3d');\n",
              "          const dataTable =\n",
              "            await google.colab.kernel.invokeFunction('convertToInteractive',\n",
              "                                                     [key], {});\n",
              "          if (!dataTable) return;\n",
              "\n",
              "          const docLinkHtml = 'Like what you see? Visit the ' +\n",
              "            '<a target=\"_blank\" href=https://colab.research.google.com/notebooks/data_table.ipynb>data table notebook</a>'\n",
              "            + ' to learn more about interactive tables.';\n",
              "          element.innerHTML = '';\n",
              "          dataTable['output_type'] = 'display_data';\n",
              "          await google.colab.output.renderOutput(dataTable, element);\n",
              "          const docLink = document.createElement('div');\n",
              "          docLink.innerHTML = docLinkHtml;\n",
              "          element.appendChild(docLink);\n",
              "        }\n",
              "      </script>\n",
              "    </div>\n",
              "  </div>\n",
              "  "
            ]
          },
          "metadata": {},
          "execution_count": 6
        }
      ],
      "source": [
        "train.head()"
      ],
      "id": "TxhPs4xHKCYV"
    },
    {
      "cell_type": "code",
      "execution_count": null,
      "metadata": {
        "id": "1BbUbWJ4LHej"
      },
      "outputs": [],
      "source": [
        "train_lem = train.tweet_clean_lemm\n",
        "train_stem = train.tweet_clean_stem\n",
        "\n",
        "val_lem = validation.tweet_clean_lemm\n",
        "val_stem = validation.tweet_clean_stem\n",
        "\n",
        "test_lem = test.tweet_clean_lemm\n",
        "test_stem = test.tweet_clean_stem"
      ],
      "id": "1BbUbWJ4LHej"
    },
    {
      "cell_type": "code",
      "execution_count": null,
      "metadata": {
        "id": "1baebec5"
      },
      "outputs": [],
      "source": [
        "ytrain, yval = train.label, validation.label"
      ],
      "id": "1baebec5"
    },
    {
      "cell_type": "code",
      "execution_count": null,
      "metadata": {
        "id": "VRD_rc704znw"
      },
      "outputs": [],
      "source": [
        "epochs = 100\n",
        "batch_size = 500"
      ],
      "id": "VRD_rc704znw"
    },
    {
      "cell_type": "markdown",
      "metadata": {
        "id": "4c20f715"
      },
      "source": [
        "<a href=\"##sommaire\" rev=\"footnote\">&#8617;</a>"
      ],
      "id": "4c20f715"
    },
    {
      "cell_type": "markdown",
      "metadata": {
        "id": "a16f7449"
      },
      "source": [
        "## Nettoyage avec lemmatisation et vectorisation avec Word2Vec<a class=\"anchor\" id=\"10\"></a>"
      ],
      "id": "a16f7449"
    },
    {
      "cell_type": "code",
      "execution_count": null,
      "metadata": {
        "id": "7bd_O82gifEp"
      },
      "outputs": [],
      "source": [
        "# Création et entraînement du modèle Word2Vec\n",
        "def w2v_vectors(serie, vector_size=200, min_count=1, window=4, epochs=100, random_state=0):\n",
        "    sentences = serie.to_list()\n",
        "    sentences =  [gensim.utils.simple_preprocess(text) for text in sentences]\n",
        "    \n",
        "    print(\"Build & train Word2Vec model ...\")\n",
        "    model  = gensim.models.Word2Vec(min_count = min_count,\n",
        "                                       window = window,\n",
        "                                       vector_size = vector_size,\n",
        "                                       seed = random_state,\n",
        "                                       workers = 4)\n",
        "\n",
        "    model.build_vocab(sentences)\n",
        "    model.train(sentences, \n",
        "                total_examples = model.corpus_count, \n",
        "                epochs = epochs)\n",
        "    model_vectors  =  model.wv\n",
        "    words  =  model_vectors.key_to_index\n",
        "    print(\"Vocabulary size:\", len(words))\n",
        "    print(\"Word2Vec trained\")\n",
        "    return model_vectors"
      ],
      "id": "7bd_O82gifEp"
    },
    {
      "cell_type": "code",
      "execution_count": null,
      "metadata": {
        "id": "sIMdYwzcKwQM",
        "colab": {
          "base_uri": "https://localhost:8080/"
        },
        "outputId": "912bb523-d439-4597-9164-3eee7fbdf652"
      },
      "outputs": [
        {
          "output_type": "stream",
          "name": "stdout",
          "text": [
            "Build & train Word2Vec model ...\n",
            "Vocabulary size: 141428\n",
            "Word2Vec trained\n",
            "Build & train Word2Vec model ...\n",
            "Vocabulary size: 126340\n",
            "Word2Vec trained\n"
          ]
        }
      ],
      "source": [
        "w2v_vectors_lemm = w2v_vectors(train_lem)\n",
        "w2v_vectors_stem = w2v_vectors(train_stem)"
      ],
      "id": "sIMdYwzcKwQM"
    },
    {
      "cell_type": "code",
      "execution_count": null,
      "metadata": {
        "id": "1MsmV6y1MVbN"
      },
      "outputs": [],
      "source": [
        "w2v_vectors_lemm.save(path + \"embedding/lemm_word2vec.wordvectors\")\n",
        "w2v_vectors_stem.save(path + \"embedding/stem_word2vec.wordvectors\")"
      ],
      "id": "1MsmV6y1MVbN"
    },
    {
      "cell_type": "code",
      "execution_count": null,
      "metadata": {
        "id": "edLHDdazrhoN"
      },
      "outputs": [],
      "source": [
        "# w2v_vectors_lemm = KeyedVectors.load(path + \"embedding/lemm_word2vec.wordvectors\")\n",
        "# w2v_vectors_stem = KeyedVectors.load(path + \"embedding/stem_word2vec.wordvectors\")"
      ],
      "id": "edLHDdazrhoN"
    },
    {
      "cell_type": "markdown",
      "metadata": {
        "id": "fknRgKHZ6ZZM"
      },
      "source": [
        "**Test le tokenizer de Keras**"
      ],
      "id": "fknRgKHZ6ZZM"
    },
    {
      "cell_type": "code",
      "execution_count": null,
      "metadata": {
        "id": "rpSLAEYr2_7s"
      },
      "outputs": [],
      "source": [
        "seed = 0\n",
        "tk = Tokenizer()\n",
        "tk.fit_on_texts(train_lem.to_list())"
      ],
      "id": "rpSLAEYr2_7s"
    },
    {
      "cell_type": "code",
      "execution_count": null,
      "metadata": {
        "id": "artE43oi3bZ0",
        "colab": {
          "base_uri": "https://localhost:8080/"
        },
        "outputId": "a998b0a2-1251-437f-e801-713efc075232"
      },
      "outputs": [
        {
          "output_type": "execute_result",
          "data": {
            "text/plain": [
              "625617"
            ]
          },
          "metadata": {},
          "execution_count": 15
        }
      ],
      "source": [
        "tk.document_count"
      ],
      "id": "artE43oi3bZ0"
    },
    {
      "cell_type": "code",
      "execution_count": null,
      "metadata": {
        "id": "zCNxmh5D3zzQ",
        "colab": {
          "base_uri": "https://localhost:8080/"
        },
        "outputId": "1820be6b-ecb7-4132-cc4e-5000f359cd3f"
      },
      "outputs": [
        {
          "output_type": "execute_result",
          "data": {
            "text/plain": [
              "154397"
            ]
          },
          "metadata": {},
          "execution_count": 16
        }
      ],
      "source": [
        "len(tk.word_counts)"
      ],
      "id": "zCNxmh5D3zzQ"
    },
    {
      "cell_type": "code",
      "execution_count": null,
      "metadata": {
        "id": "UBd6Aw3330W3",
        "colab": {
          "base_uri": "https://localhost:8080/"
        },
        "outputId": "b6818294-c118-404c-ddea-3ac5f0259dd9"
      },
      "outputs": [
        {
          "output_type": "execute_result",
          "data": {
            "text/plain": [
              "[('goodsex', 57),\n",
              " ('make', 7137),\n",
              " ('squirt', 14),\n",
              " ('look', 15632),\n",
              " ('quot', 28563),\n",
              " ('sexy', 727),\n",
              " ('sailors', 2),\n",
              " ('outfit', 209),\n",
              " ('laura', 175),\n",
              " ('hen', 39)]"
            ]
          },
          "metadata": {},
          "execution_count": 17
        }
      ],
      "source": [
        "list(tk.word_counts.items())[:10]"
      ],
      "id": "UBd6Aw3330W3"
    },
    {
      "cell_type": "code",
      "execution_count": null,
      "metadata": {
        "id": "mZzssvC930QN",
        "colab": {
          "base_uri": "https://localhost:8080/"
        },
        "outputId": "3d893402-379b-428b-bc96-890625b99dfe"
      },
      "outputs": [
        {
          "output_type": "execute_result",
          "data": {
            "text/plain": [
              "[('not', 1),\n",
              " ('go', 2),\n",
              " ('good', 3),\n",
              " ('day', 4),\n",
              " ('work', 5),\n",
              " ('get', 6),\n",
              " ('like', 7),\n",
              " ('love', 8),\n",
              " ('quot', 9),\n",
              " ('today', 10)]"
            ]
          },
          "metadata": {},
          "execution_count": 18
        }
      ],
      "source": [
        "list(tk.word_index.items())[:10]"
      ],
      "id": "mZzssvC930QN"
    },
    {
      "cell_type": "code",
      "execution_count": null,
      "metadata": {
        "id": "OIrKlWXq60of"
      },
      "outputs": [],
      "source": [
        "SeqText = tk.texts_to_sequences(train_lem.to_list())"
      ],
      "id": "OIrKlWXq60of"
    },
    {
      "cell_type": "code",
      "execution_count": null,
      "metadata": {
        "id": "4jXUwyli69jZ",
        "colab": {
          "base_uri": "https://localhost:8080/"
        },
        "outputId": "f5ec9b20-d26d-4bd0-dc49-8cd67079cd87"
      },
      "outputs": [
        {
          "output_type": "execute_result",
          "data": {
            "text/plain": [
              "[[5472, 75, 13056],\n",
              " [26, 9, 761, 40321, 9, 2144, 2446, 7010, 21, 899, 410, 1, 7],\n",
              " [1, 14, 31, 162, 274, 264],\n",
              " [4426, 4796, 8408, 1418, 76, 937, 3539, 7011, 533]]"
            ]
          },
          "metadata": {},
          "execution_count": 20
        }
      ],
      "source": [
        "SeqText[:4]"
      ],
      "id": "4jXUwyli69jZ"
    },
    {
      "cell_type": "code",
      "execution_count": null,
      "metadata": {
        "id": "yr_GC7Mm7II5",
        "colab": {
          "base_uri": "https://localhost:8080/"
        },
        "outputId": "f060d230-4382-4f60-8bec-156ac3dd2b47"
      },
      "outputs": [
        {
          "output_type": "execute_result",
          "data": {
            "text/plain": [
              "1273151                                  goodsex make squirt\n",
              "445145     look quot;sexy sailors&quot outfit laura hen n...\n",
              "499993                   not know twitter send word headache\n",
              "122529     particularly brutal rejection writing never co...\n",
              "Name: tweet_clean_lemm, dtype: object"
            ]
          },
          "metadata": {},
          "execution_count": 21
        }
      ],
      "source": [
        "train.tweet_clean_lemm.iloc[:4,]"
      ],
      "id": "yr_GC7Mm7II5"
    },
    {
      "cell_type": "code",
      "execution_count": null,
      "metadata": {
        "id": "TDWUD6fz8eNQ",
        "colab": {
          "base_uri": "https://localhost:8080/"
        },
        "outputId": "b9b257e8-19ae-42d3-9ad1-e22b09625eed"
      },
      "outputs": [
        {
          "output_type": "display_data",
          "data": {
            "text/plain": [
              "<Figure size 432x288 with 1 Axes>"
            ],
            "image/png": "[encoded data removed]"
          },
          "metadata": {
            "needs_background": "light"
          }
        }
      ],
      "source": [
        "plt.hist([len(doc) for doc in SeqText])\n",
        "plt.title('Nombre de token dans chaque tweet nettoyé')\n",
        "plt.show()"
      ],
      "id": "TDWUD6fz8eNQ"
    },
    {
      "cell_type": "code",
      "execution_count": null,
      "metadata": {
        "id": "fJAkW5zk7es2"
      },
      "outputs": [],
      "source": [
        "max_len = max([len(doc) for doc in SeqText])"
      ],
      "id": "fJAkW5zk7es2"
    },
    {
      "cell_type": "code",
      "execution_count": null,
      "metadata": {
        "id": "_MwIaeKj9V9L",
        "colab": {
          "base_uri": "https://localhost:8080/"
        },
        "outputId": "466aad0d-cdc7-4b98-d298-4a4fb986d169"
      },
      "outputs": [
        {
          "output_type": "execute_result",
          "data": {
            "text/plain": [
              "112406"
            ]
          },
          "metadata": {},
          "execution_count": 24
        }
      ],
      "source": [
        "np.argmax([len(doc) for doc in SeqText])"
      ],
      "id": "_MwIaeKj9V9L"
    },
    {
      "cell_type": "code",
      "execution_count": null,
      "metadata": {
        "id": "Y1Gu35A0LZWb"
      },
      "outputs": [],
      "source": [
        "# Création de la matrice d'embedding\n",
        "def build_embedding_matrix(serie, model_vectors, size = 200):\n",
        "    list_docs = serie.to_list()\n",
        "    print(\"Fit Tokenizer ...\")\n",
        "    tokenizer = Tokenizer()\n",
        "    tokenizer.fit_on_texts(list_docs)\n",
        "    print(\"Create Embedding matrix ...\")\n",
        "    word_index = tokenizer.word_index\n",
        "    vocab_size = len(word_index) + 1\n",
        "    embedding_matrix = np.zeros((vocab_size, size))\n",
        "    i=0\n",
        "    j=0\n",
        "    miss = []\n",
        "    for word, idx in word_index.items():\n",
        "        i +=1\n",
        "        if word in model_vectors.key_to_index:\n",
        "            j +=1\n",
        "            embedding_vector = model_vectors[word]\n",
        "            \n",
        "            if embedding_vector is not None:\n",
        "                embedding_matrix[idx] = model_vectors[word]\n",
        "                \n",
        "            else :\n",
        "                miss.append(word)\n",
        "            \n",
        "    word_rate = np.round(j/i,4)\n",
        "    print(\"Word embedding rate : \", word_rate)\n",
        "    print(\"Embedding matrix shape: \" , embedding_matrix.shape)\n",
        "    \n",
        "    return {'Embedding_matrix' : embedding_matrix, 'Words_not_found' : miss}"
      ],
      "id": "Y1Gu35A0LZWb"
    },
    {
      "cell_type": "code",
      "execution_count": null,
      "metadata": {
        "id": "13cca9b3",
        "colab": {
          "base_uri": "https://localhost:8080/"
        },
        "outputId": "91ff7f7b-5e48-4d8f-c031-ff976d368e99"
      },
      "outputs": [
        {
          "output_type": "stream",
          "name": "stdout",
          "text": [
            "Fit Tokenizer ...\n",
            "Create Embedding matrix ...\n",
            "Word embedding rate :  0.8915\n",
            "Embedding matrix shape:  (154398, 200)\n"
          ]
        }
      ],
      "source": [
        "size = 200\n",
        "embedding_matrix_lem_w2v = build_embedding_matrix(train_lem, \n",
        "                                                  model_vectors = w2v_vectors_lemm, \n",
        "                                                  size = size)['Embedding_matrix']"
      ],
      "id": "13cca9b3"
    },
    {
      "cell_type": "code",
      "execution_count": null,
      "metadata": {
        "id": "2d0cbb07"
      },
      "outputs": [],
      "source": [
        "  # Définition de la fonction de Préparation des sentences (tokenization)\n",
        "  def prepare_data(serie, maxlen = 205, tokenizer=tk, pprint = None):\n",
        "      if pprint:\n",
        "          print(pprint)\n",
        "      list_docs = serie.to_list()\n",
        "      tokenizer.texts_to_sequences(list_docs)\n",
        "      input_data = pad_sequences(tokenizer.texts_to_sequences(list_docs),\n",
        "                                  maxlen = maxlen,\n",
        "                                  padding = 'post')\n",
        "      print('Len vocab :', len(tk.word_counts))\n",
        "      print('Len tweets :', input_data.shape[0])\n",
        "      print('Done! \\n')\n",
        "      return input_data"
      ],
      "id": "2d0cbb07"
    },
    {
      "cell_type": "code",
      "execution_count": null,
      "metadata": {
        "id": "msh-88hbG45C",
        "scrolled": true,
        "colab": {
          "base_uri": "https://localhost:8080/"
        },
        "outputId": "723bdbd1-6881-431b-dcf2-1c11948e0219"
      },
      "outputs": [
        {
          "output_type": "stream",
          "name": "stdout",
          "text": [
            "Preparing the train set : \n",
            "Len vocab : 154397\n",
            "Len tweets : 625617\n",
            "Done! \n",
            "\n",
            "Preparing the validation set : \n",
            "Len vocab : 154397\n",
            "Len tweets : 268092\n",
            "Done! \n",
            "\n",
            "Preparing the test set : \n",
            "Len vocab : 154397\n",
            "Len tweets : 99333\n",
            "Done! \n",
            "\n"
          ]
        }
      ],
      "source": [
        "xtrain_lem = prepare_data(train_lem, pprint='Preparing the train set : ')\n",
        "\n",
        "xval_lem = prepare_data(val_lem, pprint='Preparing the validation set : ')\n",
        "\n",
        "xtest_lem = prepare_data(test_lem, pprint='Preparing the test set : ')"
      ],
      "id": "msh-88hbG45C"
    },
    {
      "cell_type": "code",
      "execution_count": null,
      "metadata": {
        "id": "62fE9mJRiSyb"
      },
      "outputs": [],
      "source": [
        "# Save test input\n",
        "np.save(path + 'test_input/xtest_lem.npy', xtest_lem)"
      ],
      "id": "62fE9mJRiSyb"
    },
    {
      "cell_type": "code",
      "execution_count": null,
      "metadata": {
        "id": "D2pePL9rib6L",
        "colab": {
          "base_uri": "https://localhost:8080/"
        },
        "outputId": "a1c55f37-10d7-458b-92ae-06e42ec3b9c5"
      },
      "outputs": [
        {
          "output_type": "execute_result",
          "data": {
            "text/plain": [
              "((625617, 205), (268092, 205), (625617,), (268092,))"
            ]
          },
          "metadata": {},
          "execution_count": 30
        }
      ],
      "source": [
        "xtrain_lem.shape, xval_lem.shape, ytrain.shape, yval.shape"
      ],
      "id": "D2pePL9rib6L"
    },
    {
      "cell_type": "code",
      "execution_count": null,
      "metadata": {
        "id": "7_UgUIOvRChH",
        "colab": {
          "base_uri": "https://localhost:8080/"
        },
        "outputId": "595fc1c1-b03e-4c0a-ed87-e66e8a0c44f8"
      },
      "outputs": [
        {
          "output_type": "execute_result",
          "data": {
            "text/plain": [
              "(154398, 200)"
            ]
          },
          "metadata": {},
          "execution_count": 31
        }
      ],
      "source": [
        "embedding_matrix_lem_w2v.shape"
      ],
      "id": "7_UgUIOvRChH"
    },
    {
      "cell_type": "markdown",
      "metadata": {
        "id": "5m7yMjqEG7Sj"
      },
      "source": [
        "### Baseline"
      ],
      "id": "5m7yMjqEG7Sj"
    },
    {
      "cell_type": "code",
      "execution_count": null,
      "metadata": {
        "id": "56337fdf",
        "scrolled": true
      },
      "outputs": [],
      "source": [
        "def model_embedding(embedding_matrix, \n",
        "                    len_vocab = 154_397 + 1,\n",
        "                    output_dim = 200,\n",
        "                    max_len = 200,\n",
        "                    len_padding = 5,\n",
        "                    seed=0):\n",
        "\n",
        "  tensorflow.random.set_seed(seed)\n",
        "\n",
        "  model = Sequential()\n",
        "\n",
        "  model.add(Embedding(input_dim = len_vocab ,\n",
        "                             output_dim = output_dim,\n",
        "                             embeddings_initializer = keras.initializers.Constant(embedding_matrix),\n",
        "                             input_length = max_len + len_padding,\n",
        "                             trainable = False))\n",
        "\n",
        "  model.add(Flatten())\n",
        "  model.add(Dense(1, activation=\"sigmoid\"))\n",
        "  model.compile(optimizer = 'adam', \n",
        "                       loss = 'binary_crossentropy', \n",
        "                       metrics = ['acc'])\n",
        "  return model"
      ],
      "id": "56337fdf"
    },
    {
      "cell_type": "code",
      "execution_count": null,
      "metadata": {
        "id": "AFuByhc05fBu",
        "colab": {
          "base_uri": "https://localhost:8080/"
        },
        "outputId": "1e7b6abb-ffe6-4f4c-9f7a-c52449babdd0"
      },
      "outputs": [
        {
          "output_type": "stream",
          "name": "stdout",
          "text": [
            "Model: \"sequential\"\n",
            "_________________________________________________________________\n",
            " Layer (type)                Output Shape              Param #   \n",
            "=================================================================\n",
            " embedding (Embedding)       (None, 205, 200)          30879600  \n",
            "                                                                 \n",
            " flatten (Flatten)           (None, 41000)             0         \n",
            "                                                                 \n",
            " dense (Dense)               (None, 1)                 41001     \n",
            "                                                                 \n",
            "=================================================================\n",
            "Total params: 30,920,601\n",
            "Trainable params: 41,001\n",
            "Non-trainable params: 30,879,600\n",
            "_________________________________________________________________\n"
          ]
        }
      ],
      "source": [
        "embedding_matrix = embedding_matrix_lem_w2v\n",
        "model_lemm_w2v = model_embedding(embedding_matrix = embedding_matrix,\n",
        "                                 seed = seed)\n",
        "\n",
        "model_lemm_w2v.summary()"
      ],
      "id": "AFuByhc05fBu"
    },
    {
      "cell_type": "code",
      "execution_count": null,
      "metadata": {
        "id": "1333d279",
        "scrolled": true
      },
      "outputs": [],
      "source": [
        "history_lemm_w2v = model_lemm_w2v.fit(xtrain_lem, \n",
        "                             ytrain,\n",
        "                             validation_data = (xval_lem, yval),\n",
        "                             epochs = epochs,\n",
        "                             batch_size = batch_size,\n",
        "                             verbose = 0)"
      ],
      "id": "1333d279"
    },
    {
      "cell_type": "code",
      "execution_count": null,
      "metadata": {
        "id": "5b984c4f"
      },
      "outputs": [],
      "source": [
        "def plot_history(history, list_key) :\n",
        "    \n",
        "    # summarize history for accuracy\n",
        "    plt.plot(history.history[list_key[0]])\n",
        "    plt.plot(history.history[list_key[2]])\n",
        "    plt.title(f'model {list_key[0]}')\n",
        "    plt.ylabel(list_key[0])\n",
        "    plt.xlabel('epoch')\n",
        "    plt.legend(['train', 'test'], loc='upper left')\n",
        "    plt.show()\n",
        "\n",
        "    # summarize history for loss\n",
        "    plt.plot(history.history[list_key[1]])\n",
        "    plt.plot(history.history[list_key[3]])\n",
        "    plt.title(f'model {list_key[1]}')\n",
        "    plt.ylabel(list_key[1])\n",
        "    plt.xlabel('epoch')\n",
        "    plt.legend(['train', 'test'], loc='upper left')\n",
        "    plt.show()"
      ],
      "id": "5b984c4f"
    },
    {
      "cell_type": "markdown",
      "metadata": {
        "id": "bzbpO8Z0H7PZ"
      },
      "source": [
        "#### Learning Curve"
      ],
      "id": "bzbpO8Z0H7PZ"
    },
    {
      "cell_type": "code",
      "execution_count": null,
      "metadata": {
        "id": "8a393e96",
        "colab": {
          "base_uri": "https://localhost:8080/"
        },
        "outputId": "989c6f7c-d350-45ff-80ce-710b5354a4dc"
      },
      "outputs": [
        {
          "output_type": "display_data",
          "data": {
            "text/plain": [
              "<Figure size 432x288 with 1 Axes>"
            ],
            "image/png": "[encoded data removed]"
          },
          "metadata": {
            "needs_background": "light"
          }
        },
        {
          "output_type": "display_data",
          "data": {
            "text/plain": [
              "<Figure size 432x288 with 1 Axes>"
            ],
            "image/png": "[encoded data removed]"
          },
          "metadata": {
            "needs_background": "light"
          }
        }
      ],
      "source": [
        "history = history_lemm_w2v\n",
        "plot_history(history, list(history.history.keys()))"
      ],
      "id": "8a393e96"
    },
    {
      "cell_type": "markdown",
      "metadata": {
        "id": "NbBXfiElIIqj"
      },
      "source": [
        "#### Evaluation du modèle"
      ],
      "id": "NbBXfiElIIqj"
    },
    {
      "cell_type": "code",
      "execution_count": null,
      "metadata": {
        "id": "75645385",
        "colab": {
          "base_uri": "https://localhost:8080/"
        },
        "outputId": "13eb0124-2607-44a4-b1e9-6484a4f5ddf9"
      },
      "outputs": [
        {
          "output_type": "stream",
          "name": "stdout",
          "text": [
            "Loss score 0.53 : \n",
            "Accuracy score: 0.74\n"
          ]
        }
      ],
      "source": [
        "evaluate = model_lemm_w2v.evaluate(xval_lem, yval, verbose=0)\n",
        "\n",
        "print('Loss score %.2f : \\nAccuracy score: %.2f'%(evaluate[0], evaluate[1]))"
      ],
      "id": "75645385"
    },
    {
      "cell_type": "markdown",
      "metadata": {
        "id": "oBezJkNmkPYk"
      },
      "source": [
        "### Amélioration du modèle"
      ],
      "id": "oBezJkNmkPYk"
    },
    {
      "cell_type": "code",
      "execution_count": null,
      "metadata": {
        "id": "Xvb1nikJjM-c"
      },
      "outputs": [],
      "source": [
        "embedding_matrix = embedding_matrix_lem_w2v\n",
        "len_vocab = 154397 + 1\n",
        "output_dim = 200\n",
        "max_len = 200\n",
        "len_padding = 5\n",
        "\n",
        "tensorflow.random.set_seed(seed)\n",
        "\n",
        "model_lemm_w2v_optimised = Sequential()\n",
        "\n",
        "model_lemm_w2v_optimised.add(Embedding(input_dim = len_vocab ,\n",
        "                             output_dim = output_dim,\n",
        "                             embeddings_initializer = keras.initializers.Constant(embedding_matrix),\n",
        "                             input_length = max_len + len_padding,\n",
        "                             trainable = False))\n",
        "model_lemm_w2v_optimised.add(GlobalAveragePooling1D())\n",
        "model_lemm_w2v_optimised.add(Flatten())\n",
        "model_lemm_w2v_optimised.add(Dense(20, activation='relu'))\n",
        "model_lemm_w2v_optimised.add(Dropout(0.4))\n",
        "model_lemm_w2v_optimised.add(Dense(1, activation=\"sigmoid\"))\n",
        "model_lemm_w2v_optimised.compile(optimizer = 'adam', \n",
        "                       loss = 'binary_crossentropy', \n",
        "                       metrics = ['acc'])"
      ],
      "id": "Xvb1nikJjM-c"
    },
    {
      "cell_type": "code",
      "source": [
        "model_lemm_w2v_optimised.summary()"
      ],
      "metadata": {
        "id": "9vCQq7-tayEm",
        "colab": {
          "base_uri": "https://localhost:8080/"
        },
        "outputId": "33264a29-8d64-4474-adac-e7bb20d6821a"
      },
      "id": "9vCQq7-tayEm",
      "execution_count": null,
      "outputs": [
        {
          "output_type": "stream",
          "name": "stdout",
          "text": [
            "Model: \"sequential_1\"\n",
            "_________________________________________________________________\n",
            " Layer (type)                Output Shape              Param #   \n",
            "=================================================================\n",
            " embedding_1 (Embedding)     (None, 205, 200)          30879600  \n",
            "                                                                 \n",
            " global_average_pooling1d (G  (None, 200)              0         \n",
            " lobalAveragePooling1D)                                          \n",
            "                                                                 \n",
            " flatten_1 (Flatten)         (None, 200)               0         \n",
            "                                                                 \n",
            " dense_1 (Dense)             (None, 20)                4020      \n",
            "                                                                 \n",
            " dropout (Dropout)           (None, 20)                0         \n",
            "                                                                 \n",
            " dense_2 (Dense)             (None, 1)                 21        \n",
            "                                                                 \n",
            "=================================================================\n",
            "Total params: 30,883,641\n",
            "Trainable params: 4,041\n",
            "Non-trainable params: 30,879,600\n",
            "_________________________________________________________________\n"
          ]
        }
      ]
    },
    {
      "cell_type": "code",
      "execution_count": null,
      "metadata": {
        "id": "CJ0We1GrlLcJ",
        "colab": {
          "base_uri": "https://localhost:8080/"
        },
        "outputId": "58f98d2b-d392-4e93-92b0-9a9c1e8eddb8"
      },
      "outputs": [
        {
          "output_type": "stream",
          "name": "stdout",
          "text": [
            "Epoch 1/100\n",
            "1252/1252 [==============================] - 6s 5ms/step - loss: 0.5705 - acc: 0.7144 - val_loss: 0.5247 - val_acc: 0.7417\n",
            "Epoch 2/100\n",
            "1252/1252 [==============================] - 6s 5ms/step - loss: 0.5295 - acc: 0.7413 - val_loss: 0.5150 - val_acc: 0.7466\n",
            "Epoch 3/100\n",
            "1252/1252 [==============================] - 7s 6ms/step - loss: 0.5237 - acc: 0.7439 - val_loss: 0.5123 - val_acc: 0.7476\n",
            "Epoch 4/100\n",
            "1252/1252 [==============================] - 6s 5ms/step - loss: 0.5215 - acc: 0.7454 - val_loss: 0.5095 - val_acc: 0.7489\n",
            "Epoch 5/100\n",
            "1252/1252 [==============================] - 6s 5ms/step - loss: 0.5197 - acc: 0.7463 - val_loss: 0.5077 - val_acc: 0.7496\n",
            "Epoch 6/100\n",
            "1252/1252 [==============================] - 6s 5ms/step - loss: 0.5183 - acc: 0.7472 - val_loss: 0.5066 - val_acc: 0.7505\n",
            "Epoch 7/100\n",
            "1252/1252 [==============================] - 6s 5ms/step - loss: 0.5174 - acc: 0.7480 - val_loss: 0.5045 - val_acc: 0.7515\n",
            "Epoch 8/100\n",
            "1252/1252 [==============================] - 7s 6ms/step - loss: 0.5166 - acc: 0.7478 - val_loss: 0.5042 - val_acc: 0.7520\n",
            "Epoch 9/100\n",
            "1252/1252 [==============================] - 7s 6ms/step - loss: 0.5158 - acc: 0.7485 - val_loss: 0.5036 - val_acc: 0.7521\n",
            "Epoch 10/100\n",
            "1252/1252 [==============================] - 7s 6ms/step - loss: 0.5151 - acc: 0.7489 - val_loss: 0.5036 - val_acc: 0.7530\n",
            "Epoch 11/100\n",
            "1252/1252 [==============================] - 6s 5ms/step - loss: 0.5152 - acc: 0.7491 - val_loss: 0.5021 - val_acc: 0.7529\n",
            "Epoch 12/100\n",
            "1252/1252 [==============================] - 7s 6ms/step - loss: 0.5146 - acc: 0.7497 - val_loss: 0.5020 - val_acc: 0.7536\n",
            "Epoch 13/100\n",
            "1252/1252 [==============================] - 7s 6ms/step - loss: 0.5138 - acc: 0.7496 - val_loss: 0.5016 - val_acc: 0.7537\n",
            "Epoch 14/100\n",
            "1252/1252 [==============================] - 7s 6ms/step - loss: 0.5138 - acc: 0.7497 - val_loss: 0.5015 - val_acc: 0.7543\n",
            "Epoch 15/100\n",
            "1252/1252 [==============================] - 7s 6ms/step - loss: 0.5134 - acc: 0.7503 - val_loss: 0.5005 - val_acc: 0.7541\n",
            "Epoch 16/100\n",
            "1252/1252 [==============================] - 7s 6ms/step - loss: 0.5129 - acc: 0.7500 - val_loss: 0.5001 - val_acc: 0.7544\n",
            "Epoch 17/100\n",
            "1252/1252 [==============================] - 6s 5ms/step - loss: 0.5129 - acc: 0.7503 - val_loss: 0.5003 - val_acc: 0.7546\n",
            "Epoch 18/100\n",
            "1252/1252 [==============================] - 7s 6ms/step - loss: 0.5129 - acc: 0.7501 - val_loss: 0.5000 - val_acc: 0.7550\n",
            "Epoch 19/100\n",
            "1252/1252 [==============================] - 6s 5ms/step - loss: 0.5123 - acc: 0.7508 - val_loss: 0.4996 - val_acc: 0.7548\n",
            "Epoch 20/100\n",
            "1252/1252 [==============================] - 6s 5ms/step - loss: 0.5124 - acc: 0.7507 - val_loss: 0.4999 - val_acc: 0.7551\n",
            "Epoch 21/100\n",
            "1252/1252 [==============================] - 7s 6ms/step - loss: 0.5125 - acc: 0.7504 - val_loss: 0.4994 - val_acc: 0.7554\n",
            "Epoch 22/100\n",
            "1252/1252 [==============================] - 7s 6ms/step - loss: 0.5122 - acc: 0.7509 - val_loss: 0.4994 - val_acc: 0.7554\n",
            "Epoch 23/100\n",
            "1252/1252 [==============================] - 6s 5ms/step - loss: 0.5120 - acc: 0.7506 - val_loss: 0.4992 - val_acc: 0.7553\n",
            "Epoch 24/100\n",
            "1252/1252 [==============================] - 7s 6ms/step - loss: 0.5119 - acc: 0.7508 - val_loss: 0.4983 - val_acc: 0.7555\n",
            "Epoch 25/100\n",
            "1252/1252 [==============================] - 6s 5ms/step - loss: 0.5120 - acc: 0.7511 - val_loss: 0.4988 - val_acc: 0.7560\n",
            "Epoch 26/100\n",
            "1252/1252 [==============================] - 6s 5ms/step - loss: 0.5115 - acc: 0.7513 - val_loss: 0.4982 - val_acc: 0.7557\n",
            "Epoch 27/100\n",
            "1252/1252 [==============================] - 6s 5ms/step - loss: 0.5113 - acc: 0.7511 - val_loss: 0.4984 - val_acc: 0.7558\n",
            "Epoch 28/100\n",
            "1252/1252 [==============================] - 7s 6ms/step - loss: 0.5111 - acc: 0.7510 - val_loss: 0.4985 - val_acc: 0.7559\n",
            "Epoch 29/100\n",
            "1252/1252 [==============================] - 6s 5ms/step - loss: 0.5118 - acc: 0.7511 - val_loss: 0.4984 - val_acc: 0.7558\n",
            "Epoch 30/100\n",
            "1252/1252 [==============================] - 6s 5ms/step - loss: 0.5111 - acc: 0.7510 - val_loss: 0.4975 - val_acc: 0.7562\n",
            "Epoch 31/100\n",
            "1252/1252 [==============================] - 6s 5ms/step - loss: 0.5114 - acc: 0.7511 - val_loss: 0.4971 - val_acc: 0.7560\n",
            "Epoch 32/100\n",
            "1252/1252 [==============================] - 6s 5ms/step - loss: 0.5116 - acc: 0.7508 - val_loss: 0.4976 - val_acc: 0.7563\n",
            "Epoch 33/100\n",
            "1252/1252 [==============================] - 7s 6ms/step - loss: 0.5109 - acc: 0.7515 - val_loss: 0.4981 - val_acc: 0.7558\n",
            "Epoch 34/100\n",
            "1252/1252 [==============================] - 7s 6ms/step - loss: 0.5108 - acc: 0.7514 - val_loss: 0.4969 - val_acc: 0.7565\n",
            "Epoch 35/100\n",
            "1252/1252 [==============================] - 7s 6ms/step - loss: 0.5109 - acc: 0.7514 - val_loss: 0.4971 - val_acc: 0.7564\n",
            "Epoch 36/100\n",
            "1252/1252 [==============================] - 7s 6ms/step - loss: 0.5108 - acc: 0.7514 - val_loss: 0.4985 - val_acc: 0.7567\n",
            "Epoch 37/100\n",
            "1252/1252 [==============================] - 7s 6ms/step - loss: 0.5111 - acc: 0.7513 - val_loss: 0.4978 - val_acc: 0.7565\n",
            "Epoch 38/100\n",
            "1252/1252 [==============================] - 6s 5ms/step - loss: 0.5112 - acc: 0.7517 - val_loss: 0.4970 - val_acc: 0.7566\n",
            "Epoch 39/100\n",
            "1252/1252 [==============================] - 7s 6ms/step - loss: 0.5107 - acc: 0.7514 - val_loss: 0.4975 - val_acc: 0.7566\n",
            "Epoch 40/100\n",
            "1252/1252 [==============================] - 6s 5ms/step - loss: 0.5105 - acc: 0.7515 - val_loss: 0.4970 - val_acc: 0.7566\n",
            "Epoch 41/100\n",
            "1252/1252 [==============================] - 7s 6ms/step - loss: 0.5110 - acc: 0.7518 - val_loss: 0.4971 - val_acc: 0.7569\n",
            "Epoch 42/100\n",
            "1252/1252 [==============================] - 7s 6ms/step - loss: 0.5105 - acc: 0.7514 - val_loss: 0.4967 - val_acc: 0.7569\n",
            "Epoch 43/100\n",
            "1252/1252 [==============================] - 6s 5ms/step - loss: 0.5105 - acc: 0.7517 - val_loss: 0.4975 - val_acc: 0.7565\n",
            "Epoch 44/100\n",
            "1252/1252 [==============================] - 6s 5ms/step - loss: 0.5105 - acc: 0.7515 - val_loss: 0.4978 - val_acc: 0.7568\n",
            "Epoch 45/100\n",
            "1252/1252 [==============================] - 7s 6ms/step - loss: 0.5108 - acc: 0.7519 - val_loss: 0.4964 - val_acc: 0.7571\n",
            "Epoch 46/100\n",
            "1252/1252 [==============================] - 6s 5ms/step - loss: 0.5103 - acc: 0.7518 - val_loss: 0.4968 - val_acc: 0.7567\n",
            "Epoch 47/100\n",
            "1252/1252 [==============================] - 7s 6ms/step - loss: 0.5102 - acc: 0.7516 - val_loss: 0.4975 - val_acc: 0.7572\n",
            "Epoch 48/100\n",
            "1252/1252 [==============================] - 7s 6ms/step - loss: 0.5101 - acc: 0.7517 - val_loss: 0.4961 - val_acc: 0.7573\n",
            "Epoch 49/100\n",
            "1252/1252 [==============================] - 6s 5ms/step - loss: 0.5103 - acc: 0.7521 - val_loss: 0.4967 - val_acc: 0.7572\n",
            "Epoch 50/100\n",
            "1252/1252 [==============================] - 6s 5ms/step - loss: 0.5102 - acc: 0.7521 - val_loss: 0.4966 - val_acc: 0.7569\n",
            "Epoch 51/100\n",
            "1252/1252 [==============================] - 6s 5ms/step - loss: 0.5104 - acc: 0.7522 - val_loss: 0.4972 - val_acc: 0.7570\n",
            "Epoch 52/100\n",
            "1252/1252 [==============================] - 7s 6ms/step - loss: 0.5099 - acc: 0.7519 - val_loss: 0.4963 - val_acc: 0.7569\n",
            "Epoch 53/100\n",
            "1252/1252 [==============================] - 6s 5ms/step - loss: 0.5101 - acc: 0.7518 - val_loss: 0.4960 - val_acc: 0.7571\n",
            "Epoch 54/100\n",
            "1252/1252 [==============================] - 6s 5ms/step - loss: 0.5101 - acc: 0.7519 - val_loss: 0.4960 - val_acc: 0.7572\n",
            "Epoch 55/100\n",
            "1252/1252 [==============================] - 8s 6ms/step - loss: 0.5098 - acc: 0.7513 - val_loss: 0.4962 - val_acc: 0.7573\n",
            "Epoch 56/100\n",
            "1252/1252 [==============================] - 7s 6ms/step - loss: 0.5102 - acc: 0.7518 - val_loss: 0.4972 - val_acc: 0.7568\n",
            "Epoch 57/100\n",
            "1252/1252 [==============================] - 7s 6ms/step - loss: 0.5101 - acc: 0.7518 - val_loss: 0.4956 - val_acc: 0.7573\n",
            "Epoch 58/100\n",
            "1252/1252 [==============================] - 7s 6ms/step - loss: 0.5099 - acc: 0.7519 - val_loss: 0.4969 - val_acc: 0.7574\n",
            "Epoch 59/100\n",
            "1252/1252 [==============================] - 7s 6ms/step - loss: 0.5101 - acc: 0.7517 - val_loss: 0.4961 - val_acc: 0.7576\n",
            "Epoch 60/100\n",
            "1252/1252 [==============================] - 7s 6ms/step - loss: 0.5097 - acc: 0.7521 - val_loss: 0.4961 - val_acc: 0.7567\n",
            "Epoch 61/100\n",
            "1252/1252 [==============================] - 7s 6ms/step - loss: 0.5100 - acc: 0.7522 - val_loss: 0.4960 - val_acc: 0.7570\n",
            "Epoch 62/100\n",
            "1252/1252 [==============================] - 6s 5ms/step - loss: 0.5102 - acc: 0.7518 - val_loss: 0.4963 - val_acc: 0.7573\n",
            "Epoch 63/100\n",
            "1252/1252 [==============================] - 6s 5ms/step - loss: 0.5097 - acc: 0.7524 - val_loss: 0.4960 - val_acc: 0.7575\n",
            "Epoch 64/100\n",
            "1252/1252 [==============================] - 7s 6ms/step - loss: 0.5098 - acc: 0.7522 - val_loss: 0.4965 - val_acc: 0.7574\n",
            "Epoch 65/100\n",
            "1252/1252 [==============================] - 7s 6ms/step - loss: 0.5104 - acc: 0.7519 - val_loss: 0.4957 - val_acc: 0.7572\n",
            "Epoch 66/100\n",
            "1252/1252 [==============================] - 7s 6ms/step - loss: 0.5095 - acc: 0.7520 - val_loss: 0.4959 - val_acc: 0.7574\n",
            "Epoch 67/100\n",
            "1252/1252 [==============================] - 7s 6ms/step - loss: 0.5099 - acc: 0.7522 - val_loss: 0.4954 - val_acc: 0.7572\n",
            "Epoch 68/100\n",
            "1252/1252 [==============================] - 6s 5ms/step - loss: 0.5099 - acc: 0.7523 - val_loss: 0.4957 - val_acc: 0.7577\n",
            "Epoch 69/100\n",
            "1252/1252 [==============================] - 6s 5ms/step - loss: 0.5098 - acc: 0.7520 - val_loss: 0.4956 - val_acc: 0.7574\n",
            "Epoch 70/100\n",
            "1252/1252 [==============================] - 7s 6ms/step - loss: 0.5098 - acc: 0.7520 - val_loss: 0.4965 - val_acc: 0.7576\n",
            "Epoch 71/100\n",
            "1252/1252 [==============================] - 7s 6ms/step - loss: 0.5098 - acc: 0.7517 - val_loss: 0.4954 - val_acc: 0.7577\n",
            "Epoch 72/100\n",
            "1252/1252 [==============================] - 6s 5ms/step - loss: 0.5095 - acc: 0.7518 - val_loss: 0.4957 - val_acc: 0.7576\n",
            "Epoch 73/100\n",
            "1252/1252 [==============================] - 6s 5ms/step - loss: 0.5097 - acc: 0.7522 - val_loss: 0.4960 - val_acc: 0.7577\n",
            "Epoch 74/100\n",
            "1252/1252 [==============================] - 6s 5ms/step - loss: 0.5099 - acc: 0.7519 - val_loss: 0.4956 - val_acc: 0.7578\n",
            "Epoch 75/100\n",
            "1252/1252 [==============================] - 6s 5ms/step - loss: 0.5094 - acc: 0.7519 - val_loss: 0.4956 - val_acc: 0.7576\n",
            "Epoch 76/100\n",
            "1252/1252 [==============================] - 6s 5ms/step - loss: 0.5096 - acc: 0.7523 - val_loss: 0.4959 - val_acc: 0.7579\n",
            "Epoch 77/100\n",
            "1252/1252 [==============================] - 7s 6ms/step - loss: 0.5096 - acc: 0.7520 - val_loss: 0.4956 - val_acc: 0.7574\n",
            "Epoch 78/100\n",
            "1252/1252 [==============================] - 6s 5ms/step - loss: 0.5097 - acc: 0.7520 - val_loss: 0.4965 - val_acc: 0.7573\n",
            "Epoch 79/100\n",
            "1252/1252 [==============================] - 6s 5ms/step - loss: 0.5100 - acc: 0.7523 - val_loss: 0.4966 - val_acc: 0.7576\n",
            "Epoch 80/100\n",
            "1252/1252 [==============================] - 6s 5ms/step - loss: 0.5098 - acc: 0.7522 - val_loss: 0.4957 - val_acc: 0.7574\n",
            "Epoch 81/100\n",
            "1252/1252 [==============================] - 6s 5ms/step - loss: 0.5095 - acc: 0.7517 - val_loss: 0.4959 - val_acc: 0.7577\n",
            "Epoch 82/100\n",
            "1252/1252 [==============================] - 7s 6ms/step - loss: 0.5094 - acc: 0.7521 - val_loss: 0.4956 - val_acc: 0.7576\n",
            "Epoch 83/100\n",
            "1252/1252 [==============================] - 6s 5ms/step - loss: 0.5097 - acc: 0.7522 - val_loss: 0.4957 - val_acc: 0.7577\n",
            "Epoch 84/100\n",
            "1252/1252 [==============================] - 6s 5ms/step - loss: 0.5098 - acc: 0.7521 - val_loss: 0.4957 - val_acc: 0.7579\n",
            "Epoch 85/100\n",
            "1252/1252 [==============================] - 6s 5ms/step - loss: 0.5098 - acc: 0.7525 - val_loss: 0.4951 - val_acc: 0.7578\n",
            "Epoch 86/100\n",
            "1252/1252 [==============================] - 8s 6ms/step - loss: 0.5092 - acc: 0.7520 - val_loss: 0.4955 - val_acc: 0.7580\n",
            "Epoch 87/100\n",
            "1252/1252 [==============================] - 7s 6ms/step - loss: 0.5095 - acc: 0.7522 - val_loss: 0.4952 - val_acc: 0.7578\n",
            "Epoch 88/100\n",
            "1252/1252 [==============================] - 7s 5ms/step - loss: 0.5095 - acc: 0.7522 - val_loss: 0.4958 - val_acc: 0.7574\n",
            "Epoch 89/100\n",
            "1252/1252 [==============================] - 7s 6ms/step - loss: 0.5099 - acc: 0.7521 - val_loss: 0.4952 - val_acc: 0.7573\n",
            "Epoch 90/100\n",
            "1252/1252 [==============================] - 7s 6ms/step - loss: 0.5092 - acc: 0.7517 - val_loss: 0.4952 - val_acc: 0.7572\n",
            "Epoch 91/100\n",
            "1252/1252 [==============================] - 6s 5ms/step - loss: 0.5096 - acc: 0.7521 - val_loss: 0.4953 - val_acc: 0.7578\n",
            "Epoch 92/100\n",
            "1252/1252 [==============================] - 6s 5ms/step - loss: 0.5093 - acc: 0.7520 - val_loss: 0.4954 - val_acc: 0.7577\n",
            "Epoch 93/100\n",
            "1252/1252 [==============================] - 7s 6ms/step - loss: 0.5094 - acc: 0.7523 - val_loss: 0.4958 - val_acc: 0.7579\n",
            "Epoch 94/100\n",
            "1252/1252 [==============================] - 7s 6ms/step - loss: 0.5097 - acc: 0.7519 - val_loss: 0.4956 - val_acc: 0.7578\n",
            "Epoch 95/100\n",
            "1252/1252 [==============================] - 7s 6ms/step - loss: 0.5094 - acc: 0.7521 - val_loss: 0.4952 - val_acc: 0.7581\n",
            "Epoch 96/100\n",
            "1252/1252 [==============================] - 6s 5ms/step - loss: 0.5097 - acc: 0.7518 - val_loss: 0.4958 - val_acc: 0.7578\n",
            "Epoch 97/100\n",
            "1252/1252 [==============================] - 7s 6ms/step - loss: 0.5098 - acc: 0.7522 - val_loss: 0.4952 - val_acc: 0.7583\n",
            "Epoch 98/100\n",
            "1252/1252 [==============================] - 6s 5ms/step - loss: 0.5093 - acc: 0.7522 - val_loss: 0.4957 - val_acc: 0.7577\n",
            "Epoch 99/100\n",
            "1252/1252 [==============================] - 6s 5ms/step - loss: 0.5097 - acc: 0.7525 - val_loss: 0.4955 - val_acc: 0.7575\n",
            "Epoch 100/100\n",
            "1252/1252 [==============================] - 6s 5ms/step - loss: 0.5097 - acc: 0.7521 - val_loss: 0.4958 - val_acc: 0.7577\n"
          ]
        }
      ],
      "source": [
        "from time import time\n",
        "t0 = time()\n",
        "history_lemm_w2v_optimised = model_lemm_w2v_optimised.fit(xtrain_lem, \n",
        "                             ytrain,\n",
        "                             validation_data = (xval_lem, yval),\n",
        "                             epochs = epochs,\n",
        "                             batch_size = batch_size,\n",
        "                             verbose = 1)\n",
        "t_lemm_w2v_optimised = time() - t0"
      ],
      "id": "CJ0We1GrlLcJ"
    },
    {
      "cell_type": "markdown",
      "metadata": {
        "id": "FKIOxQx-HH83"
      },
      "source": [
        "#### Learning Curve"
      ],
      "id": "FKIOxQx-HH83"
    },
    {
      "cell_type": "code",
      "execution_count": null,
      "metadata": {
        "id": "j1onos74jNgA",
        "colab": {
          "base_uri": "https://localhost:8080/"
        },
        "outputId": "6247d0c1-5ab9-4e2a-91ed-5e37d4d34cc9"
      },
      "outputs": [
        {
          "output_type": "display_data",
          "data": {
            "text/plain": [
              "<Figure size 432x288 with 1 Axes>"
            ],
            "image/png": "[encoded data removed]"
          },
          "metadata": {
            "needs_background": "light"
          }
        },
        {
          "output_type": "display_data",
          "data": {
            "text/plain": [
              "<Figure size 432x288 with 1 Axes>"
            ],
            "image/png": "[encoded data removed]"
          },
          "metadata": {
            "needs_background": "light"
          }
        }
      ],
      "source": [
        "history = history_lemm_w2v_optimised\n",
        "plot_history(history, list(history.history.keys()))"
      ],
      "id": "j1onos74jNgA"
    },
    {
      "cell_type": "markdown",
      "metadata": {
        "id": "YI8ZZIj9HP7J"
      },
      "source": [
        "#### Evaluation du modèle"
      ],
      "id": "YI8ZZIj9HP7J"
    },
    {
      "cell_type": "code",
      "execution_count": null,
      "metadata": {
        "id": "rIW8fzq_jNvM",
        "colab": {
          "base_uri": "https://localhost:8080/"
        },
        "outputId": "0e93e053-9032-45f9-93b8-8fa4a150be2d"
      },
      "outputs": [
        {
          "output_type": "stream",
          "name": "stdout",
          "text": [
            "Loss score 0.50 : \n",
            "Accuracy score: 0.76\n"
          ]
        }
      ],
      "source": [
        "evaluate = model_lemm_w2v_optimised.evaluate(xval_lem, yval, verbose=0)\n",
        "\n",
        "print('Loss score %.2f : \\nAccuracy score: %.2f'%(evaluate[0], evaluate[1]))"
      ],
      "id": "rIW8fzq_jNvM"
    },
    {
      "cell_type": "markdown",
      "metadata": {
        "id": "Us6JkX1a0_vi"
      },
      "source": [
        "#### Sauvegarde du modèle"
      ],
      "id": "Us6JkX1a0_vi"
    },
    {
      "cell_type": "code",
      "execution_count": null,
      "metadata": {
        "id": "LOQrI-73lWiz"
      },
      "outputs": [],
      "source": [
        "# saving model\n",
        "\n",
        "model_lemm_w2v_optimised.save(path + 'models/model_lemm_w2v')"
      ],
      "id": "LOQrI-73lWiz"
    },
    {
      "cell_type": "markdown",
      "metadata": {
        "id": "bcb7349c"
      },
      "source": [
        "<a href=\"##sommaire\" rev=\"footnote\">&#8617;</a>"
      ],
      "id": "bcb7349c"
    },
    {
      "cell_type": "markdown",
      "metadata": {
        "id": "3de8c3f4"
      },
      "source": [
        "## Nettoyage avec lemmatisation et vectorisation avec Glove<a class=\"anchor\" id=\"20\"></a>"
      ],
      "id": "3de8c3f4"
    },
    {
      "cell_type": "code",
      "execution_count": null,
      "metadata": {
        "id": "d20341fb",
        "colab": {
          "base_uri": "https://localhost:8080/"
        },
        "outputId": "0fee2fcc-8d85-4143-ff2f-c8732a38ccdb"
      },
      "outputs": [
        {
          "output_type": "stream",
          "name": "stdout",
          "text": [
            "[==================================================] 100.0% 758.5/758.5MB downloaded\n"
          ]
        }
      ],
      "source": [
        "# Download the \"glove-twitter-25\" embeddings\n",
        "glove_vectors = gensim.downloader.load('glove-twitter-200')\n",
        "glove_vectors.save(path + \"embedding/glove.wordvectors\")\n",
        "\n",
        "# glove_vectors = KeyedVectors.load(path + \"embedding/glove.wordvectors\")"
      ],
      "id": "d20341fb"
    },
    {
      "cell_type": "code",
      "execution_count": null,
      "metadata": {
        "id": "0d7c649b",
        "colab": {
          "base_uri": "https://localhost:8080/"
        },
        "outputId": "d60947f6-b57c-4865-8afa-74136e916bfe"
      },
      "outputs": [
        {
          "output_type": "stream",
          "name": "stdout",
          "text": [
            "Fit Tokenizer ...\n",
            "Create Embedding matrix ...\n",
            "Word embedding rate :  0.5262\n",
            "Embedding matrix shape:  (154398, 200)\n"
          ]
        }
      ],
      "source": [
        "embedding_matrix_lemm_glove = build_embedding_matrix(train_lem, glove_vectors)['Embedding_matrix']"
      ],
      "id": "0d7c649b"
    },
    {
      "cell_type": "markdown",
      "metadata": {
        "id": "iMRGuOJNIT_g"
      },
      "source": [
        "### Baseline"
      ],
      "id": "iMRGuOJNIT_g"
    },
    {
      "cell_type": "code",
      "execution_count": null,
      "metadata": {
        "id": "bea423b6",
        "colab": {
          "base_uri": "https://localhost:8080/"
        },
        "outputId": "2ccb0d2d-747f-4b69-84f2-ea7225527d73"
      },
      "outputs": [
        {
          "output_type": "stream",
          "name": "stdout",
          "text": [
            "Model: \"sequential_2\"\n",
            "_________________________________________________________________\n",
            " Layer (type)                Output Shape              Param #   \n",
            "=================================================================\n",
            " embedding_2 (Embedding)     (None, 205, 200)          30879600  \n",
            "                                                                 \n",
            " flatten_2 (Flatten)         (None, 41000)             0         \n",
            "                                                                 \n",
            " dense_3 (Dense)             (None, 1)                 41001     \n",
            "                                                                 \n",
            "=================================================================\n",
            "Total params: 30,920,601\n",
            "Trainable params: 41,001\n",
            "Non-trainable params: 30,879,600\n",
            "_________________________________________________________________\n"
          ]
        }
      ],
      "source": [
        "embedding_matrix = embedding_matrix_lemm_glove\n",
        "model_lemm_glove = model_embedding(embedding_matrix = embedding_matrix, \n",
        "                                   seed = 0)\n",
        "model_lemm_glove.summary()"
      ],
      "id": "bea423b6"
    },
    {
      "cell_type": "code",
      "execution_count": null,
      "metadata": {
        "id": "1f3923a3",
        "scrolled": true,
        "colab": {
          "base_uri": "https://localhost:8080/"
        },
        "outputId": "633e7348-92df-4e22-fe26-c30d33b85973"
      },
      "outputs": [
        {
          "output_type": "stream",
          "name": "stdout",
          "text": [
            "Epoch 1/100\n",
            "1252/1252 [==============================] - 8s 6ms/step - loss: 0.5393 - acc: 0.7335 - val_loss: 0.5282 - val_acc: 0.7403\n",
            "Epoch 2/100\n",
            "1252/1252 [==============================] - 7s 5ms/step - loss: 0.5261 - acc: 0.7429 - val_loss: 0.5263 - val_acc: 0.7427\n",
            "Epoch 3/100\n",
            "1252/1252 [==============================] - 7s 6ms/step - loss: 0.5252 - acc: 0.7437 - val_loss: 0.5269 - val_acc: 0.7431\n",
            "Epoch 4/100\n",
            "1252/1252 [==============================] - 6s 4ms/step - loss: 0.5250 - acc: 0.7438 - val_loss: 0.5269 - val_acc: 0.7433\n",
            "Epoch 5/100\n",
            "1252/1252 [==============================] - 6s 4ms/step - loss: 0.5247 - acc: 0.7438 - val_loss: 0.5273 - val_acc: 0.7417\n",
            "Epoch 6/100\n",
            "1252/1252 [==============================] - 6s 4ms/step - loss: 0.5246 - acc: 0.7440 - val_loss: 0.5272 - val_acc: 0.7422\n",
            "Epoch 7/100\n",
            "1252/1252 [==============================] - 6s 4ms/step - loss: 0.5246 - acc: 0.7439 - val_loss: 0.5269 - val_acc: 0.7420\n",
            "Epoch 8/100\n",
            "1252/1252 [==============================] - 6s 4ms/step - loss: 0.5245 - acc: 0.7443 - val_loss: 0.5274 - val_acc: 0.7439\n",
            "Epoch 9/100\n",
            "1252/1252 [==============================] - 6s 4ms/step - loss: 0.5244 - acc: 0.7443 - val_loss: 0.5272 - val_acc: 0.7422\n",
            "Epoch 10/100\n",
            "1252/1252 [==============================] - 6s 4ms/step - loss: 0.5244 - acc: 0.7443 - val_loss: 0.5275 - val_acc: 0.7421\n",
            "Epoch 11/100\n",
            "1252/1252 [==============================] - 6s 4ms/step - loss: 0.5243 - acc: 0.7446 - val_loss: 0.5272 - val_acc: 0.7423\n",
            "Epoch 12/100\n",
            "1252/1252 [==============================] - 6s 4ms/step - loss: 0.5243 - acc: 0.7445 - val_loss: 0.5277 - val_acc: 0.7414\n",
            "Epoch 13/100\n",
            "1252/1252 [==============================] - 6s 4ms/step - loss: 0.5242 - acc: 0.7445 - val_loss: 0.5273 - val_acc: 0.7427\n",
            "Epoch 14/100\n",
            "1252/1252 [==============================] - 6s 4ms/step - loss: 0.5243 - acc: 0.7445 - val_loss: 0.5277 - val_acc: 0.7423\n",
            "Epoch 15/100\n",
            "1252/1252 [==============================] - 6s 4ms/step - loss: 0.5242 - acc: 0.7445 - val_loss: 0.5273 - val_acc: 0.7425\n",
            "Epoch 16/100\n",
            "1252/1252 [==============================] - 6s 4ms/step - loss: 0.5242 - acc: 0.7444 - val_loss: 0.5277 - val_acc: 0.7425\n",
            "Epoch 17/100\n",
            "1252/1252 [==============================] - 7s 6ms/step - loss: 0.5242 - acc: 0.7446 - val_loss: 0.5278 - val_acc: 0.7422\n",
            "Epoch 18/100\n",
            "1252/1252 [==============================] - 6s 5ms/step - loss: 0.5241 - acc: 0.7443 - val_loss: 0.5275 - val_acc: 0.7427\n",
            "Epoch 19/100\n",
            "1252/1252 [==============================] - 6s 4ms/step - loss: 0.5242 - acc: 0.7444 - val_loss: 0.5278 - val_acc: 0.7423\n",
            "Epoch 20/100\n",
            "1252/1252 [==============================] - 6s 4ms/step - loss: 0.5241 - acc: 0.7444 - val_loss: 0.5278 - val_acc: 0.7430\n",
            "Epoch 21/100\n",
            "1252/1252 [==============================] - 6s 4ms/step - loss: 0.5241 - acc: 0.7443 - val_loss: 0.5279 - val_acc: 0.7424\n",
            "Epoch 22/100\n",
            "1252/1252 [==============================] - 6s 4ms/step - loss: 0.5240 - acc: 0.7445 - val_loss: 0.5277 - val_acc: 0.7424\n",
            "Epoch 23/100\n",
            "1252/1252 [==============================] - 6s 4ms/step - loss: 0.5241 - acc: 0.7444 - val_loss: 0.5283 - val_acc: 0.7419\n",
            "Epoch 24/100\n",
            "1252/1252 [==============================] - 6s 4ms/step - loss: 0.5241 - acc: 0.7444 - val_loss: 0.5278 - val_acc: 0.7431\n",
            "Epoch 25/100\n",
            "1252/1252 [==============================] - 6s 4ms/step - loss: 0.5240 - acc: 0.7445 - val_loss: 0.5280 - val_acc: 0.7425\n",
            "Epoch 26/100\n",
            "1252/1252 [==============================] - 6s 4ms/step - loss: 0.5240 - acc: 0.7446 - val_loss: 0.5277 - val_acc: 0.7428\n",
            "Epoch 27/100\n",
            "1252/1252 [==============================] - 6s 4ms/step - loss: 0.5240 - acc: 0.7445 - val_loss: 0.5280 - val_acc: 0.7422\n",
            "Epoch 28/100\n",
            "1252/1252 [==============================] - 6s 4ms/step - loss: 0.5240 - acc: 0.7445 - val_loss: 0.5282 - val_acc: 0.7434\n",
            "Epoch 29/100\n",
            "1252/1252 [==============================] - 8s 6ms/step - loss: 0.5240 - acc: 0.7444 - val_loss: 0.5277 - val_acc: 0.7426\n",
            "Epoch 30/100\n",
            "1252/1252 [==============================] - 6s 5ms/step - loss: 0.5239 - acc: 0.7447 - val_loss: 0.5281 - val_acc: 0.7429\n",
            "Epoch 31/100\n",
            "1252/1252 [==============================] - 6s 4ms/step - loss: 0.5239 - acc: 0.7447 - val_loss: 0.5282 - val_acc: 0.7428\n",
            "Epoch 32/100\n",
            "1252/1252 [==============================] - 6s 4ms/step - loss: 0.5240 - acc: 0.7444 - val_loss: 0.5284 - val_acc: 0.7419\n",
            "Epoch 33/100\n",
            "1252/1252 [==============================] - 6s 4ms/step - loss: 0.5239 - acc: 0.7450 - val_loss: 0.5283 - val_acc: 0.7428\n",
            "Epoch 34/100\n",
            "1252/1252 [==============================] - 6s 4ms/step - loss: 0.5238 - acc: 0.7447 - val_loss: 0.5284 - val_acc: 0.7418\n",
            "Epoch 35/100\n",
            "1252/1252 [==============================] - 6s 4ms/step - loss: 0.5239 - acc: 0.7447 - val_loss: 0.5283 - val_acc: 0.7429\n",
            "Epoch 36/100\n",
            "1252/1252 [==============================] - 6s 4ms/step - loss: 0.5239 - acc: 0.7448 - val_loss: 0.5281 - val_acc: 0.7423\n",
            "Epoch 37/100\n",
            "1252/1252 [==============================] - 6s 4ms/step - loss: 0.5239 - acc: 0.7446 - val_loss: 0.5281 - val_acc: 0.7420\n",
            "Epoch 38/100\n",
            "1252/1252 [==============================] - 6s 4ms/step - loss: 0.5239 - acc: 0.7446 - val_loss: 0.5287 - val_acc: 0.7432\n",
            "Epoch 39/100\n",
            "1252/1252 [==============================] - 6s 4ms/step - loss: 0.5238 - acc: 0.7448 - val_loss: 0.5285 - val_acc: 0.7433\n",
            "Epoch 40/100\n",
            "1252/1252 [==============================] - 6s 4ms/step - loss: 0.5239 - acc: 0.7446 - val_loss: 0.5281 - val_acc: 0.7435\n",
            "Epoch 41/100\n",
            "1252/1252 [==============================] - 6s 4ms/step - loss: 0.5239 - acc: 0.7449 - val_loss: 0.5281 - val_acc: 0.7425\n",
            "Epoch 42/100\n",
            "1252/1252 [==============================] - 6s 4ms/step - loss: 0.5239 - acc: 0.7448 - val_loss: 0.5285 - val_acc: 0.7421\n",
            "Epoch 43/100\n",
            "1252/1252 [==============================] - 6s 4ms/step - loss: 0.5239 - acc: 0.7445 - val_loss: 0.5309 - val_acc: 0.7398\n",
            "Epoch 44/100\n",
            "1252/1252 [==============================] - 6s 4ms/step - loss: 0.5239 - acc: 0.7448 - val_loss: 0.5283 - val_acc: 0.7424\n",
            "Epoch 45/100\n",
            "1252/1252 [==============================] - 6s 4ms/step - loss: 0.5239 - acc: 0.7446 - val_loss: 0.5284 - val_acc: 0.7428\n",
            "Epoch 46/100\n",
            "1252/1252 [==============================] - 6s 4ms/step - loss: 0.5239 - acc: 0.7447 - val_loss: 0.5284 - val_acc: 0.7433\n",
            "Epoch 47/100\n",
            "1252/1252 [==============================] - 6s 4ms/step - loss: 0.5239 - acc: 0.7447 - val_loss: 0.5291 - val_acc: 0.7418\n",
            "Epoch 48/100\n",
            "1252/1252 [==============================] - 6s 4ms/step - loss: 0.5239 - acc: 0.7446 - val_loss: 0.5282 - val_acc: 0.7427\n",
            "Epoch 49/100\n",
            "1252/1252 [==============================] - 6s 4ms/step - loss: 0.5239 - acc: 0.7446 - val_loss: 0.5283 - val_acc: 0.7424\n",
            "Epoch 50/100\n",
            "1252/1252 [==============================] - 6s 4ms/step - loss: 0.5239 - acc: 0.7449 - val_loss: 0.5288 - val_acc: 0.7428\n",
            "Epoch 51/100\n",
            "1252/1252 [==============================] - 6s 4ms/step - loss: 0.5239 - acc: 0.7444 - val_loss: 0.5286 - val_acc: 0.7431\n",
            "Epoch 52/100\n",
            "1252/1252 [==============================] - 6s 4ms/step - loss: 0.5240 - acc: 0.7447 - val_loss: 0.5286 - val_acc: 0.7424\n",
            "Epoch 53/100\n",
            "1252/1252 [==============================] - 6s 4ms/step - loss: 0.5239 - acc: 0.7442 - val_loss: 0.5288 - val_acc: 0.7417\n",
            "Epoch 54/100\n",
            "1252/1252 [==============================] - 6s 4ms/step - loss: 0.5238 - acc: 0.7448 - val_loss: 0.5285 - val_acc: 0.7424\n",
            "Epoch 55/100\n",
            "1252/1252 [==============================] - 6s 4ms/step - loss: 0.5240 - acc: 0.7448 - val_loss: 0.5290 - val_acc: 0.7427\n",
            "Epoch 56/100\n",
            "1252/1252 [==============================] - 6s 4ms/step - loss: 0.5238 - acc: 0.7447 - val_loss: 0.5295 - val_acc: 0.7429\n",
            "Epoch 57/100\n",
            "1252/1252 [==============================] - 6s 4ms/step - loss: 0.5238 - acc: 0.7448 - val_loss: 0.5292 - val_acc: 0.7419\n",
            "Epoch 58/100\n",
            "1252/1252 [==============================] - 6s 4ms/step - loss: 0.5238 - acc: 0.7447 - val_loss: 0.5289 - val_acc: 0.7432\n",
            "Epoch 59/100\n",
            "1252/1252 [==============================] - 6s 4ms/step - loss: 0.5238 - acc: 0.7446 - val_loss: 0.5290 - val_acc: 0.7418\n",
            "Epoch 60/100\n",
            "1252/1252 [==============================] - 6s 4ms/step - loss: 0.5239 - acc: 0.7452 - val_loss: 0.5291 - val_acc: 0.7428\n",
            "Epoch 61/100\n",
            "1252/1252 [==============================] - 6s 4ms/step - loss: 0.5239 - acc: 0.7447 - val_loss: 0.5288 - val_acc: 0.7428\n",
            "Epoch 62/100\n",
            "1252/1252 [==============================] - 6s 4ms/step - loss: 0.5239 - acc: 0.7448 - val_loss: 0.5291 - val_acc: 0.7425\n",
            "Epoch 63/100\n",
            "1252/1252 [==============================] - 6s 4ms/step - loss: 0.5238 - acc: 0.7444 - val_loss: 0.5290 - val_acc: 0.7431\n",
            "Epoch 64/100\n",
            "1252/1252 [==============================] - 6s 4ms/step - loss: 0.5238 - acc: 0.7447 - val_loss: 0.5288 - val_acc: 0.7420\n",
            "Epoch 65/100\n",
            "1252/1252 [==============================] - 6s 4ms/step - loss: 0.5238 - acc: 0.7444 - val_loss: 0.5291 - val_acc: 0.7431\n",
            "Epoch 66/100\n",
            "1252/1252 [==============================] - 6s 5ms/step - loss: 0.5239 - acc: 0.7445 - val_loss: 0.5289 - val_acc: 0.7424\n",
            "Epoch 67/100\n",
            "1252/1252 [==============================] - 6s 4ms/step - loss: 0.5238 - acc: 0.7451 - val_loss: 0.5293 - val_acc: 0.7428\n",
            "Epoch 68/100\n",
            "1252/1252 [==============================] - 6s 5ms/step - loss: 0.5239 - acc: 0.7445 - val_loss: 0.5290 - val_acc: 0.7426\n",
            "Epoch 69/100\n",
            "1252/1252 [==============================] - 8s 6ms/step - loss: 0.5238 - acc: 0.7449 - val_loss: 0.5288 - val_acc: 0.7427\n",
            "Epoch 70/100\n",
            "1252/1252 [==============================] - 7s 6ms/step - loss: 0.5238 - acc: 0.7448 - val_loss: 0.5286 - val_acc: 0.7428\n",
            "Epoch 71/100\n",
            "1252/1252 [==============================] - 7s 6ms/step - loss: 0.5238 - acc: 0.7450 - val_loss: 0.5287 - val_acc: 0.7429\n",
            "Epoch 72/100\n",
            "1252/1252 [==============================] - 6s 5ms/step - loss: 0.5238 - acc: 0.7448 - val_loss: 0.5293 - val_acc: 0.7423\n",
            "Epoch 73/100\n",
            "1252/1252 [==============================] - 6s 5ms/step - loss: 0.5238 - acc: 0.7446 - val_loss: 0.5302 - val_acc: 0.7408\n",
            "Epoch 74/100\n",
            "1252/1252 [==============================] - 6s 4ms/step - loss: 0.5238 - acc: 0.7450 - val_loss: 0.5288 - val_acc: 0.7432\n",
            "Epoch 75/100\n",
            "1252/1252 [==============================] - 6s 4ms/step - loss: 0.5238 - acc: 0.7446 - val_loss: 0.5295 - val_acc: 0.7425\n",
            "Epoch 76/100\n",
            "1252/1252 [==============================] - 6s 4ms/step - loss: 0.5238 - acc: 0.7449 - val_loss: 0.5295 - val_acc: 0.7434\n",
            "Epoch 77/100\n",
            "1252/1252 [==============================] - 6s 4ms/step - loss: 0.5238 - acc: 0.7448 - val_loss: 0.5289 - val_acc: 0.7429\n",
            "Epoch 78/100\n",
            "1252/1252 [==============================] - 6s 4ms/step - loss: 0.5239 - acc: 0.7443 - val_loss: 0.5291 - val_acc: 0.7419\n",
            "Epoch 79/100\n",
            "1252/1252 [==============================] - 6s 4ms/step - loss: 0.5238 - acc: 0.7447 - val_loss: 0.5290 - val_acc: 0.7424\n",
            "Epoch 80/100\n",
            "1252/1252 [==============================] - 6s 4ms/step - loss: 0.5238 - acc: 0.7450 - val_loss: 0.5295 - val_acc: 0.7431\n",
            "Epoch 81/100\n",
            "1252/1252 [==============================] - 6s 4ms/step - loss: 0.5238 - acc: 0.7448 - val_loss: 0.5293 - val_acc: 0.7426\n",
            "Epoch 82/100\n",
            "1252/1252 [==============================] - 6s 4ms/step - loss: 0.5238 - acc: 0.7447 - val_loss: 0.5294 - val_acc: 0.7421\n",
            "Epoch 83/100\n",
            "1252/1252 [==============================] - 6s 4ms/step - loss: 0.5239 - acc: 0.7450 - val_loss: 0.5292 - val_acc: 0.7426\n",
            "Epoch 84/100\n",
            "1252/1252 [==============================] - 6s 4ms/step - loss: 0.5239 - acc: 0.7449 - val_loss: 0.5289 - val_acc: 0.7429\n",
            "Epoch 85/100\n",
            "1252/1252 [==============================] - 6s 4ms/step - loss: 0.5238 - acc: 0.7445 - val_loss: 0.5292 - val_acc: 0.7423\n",
            "Epoch 86/100\n",
            "1252/1252 [==============================] - 6s 4ms/step - loss: 0.5238 - acc: 0.7447 - val_loss: 0.5298 - val_acc: 0.7415\n",
            "Epoch 87/100\n",
            "1252/1252 [==============================] - 6s 4ms/step - loss: 0.5237 - acc: 0.7447 - val_loss: 0.5294 - val_acc: 0.7433\n",
            "Epoch 88/100\n",
            "1252/1252 [==============================] - 6s 4ms/step - loss: 0.5239 - acc: 0.7448 - val_loss: 0.5293 - val_acc: 0.7430\n",
            "Epoch 89/100\n",
            "1252/1252 [==============================] - 6s 4ms/step - loss: 0.5237 - acc: 0.7449 - val_loss: 0.5294 - val_acc: 0.7426\n",
            "Epoch 90/100\n",
            "1252/1252 [==============================] - 6s 4ms/step - loss: 0.5237 - acc: 0.7446 - val_loss: 0.5294 - val_acc: 0.7434\n",
            "Epoch 91/100\n",
            "1252/1252 [==============================] - 6s 4ms/step - loss: 0.5238 - acc: 0.7447 - val_loss: 0.5296 - val_acc: 0.7420\n",
            "Epoch 92/100\n",
            "1252/1252 [==============================] - 6s 4ms/step - loss: 0.5239 - acc: 0.7444 - val_loss: 0.5292 - val_acc: 0.7426\n",
            "Epoch 93/100\n",
            "1252/1252 [==============================] - 6s 4ms/step - loss: 0.5238 - acc: 0.7447 - val_loss: 0.5295 - val_acc: 0.7429\n",
            "Epoch 94/100\n",
            "1252/1252 [==============================] - 6s 4ms/step - loss: 0.5238 - acc: 0.7446 - val_loss: 0.5294 - val_acc: 0.7430\n",
            "Epoch 95/100\n",
            "1252/1252 [==============================] - 6s 4ms/step - loss: 0.5238 - acc: 0.7448 - val_loss: 0.5295 - val_acc: 0.7418\n",
            "Epoch 96/100\n",
            "1252/1252 [==============================] - 6s 4ms/step - loss: 0.5238 - acc: 0.7447 - val_loss: 0.5293 - val_acc: 0.7427\n",
            "Epoch 97/100\n",
            "1252/1252 [==============================] - 6s 4ms/step - loss: 0.5238 - acc: 0.7448 - val_loss: 0.5296 - val_acc: 0.7425\n",
            "Epoch 98/100\n",
            "1252/1252 [==============================] - 6s 5ms/step - loss: 0.5238 - acc: 0.7448 - val_loss: 0.5292 - val_acc: 0.7429\n",
            "Epoch 99/100\n",
            "1252/1252 [==============================] - 6s 4ms/step - loss: 0.5237 - acc: 0.7449 - val_loss: 0.5295 - val_acc: 0.7425\n",
            "Epoch 100/100\n",
            "1252/1252 [==============================] - 6s 4ms/step - loss: 0.5239 - acc: 0.7444 - val_loss: 0.5295 - val_acc: 0.7421\n"
          ]
        }
      ],
      "source": [
        "history_lemm_glove = model_lemm_glove.fit(xtrain_lem, \n",
        "                             ytrain,\n",
        "                             validation_data = (xval_lem, yval),\n",
        "                             epochs = epochs,\n",
        "                             batch_size = batch_size,\n",
        "                             verbose = 1)"
      ],
      "id": "1f3923a3"
    },
    {
      "cell_type": "markdown",
      "metadata": {
        "id": "YU8eYa0MIYPv"
      },
      "source": [
        "#### Learning Curve"
      ],
      "id": "YU8eYa0MIYPv"
    },
    {
      "cell_type": "code",
      "execution_count": null,
      "metadata": {
        "id": "R8KOEZpQ_UgK",
        "colab": {
          "base_uri": "https://localhost:8080/"
        },
        "outputId": "f83934ac-2fe2-4f94-b015-6a2b85f18fc8"
      },
      "outputs": [
        {
          "output_type": "display_data",
          "data": {
            "text/plain": [
              "<Figure size 432x288 with 1 Axes>"
            ],
            "image/png": "[encoded data removed]"
          },
          "metadata": {
            "needs_background": "light"
          }
        },
        {
          "output_type": "display_data",
          "data": {
            "text/plain": [
              "<Figure size 432x288 with 1 Axes>"
            ],
            "image/png": "[encoded data removed]"
          },
          "metadata": {
            "needs_background": "light"
          }
        }
      ],
      "source": [
        "history = history_lemm_glove\n",
        "plot_history(history, list(history.history.keys()))"
      ],
      "id": "R8KOEZpQ_UgK"
    },
    {
      "cell_type": "markdown",
      "metadata": {
        "id": "Z5fMr7EDIdq0"
      },
      "source": [
        "#### Evaluation du modèle"
      ],
      "id": "Z5fMr7EDIdq0"
    },
    {
      "cell_type": "code",
      "execution_count": null,
      "metadata": {
        "id": "ICVhDZae_UgL",
        "colab": {
          "base_uri": "https://localhost:8080/"
        },
        "outputId": "c13d777f-655b-4cb0-a525-716e6f7bdf76"
      },
      "outputs": [
        {
          "output_type": "stream",
          "name": "stdout",
          "text": [
            "Loss score 0.53 : \n",
            "Accuracy score: 0.74\n"
          ]
        }
      ],
      "source": [
        "evaluate = model_lemm_glove.evaluate(xval_lem, yval, verbose=0)\n",
        "\n",
        "print('Loss score %.2f : \\nAccuracy score: %.2f'%(evaluate[0], evaluate[1]))"
      ],
      "id": "ICVhDZae_UgL"
    },
    {
      "cell_type": "markdown",
      "metadata": {
        "id": "HuajVNufp6w3"
      },
      "source": [
        "### Amélioration du modèle"
      ],
      "id": "HuajVNufp6w3"
    },
    {
      "cell_type": "code",
      "execution_count": null,
      "metadata": {
        "id": "XOyAVURqp6w4"
      },
      "outputs": [],
      "source": [
        "len_vocab = 154_397 + 1\n",
        "output_dim = 200\n",
        "max_len = 200\n",
        "len_padding = 5\n",
        "embedding_matrix = embedding_matrix_lemm_glove\n",
        "\n",
        "tensorflow.random.set_seed(seed)\n",
        "\n",
        "model_lemm_glove_optimised = Sequential()\n",
        "\n",
        "model_lemm_glove_optimised.add(Embedding(input_dim = len_vocab ,\n",
        "                             output_dim = output_dim,\n",
        "                             embeddings_initializer = keras.initializers.Constant(embedding_matrix),\n",
        "                             input_length = max_len + len_padding,\n",
        "                             trainable = False))\n",
        "model_lemm_glove_optimised.add(GlobalAveragePooling1D())\n",
        "model_lemm_glove_optimised.add(Flatten())\n",
        "model_lemm_glove_optimised.add(Dense(40, activation='relu'))\n",
        "model_lemm_glove_optimised.add(Dropout(0.50))\n",
        "model_lemm_glove_optimised.add(Dense(20, activation='relu'))\n",
        "model_lemm_glove_optimised.add(Dropout(0.5))\n",
        "model_lemm_glove_optimised.add(Dense(1, activation=\"sigmoid\"))\n",
        "model_lemm_glove_optimised.compile(optimizer = 'adam', \n",
        "                       loss = 'binary_crossentropy', \n",
        "                       metrics = ['acc'])"
      ],
      "id": "XOyAVURqp6w4"
    },
    {
      "cell_type": "code",
      "execution_count": null,
      "metadata": {
        "id": "AdPzT7fatvkn",
        "colab": {
          "base_uri": "https://localhost:8080/"
        },
        "outputId": "60eb77a8-9f29-4505-84b7-38b08afc433f"
      },
      "outputs": [
        {
          "output_type": "stream",
          "name": "stdout",
          "text": [
            "Model: \"sequential_3\"\n",
            "_________________________________________________________________\n",
            " Layer (type)                Output Shape              Param #   \n",
            "=================================================================\n",
            " embedding_3 (Embedding)     (None, 205, 200)          30879600  \n",
            "                                                                 \n",
            " global_average_pooling1d_1   (None, 200)              0         \n",
            " (GlobalAveragePooling1D)                                        \n",
            "                                                                 \n",
            " flatten_3 (Flatten)         (None, 200)               0         \n",
            "                                                                 \n",
            " dense_4 (Dense)             (None, 40)                8040      \n",
            "                                                                 \n",
            " dropout_1 (Dropout)         (None, 40)                0         \n",
            "                                                                 \n",
            " dense_5 (Dense)             (None, 20)                820       \n",
            "                                                                 \n",
            " dropout_2 (Dropout)         (None, 20)                0         \n",
            "                                                                 \n",
            " dense_6 (Dense)             (None, 1)                 21        \n",
            "                                                                 \n",
            "=================================================================\n",
            "Total params: 30,888,481\n",
            "Trainable params: 8,881\n",
            "Non-trainable params: 30,879,600\n",
            "_________________________________________________________________\n"
          ]
        }
      ],
      "source": [
        "model_lemm_glove_optimised.summary()"
      ],
      "id": "AdPzT7fatvkn"
    },
    {
      "cell_type": "code",
      "execution_count": null,
      "metadata": {
        "id": "zredNfnkp6w5",
        "colab": {
          "base_uri": "https://localhost:8080/"
        },
        "outputId": "301174df-b593-4a31-9d61-ef7ff42a57e2"
      },
      "outputs": [
        {
          "output_type": "stream",
          "name": "stdout",
          "text": [
            "Epoch 1/100\n",
            "1252/1252 [==============================] - 7s 5ms/step - loss: 0.5675 - acc: 0.7128 - val_loss: 0.5198 - val_acc: 0.7419\n",
            "Epoch 2/100\n",
            "1252/1252 [==============================] - 6s 5ms/step - loss: 0.5349 - acc: 0.7390 - val_loss: 0.5123 - val_acc: 0.7465\n",
            "Epoch 3/100\n",
            "1252/1252 [==============================] - 6s 5ms/step - loss: 0.5313 - acc: 0.7419 - val_loss: 0.5099 - val_acc: 0.7483\n",
            "Epoch 4/100\n",
            "1252/1252 [==============================] - 6s 5ms/step - loss: 0.5287 - acc: 0.7441 - val_loss: 0.5078 - val_acc: 0.7492\n",
            "Epoch 5/100\n",
            "1252/1252 [==============================] - 6s 5ms/step - loss: 0.5274 - acc: 0.7448 - val_loss: 0.5070 - val_acc: 0.7498\n",
            "Epoch 6/100\n",
            "1252/1252 [==============================] - 7s 5ms/step - loss: 0.5255 - acc: 0.7457 - val_loss: 0.5047 - val_acc: 0.7520\n",
            "Epoch 7/100\n",
            "1252/1252 [==============================] - 7s 5ms/step - loss: 0.5246 - acc: 0.7471 - val_loss: 0.5034 - val_acc: 0.7516\n",
            "Epoch 8/100\n",
            "1252/1252 [==============================] - 6s 5ms/step - loss: 0.5234 - acc: 0.7474 - val_loss: 0.5042 - val_acc: 0.7524\n",
            "Epoch 9/100\n",
            "1252/1252 [==============================] - 6s 5ms/step - loss: 0.5223 - acc: 0.7476 - val_loss: 0.5016 - val_acc: 0.7529\n",
            "Epoch 10/100\n",
            "1252/1252 [==============================] - 7s 6ms/step - loss: 0.5220 - acc: 0.7483 - val_loss: 0.5028 - val_acc: 0.7527\n",
            "Epoch 11/100\n",
            "1252/1252 [==============================] - 7s 6ms/step - loss: 0.5218 - acc: 0.7483 - val_loss: 0.5021 - val_acc: 0.7531\n",
            "Epoch 12/100\n",
            "1252/1252 [==============================] - 7s 6ms/step - loss: 0.5214 - acc: 0.7484 - val_loss: 0.5020 - val_acc: 0.7544\n",
            "Epoch 13/100\n",
            "1252/1252 [==============================] - 7s 6ms/step - loss: 0.5207 - acc: 0.7496 - val_loss: 0.5014 - val_acc: 0.7540\n",
            "Epoch 14/100\n",
            "1252/1252 [==============================] - 6s 5ms/step - loss: 0.5203 - acc: 0.7493 - val_loss: 0.5011 - val_acc: 0.7539\n",
            "Epoch 15/100\n",
            "1252/1252 [==============================] - 7s 6ms/step - loss: 0.5207 - acc: 0.7495 - val_loss: 0.4999 - val_acc: 0.7544\n",
            "Epoch 16/100\n",
            "1252/1252 [==============================] - 7s 6ms/step - loss: 0.5195 - acc: 0.7502 - val_loss: 0.4993 - val_acc: 0.7545\n",
            "Epoch 17/100\n",
            "1252/1252 [==============================] - 6s 5ms/step - loss: 0.5192 - acc: 0.7500 - val_loss: 0.5001 - val_acc: 0.7548\n",
            "Epoch 18/100\n",
            "1252/1252 [==============================] - 7s 6ms/step - loss: 0.5193 - acc: 0.7502 - val_loss: 0.4990 - val_acc: 0.7543\n",
            "Epoch 19/100\n",
            "1252/1252 [==============================] - 6s 5ms/step - loss: 0.5193 - acc: 0.7506 - val_loss: 0.4991 - val_acc: 0.7548\n",
            "Epoch 20/100\n",
            "1252/1252 [==============================] - 6s 5ms/step - loss: 0.5188 - acc: 0.7503 - val_loss: 0.4983 - val_acc: 0.7555\n",
            "Epoch 21/100\n",
            "1252/1252 [==============================] - 7s 6ms/step - loss: 0.5184 - acc: 0.7509 - val_loss: 0.4990 - val_acc: 0.7553\n",
            "Epoch 22/100\n",
            "1252/1252 [==============================] - 7s 6ms/step - loss: 0.5187 - acc: 0.7509 - val_loss: 0.4985 - val_acc: 0.7556\n",
            "Epoch 23/100\n",
            "1252/1252 [==============================] - 7s 6ms/step - loss: 0.5183 - acc: 0.7508 - val_loss: 0.4977 - val_acc: 0.7554\n",
            "Epoch 24/100\n",
            "1252/1252 [==============================] - 6s 5ms/step - loss: 0.5183 - acc: 0.7512 - val_loss: 0.4993 - val_acc: 0.7550\n",
            "Epoch 25/100\n",
            "1252/1252 [==============================] - 7s 6ms/step - loss: 0.5178 - acc: 0.7508 - val_loss: 0.4983 - val_acc: 0.7558\n",
            "Epoch 26/100\n",
            "1252/1252 [==============================] - 7s 6ms/step - loss: 0.5173 - acc: 0.7513 - val_loss: 0.4974 - val_acc: 0.7556\n",
            "Epoch 27/100\n",
            "1252/1252 [==============================] - 7s 6ms/step - loss: 0.5176 - acc: 0.7513 - val_loss: 0.4981 - val_acc: 0.7558\n",
            "Epoch 28/100\n",
            "1252/1252 [==============================] - 6s 5ms/step - loss: 0.5177 - acc: 0.7513 - val_loss: 0.4983 - val_acc: 0.7568\n",
            "Epoch 29/100\n",
            "1252/1252 [==============================] - 7s 6ms/step - loss: 0.5174 - acc: 0.7512 - val_loss: 0.4981 - val_acc: 0.7557\n",
            "Epoch 30/100\n",
            "1252/1252 [==============================] - 6s 5ms/step - loss: 0.5173 - acc: 0.7515 - val_loss: 0.4975 - val_acc: 0.7564\n",
            "Epoch 31/100\n",
            "1252/1252 [==============================] - 6s 5ms/step - loss: 0.5174 - acc: 0.7518 - val_loss: 0.4970 - val_acc: 0.7559\n",
            "Epoch 32/100\n",
            "1252/1252 [==============================] - 6s 5ms/step - loss: 0.5173 - acc: 0.7517 - val_loss: 0.4967 - val_acc: 0.7568\n",
            "Epoch 33/100\n",
            "1252/1252 [==============================] - 7s 6ms/step - loss: 0.5165 - acc: 0.7525 - val_loss: 0.4973 - val_acc: 0.7567\n",
            "Epoch 34/100\n",
            "1252/1252 [==============================] - 6s 5ms/step - loss: 0.5166 - acc: 0.7518 - val_loss: 0.4968 - val_acc: 0.7563\n",
            "Epoch 35/100\n",
            "1252/1252 [==============================] - 6s 5ms/step - loss: 0.5169 - acc: 0.7518 - val_loss: 0.4975 - val_acc: 0.7561\n",
            "Epoch 36/100\n",
            "1252/1252 [==============================] - 7s 6ms/step - loss: 0.5169 - acc: 0.7519 - val_loss: 0.4976 - val_acc: 0.7568\n",
            "Epoch 37/100\n",
            "1252/1252 [==============================] - 6s 5ms/step - loss: 0.5167 - acc: 0.7520 - val_loss: 0.4977 - val_acc: 0.7566\n",
            "Epoch 38/100\n",
            "1252/1252 [==============================] - 6s 5ms/step - loss: 0.5168 - acc: 0.7520 - val_loss: 0.4964 - val_acc: 0.7564\n",
            "Epoch 39/100\n",
            "1252/1252 [==============================] - 8s 6ms/step - loss: 0.5164 - acc: 0.7519 - val_loss: 0.4972 - val_acc: 0.7571\n",
            "Epoch 40/100\n",
            "1252/1252 [==============================] - 8s 6ms/step - loss: 0.5164 - acc: 0.7520 - val_loss: 0.4971 - val_acc: 0.7555\n",
            "Epoch 41/100\n",
            "1252/1252 [==============================] - 6s 5ms/step - loss: 0.5161 - acc: 0.7525 - val_loss: 0.4964 - val_acc: 0.7564\n",
            "Epoch 42/100\n",
            "1252/1252 [==============================] - 7s 6ms/step - loss: 0.5166 - acc: 0.7520 - val_loss: 0.4971 - val_acc: 0.7573\n",
            "Epoch 43/100\n",
            "1252/1252 [==============================] - 7s 6ms/step - loss: 0.5165 - acc: 0.7521 - val_loss: 0.4981 - val_acc: 0.7557\n",
            "Epoch 44/100\n",
            "1252/1252 [==============================] - 7s 6ms/step - loss: 0.5156 - acc: 0.7524 - val_loss: 0.4969 - val_acc: 0.7571\n",
            "Epoch 45/100\n",
            "1252/1252 [==============================] - 6s 5ms/step - loss: 0.5157 - acc: 0.7525 - val_loss: 0.4960 - val_acc: 0.7574\n",
            "Epoch 46/100\n",
            "1252/1252 [==============================] - 7s 6ms/step - loss: 0.5156 - acc: 0.7523 - val_loss: 0.4965 - val_acc: 0.7566\n",
            "Epoch 47/100\n",
            "1252/1252 [==============================] - 6s 5ms/step - loss: 0.5152 - acc: 0.7525 - val_loss: 0.4962 - val_acc: 0.7567\n",
            "Epoch 48/100\n",
            "1252/1252 [==============================] - 7s 6ms/step - loss: 0.5152 - acc: 0.7522 - val_loss: 0.4954 - val_acc: 0.7569\n",
            "Epoch 49/100\n",
            "1252/1252 [==============================] - 6s 5ms/step - loss: 0.5150 - acc: 0.7526 - val_loss: 0.4967 - val_acc: 0.7570\n",
            "Epoch 50/100\n",
            "1252/1252 [==============================] - 7s 6ms/step - loss: 0.5151 - acc: 0.7526 - val_loss: 0.4960 - val_acc: 0.7564\n",
            "Epoch 51/100\n",
            "1252/1252 [==============================] - 6s 5ms/step - loss: 0.5148 - acc: 0.7523 - val_loss: 0.4960 - val_acc: 0.7574\n",
            "Epoch 52/100\n",
            "1252/1252 [==============================] - 7s 6ms/step - loss: 0.5152 - acc: 0.7524 - val_loss: 0.4955 - val_acc: 0.7574\n",
            "Epoch 53/100\n",
            "1252/1252 [==============================] - 6s 5ms/step - loss: 0.5147 - acc: 0.7525 - val_loss: 0.4959 - val_acc: 0.7577\n",
            "Epoch 54/100\n",
            "1252/1252 [==============================] - 6s 5ms/step - loss: 0.5151 - acc: 0.7527 - val_loss: 0.4966 - val_acc: 0.7564\n",
            "Epoch 55/100\n",
            "1252/1252 [==============================] - 7s 6ms/step - loss: 0.5151 - acc: 0.7525 - val_loss: 0.4960 - val_acc: 0.7574\n",
            "Epoch 56/100\n",
            "1252/1252 [==============================] - 6s 5ms/step - loss: 0.5150 - acc: 0.7526 - val_loss: 0.4965 - val_acc: 0.7564\n",
            "Epoch 57/100\n",
            "1252/1252 [==============================] - 6s 5ms/step - loss: 0.5151 - acc: 0.7525 - val_loss: 0.4958 - val_acc: 0.7570\n",
            "Epoch 58/100\n",
            "1252/1252 [==============================] - 7s 6ms/step - loss: 0.5147 - acc: 0.7529 - val_loss: 0.4962 - val_acc: 0.7574\n",
            "Epoch 59/100\n",
            "1252/1252 [==============================] - 6s 5ms/step - loss: 0.5142 - acc: 0.7527 - val_loss: 0.4955 - val_acc: 0.7568\n",
            "Epoch 60/100\n",
            "1252/1252 [==============================] - 8s 6ms/step - loss: 0.5146 - acc: 0.7527 - val_loss: 0.4958 - val_acc: 0.7568\n",
            "Epoch 61/100\n",
            "1252/1252 [==============================] - 7s 6ms/step - loss: 0.5140 - acc: 0.7529 - val_loss: 0.4962 - val_acc: 0.7567\n",
            "Epoch 62/100\n",
            "1252/1252 [==============================] - 7s 6ms/step - loss: 0.5144 - acc: 0.7525 - val_loss: 0.4958 - val_acc: 0.7573\n",
            "Epoch 63/100\n",
            "1252/1252 [==============================] - 7s 6ms/step - loss: 0.5146 - acc: 0.7529 - val_loss: 0.4956 - val_acc: 0.7571\n",
            "Epoch 64/100\n",
            "1252/1252 [==============================] - 7s 6ms/step - loss: 0.5150 - acc: 0.7529 - val_loss: 0.4958 - val_acc: 0.7570\n",
            "Epoch 65/100\n",
            "1252/1252 [==============================] - 7s 6ms/step - loss: 0.5141 - acc: 0.7531 - val_loss: 0.4959 - val_acc: 0.7574\n",
            "Epoch 66/100\n",
            "1252/1252 [==============================] - 6s 5ms/step - loss: 0.5142 - acc: 0.7531 - val_loss: 0.4952 - val_acc: 0.7575\n",
            "Epoch 67/100\n",
            "1252/1252 [==============================] - 7s 6ms/step - loss: 0.5146 - acc: 0.7528 - val_loss: 0.4950 - val_acc: 0.7574\n",
            "Epoch 68/100\n",
            "1252/1252 [==============================] - 7s 6ms/step - loss: 0.5143 - acc: 0.7536 - val_loss: 0.4953 - val_acc: 0.7573\n",
            "Epoch 69/100\n",
            "1252/1252 [==============================] - 7s 6ms/step - loss: 0.5144 - acc: 0.7528 - val_loss: 0.4957 - val_acc: 0.7572\n",
            "Epoch 70/100\n",
            "1252/1252 [==============================] - 6s 5ms/step - loss: 0.5141 - acc: 0.7527 - val_loss: 0.4952 - val_acc: 0.7579\n",
            "Epoch 71/100\n",
            "1252/1252 [==============================] - 7s 6ms/step - loss: 0.5144 - acc: 0.7525 - val_loss: 0.4952 - val_acc: 0.7576\n",
            "Epoch 72/100\n",
            "1252/1252 [==============================] - 8s 6ms/step - loss: 0.5142 - acc: 0.7534 - val_loss: 0.4964 - val_acc: 0.7569\n",
            "Epoch 73/100\n",
            "1252/1252 [==============================] - 8s 6ms/step - loss: 0.5143 - acc: 0.7528 - val_loss: 0.4954 - val_acc: 0.7580\n",
            "Epoch 74/100\n",
            "1252/1252 [==============================] - 6s 5ms/step - loss: 0.5143 - acc: 0.7530 - val_loss: 0.4948 - val_acc: 0.7574\n",
            "Epoch 75/100\n",
            "1252/1252 [==============================] - 7s 6ms/step - loss: 0.5141 - acc: 0.7531 - val_loss: 0.4954 - val_acc: 0.7581\n",
            "Epoch 76/100\n",
            "1252/1252 [==============================] - 7s 6ms/step - loss: 0.5140 - acc: 0.7532 - val_loss: 0.4951 - val_acc: 0.7572\n",
            "Epoch 77/100\n",
            "1252/1252 [==============================] - 7s 6ms/step - loss: 0.5140 - acc: 0.7528 - val_loss: 0.4948 - val_acc: 0.7574\n",
            "Epoch 78/100\n",
            "1252/1252 [==============================] - 6s 5ms/step - loss: 0.5142 - acc: 0.7528 - val_loss: 0.4959 - val_acc: 0.7577\n",
            "Epoch 79/100\n",
            "1252/1252 [==============================] - 7s 6ms/step - loss: 0.5140 - acc: 0.7534 - val_loss: 0.4956 - val_acc: 0.7577\n",
            "Epoch 80/100\n",
            "1252/1252 [==============================] - 7s 6ms/step - loss: 0.5141 - acc: 0.7531 - val_loss: 0.4948 - val_acc: 0.7578\n",
            "Epoch 81/100\n",
            "1252/1252 [==============================] - 6s 5ms/step - loss: 0.5141 - acc: 0.7535 - val_loss: 0.4954 - val_acc: 0.7570\n",
            "Epoch 82/100\n",
            "1252/1252 [==============================] - 6s 5ms/step - loss: 0.5140 - acc: 0.7533 - val_loss: 0.4952 - val_acc: 0.7580\n",
            "Epoch 83/100\n",
            "1252/1252 [==============================] - 6s 5ms/step - loss: 0.5140 - acc: 0.7530 - val_loss: 0.4955 - val_acc: 0.7578\n",
            "Epoch 84/100\n",
            "1252/1252 [==============================] - 6s 5ms/step - loss: 0.5137 - acc: 0.7534 - val_loss: 0.4950 - val_acc: 0.7576\n",
            "Epoch 85/100\n",
            "1252/1252 [==============================] - 6s 5ms/step - loss: 0.5136 - acc: 0.7533 - val_loss: 0.4945 - val_acc: 0.7580\n",
            "Epoch 86/100\n",
            "1252/1252 [==============================] - 6s 5ms/step - loss: 0.5138 - acc: 0.7529 - val_loss: 0.4949 - val_acc: 0.7581\n",
            "Epoch 87/100\n",
            "1252/1252 [==============================] - 6s 5ms/step - loss: 0.5135 - acc: 0.7531 - val_loss: 0.4953 - val_acc: 0.7570\n",
            "Epoch 88/100\n",
            "1252/1252 [==============================] - 6s 5ms/step - loss: 0.5144 - acc: 0.7531 - val_loss: 0.4953 - val_acc: 0.7576\n",
            "Epoch 89/100\n",
            "1252/1252 [==============================] - 7s 6ms/step - loss: 0.5139 - acc: 0.7536 - val_loss: 0.4945 - val_acc: 0.7578\n",
            "Epoch 90/100\n",
            "1252/1252 [==============================] - 7s 6ms/step - loss: 0.5135 - acc: 0.7536 - val_loss: 0.4947 - val_acc: 0.7576\n",
            "Epoch 91/100\n",
            "1252/1252 [==============================] - 7s 6ms/step - loss: 0.5139 - acc: 0.7532 - val_loss: 0.4946 - val_acc: 0.7580\n",
            "Epoch 92/100\n",
            "1252/1252 [==============================] - 7s 6ms/step - loss: 0.5138 - acc: 0.7533 - val_loss: 0.4956 - val_acc: 0.7580\n",
            "Epoch 93/100\n",
            "1252/1252 [==============================] - 6s 5ms/step - loss: 0.5136 - acc: 0.7530 - val_loss: 0.4954 - val_acc: 0.7573\n",
            "Epoch 94/100\n",
            "1252/1252 [==============================] - 7s 6ms/step - loss: 0.5135 - acc: 0.7531 - val_loss: 0.4953 - val_acc: 0.7576\n",
            "Epoch 95/100\n",
            "1252/1252 [==============================] - 7s 6ms/step - loss: 0.5134 - acc: 0.7534 - val_loss: 0.4949 - val_acc: 0.7575\n",
            "Epoch 96/100\n",
            "1252/1252 [==============================] - 8s 6ms/step - loss: 0.5134 - acc: 0.7538 - val_loss: 0.4950 - val_acc: 0.7577\n",
            "Epoch 97/100\n",
            "1252/1252 [==============================] - 6s 5ms/step - loss: 0.5136 - acc: 0.7536 - val_loss: 0.4948 - val_acc: 0.7574\n",
            "Epoch 98/100\n",
            "1252/1252 [==============================] - 6s 5ms/step - loss: 0.5137 - acc: 0.7534 - val_loss: 0.4951 - val_acc: 0.7582\n",
            "Epoch 99/100\n",
            "1252/1252 [==============================] - 7s 6ms/step - loss: 0.5142 - acc: 0.7536 - val_loss: 0.4950 - val_acc: 0.7578\n",
            "Epoch 100/100\n",
            "1252/1252 [==============================] - 7s 6ms/step - loss: 0.5137 - acc: 0.7535 - val_loss: 0.4954 - val_acc: 0.7571\n"
          ]
        }
      ],
      "source": [
        "t0 = time()\n",
        "history_lemm_glove_optimised = model_lemm_glove_optimised.fit(xtrain_lem, \n",
        "                             ytrain,\n",
        "                             validation_data = (xval_lem, yval),\n",
        "                             epochs = epochs,\n",
        "                             batch_size = batch_size,\n",
        "                             verbose = 1)\n",
        "\n",
        "t_lemm_glove_optimised = time() - t0"
      ],
      "id": "zredNfnkp6w5"
    },
    {
      "cell_type": "markdown",
      "metadata": {
        "id": "XUB_GUy4ImUV"
      },
      "source": [
        "#### Learning Curve"
      ],
      "id": "XUB_GUy4ImUV"
    },
    {
      "cell_type": "code",
      "execution_count": null,
      "metadata": {
        "id": "MzcpHhd6p6w5",
        "colab": {
          "base_uri": "https://localhost:8080/"
        },
        "outputId": "bd904b37-8268-4d92-9108-75180e5e9b81"
      },
      "outputs": [
        {
          "output_type": "display_data",
          "data": {
            "text/plain": [
              "<Figure size 432x288 with 1 Axes>"
            ],
            "image/png": "[encoded data removed]"
          },
          "metadata": {
            "needs_background": "light"
          }
        },
        {
          "output_type": "display_data",
          "data": {
            "text/plain": [
              "<Figure size 432x288 with 1 Axes>"
            ],
            "image/png": "[encoded data removed]"
          },
          "metadata": {
            "needs_background": "light"
          }
        }
      ],
      "source": [
        "history = history_lemm_glove_optimised\n",
        "plot_history(history, list(history.history.keys()))"
      ],
      "id": "MzcpHhd6p6w5"
    },
    {
      "cell_type": "markdown",
      "metadata": {
        "id": "B6z1yHwXIshg"
      },
      "source": [
        "#### Evaluation du modèle"
      ],
      "id": "B6z1yHwXIshg"
    },
    {
      "cell_type": "code",
      "execution_count": null,
      "metadata": {
        "id": "OlNUSFSmp6w5",
        "colab": {
          "base_uri": "https://localhost:8080/"
        },
        "outputId": "8b7a4bf7-4d49-440b-af36-8727e5947dda"
      },
      "outputs": [
        {
          "output_type": "stream",
          "name": "stdout",
          "text": [
            "Loss score 0.50 : \n",
            "Accuracy score: 0.76\n"
          ]
        }
      ],
      "source": [
        "evaluate = model_lemm_glove_optimised.evaluate(xval_lem, yval, verbose=0)\n",
        "\n",
        "print('Loss score %.2f : \\nAccuracy score: %.2f'%(evaluate[0], evaluate[1]))"
      ],
      "id": "OlNUSFSmp6w5"
    },
    {
      "cell_type": "markdown",
      "metadata": {
        "id": "PF74kmf20-Sp"
      },
      "source": [
        "#### Sauvegarde du modèle"
      ],
      "id": "PF74kmf20-Sp"
    },
    {
      "cell_type": "code",
      "execution_count": null,
      "metadata": {
        "id": "lkmz7hdCp6w5"
      },
      "outputs": [],
      "source": [
        "# saving model\n",
        "\n",
        "model_lemm_glove_optimised.save(path + 'models/model_lemm_glove')"
      ],
      "id": "lkmz7hdCp6w5"
    },
    {
      "cell_type": "markdown",
      "metadata": {
        "id": "CayR_uXpp6w6"
      },
      "source": [
        "<a href=\"##sommaire\" rev=\"footnote\">&#8617;</a>"
      ],
      "id": "CayR_uXpp6w6"
    },
    {
      "cell_type": "markdown",
      "metadata": {
        "id": "628c21ca"
      },
      "source": [
        "## Nettoyage avec stemming et vectorisation avec Word2Vec <a class=\"anchor\" id=\"30\"></a>"
      ],
      "id": "628c21ca"
    },
    {
      "cell_type": "code",
      "execution_count": null,
      "metadata": {
        "id": "vQrv9os4YElQ"
      },
      "outputs": [],
      "source": [
        "tk_stem = Tokenizer()\n",
        "tk_stem.fit_on_texts(train_stem)"
      ],
      "id": "vQrv9os4YElQ"
    },
    {
      "cell_type": "code",
      "execution_count": null,
      "metadata": {
        "id": "H1LQVuF2YlmF",
        "colab": {
          "base_uri": "https://localhost:8080/"
        },
        "outputId": "5a4db9c2-2ac3-4cd7-8253-4ac479111424"
      },
      "outputs": [
        {
          "output_type": "execute_result",
          "data": {
            "text/plain": [
              "138807"
            ]
          },
          "metadata": {},
          "execution_count": 57
        }
      ],
      "source": [
        "len(tk_stem.index_word)"
      ],
      "id": "H1LQVuF2YlmF"
    },
    {
      "cell_type": "code",
      "execution_count": null,
      "metadata": {
        "id": "ENDt-f9PFAl4",
        "colab": {
          "base_uri": "https://localhost:8080/"
        },
        "outputId": "ffbdb1c5-40e9-4684-fd2c-44ff23209c9a"
      },
      "outputs": [
        {
          "output_type": "stream",
          "name": "stdout",
          "text": [
            "Fit Tokenizer ...\n",
            "Create Embedding matrix ...\n",
            "Word embedding rate :  0.8831\n",
            "Embedding matrix shape:  (138808, 200)\n"
          ]
        }
      ],
      "source": [
        "size = 200\n",
        "embedding_matrix_stem_w2v = build_embedding_matrix(train_stem, \n",
        "                                                  model_vectors = w2v_vectors_stem, \n",
        "                                                  size = size)['Embedding_matrix']"
      ],
      "id": "ENDt-f9PFAl4"
    },
    {
      "cell_type": "code",
      "execution_count": null,
      "metadata": {
        "id": "88445ba8",
        "colab": {
          "base_uri": "https://localhost:8080/"
        },
        "outputId": "523f8bdd-a92e-4cde-dfcf-2b3799c0c734"
      },
      "outputs": [
        {
          "output_type": "stream",
          "name": "stdout",
          "text": [
            "Préparing the train set : \n",
            "Len vocab : 154397\n",
            "Len tweets : 625617\n",
            "Done! \n",
            "\n",
            "Préparing the validation set : \n",
            "Len vocab : 154397\n",
            "Len tweets : 268092\n",
            "Done! \n",
            "\n",
            "Préparing the validation set : \n",
            "Len vocab : 154397\n",
            "Len tweets : 99333\n",
            "Done! \n",
            "\n"
          ]
        }
      ],
      "source": [
        "xtrain_stem = prepare_data(train_stem, tokenizer=tk_stem, \n",
        "                           pprint='Préparing the train set : ')\n",
        "\n",
        "xval_stem = prepare_data(val_stem, tokenizer=tk_stem, \n",
        "                         pprint='Préparing the validation set : ')\n",
        "\n",
        "xtest_stem = prepare_data(test_stem, tokenizer=tk_stem, \n",
        "                         pprint='Préparing the validation set : ')"
      ],
      "id": "88445ba8"
    },
    {
      "cell_type": "code",
      "execution_count": null,
      "metadata": {
        "id": "g9x6KU7ekYEj"
      },
      "outputs": [],
      "source": [
        "# Save test input\n",
        "np.save(path + 'test_input/xtest_stem.npy', xtest_stem)"
      ],
      "id": "g9x6KU7ekYEj"
    },
    {
      "cell_type": "markdown",
      "metadata": {
        "id": "Yz5Mahz4XZwe"
      },
      "source": [
        "### Baseline"
      ],
      "id": "Yz5Mahz4XZwe"
    },
    {
      "cell_type": "code",
      "execution_count": null,
      "metadata": {
        "id": "CVFnS7jnAWnd",
        "colab": {
          "base_uri": "https://localhost:8080/"
        },
        "outputId": "9391f266-0a9b-4822-99f5-a4f1277f8ffb"
      },
      "outputs": [
        {
          "output_type": "stream",
          "name": "stdout",
          "text": [
            "Model: \"sequential_4\"\n",
            "_________________________________________________________________\n",
            " Layer (type)                Output Shape              Param #   \n",
            "=================================================================\n",
            " embedding_4 (Embedding)     (None, 205, 200)          27761600  \n",
            "                                                                 \n",
            " flatten_4 (Flatten)         (None, 41000)             0         \n",
            "                                                                 \n",
            " dense_7 (Dense)             (None, 1)                 41001     \n",
            "                                                                 \n",
            "=================================================================\n",
            "Total params: 27,802,601\n",
            "Trainable params: 41,001\n",
            "Non-trainable params: 27,761,600\n",
            "_________________________________________________________________\n"
          ]
        }
      ],
      "source": [
        "embedding_matrix = embedding_matrix_stem_w2v\n",
        "model_stem_w2v = model_embedding(embedding_matrix=embedding_matrix, \n",
        "                                 len_vocab = 138807+1)\n",
        "\n",
        "model_stem_w2v.summary()"
      ],
      "id": "CVFnS7jnAWnd"
    },
    {
      "cell_type": "code",
      "execution_count": null,
      "metadata": {
        "id": "f0XbM7yDAWne",
        "scrolled": true,
        "colab": {
          "base_uri": "https://localhost:8080/"
        },
        "outputId": "eb53d9e2-0733-4cb6-e8b1-7016993569bd"
      },
      "outputs": [
        {
          "output_type": "stream",
          "name": "stdout",
          "text": [
            "Epoch 1/100\n",
            "1252/1252 [==============================] - 6s 5ms/step - loss: 0.5333 - acc: 0.7402 - val_loss: 0.5277 - val_acc: 0.7438\n",
            "Epoch 2/100\n",
            "1252/1252 [==============================] - 6s 5ms/step - loss: 0.5275 - acc: 0.7450 - val_loss: 0.5258 - val_acc: 0.7443\n",
            "Epoch 3/100\n",
            "1252/1252 [==============================] - 6s 5ms/step - loss: 0.5271 - acc: 0.7458 - val_loss: 0.5280 - val_acc: 0.7435\n",
            "Epoch 4/100\n",
            "1252/1252 [==============================] - 6s 4ms/step - loss: 0.5271 - acc: 0.7450 - val_loss: 0.5272 - val_acc: 0.7447\n",
            "Epoch 5/100\n",
            "1252/1252 [==============================] - 6s 4ms/step - loss: 0.5270 - acc: 0.7455 - val_loss: 0.5264 - val_acc: 0.7446\n",
            "Epoch 6/100\n",
            "1252/1252 [==============================] - 6s 4ms/step - loss: 0.5268 - acc: 0.7453 - val_loss: 0.5281 - val_acc: 0.7436\n",
            "Epoch 7/100\n",
            "1252/1252 [==============================] - 7s 6ms/step - loss: 0.5267 - acc: 0.7456 - val_loss: 0.5265 - val_acc: 0.7451\n",
            "Epoch 8/100\n",
            "1252/1252 [==============================] - 6s 5ms/step - loss: 0.5268 - acc: 0.7455 - val_loss: 0.5319 - val_acc: 0.7425\n",
            "Epoch 9/100\n",
            "1252/1252 [==============================] - 6s 4ms/step - loss: 0.5266 - acc: 0.7452 - val_loss: 0.5266 - val_acc: 0.7440\n",
            "Epoch 10/100\n",
            "1252/1252 [==============================] - 6s 4ms/step - loss: 0.5266 - acc: 0.7455 - val_loss: 0.5277 - val_acc: 0.7447\n",
            "Epoch 11/100\n",
            "1252/1252 [==============================] - 6s 5ms/step - loss: 0.5267 - acc: 0.7456 - val_loss: 0.5276 - val_acc: 0.7432\n",
            "Epoch 12/100\n",
            "1252/1252 [==============================] - 6s 5ms/step - loss: 0.5265 - acc: 0.7460 - val_loss: 0.5310 - val_acc: 0.7417\n",
            "Epoch 13/100\n",
            "1252/1252 [==============================] - 7s 6ms/step - loss: 0.5265 - acc: 0.7460 - val_loss: 0.5274 - val_acc: 0.7445\n",
            "Epoch 14/100\n",
            "1252/1252 [==============================] - 8s 6ms/step - loss: 0.5264 - acc: 0.7459 - val_loss: 0.5282 - val_acc: 0.7446\n",
            "Epoch 15/100\n",
            "1252/1252 [==============================] - 6s 5ms/step - loss: 0.5264 - acc: 0.7457 - val_loss: 0.5266 - val_acc: 0.7450\n",
            "Epoch 16/100\n",
            "1252/1252 [==============================] - 6s 4ms/step - loss: 0.5264 - acc: 0.7457 - val_loss: 0.5268 - val_acc: 0.7458\n",
            "Epoch 17/100\n",
            "1252/1252 [==============================] - 6s 5ms/step - loss: 0.5265 - acc: 0.7455 - val_loss: 0.5279 - val_acc: 0.7444\n",
            "Epoch 18/100\n",
            "1252/1252 [==============================] - 6s 4ms/step - loss: 0.5264 - acc: 0.7461 - val_loss: 0.5281 - val_acc: 0.7439\n",
            "Epoch 19/100\n",
            "1252/1252 [==============================] - 6s 4ms/step - loss: 0.5264 - acc: 0.7455 - val_loss: 0.5299 - val_acc: 0.7440\n",
            "Epoch 20/100\n",
            "1252/1252 [==============================] - 6s 4ms/step - loss: 0.5265 - acc: 0.7461 - val_loss: 0.5282 - val_acc: 0.7458\n",
            "Epoch 21/100\n",
            "1252/1252 [==============================] - 6s 5ms/step - loss: 0.5263 - acc: 0.7460 - val_loss: 0.5276 - val_acc: 0.7446\n",
            "Epoch 22/100\n",
            "1252/1252 [==============================] - 6s 4ms/step - loss: 0.5262 - acc: 0.7463 - val_loss: 0.5288 - val_acc: 0.7435\n",
            "Epoch 23/100\n",
            "1252/1252 [==============================] - 6s 4ms/step - loss: 0.5264 - acc: 0.7459 - val_loss: 0.5289 - val_acc: 0.7448\n",
            "Epoch 24/100\n",
            "1252/1252 [==============================] - 6s 4ms/step - loss: 0.5265 - acc: 0.7459 - val_loss: 0.5302 - val_acc: 0.7435\n",
            "Epoch 25/100\n",
            "1252/1252 [==============================] - 6s 5ms/step - loss: 0.5264 - acc: 0.7461 - val_loss: 0.5295 - val_acc: 0.7433\n",
            "Epoch 26/100\n",
            "1252/1252 [==============================] - 6s 5ms/step - loss: 0.5265 - acc: 0.7458 - val_loss: 0.5284 - val_acc: 0.7442\n",
            "Epoch 27/100\n",
            "1252/1252 [==============================] - 6s 5ms/step - loss: 0.5264 - acc: 0.7463 - val_loss: 0.5295 - val_acc: 0.7436\n",
            "Epoch 28/100\n",
            "1252/1252 [==============================] - 6s 5ms/step - loss: 0.5263 - acc: 0.7457 - val_loss: 0.5288 - val_acc: 0.7443\n",
            "Epoch 29/100\n",
            "1252/1252 [==============================] - 6s 5ms/step - loss: 0.5266 - acc: 0.7458 - val_loss: 0.5282 - val_acc: 0.7451\n",
            "Epoch 30/100\n",
            "1252/1252 [==============================] - 6s 4ms/step - loss: 0.5263 - acc: 0.7455 - val_loss: 0.5310 - val_acc: 0.7439\n",
            "Epoch 31/100\n",
            "1252/1252 [==============================] - 6s 4ms/step - loss: 0.5262 - acc: 0.7462 - val_loss: 0.5285 - val_acc: 0.7441\n",
            "Epoch 32/100\n",
            "1252/1252 [==============================] - 6s 5ms/step - loss: 0.5264 - acc: 0.7460 - val_loss: 0.5285 - val_acc: 0.7444\n",
            "Epoch 33/100\n",
            "1252/1252 [==============================] - 6s 5ms/step - loss: 0.5262 - acc: 0.7461 - val_loss: 0.5283 - val_acc: 0.7446\n",
            "Epoch 34/100\n",
            "1252/1252 [==============================] - 6s 5ms/step - loss: 0.5262 - acc: 0.7461 - val_loss: 0.5291 - val_acc: 0.7443\n",
            "Epoch 35/100\n",
            "1252/1252 [==============================] - 7s 6ms/step - loss: 0.5262 - acc: 0.7459 - val_loss: 0.5288 - val_acc: 0.7435\n",
            "Epoch 36/100\n",
            "1252/1252 [==============================] - 6s 5ms/step - loss: 0.5262 - acc: 0.7461 - val_loss: 0.5288 - val_acc: 0.7438\n",
            "Epoch 37/100\n",
            "1252/1252 [==============================] - 6s 4ms/step - loss: 0.5264 - acc: 0.7457 - val_loss: 0.5294 - val_acc: 0.7430\n",
            "Epoch 38/100\n",
            "1252/1252 [==============================] - 6s 5ms/step - loss: 0.5265 - acc: 0.7460 - val_loss: 0.5285 - val_acc: 0.7444\n",
            "Epoch 39/100\n",
            "1252/1252 [==============================] - 6s 5ms/step - loss: 0.5261 - acc: 0.7458 - val_loss: 0.5290 - val_acc: 0.7443\n",
            "Epoch 40/100\n",
            "1252/1252 [==============================] - 6s 5ms/step - loss: 0.5262 - acc: 0.7457 - val_loss: 0.5288 - val_acc: 0.7441\n",
            "Epoch 41/100\n",
            "1252/1252 [==============================] - 6s 4ms/step - loss: 0.5263 - acc: 0.7463 - val_loss: 0.5283 - val_acc: 0.7455\n",
            "Epoch 42/100\n",
            "1252/1252 [==============================] - 6s 5ms/step - loss: 0.5262 - acc: 0.7465 - val_loss: 0.5307 - val_acc: 0.7425\n",
            "Epoch 43/100\n",
            "1252/1252 [==============================] - 6s 5ms/step - loss: 0.5263 - acc: 0.7462 - val_loss: 0.5294 - val_acc: 0.7436\n",
            "Epoch 44/100\n",
            "1252/1252 [==============================] - 6s 5ms/step - loss: 0.5262 - acc: 0.7460 - val_loss: 0.5297 - val_acc: 0.7429\n",
            "Epoch 45/100\n",
            "1252/1252 [==============================] - 6s 5ms/step - loss: 0.5264 - acc: 0.7459 - val_loss: 0.5284 - val_acc: 0.7438\n",
            "Epoch 46/100\n",
            "1252/1252 [==============================] - 6s 4ms/step - loss: 0.5262 - acc: 0.7462 - val_loss: 0.5286 - val_acc: 0.7447\n",
            "Epoch 47/100\n",
            "1252/1252 [==============================] - 6s 5ms/step - loss: 0.5263 - acc: 0.7461 - val_loss: 0.5294 - val_acc: 0.7440\n",
            "Epoch 48/100\n",
            "1252/1252 [==============================] - 6s 4ms/step - loss: 0.5263 - acc: 0.7454 - val_loss: 0.5289 - val_acc: 0.7430\n",
            "Epoch 49/100\n",
            "1252/1252 [==============================] - 6s 5ms/step - loss: 0.5264 - acc: 0.7458 - val_loss: 0.5302 - val_acc: 0.7423\n",
            "Epoch 50/100\n",
            "1252/1252 [==============================] - 6s 4ms/step - loss: 0.5261 - acc: 0.7460 - val_loss: 0.5295 - val_acc: 0.7438\n",
            "Epoch 51/100\n",
            "1252/1252 [==============================] - 6s 5ms/step - loss: 0.5263 - acc: 0.7461 - val_loss: 0.5328 - val_acc: 0.7415\n",
            "Epoch 52/100\n",
            "1252/1252 [==============================] - 6s 4ms/step - loss: 0.5264 - acc: 0.7456 - val_loss: 0.5298 - val_acc: 0.7438\n",
            "Epoch 53/100\n",
            "1252/1252 [==============================] - 6s 5ms/step - loss: 0.5263 - acc: 0.7460 - val_loss: 0.5295 - val_acc: 0.7443\n",
            "Epoch 54/100\n",
            "1252/1252 [==============================] - 6s 5ms/step - loss: 0.5262 - acc: 0.7461 - val_loss: 0.5294 - val_acc: 0.7443\n",
            "Epoch 55/100\n",
            "1252/1252 [==============================] - 6s 5ms/step - loss: 0.5266 - acc: 0.7452 - val_loss: 0.5290 - val_acc: 0.7441\n",
            "Epoch 56/100\n",
            "1252/1252 [==============================] - 6s 5ms/step - loss: 0.5264 - acc: 0.7462 - val_loss: 0.5287 - val_acc: 0.7441\n",
            "Epoch 57/100\n",
            "1252/1252 [==============================] - 6s 5ms/step - loss: 0.5264 - acc: 0.7459 - val_loss: 0.5309 - val_acc: 0.7421\n",
            "Epoch 58/100\n",
            "1252/1252 [==============================] - 6s 5ms/step - loss: 0.5261 - acc: 0.7461 - val_loss: 0.5308 - val_acc: 0.7439\n",
            "Epoch 59/100\n",
            "1252/1252 [==============================] - 6s 4ms/step - loss: 0.5264 - acc: 0.7456 - val_loss: 0.5288 - val_acc: 0.7447\n",
            "Epoch 60/100\n",
            "1252/1252 [==============================] - 6s 4ms/step - loss: 0.5264 - acc: 0.7463 - val_loss: 0.5286 - val_acc: 0.7437\n",
            "Epoch 61/100\n",
            "1252/1252 [==============================] - 6s 4ms/step - loss: 0.5264 - acc: 0.7455 - val_loss: 0.5294 - val_acc: 0.7439\n",
            "Epoch 62/100\n",
            "1252/1252 [==============================] - 6s 5ms/step - loss: 0.5263 - acc: 0.7460 - val_loss: 0.5307 - val_acc: 0.7446\n",
            "Epoch 63/100\n",
            "1252/1252 [==============================] - 6s 4ms/step - loss: 0.5262 - acc: 0.7462 - val_loss: 0.5296 - val_acc: 0.7441\n",
            "Epoch 64/100\n",
            "1252/1252 [==============================] - 6s 5ms/step - loss: 0.5263 - acc: 0.7459 - val_loss: 0.5303 - val_acc: 0.7427\n",
            "Epoch 65/100\n",
            "1252/1252 [==============================] - 6s 5ms/step - loss: 0.5262 - acc: 0.7460 - val_loss: 0.5309 - val_acc: 0.7443\n",
            "Epoch 66/100\n",
            "1252/1252 [==============================] - 6s 5ms/step - loss: 0.5263 - acc: 0.7464 - val_loss: 0.5297 - val_acc: 0.7445\n",
            "Epoch 67/100\n",
            "1252/1252 [==============================] - 7s 6ms/step - loss: 0.5261 - acc: 0.7464 - val_loss: 0.5297 - val_acc: 0.7460\n",
            "Epoch 68/100\n",
            "1252/1252 [==============================] - 6s 5ms/step - loss: 0.5263 - acc: 0.7456 - val_loss: 0.5296 - val_acc: 0.7442\n",
            "Epoch 69/100\n",
            "1252/1252 [==============================] - 6s 5ms/step - loss: 0.5263 - acc: 0.7457 - val_loss: 0.5309 - val_acc: 0.7440\n",
            "Epoch 70/100\n",
            "1252/1252 [==============================] - 7s 6ms/step - loss: 0.5262 - acc: 0.7458 - val_loss: 0.5284 - val_acc: 0.7449\n",
            "Epoch 71/100\n",
            "1252/1252 [==============================] - 8s 7ms/step - loss: 0.5262 - acc: 0.7456 - val_loss: 0.5295 - val_acc: 0.7456\n",
            "Epoch 72/100\n",
            "1252/1252 [==============================] - 6s 5ms/step - loss: 0.5262 - acc: 0.7458 - val_loss: 0.5316 - val_acc: 0.7431\n",
            "Epoch 73/100\n",
            "1252/1252 [==============================] - 6s 5ms/step - loss: 0.5262 - acc: 0.7461 - val_loss: 0.5324 - val_acc: 0.7416\n",
            "Epoch 74/100\n",
            "1252/1252 [==============================] - 7s 6ms/step - loss: 0.5263 - acc: 0.7462 - val_loss: 0.5293 - val_acc: 0.7442\n",
            "Epoch 75/100\n",
            "1252/1252 [==============================] - 6s 5ms/step - loss: 0.5263 - acc: 0.7459 - val_loss: 0.5291 - val_acc: 0.7441\n",
            "Epoch 76/100\n",
            "1252/1252 [==============================] - 6s 5ms/step - loss: 0.5263 - acc: 0.7460 - val_loss: 0.5291 - val_acc: 0.7455\n",
            "Epoch 77/100\n",
            "1252/1252 [==============================] - 6s 5ms/step - loss: 0.5261 - acc: 0.7464 - val_loss: 0.5309 - val_acc: 0.7437\n",
            "Epoch 78/100\n",
            "1252/1252 [==============================] - 6s 5ms/step - loss: 0.5263 - acc: 0.7460 - val_loss: 0.5298 - val_acc: 0.7437\n",
            "Epoch 79/100\n",
            "1252/1252 [==============================] - 6s 5ms/step - loss: 0.5263 - acc: 0.7458 - val_loss: 0.5317 - val_acc: 0.7434\n",
            "Epoch 80/100\n",
            "1252/1252 [==============================] - 6s 5ms/step - loss: 0.5262 - acc: 0.7457 - val_loss: 0.5314 - val_acc: 0.7440\n",
            "Epoch 81/100\n",
            "1252/1252 [==============================] - 6s 5ms/step - loss: 0.5260 - acc: 0.7458 - val_loss: 0.5303 - val_acc: 0.7433\n",
            "Epoch 82/100\n",
            "1252/1252 [==============================] - 6s 5ms/step - loss: 0.5262 - acc: 0.7457 - val_loss: 0.5321 - val_acc: 0.7421\n",
            "Epoch 83/100\n",
            "1252/1252 [==============================] - 6s 5ms/step - loss: 0.5263 - acc: 0.7463 - val_loss: 0.5301 - val_acc: 0.7437\n",
            "Epoch 84/100\n",
            "1252/1252 [==============================] - 6s 5ms/step - loss: 0.5264 - acc: 0.7460 - val_loss: 0.5298 - val_acc: 0.7432\n",
            "Epoch 85/100\n",
            "1252/1252 [==============================] - 6s 5ms/step - loss: 0.5261 - acc: 0.7461 - val_loss: 0.5301 - val_acc: 0.7443\n",
            "Epoch 86/100\n",
            "1252/1252 [==============================] - 6s 5ms/step - loss: 0.5263 - acc: 0.7460 - val_loss: 0.5314 - val_acc: 0.7417\n",
            "Epoch 87/100\n",
            "1252/1252 [==============================] - 6s 5ms/step - loss: 0.5261 - acc: 0.7457 - val_loss: 0.5300 - val_acc: 0.7437\n",
            "Epoch 88/100\n",
            "1252/1252 [==============================] - 6s 5ms/step - loss: 0.5262 - acc: 0.7460 - val_loss: 0.5292 - val_acc: 0.7452\n",
            "Epoch 89/100\n",
            "1252/1252 [==============================] - 6s 5ms/step - loss: 0.5262 - acc: 0.7464 - val_loss: 0.5298 - val_acc: 0.7445\n",
            "Epoch 90/100\n",
            "1252/1252 [==============================] - 6s 5ms/step - loss: 0.5261 - acc: 0.7458 - val_loss: 0.5297 - val_acc: 0.7450\n",
            "Epoch 91/100\n",
            "1252/1252 [==============================] - 6s 5ms/step - loss: 0.5263 - acc: 0.7458 - val_loss: 0.5310 - val_acc: 0.7439\n",
            "Epoch 92/100\n",
            "1252/1252 [==============================] - 6s 5ms/step - loss: 0.5262 - acc: 0.7464 - val_loss: 0.5296 - val_acc: 0.7445\n",
            "Epoch 93/100\n",
            "1252/1252 [==============================] - 6s 5ms/step - loss: 0.5262 - acc: 0.7461 - val_loss: 0.5339 - val_acc: 0.7442\n",
            "Epoch 94/100\n",
            "1252/1252 [==============================] - 6s 5ms/step - loss: 0.5262 - acc: 0.7461 - val_loss: 0.5296 - val_acc: 0.7451\n",
            "Epoch 95/100\n",
            "1252/1252 [==============================] - 6s 5ms/step - loss: 0.5262 - acc: 0.7458 - val_loss: 0.5291 - val_acc: 0.7444\n",
            "Epoch 96/100\n",
            "1252/1252 [==============================] - 6s 5ms/step - loss: 0.5262 - acc: 0.7465 - val_loss: 0.5299 - val_acc: 0.7444\n",
            "Epoch 97/100\n",
            "1252/1252 [==============================] - 7s 6ms/step - loss: 0.5261 - acc: 0.7462 - val_loss: 0.5298 - val_acc: 0.7444\n",
            "Epoch 98/100\n",
            "1252/1252 [==============================] - 6s 5ms/step - loss: 0.5264 - acc: 0.7455 - val_loss: 0.5306 - val_acc: 0.7448\n",
            "Epoch 99/100\n",
            "1252/1252 [==============================] - 6s 5ms/step - loss: 0.5261 - acc: 0.7463 - val_loss: 0.5301 - val_acc: 0.7447\n",
            "Epoch 100/100\n",
            "1252/1252 [==============================] - 6s 5ms/step - loss: 0.5264 - acc: 0.7458 - val_loss: 0.5302 - val_acc: 0.7431\n"
          ]
        }
      ],
      "source": [
        "history_stem_w2v = model_stem_w2v.fit(xtrain_stem, \n",
        "                             ytrain,\n",
        "                             validation_data = (xval_stem, yval),\n",
        "                             epochs = epochs,\n",
        "                             batch_size = batch_size,\n",
        "                             verbose = 1)"
      ],
      "id": "f0XbM7yDAWne"
    },
    {
      "cell_type": "markdown",
      "metadata": {
        "id": "0m7A0rZHXZwr"
      },
      "source": [
        "#### Learning Curve"
      ],
      "id": "0m7A0rZHXZwr"
    },
    {
      "cell_type": "code",
      "execution_count": null,
      "metadata": {
        "id": "DJJUahVTAWne",
        "colab": {
          "base_uri": "https://localhost:8080/",
          "height": 573
        },
        "outputId": "2356cbed-5574-482f-c4cb-6d716165b6de"
      },
      "outputs": [
        {
          "output_type": "display_data",
          "data": {
            "text/plain": [
              "<Figure size 432x288 with 1 Axes>"
            ],
            "image/png": "[encoded data removed]"
          },
          "metadata": {
            "needs_background": "light"
          }
        },
        {
          "output_type": "display_data",
          "data": {
            "text/plain": [
              "<Figure size 432x288 with 1 Axes>"
            ],
            "image/png": "[encoded data removed]"
          },
          "metadata": {
            "needs_background": "light"
          }
        }
      ],
      "source": [
        "history = history_stem_w2v\n",
        "plot_history(history, list(history.history.keys()))"
      ],
      "id": "DJJUahVTAWne"
    },
    {
      "cell_type": "markdown",
      "metadata": {
        "id": "IA4ShnKeXZws"
      },
      "source": [
        "#### Evaluation du modèle"
      ],
      "id": "IA4ShnKeXZws"
    },
    {
      "cell_type": "code",
      "execution_count": null,
      "metadata": {
        "id": "HsMOLeZ-AWnf",
        "colab": {
          "base_uri": "https://localhost:8080/"
        },
        "outputId": "114daa3b-1ef9-4cc9-e0b2-e788b557180e"
      },
      "outputs": [
        {
          "output_type": "stream",
          "name": "stdout",
          "text": [
            "Loss score 0.53 : \n",
            "Accuracy score: 0.74 \n"
          ]
        }
      ],
      "source": [
        "evaluate = model_stem_w2v.evaluate(xval_stem, yval, verbose=0)\n",
        "\n",
        "print('Loss score %.2f : \\nAccuracy score: %.2f '%(evaluate[0], evaluate[1]))"
      ],
      "id": "HsMOLeZ-AWnf"
    },
    {
      "cell_type": "markdown",
      "metadata": {
        "id": "VRLxPZbG0Hj4"
      },
      "source": [
        "### Amélioration du modèle"
      ],
      "id": "VRLxPZbG0Hj4"
    },
    {
      "cell_type": "code",
      "execution_count": null,
      "metadata": {
        "id": "42_jypLn0Hj5"
      },
      "outputs": [],
      "source": [
        "len_vocab = 138807+1\n",
        "output_dim = 200\n",
        "max_len = 200\n",
        "len_padding = 5\n",
        "\n",
        "\n",
        "\n",
        "tensorflow.random.set_seed(seed)\n",
        "\n",
        "model_stem_w2v_optimised = Sequential()\n",
        "\n",
        "model_stem_w2v_optimised.add(Embedding(input_dim = len_vocab ,\n",
        "                             output_dim = output_dim,\n",
        "                             embeddings_initializer = keras.initializers.Constant(embedding_matrix),\n",
        "                             input_length = max_len + len_padding,\n",
        "                             trainable = False))\n",
        "\n",
        "model_stem_w2v_optimised.add(GlobalAveragePooling1D())\n",
        "model_stem_w2v_optimised.add(Flatten())\n",
        "model_stem_w2v_optimised.add(Dense(10, activation='relu'))\n",
        "model_stem_w2v_optimised.add(Dropout(0.30))\n",
        "model_stem_w2v_optimised.add(Dense(10, activation='relu'))\n",
        "model_stem_w2v_optimised.add(Dropout(0.30))\n",
        "model_stem_w2v_optimised.add(Dense(1, activation=\"sigmoid\"))\n",
        "model_stem_w2v_optimised.compile(optimizer = 'adam', \n",
        "                       loss = 'binary_crossentropy', \n",
        "                       metrics = ['acc'])"
      ],
      "id": "42_jypLn0Hj5"
    },
    {
      "cell_type": "code",
      "execution_count": null,
      "metadata": {
        "id": "rezKa18PaTSy",
        "colab": {
          "base_uri": "https://localhost:8080/"
        },
        "outputId": "da9ca4d3-0d9e-49f7-8e92-b62f6fcad4ba"
      },
      "outputs": [
        {
          "output_type": "stream",
          "name": "stdout",
          "text": [
            "Model: \"sequential_5\"\n",
            "_________________________________________________________________\n",
            " Layer (type)                Output Shape              Param #   \n",
            "=================================================================\n",
            " embedding_5 (Embedding)     (None, 205, 200)          27761600  \n",
            "                                                                 \n",
            " global_average_pooling1d_2   (None, 200)              0         \n",
            " (GlobalAveragePooling1D)                                        \n",
            "                                                                 \n",
            " flatten_5 (Flatten)         (None, 200)               0         \n",
            "                                                                 \n",
            " dense_8 (Dense)             (None, 10)                2010      \n",
            "                                                                 \n",
            " dropout_3 (Dropout)         (None, 10)                0         \n",
            "                                                                 \n",
            " dense_9 (Dense)             (None, 10)                110       \n",
            "                                                                 \n",
            " dropout_4 (Dropout)         (None, 10)                0         \n",
            "                                                                 \n",
            " dense_10 (Dense)            (None, 1)                 11        \n",
            "                                                                 \n",
            "=================================================================\n",
            "Total params: 27,763,731\n",
            "Trainable params: 2,131\n",
            "Non-trainable params: 27,761,600\n",
            "_________________________________________________________________\n"
          ]
        }
      ],
      "source": [
        "model_stem_w2v_optimised.summary()"
      ],
      "id": "rezKa18PaTSy"
    },
    {
      "cell_type": "code",
      "execution_count": null,
      "metadata": {
        "id": "jTB42D3N0Hj5",
        "colab": {
          "base_uri": "https://localhost:8080/"
        },
        "outputId": "a0952fc1-8553-422d-d022-55e4ff5b3b28"
      },
      "outputs": [
        {
          "output_type": "stream",
          "name": "stdout",
          "text": [
            "Epoch 1/100\n",
            "1252/1252 [==============================] - 7s 5ms/step - loss: 0.5713 - acc: 0.7143 - val_loss: 0.5193 - val_acc: 0.7464\n",
            "Epoch 2/100\n",
            "1252/1252 [==============================] - 6s 5ms/step - loss: 0.5354 - acc: 0.7420 - val_loss: 0.5111 - val_acc: 0.7508\n",
            "Epoch 3/100\n",
            "1252/1252 [==============================] - 6s 5ms/step - loss: 0.5321 - acc: 0.7441 - val_loss: 0.5097 - val_acc: 0.7511\n",
            "Epoch 4/100\n",
            "1252/1252 [==============================] - 6s 5ms/step - loss: 0.5298 - acc: 0.7453 - val_loss: 0.5082 - val_acc: 0.7512\n",
            "Epoch 5/100\n",
            "1252/1252 [==============================] - 6s 5ms/step - loss: 0.5278 - acc: 0.7461 - val_loss: 0.5052 - val_acc: 0.7534\n",
            "Epoch 6/100\n",
            "1252/1252 [==============================] - 6s 5ms/step - loss: 0.5272 - acc: 0.7460 - val_loss: 0.5053 - val_acc: 0.7530\n",
            "Epoch 7/100\n",
            "1252/1252 [==============================] - 6s 5ms/step - loss: 0.5263 - acc: 0.7461 - val_loss: 0.5030 - val_acc: 0.7533\n",
            "Epoch 8/100\n",
            "1252/1252 [==============================] - 6s 5ms/step - loss: 0.5254 - acc: 0.7456 - val_loss: 0.5035 - val_acc: 0.7529\n",
            "Epoch 9/100\n",
            "1252/1252 [==============================] - 6s 5ms/step - loss: 0.5246 - acc: 0.7463 - val_loss: 0.5019 - val_acc: 0.7546\n",
            "Epoch 10/100\n",
            "1252/1252 [==============================] - 7s 6ms/step - loss: 0.5243 - acc: 0.7454 - val_loss: 0.5031 - val_acc: 0.7545\n",
            "Epoch 11/100\n",
            "1252/1252 [==============================] - 6s 5ms/step - loss: 0.5236 - acc: 0.7464 - val_loss: 0.5016 - val_acc: 0.7551\n",
            "Epoch 12/100\n",
            "1252/1252 [==============================] - 7s 6ms/step - loss: 0.5240 - acc: 0.7459 - val_loss: 0.5021 - val_acc: 0.7554\n",
            "Epoch 13/100\n",
            "1252/1252 [==============================] - 7s 6ms/step - loss: 0.5242 - acc: 0.7464 - val_loss: 0.5009 - val_acc: 0.7555\n",
            "Epoch 14/100\n",
            "1252/1252 [==============================] - 7s 6ms/step - loss: 0.5236 - acc: 0.7462 - val_loss: 0.5021 - val_acc: 0.7554\n",
            "Epoch 15/100\n",
            "1252/1252 [==============================] - 6s 5ms/step - loss: 0.5234 - acc: 0.7466 - val_loss: 0.5014 - val_acc: 0.7555\n",
            "Epoch 16/100\n",
            "1252/1252 [==============================] - 7s 6ms/step - loss: 0.5230 - acc: 0.7463 - val_loss: 0.5004 - val_acc: 0.7547\n",
            "Epoch 17/100\n",
            "1252/1252 [==============================] - 7s 6ms/step - loss: 0.5225 - acc: 0.7475 - val_loss: 0.5018 - val_acc: 0.7553\n",
            "Epoch 18/100\n",
            "1252/1252 [==============================] - 6s 5ms/step - loss: 0.5230 - acc: 0.7460 - val_loss: 0.5006 - val_acc: 0.7552\n",
            "Epoch 19/100\n",
            "1252/1252 [==============================] - 6s 5ms/step - loss: 0.5224 - acc: 0.7464 - val_loss: 0.5003 - val_acc: 0.7558\n",
            "Epoch 20/100\n",
            "1252/1252 [==============================] - 7s 6ms/step - loss: 0.5227 - acc: 0.7464 - val_loss: 0.4999 - val_acc: 0.7558\n",
            "Epoch 21/100\n",
            "1252/1252 [==============================] - 7s 6ms/step - loss: 0.5230 - acc: 0.7468 - val_loss: 0.5009 - val_acc: 0.7559\n",
            "Epoch 22/100\n",
            "1252/1252 [==============================] - 7s 6ms/step - loss: 0.5226 - acc: 0.7461 - val_loss: 0.5010 - val_acc: 0.7554\n",
            "Epoch 23/100\n",
            "1252/1252 [==============================] - 7s 6ms/step - loss: 0.5223 - acc: 0.7462 - val_loss: 0.5005 - val_acc: 0.7560\n",
            "Epoch 24/100\n",
            "1252/1252 [==============================] - 7s 6ms/step - loss: 0.5224 - acc: 0.7468 - val_loss: 0.4997 - val_acc: 0.7558\n",
            "Epoch 25/100\n",
            "1252/1252 [==============================] - 7s 6ms/step - loss: 0.5224 - acc: 0.7470 - val_loss: 0.5005 - val_acc: 0.7553\n",
            "Epoch 26/100\n",
            "1252/1252 [==============================] - 7s 5ms/step - loss: 0.5226 - acc: 0.7463 - val_loss: 0.4994 - val_acc: 0.7553\n",
            "Epoch 27/100\n",
            "1252/1252 [==============================] - 7s 6ms/step - loss: 0.5221 - acc: 0.7466 - val_loss: 0.5013 - val_acc: 0.7553\n",
            "Epoch 28/100\n",
            "1252/1252 [==============================] - 7s 6ms/step - loss: 0.5220 - acc: 0.7474 - val_loss: 0.5004 - val_acc: 0.7554\n",
            "Epoch 29/100\n",
            "1252/1252 [==============================] - 6s 5ms/step - loss: 0.5222 - acc: 0.7473 - val_loss: 0.4998 - val_acc: 0.7565\n",
            "Epoch 30/100\n",
            "1252/1252 [==============================] - 7s 6ms/step - loss: 0.5219 - acc: 0.7470 - val_loss: 0.5001 - val_acc: 0.7553\n",
            "Epoch 31/100\n",
            "1252/1252 [==============================] - 7s 6ms/step - loss: 0.5223 - acc: 0.7467 - val_loss: 0.4992 - val_acc: 0.7561\n",
            "Epoch 32/100\n",
            "1252/1252 [==============================] - 7s 6ms/step - loss: 0.5217 - acc: 0.7469 - val_loss: 0.4993 - val_acc: 0.7566\n",
            "Epoch 33/100\n",
            "1252/1252 [==============================] - 6s 5ms/step - loss: 0.5221 - acc: 0.7466 - val_loss: 0.5002 - val_acc: 0.7543\n",
            "Epoch 34/100\n",
            "1252/1252 [==============================] - 6s 5ms/step - loss: 0.5219 - acc: 0.7468 - val_loss: 0.4994 - val_acc: 0.7561\n",
            "Epoch 35/100\n",
            "1252/1252 [==============================] - 6s 5ms/step - loss: 0.5218 - acc: 0.7472 - val_loss: 0.4993 - val_acc: 0.7566\n",
            "Epoch 36/100\n",
            "1252/1252 [==============================] - 6s 5ms/step - loss: 0.5220 - acc: 0.7471 - val_loss: 0.5002 - val_acc: 0.7560\n",
            "Epoch 37/100\n",
            "1252/1252 [==============================] - 6s 5ms/step - loss: 0.5226 - acc: 0.7470 - val_loss: 0.5007 - val_acc: 0.7562\n",
            "Epoch 38/100\n",
            "1252/1252 [==============================] - 6s 5ms/step - loss: 0.5218 - acc: 0.7467 - val_loss: 0.5000 - val_acc: 0.7558\n",
            "Epoch 39/100\n",
            "1252/1252 [==============================] - 7s 6ms/step - loss: 0.5219 - acc: 0.7468 - val_loss: 0.5002 - val_acc: 0.7557\n",
            "Epoch 40/100\n",
            "1252/1252 [==============================] - 6s 5ms/step - loss: 0.5221 - acc: 0.7467 - val_loss: 0.4998 - val_acc: 0.7546\n",
            "Epoch 41/100\n",
            "1252/1252 [==============================] - 6s 5ms/step - loss: 0.5221 - acc: 0.7462 - val_loss: 0.4999 - val_acc: 0.7560\n",
            "Epoch 42/100\n",
            "1252/1252 [==============================] - 6s 5ms/step - loss: 0.5215 - acc: 0.7469 - val_loss: 0.4995 - val_acc: 0.7560\n",
            "Epoch 43/100\n",
            "1252/1252 [==============================] - 7s 6ms/step - loss: 0.5220 - acc: 0.7471 - val_loss: 0.4999 - val_acc: 0.7562\n",
            "Epoch 44/100\n",
            "1252/1252 [==============================] - 6s 5ms/step - loss: 0.5219 - acc: 0.7469 - val_loss: 0.5002 - val_acc: 0.7561\n",
            "Epoch 45/100\n",
            "1252/1252 [==============================] - 6s 5ms/step - loss: 0.5216 - acc: 0.7469 - val_loss: 0.5001 - val_acc: 0.7558\n",
            "Epoch 46/100\n",
            "1252/1252 [==============================] - 7s 6ms/step - loss: 0.5220 - acc: 0.7469 - val_loss: 0.5001 - val_acc: 0.7557\n",
            "Epoch 47/100\n",
            "1252/1252 [==============================] - 6s 5ms/step - loss: 0.5217 - acc: 0.7473 - val_loss: 0.4998 - val_acc: 0.7564\n",
            "Epoch 48/100\n",
            "1252/1252 [==============================] - 6s 5ms/step - loss: 0.5218 - acc: 0.7468 - val_loss: 0.4994 - val_acc: 0.7561\n",
            "Epoch 49/100\n",
            "1252/1252 [==============================] - 7s 6ms/step - loss: 0.5215 - acc: 0.7471 - val_loss: 0.4998 - val_acc: 0.7558\n",
            "Epoch 50/100\n",
            "1252/1252 [==============================] - 7s 6ms/step - loss: 0.5216 - acc: 0.7472 - val_loss: 0.4999 - val_acc: 0.7563\n",
            "Epoch 51/100\n",
            "1252/1252 [==============================] - 6s 5ms/step - loss: 0.5216 - acc: 0.7473 - val_loss: 0.5001 - val_acc: 0.7565\n",
            "Epoch 52/100\n",
            "1252/1252 [==============================] - 6s 5ms/step - loss: 0.5210 - acc: 0.7476 - val_loss: 0.4993 - val_acc: 0.7557\n",
            "Epoch 53/100\n",
            "1252/1252 [==============================] - 6s 5ms/step - loss: 0.5219 - acc: 0.7472 - val_loss: 0.4994 - val_acc: 0.7565\n",
            "Epoch 54/100\n",
            "1252/1252 [==============================] - 7s 6ms/step - loss: 0.5217 - acc: 0.7468 - val_loss: 0.4993 - val_acc: 0.7560\n",
            "Epoch 55/100\n",
            "1252/1252 [==============================] - 6s 5ms/step - loss: 0.5220 - acc: 0.7472 - val_loss: 0.4992 - val_acc: 0.7564\n",
            "Epoch 56/100\n",
            "1252/1252 [==============================] - 7s 6ms/step - loss: 0.5219 - acc: 0.7471 - val_loss: 0.5002 - val_acc: 0.7550\n",
            "Epoch 57/100\n",
            "1252/1252 [==============================] - 6s 5ms/step - loss: 0.5217 - acc: 0.7471 - val_loss: 0.4992 - val_acc: 0.7567\n",
            "Epoch 58/100\n",
            "1252/1252 [==============================] - 7s 6ms/step - loss: 0.5216 - acc: 0.7475 - val_loss: 0.5007 - val_acc: 0.7560\n",
            "Epoch 59/100\n",
            "1252/1252 [==============================] - 7s 6ms/step - loss: 0.5220 - acc: 0.7469 - val_loss: 0.4999 - val_acc: 0.7560\n",
            "Epoch 60/100\n",
            "1252/1252 [==============================] - 6s 5ms/step - loss: 0.5214 - acc: 0.7469 - val_loss: 0.4990 - val_acc: 0.7561\n",
            "Epoch 61/100\n",
            "1252/1252 [==============================] - 6s 5ms/step - loss: 0.5215 - acc: 0.7473 - val_loss: 0.4995 - val_acc: 0.7563\n",
            "Epoch 62/100\n",
            "1252/1252 [==============================] - 6s 5ms/step - loss: 0.5216 - acc: 0.7471 - val_loss: 0.4995 - val_acc: 0.7562\n",
            "Epoch 63/100\n",
            "1252/1252 [==============================] - 7s 6ms/step - loss: 0.5209 - acc: 0.7472 - val_loss: 0.5000 - val_acc: 0.7558\n",
            "Epoch 64/100\n",
            "1252/1252 [==============================] - 7s 6ms/step - loss: 0.5218 - acc: 0.7475 - val_loss: 0.4988 - val_acc: 0.7563\n",
            "Epoch 65/100\n",
            "1252/1252 [==============================] - 7s 6ms/step - loss: 0.5216 - acc: 0.7469 - val_loss: 0.4999 - val_acc: 0.7555\n",
            "Epoch 66/100\n",
            "1252/1252 [==============================] - 6s 5ms/step - loss: 0.5215 - acc: 0.7476 - val_loss: 0.4994 - val_acc: 0.7558\n",
            "Epoch 67/100\n",
            "1252/1252 [==============================] - 7s 6ms/step - loss: 0.5213 - acc: 0.7470 - val_loss: 0.4988 - val_acc: 0.7559\n",
            "Epoch 68/100\n",
            "1252/1252 [==============================] - 6s 5ms/step - loss: 0.5216 - acc: 0.7471 - val_loss: 0.4994 - val_acc: 0.7560\n",
            "Epoch 69/100\n",
            "1252/1252 [==============================] - 7s 6ms/step - loss: 0.5210 - acc: 0.7474 - val_loss: 0.4991 - val_acc: 0.7563\n",
            "Epoch 70/100\n",
            "1252/1252 [==============================] - 7s 6ms/step - loss: 0.5215 - acc: 0.7471 - val_loss: 0.5003 - val_acc: 0.7560\n",
            "Epoch 71/100\n",
            "1252/1252 [==============================] - 6s 5ms/step - loss: 0.5214 - acc: 0.7472 - val_loss: 0.4988 - val_acc: 0.7560\n",
            "Epoch 72/100\n",
            "1252/1252 [==============================] - 6s 5ms/step - loss: 0.5214 - acc: 0.7473 - val_loss: 0.4994 - val_acc: 0.7563\n",
            "Epoch 73/100\n",
            "1252/1252 [==============================] - 6s 5ms/step - loss: 0.5217 - acc: 0.7470 - val_loss: 0.4995 - val_acc: 0.7561\n",
            "Epoch 74/100\n",
            "1252/1252 [==============================] - 7s 6ms/step - loss: 0.5213 - acc: 0.7474 - val_loss: 0.4989 - val_acc: 0.7566\n",
            "Epoch 75/100\n",
            "1252/1252 [==============================] - 7s 6ms/step - loss: 0.5212 - acc: 0.7473 - val_loss: 0.4997 - val_acc: 0.7560\n",
            "Epoch 76/100\n",
            "1252/1252 [==============================] - 6s 5ms/step - loss: 0.5211 - acc: 0.7478 - val_loss: 0.4994 - val_acc: 0.7556\n",
            "Epoch 77/100\n",
            "1252/1252 [==============================] - 7s 6ms/step - loss: 0.5215 - acc: 0.7474 - val_loss: 0.4987 - val_acc: 0.7564\n",
            "Epoch 78/100\n",
            "1252/1252 [==============================] - 6s 5ms/step - loss: 0.5210 - acc: 0.7474 - val_loss: 0.5004 - val_acc: 0.7565\n",
            "Epoch 79/100\n",
            "1252/1252 [==============================] - 7s 6ms/step - loss: 0.5218 - acc: 0.7468 - val_loss: 0.4998 - val_acc: 0.7563\n",
            "Epoch 80/100\n",
            "1252/1252 [==============================] - 6s 5ms/step - loss: 0.5212 - acc: 0.7474 - val_loss: 0.4993 - val_acc: 0.7564\n",
            "Epoch 81/100\n",
            "1252/1252 [==============================] - 6s 5ms/step - loss: 0.5215 - acc: 0.7473 - val_loss: 0.4995 - val_acc: 0.7563\n",
            "Epoch 82/100\n",
            "1252/1252 [==============================] - 7s 6ms/step - loss: 0.5212 - acc: 0.7475 - val_loss: 0.4990 - val_acc: 0.7561\n",
            "Epoch 83/100\n",
            "1252/1252 [==============================] - 7s 6ms/step - loss: 0.5209 - acc: 0.7485 - val_loss: 0.5003 - val_acc: 0.7560\n",
            "Epoch 84/100\n",
            "1252/1252 [==============================] - 7s 6ms/step - loss: 0.5213 - acc: 0.7479 - val_loss: 0.4999 - val_acc: 0.7558\n",
            "Epoch 85/100\n",
            "1252/1252 [==============================] - 7s 6ms/step - loss: 0.5212 - acc: 0.7470 - val_loss: 0.4989 - val_acc: 0.7567\n",
            "Epoch 86/100\n",
            "1252/1252 [==============================] - 7s 6ms/step - loss: 0.5212 - acc: 0.7471 - val_loss: 0.4983 - val_acc: 0.7568\n",
            "Epoch 87/100\n",
            "1252/1252 [==============================] - 6s 5ms/step - loss: 0.5214 - acc: 0.7471 - val_loss: 0.4990 - val_acc: 0.7558\n",
            "Epoch 88/100\n",
            "1252/1252 [==============================] - 6s 5ms/step - loss: 0.5210 - acc: 0.7468 - val_loss: 0.4987 - val_acc: 0.7561\n",
            "Epoch 89/100\n",
            "1252/1252 [==============================] - 6s 5ms/step - loss: 0.5213 - acc: 0.7469 - val_loss: 0.4991 - val_acc: 0.7559\n",
            "Epoch 90/100\n",
            "1252/1252 [==============================] - 6s 5ms/step - loss: 0.5212 - acc: 0.7476 - val_loss: 0.4988 - val_acc: 0.7563\n",
            "Epoch 91/100\n",
            "1252/1252 [==============================] - 7s 6ms/step - loss: 0.5213 - acc: 0.7473 - val_loss: 0.4986 - val_acc: 0.7568\n",
            "Epoch 92/100\n",
            "1252/1252 [==============================] - 6s 5ms/step - loss: 0.5214 - acc: 0.7471 - val_loss: 0.4992 - val_acc: 0.7567\n",
            "Epoch 93/100\n",
            "1252/1252 [==============================] - 7s 6ms/step - loss: 0.5215 - acc: 0.7469 - val_loss: 0.5004 - val_acc: 0.7563\n",
            "Epoch 94/100\n",
            "1252/1252 [==============================] - 7s 6ms/step - loss: 0.5210 - acc: 0.7467 - val_loss: 0.4999 - val_acc: 0.7563\n",
            "Epoch 95/100\n",
            "1252/1252 [==============================] - 6s 5ms/step - loss: 0.5210 - acc: 0.7470 - val_loss: 0.4992 - val_acc: 0.7561\n",
            "Epoch 96/100\n",
            "1252/1252 [==============================] - 6s 5ms/step - loss: 0.5215 - acc: 0.7468 - val_loss: 0.4988 - val_acc: 0.7568\n",
            "Epoch 97/100\n",
            "1252/1252 [==============================] - 6s 5ms/step - loss: 0.5209 - acc: 0.7475 - val_loss: 0.4988 - val_acc: 0.7566\n",
            "Epoch 98/100\n",
            "1252/1252 [==============================] - 6s 5ms/step - loss: 0.5215 - acc: 0.7469 - val_loss: 0.4990 - val_acc: 0.7569\n",
            "Epoch 99/100\n",
            "1252/1252 [==============================] - 7s 6ms/step - loss: 0.5215 - acc: 0.7474 - val_loss: 0.4996 - val_acc: 0.7562\n",
            "Epoch 100/100\n",
            "1252/1252 [==============================] - 7s 6ms/step - loss: 0.5213 - acc: 0.7476 - val_loss: 0.5008 - val_acc: 0.7550\n"
          ]
        }
      ],
      "source": [
        "from time import time\n",
        "t0 = time()\n",
        "history_stem_w2v_optimised = model_stem_w2v_optimised.fit(xtrain_stem, \n",
        "                             ytrain,\n",
        "                             validation_data = (xval_stem, yval),\n",
        "                             epochs = epochs,\n",
        "                             batch_size = batch_size,\n",
        "                             verbose = 1)\n",
        "t_stem_w2v_optimised = time() - t0"
      ],
      "id": "jTB42D3N0Hj5"
    },
    {
      "cell_type": "markdown",
      "metadata": {
        "id": "7LY7BnpG0Hj6"
      },
      "source": [
        "#### Learning Curve"
      ],
      "id": "7LY7BnpG0Hj6"
    },
    {
      "cell_type": "code",
      "execution_count": null,
      "metadata": {
        "id": "owa2BGt30Hj6",
        "colab": {
          "base_uri": "https://localhost:8080/"
        },
        "outputId": "0819f0bd-30c9-4611-e046-4dfe5937e295"
      },
      "outputs": [
        {
          "output_type": "display_data",
          "data": {
            "text/plain": [
              "<Figure size 432x288 with 1 Axes>"
            ],
            "image/png": "[encoded data removed]"
          },
          "metadata": {
            "needs_background": "light"
          }
        },
        {
          "output_type": "display_data",
          "data": {
            "text/plain": [
              "<Figure size 432x288 with 1 Axes>"
            ],
            "image/png": "[encoded data removed]"
          },
          "metadata": {
            "needs_background": "light"
          }
        }
      ],
      "source": [
        "history = history_stem_w2v_optimised\n",
        "plot_history(history, list(history.history.keys()))"
      ],
      "id": "owa2BGt30Hj6"
    },
    {
      "cell_type": "markdown",
      "metadata": {
        "id": "ZPeHH8He0Hj6"
      },
      "source": [
        "#### Evaluation du modèle"
      ],
      "id": "ZPeHH8He0Hj6"
    },
    {
      "cell_type": "code",
      "execution_count": null,
      "metadata": {
        "id": "N1wJzNEh0Hj6",
        "colab": {
          "base_uri": "https://localhost:8080/"
        },
        "outputId": "0d2b37a6-5606-4950-da09-3990573fcc00"
      },
      "outputs": [
        {
          "output_type": "stream",
          "name": "stdout",
          "text": [
            "Loss score 0.50 : \n",
            "Accuracy score: 0.76\n"
          ]
        }
      ],
      "source": [
        "evaluate = model_stem_w2v_optimised.evaluate(xval_stem, yval, verbose=0)\n",
        "\n",
        "print('Loss score %.2f : \\nAccuracy score: %.2f'%(evaluate[0], evaluate[1]))"
      ],
      "id": "N1wJzNEh0Hj6"
    },
    {
      "cell_type": "markdown",
      "metadata": {
        "id": "f-cja93r08Hf"
      },
      "source": [
        "#### Sauvegarde du modèle"
      ],
      "id": "f-cja93r08Hf"
    },
    {
      "cell_type": "code",
      "execution_count": null,
      "metadata": {
        "id": "HSHOjyKz0Hj7"
      },
      "outputs": [],
      "source": [
        "# saving model \n",
        "\n",
        "model_stem_w2v_optimised.save(path + 'models/model_stem_w2v')"
      ],
      "id": "HSHOjyKz0Hj7"
    },
    {
      "cell_type": "markdown",
      "metadata": {
        "id": "5QQbkI480Hj8"
      },
      "source": [
        "<a href=\"##sommaire\" rev=\"footnote\">&#8617;</a>"
      ],
      "id": "5QQbkI480Hj8"
    },
    {
      "cell_type": "markdown",
      "metadata": {
        "id": "3a771ba3"
      },
      "source": [
        "## Nettoyage avec stemming et vectorisation avec Glove<a class=\"anchor\" id=\"4\"> </a>"
      ],
      "id": "3a771ba3"
    },
    {
      "cell_type": "code",
      "execution_count": null,
      "metadata": {
        "id": "lafW_UtqAvB8",
        "colab": {
          "base_uri": "https://localhost:8080/"
        },
        "outputId": "b0348bb5-64b0-4f79-dadf-07317e849fd7"
      },
      "outputs": [
        {
          "output_type": "stream",
          "name": "stdout",
          "text": [
            "Fit Tokenizer ...\n",
            "Create Embedding matrix ...\n",
            "Word embedding rate :  0.448\n",
            "Embedding matrix shape:  (138808, 200)\n"
          ]
        }
      ],
      "source": [
        "embedding_matrix_stem_glove = build_embedding_matrix(train_stem, glove_vectors)['Embedding_matrix']"
      ],
      "id": "lafW_UtqAvB8"
    },
    {
      "cell_type": "markdown",
      "metadata": {
        "id": "shSaGD-JXsd_"
      },
      "source": [
        "### Baseline"
      ],
      "id": "shSaGD-JXsd_"
    },
    {
      "cell_type": "code",
      "execution_count": null,
      "metadata": {
        "id": "at8nBKmtAvB8",
        "colab": {
          "base_uri": "https://localhost:8080/"
        },
        "outputId": "70641880-fd45-455b-d545-9e825b9e41b1"
      },
      "outputs": [
        {
          "output_type": "stream",
          "name": "stdout",
          "text": [
            "Model: \"sequential_6\"\n",
            "_________________________________________________________________\n",
            " Layer (type)                Output Shape              Param #   \n",
            "=================================================================\n",
            " embedding_6 (Embedding)     (None, 205, 200)          27761600  \n",
            "                                                                 \n",
            " flatten_6 (Flatten)         (None, 41000)             0         \n",
            "                                                                 \n",
            " dense_11 (Dense)            (None, 1)                 41001     \n",
            "                                                                 \n",
            "=================================================================\n",
            "Total params: 27,802,601\n",
            "Trainable params: 41,001\n",
            "Non-trainable params: 27,761,600\n",
            "_________________________________________________________________\n"
          ]
        }
      ],
      "source": [
        "embedding_matrix = embedding_matrix_stem_glove\n",
        "model_stem_glove = model_embedding(embedding_matrix=embedding_matrix, len_vocab=138808)\n",
        "model_stem_glove.summary()"
      ],
      "id": "at8nBKmtAvB8"
    },
    {
      "cell_type": "code",
      "execution_count": null,
      "metadata": {
        "id": "ZqTCruCIAvB9",
        "scrolled": true,
        "colab": {
          "base_uri": "https://localhost:8080/"
        },
        "outputId": "c7708f83-9551-47c3-829e-2f6743e46d38"
      },
      "outputs": [
        {
          "output_type": "stream",
          "name": "stdout",
          "text": [
            "Epoch 1/100\n",
            "1252/1252 [==============================] - 8s 6ms/step - loss: 0.5527 - acc: 0.7231 - val_loss: 0.5421 - val_acc: 0.7294\n",
            "Epoch 2/100\n",
            "1252/1252 [==============================] - 7s 5ms/step - loss: 0.5400 - acc: 0.7321 - val_loss: 0.5402 - val_acc: 0.7321\n",
            "Epoch 3/100\n",
            "1252/1252 [==============================] - 7s 5ms/step - loss: 0.5390 - acc: 0.7331 - val_loss: 0.5407 - val_acc: 0.7322\n",
            "Epoch 4/100\n",
            "1252/1252 [==============================] - 8s 6ms/step - loss: 0.5388 - acc: 0.7333 - val_loss: 0.5407 - val_acc: 0.7323\n",
            "Epoch 5/100\n",
            "1252/1252 [==============================] - 8s 6ms/step - loss: 0.5385 - acc: 0.7333 - val_loss: 0.5411 - val_acc: 0.7310\n",
            "Epoch 6/100\n",
            "1252/1252 [==============================] - 7s 5ms/step - loss: 0.5384 - acc: 0.7337 - val_loss: 0.5414 - val_acc: 0.7315\n",
            "Epoch 7/100\n",
            "1252/1252 [==============================] - 8s 6ms/step - loss: 0.5384 - acc: 0.7335 - val_loss: 0.5407 - val_acc: 0.7317\n",
            "Epoch 8/100\n",
            "1252/1252 [==============================] - 6s 5ms/step - loss: 0.5382 - acc: 0.7334 - val_loss: 0.5414 - val_acc: 0.7328\n",
            "Epoch 9/100\n",
            "1252/1252 [==============================] - 6s 5ms/step - loss: 0.5382 - acc: 0.7336 - val_loss: 0.5410 - val_acc: 0.7320\n",
            "Epoch 10/100\n",
            "1252/1252 [==============================] - 6s 5ms/step - loss: 0.5382 - acc: 0.7338 - val_loss: 0.5414 - val_acc: 0.7309\n",
            "Epoch 11/100\n",
            "1252/1252 [==============================] - 8s 7ms/step - loss: 0.5381 - acc: 0.7338 - val_loss: 0.5411 - val_acc: 0.7319\n",
            "Epoch 12/100\n",
            "1252/1252 [==============================] - 7s 6ms/step - loss: 0.5381 - acc: 0.7337 - val_loss: 0.5416 - val_acc: 0.7313\n",
            "Epoch 13/100\n",
            "1252/1252 [==============================] - 6s 5ms/step - loss: 0.5380 - acc: 0.7338 - val_loss: 0.5414 - val_acc: 0.7321\n",
            "Epoch 14/100\n",
            "1252/1252 [==============================] - 6s 5ms/step - loss: 0.5380 - acc: 0.7342 - val_loss: 0.5418 - val_acc: 0.7320\n",
            "Epoch 15/100\n",
            "1252/1252 [==============================] - 7s 6ms/step - loss: 0.5380 - acc: 0.7338 - val_loss: 0.5416 - val_acc: 0.7318\n",
            "Epoch 16/100\n",
            "1252/1252 [==============================] - 7s 6ms/step - loss: 0.5380 - acc: 0.7338 - val_loss: 0.5419 - val_acc: 0.7318\n",
            "Epoch 17/100\n",
            "1252/1252 [==============================] - 6s 5ms/step - loss: 0.5380 - acc: 0.7339 - val_loss: 0.5421 - val_acc: 0.7313\n",
            "Epoch 18/100\n",
            "1252/1252 [==============================] - 7s 6ms/step - loss: 0.5379 - acc: 0.7337 - val_loss: 0.5419 - val_acc: 0.7320\n",
            "Epoch 19/100\n",
            "1252/1252 [==============================] - 6s 5ms/step - loss: 0.5380 - acc: 0.7340 - val_loss: 0.5421 - val_acc: 0.7314\n",
            "Epoch 20/100\n",
            "1252/1252 [==============================] - 6s 5ms/step - loss: 0.5379 - acc: 0.7338 - val_loss: 0.5417 - val_acc: 0.7320\n",
            "Epoch 21/100\n",
            "1252/1252 [==============================] - 6s 5ms/step - loss: 0.5379 - acc: 0.7341 - val_loss: 0.5419 - val_acc: 0.7318\n",
            "Epoch 22/100\n",
            "1252/1252 [==============================] - 7s 6ms/step - loss: 0.5378 - acc: 0.7339 - val_loss: 0.5419 - val_acc: 0.7311\n",
            "Epoch 23/100\n",
            "1252/1252 [==============================] - 7s 6ms/step - loss: 0.5379 - acc: 0.7338 - val_loss: 0.5429 - val_acc: 0.7308\n",
            "Epoch 24/100\n",
            "1252/1252 [==============================] - 6s 5ms/step - loss: 0.5379 - acc: 0.7338 - val_loss: 0.5420 - val_acc: 0.7322\n",
            "Epoch 25/100\n",
            "1252/1252 [==============================] - 6s 5ms/step - loss: 0.5378 - acc: 0.7338 - val_loss: 0.5423 - val_acc: 0.7321\n",
            "Epoch 26/100\n",
            "1252/1252 [==============================] - 6s 5ms/step - loss: 0.5378 - acc: 0.7341 - val_loss: 0.5419 - val_acc: 0.7317\n",
            "Epoch 27/100\n",
            "1252/1252 [==============================] - 6s 5ms/step - loss: 0.5378 - acc: 0.7339 - val_loss: 0.5423 - val_acc: 0.7313\n",
            "Epoch 28/100\n",
            "1252/1252 [==============================] - 6s 5ms/step - loss: 0.5378 - acc: 0.7339 - val_loss: 0.5425 - val_acc: 0.7319\n",
            "Epoch 29/100\n",
            "1252/1252 [==============================] - 6s 5ms/step - loss: 0.5378 - acc: 0.7341 - val_loss: 0.5420 - val_acc: 0.7317\n",
            "Epoch 30/100\n",
            "1252/1252 [==============================] - 7s 6ms/step - loss: 0.5378 - acc: 0.7340 - val_loss: 0.5424 - val_acc: 0.7317\n",
            "Epoch 31/100\n",
            "1252/1252 [==============================] - 7s 6ms/step - loss: 0.5378 - acc: 0.7335 - val_loss: 0.5424 - val_acc: 0.7316\n",
            "Epoch 32/100\n",
            "1252/1252 [==============================] - 6s 5ms/step - loss: 0.5378 - acc: 0.7339 - val_loss: 0.5425 - val_acc: 0.7310\n",
            "Epoch 33/100\n",
            "1252/1252 [==============================] - 6s 5ms/step - loss: 0.5377 - acc: 0.7339 - val_loss: 0.5425 - val_acc: 0.7324\n",
            "Epoch 34/100\n",
            "1252/1252 [==============================] - 6s 5ms/step - loss: 0.5377 - acc: 0.7340 - val_loss: 0.5423 - val_acc: 0.7315\n",
            "Epoch 35/100\n",
            "1252/1252 [==============================] - 7s 6ms/step - loss: 0.5377 - acc: 0.7339 - val_loss: 0.5425 - val_acc: 0.7313\n",
            "Epoch 36/100\n",
            "1252/1252 [==============================] - 7s 6ms/step - loss: 0.5377 - acc: 0.7339 - val_loss: 0.5424 - val_acc: 0.7315\n",
            "Epoch 37/100\n",
            "1252/1252 [==============================] - 6s 5ms/step - loss: 0.5377 - acc: 0.7342 - val_loss: 0.5429 - val_acc: 0.7307\n",
            "Epoch 38/100\n",
            "1252/1252 [==============================] - 6s 5ms/step - loss: 0.5377 - acc: 0.7340 - val_loss: 0.5429 - val_acc: 0.7327\n",
            "Epoch 39/100\n",
            "1252/1252 [==============================] - 6s 5ms/step - loss: 0.5377 - acc: 0.7339 - val_loss: 0.5425 - val_acc: 0.7315\n",
            "Epoch 40/100\n",
            "1252/1252 [==============================] - 7s 6ms/step - loss: 0.5377 - acc: 0.7339 - val_loss: 0.5424 - val_acc: 0.7323\n",
            "Epoch 41/100\n",
            "1252/1252 [==============================] - 7s 6ms/step - loss: 0.5376 - acc: 0.7340 - val_loss: 0.5425 - val_acc: 0.7322\n",
            "Epoch 42/100\n",
            "1252/1252 [==============================] - 7s 6ms/step - loss: 0.5377 - acc: 0.7340 - val_loss: 0.5427 - val_acc: 0.7316\n",
            "Epoch 43/100\n",
            "1252/1252 [==============================] - 7s 6ms/step - loss: 0.5377 - acc: 0.7338 - val_loss: 0.5442 - val_acc: 0.7297\n",
            "Epoch 44/100\n",
            "1252/1252 [==============================] - 6s 5ms/step - loss: 0.5377 - acc: 0.7338 - val_loss: 0.5431 - val_acc: 0.7311\n",
            "Epoch 45/100\n",
            "1252/1252 [==============================] - 6s 5ms/step - loss: 0.5377 - acc: 0.7340 - val_loss: 0.5428 - val_acc: 0.7313\n",
            "Epoch 46/100\n",
            "1252/1252 [==============================] - 6s 5ms/step - loss: 0.5377 - acc: 0.7340 - val_loss: 0.5426 - val_acc: 0.7321\n",
            "Epoch 47/100\n",
            "1252/1252 [==============================] - 6s 5ms/step - loss: 0.5376 - acc: 0.7339 - val_loss: 0.5438 - val_acc: 0.7307\n",
            "Epoch 48/100\n",
            "1252/1252 [==============================] - 6s 5ms/step - loss: 0.5377 - acc: 0.7339 - val_loss: 0.5424 - val_acc: 0.7315\n",
            "Epoch 49/100\n",
            "1252/1252 [==============================] - 7s 6ms/step - loss: 0.5376 - acc: 0.7340 - val_loss: 0.5424 - val_acc: 0.7318\n",
            "Epoch 50/100\n",
            "1252/1252 [==============================] - 6s 5ms/step - loss: 0.5377 - acc: 0.7341 - val_loss: 0.5429 - val_acc: 0.7318\n",
            "Epoch 51/100\n",
            "1252/1252 [==============================] - 6s 5ms/step - loss: 0.5377 - acc: 0.7340 - val_loss: 0.5429 - val_acc: 0.7316\n",
            "Epoch 52/100\n",
            "1252/1252 [==============================] - 6s 5ms/step - loss: 0.5377 - acc: 0.7340 - val_loss: 0.5430 - val_acc: 0.7318\n",
            "Epoch 53/100\n",
            "1252/1252 [==============================] - 7s 6ms/step - loss: 0.5377 - acc: 0.7338 - val_loss: 0.5427 - val_acc: 0.7315\n",
            "Epoch 54/100\n",
            "1252/1252 [==============================] - 7s 6ms/step - loss: 0.5376 - acc: 0.7342 - val_loss: 0.5427 - val_acc: 0.7313\n",
            "Epoch 55/100\n",
            "1252/1252 [==============================] - 6s 5ms/step - loss: 0.5378 - acc: 0.7342 - val_loss: 0.5430 - val_acc: 0.7318\n",
            "Epoch 56/100\n",
            "1252/1252 [==============================] - 7s 6ms/step - loss: 0.5376 - acc: 0.7339 - val_loss: 0.5439 - val_acc: 0.7319\n",
            "Epoch 57/100\n",
            "1252/1252 [==============================] - 6s 5ms/step - loss: 0.5376 - acc: 0.7342 - val_loss: 0.5431 - val_acc: 0.7313\n",
            "Epoch 58/100\n",
            "1252/1252 [==============================] - 6s 5ms/step - loss: 0.5376 - acc: 0.7340 - val_loss: 0.5429 - val_acc: 0.7317\n",
            "Epoch 59/100\n",
            "1252/1252 [==============================] - 6s 5ms/step - loss: 0.5377 - acc: 0.7344 - val_loss: 0.5433 - val_acc: 0.7313\n",
            "Epoch 60/100\n",
            "1252/1252 [==============================] - 6s 5ms/step - loss: 0.5377 - acc: 0.7341 - val_loss: 0.5431 - val_acc: 0.7316\n",
            "Epoch 61/100\n",
            "1252/1252 [==============================] - 7s 6ms/step - loss: 0.5377 - acc: 0.7340 - val_loss: 0.5432 - val_acc: 0.7315\n",
            "Epoch 62/100\n",
            "1252/1252 [==============================] - 7s 6ms/step - loss: 0.5377 - acc: 0.7343 - val_loss: 0.5433 - val_acc: 0.7319\n",
            "Epoch 63/100\n",
            "1252/1252 [==============================] - 6s 5ms/step - loss: 0.5376 - acc: 0.7339 - val_loss: 0.5430 - val_acc: 0.7315\n",
            "Epoch 64/100\n",
            "1252/1252 [==============================] - 6s 5ms/step - loss: 0.5376 - acc: 0.7340 - val_loss: 0.5434 - val_acc: 0.7310\n",
            "Epoch 65/100\n",
            "1252/1252 [==============================] - 6s 5ms/step - loss: 0.5376 - acc: 0.7340 - val_loss: 0.5434 - val_acc: 0.7323\n",
            "Epoch 66/100\n",
            "1252/1252 [==============================] - 6s 5ms/step - loss: 0.5376 - acc: 0.7341 - val_loss: 0.5431 - val_acc: 0.7314\n",
            "Epoch 67/100\n",
            "1252/1252 [==============================] - 6s 5ms/step - loss: 0.5376 - acc: 0.7345 - val_loss: 0.5435 - val_acc: 0.7321\n",
            "Epoch 68/100\n",
            "1252/1252 [==============================] - 6s 5ms/step - loss: 0.5377 - acc: 0.7339 - val_loss: 0.5430 - val_acc: 0.7320\n",
            "Epoch 69/100\n",
            "1252/1252 [==============================] - 6s 5ms/step - loss: 0.5376 - acc: 0.7342 - val_loss: 0.5431 - val_acc: 0.7319\n",
            "Epoch 70/100\n",
            "1252/1252 [==============================] - 6s 5ms/step - loss: 0.5376 - acc: 0.7343 - val_loss: 0.5429 - val_acc: 0.7316\n",
            "Epoch 71/100\n",
            "1252/1252 [==============================] - 6s 5ms/step - loss: 0.5376 - acc: 0.7342 - val_loss: 0.5430 - val_acc: 0.7320\n",
            "Epoch 72/100\n",
            "1252/1252 [==============================] - 6s 5ms/step - loss: 0.5377 - acc: 0.7337 - val_loss: 0.5435 - val_acc: 0.7319\n",
            "Epoch 73/100\n",
            "1252/1252 [==============================] - 6s 5ms/step - loss: 0.5376 - acc: 0.7339 - val_loss: 0.5441 - val_acc: 0.7304\n",
            "Epoch 74/100\n",
            "1252/1252 [==============================] - 7s 6ms/step - loss: 0.5376 - acc: 0.7342 - val_loss: 0.5429 - val_acc: 0.7320\n",
            "Epoch 75/100\n",
            "1252/1252 [==============================] - 6s 5ms/step - loss: 0.5376 - acc: 0.7340 - val_loss: 0.5435 - val_acc: 0.7319\n",
            "Epoch 76/100\n",
            "1252/1252 [==============================] - 6s 5ms/step - loss: 0.5376 - acc: 0.7344 - val_loss: 0.5436 - val_acc: 0.7323\n",
            "Epoch 77/100\n",
            "1252/1252 [==============================] - 6s 5ms/step - loss: 0.5376 - acc: 0.7342 - val_loss: 0.5431 - val_acc: 0.7317\n",
            "Epoch 78/100\n",
            "1252/1252 [==============================] - 7s 6ms/step - loss: 0.5377 - acc: 0.7343 - val_loss: 0.5434 - val_acc: 0.7312\n",
            "Epoch 79/100\n",
            "1252/1252 [==============================] - 7s 5ms/step - loss: 0.5376 - acc: 0.7338 - val_loss: 0.5433 - val_acc: 0.7313\n",
            "Epoch 80/100\n",
            "1252/1252 [==============================] - 7s 5ms/step - loss: 0.5376 - acc: 0.7343 - val_loss: 0.5435 - val_acc: 0.7319\n",
            "Epoch 81/100\n",
            "1252/1252 [==============================] - 6s 5ms/step - loss: 0.5376 - acc: 0.7344 - val_loss: 0.5437 - val_acc: 0.7309\n",
            "Epoch 82/100\n",
            "1252/1252 [==============================] - 6s 5ms/step - loss: 0.5376 - acc: 0.7340 - val_loss: 0.5434 - val_acc: 0.7317\n",
            "Epoch 83/100\n",
            "1252/1252 [==============================] - 6s 5ms/step - loss: 0.5377 - acc: 0.7344 - val_loss: 0.5434 - val_acc: 0.7322\n",
            "Epoch 84/100\n",
            "1252/1252 [==============================] - 7s 6ms/step - loss: 0.5376 - acc: 0.7341 - val_loss: 0.5431 - val_acc: 0.7322\n",
            "Epoch 85/100\n",
            "1252/1252 [==============================] - 6s 5ms/step - loss: 0.5376 - acc: 0.7339 - val_loss: 0.5435 - val_acc: 0.7315\n",
            "Epoch 86/100\n",
            "1252/1252 [==============================] - 6s 5ms/step - loss: 0.5376 - acc: 0.7338 - val_loss: 0.5441 - val_acc: 0.7310\n",
            "Epoch 87/100\n",
            "1252/1252 [==============================] - 7s 6ms/step - loss: 0.5376 - acc: 0.7342 - val_loss: 0.5438 - val_acc: 0.7319\n",
            "Epoch 88/100\n",
            "1252/1252 [==============================] - 7s 6ms/step - loss: 0.5377 - acc: 0.7341 - val_loss: 0.5434 - val_acc: 0.7321\n",
            "Epoch 89/100\n",
            "1252/1252 [==============================] - 6s 5ms/step - loss: 0.5375 - acc: 0.7340 - val_loss: 0.5436 - val_acc: 0.7322\n",
            "Epoch 90/100\n",
            "1252/1252 [==============================] - 6s 5ms/step - loss: 0.5376 - acc: 0.7341 - val_loss: 0.5437 - val_acc: 0.7317\n",
            "Epoch 91/100\n",
            "1252/1252 [==============================] - 6s 5ms/step - loss: 0.5375 - acc: 0.7340 - val_loss: 0.5436 - val_acc: 0.7317\n",
            "Epoch 92/100\n",
            "1252/1252 [==============================] - 6s 5ms/step - loss: 0.5377 - acc: 0.7341 - val_loss: 0.5434 - val_acc: 0.7317\n",
            "Epoch 93/100\n",
            "1252/1252 [==============================] - 7s 6ms/step - loss: 0.5376 - acc: 0.7340 - val_loss: 0.5438 - val_acc: 0.7322\n",
            "Epoch 94/100\n",
            "1252/1252 [==============================] - 6s 5ms/step - loss: 0.5376 - acc: 0.7342 - val_loss: 0.5436 - val_acc: 0.7318\n",
            "Epoch 95/100\n",
            "1252/1252 [==============================] - 7s 6ms/step - loss: 0.5376 - acc: 0.7342 - val_loss: 0.5436 - val_acc: 0.7317\n",
            "Epoch 96/100\n",
            "1252/1252 [==============================] - 6s 5ms/step - loss: 0.5376 - acc: 0.7345 - val_loss: 0.5436 - val_acc: 0.7315\n",
            "Epoch 97/100\n",
            "1252/1252 [==============================] - 6s 5ms/step - loss: 0.5376 - acc: 0.7338 - val_loss: 0.5438 - val_acc: 0.7317\n",
            "Epoch 98/100\n",
            "1252/1252 [==============================] - 6s 5ms/step - loss: 0.5375 - acc: 0.7340 - val_loss: 0.5437 - val_acc: 0.7315\n",
            "Epoch 99/100\n",
            "1252/1252 [==============================] - 6s 5ms/step - loss: 0.5375 - acc: 0.7343 - val_loss: 0.5437 - val_acc: 0.7319\n",
            "Epoch 100/100\n",
            "1252/1252 [==============================] - 6s 5ms/step - loss: 0.5377 - acc: 0.7340 - val_loss: 0.5438 - val_acc: 0.7310\n"
          ]
        }
      ],
      "source": [
        "history_stem_glove = model_stem_glove.fit(xtrain_stem, \n",
        "                             ytrain,\n",
        "                             validation_data = (xval_stem, yval),\n",
        "                             epochs = epochs,\n",
        "                             batch_size = batch_size,\n",
        "                             verbose = 1)"
      ],
      "id": "ZqTCruCIAvB9"
    },
    {
      "cell_type": "markdown",
      "metadata": {
        "id": "UdyoZeQYXsd_"
      },
      "source": [
        "#### Learning Curve"
      ],
      "id": "UdyoZeQYXsd_"
    },
    {
      "cell_type": "code",
      "execution_count": null,
      "metadata": {
        "id": "2Ir1aSi-AvB9",
        "colab": {
          "base_uri": "https://localhost:8080/"
        },
        "outputId": "635ababe-f5f9-460b-8f1e-656a2c85ed0e"
      },
      "outputs": [
        {
          "output_type": "display_data",
          "data": {
            "text/plain": [
              "<Figure size 432x288 with 1 Axes>"
            ],
            "image/png": "[encoded data removed]"
          },
          "metadata": {
            "needs_background": "light"
          }
        },
        {
          "output_type": "display_data",
          "data": {
            "text/plain": [
              "<Figure size 432x288 with 1 Axes>"
            ],
            "image/png": "[encoded data removed]"
          },
          "metadata": {
            "needs_background": "light"
          }
        }
      ],
      "source": [
        "history = history_stem_glove\n",
        "plot_history(history, list(history.history.keys()))"
      ],
      "id": "2Ir1aSi-AvB9"
    },
    {
      "cell_type": "markdown",
      "metadata": {
        "id": "IBCG6nqmXseA"
      },
      "source": [
        "#### Evaluation du modèle"
      ],
      "id": "IBCG6nqmXseA"
    },
    {
      "cell_type": "code",
      "execution_count": null,
      "metadata": {
        "id": "eem5ZjPGAvB9",
        "colab": {
          "base_uri": "https://localhost:8080/"
        },
        "outputId": "cc333b4f-c6e2-4470-ff5e-0b15a33b7af4"
      },
      "outputs": [
        {
          "output_type": "stream",
          "name": "stdout",
          "text": [
            "Loss score 0.54 : \n",
            "Accuracy score: 0.73 \n"
          ]
        }
      ],
      "source": [
        "evaluate = model_stem_glove.evaluate(xval_stem, yval, verbose=0)\n",
        "\n",
        "print('Loss score %.2f : \\nAccuracy score: %.2f '%(evaluate[0], evaluate[1]))"
      ],
      "id": "eem5ZjPGAvB9"
    },
    {
      "cell_type": "markdown",
      "metadata": {
        "id": "kcsk_7jHAvB9"
      },
      "source": [
        "<a href=\"##sommaire\" rev=\"footnote\">&#8617;</a>"
      ],
      "id": "kcsk_7jHAvB9"
    },
    {
      "cell_type": "markdown",
      "metadata": {
        "id": "etETFIMq0Wzl"
      },
      "source": [
        "### Amélioration du modèle"
      ],
      "id": "etETFIMq0Wzl"
    },
    {
      "cell_type": "code",
      "execution_count": null,
      "metadata": {
        "id": "-3S2pAYm0Wzl"
      },
      "outputs": [],
      "source": [
        "len_vocab = 138808\n",
        "output_dim = 200\n",
        "max_len = 200\n",
        "len_padding = 5\n",
        "\n",
        "tensorflow.random.set_seed(seed)\n",
        "\n",
        "model_stem_glove_optimised = Sequential()\n",
        "\n",
        "model_stem_glove_optimised.add(Embedding(input_dim = len_vocab ,\n",
        "                             output_dim = output_dim,\n",
        "                             embeddings_initializer = keras.initializers.Constant(embedding_matrix),\n",
        "                             input_length = max_len + len_padding,\n",
        "                             trainable = False))\n",
        "model_stem_glove_optimised.add(GlobalAveragePooling1D())\n",
        "model_stem_glove_optimised.add(Flatten())\n",
        "model_stem_glove_optimised.add(Dense(40, activation='relu'))\n",
        "model_stem_glove_optimised.add(Dropout(rate=0.2))\n",
        "model_stem_glove_optimised.add(Dense(1, activation=\"sigmoid\"))\n",
        "model_stem_glove_optimised.compile(optimizer = 'adam', \n",
        "                       loss = 'binary_crossentropy', \n",
        "                       metrics = ['acc'])"
      ],
      "id": "-3S2pAYm0Wzl"
    },
    {
      "cell_type": "code",
      "execution_count": null,
      "metadata": {
        "id": "83iraZ5Z0Wzm",
        "colab": {
          "base_uri": "https://localhost:8080/"
        },
        "outputId": "1195db0d-7314-4c87-ce99-95902221dca9"
      },
      "outputs": [
        {
          "output_type": "stream",
          "name": "stdout",
          "text": [
            "Model: \"sequential_7\"\n",
            "_________________________________________________________________\n",
            " Layer (type)                Output Shape              Param #   \n",
            "=================================================================\n",
            " embedding_7 (Embedding)     (None, 205, 200)          27761600  \n",
            "                                                                 \n",
            " global_average_pooling1d_3   (None, 200)              0         \n",
            " (GlobalAveragePooling1D)                                        \n",
            "                                                                 \n",
            " flatten_7 (Flatten)         (None, 200)               0         \n",
            "                                                                 \n",
            " dense_12 (Dense)            (None, 40)                8040      \n",
            "                                                                 \n",
            " dropout_5 (Dropout)         (None, 40)                0         \n",
            "                                                                 \n",
            " dense_13 (Dense)            (None, 1)                 41        \n",
            "                                                                 \n",
            "=================================================================\n",
            "Total params: 27,769,681\n",
            "Trainable params: 8,081\n",
            "Non-trainable params: 27,761,600\n",
            "_________________________________________________________________\n"
          ]
        }
      ],
      "source": [
        "model_stem_glove_optimised.summary()"
      ],
      "id": "83iraZ5Z0Wzm"
    },
    {
      "cell_type": "code",
      "execution_count": null,
      "metadata": {
        "id": "TF1zXqJf0Wzm",
        "colab": {
          "base_uri": "https://localhost:8080/"
        },
        "outputId": "4ab37cb5-079f-4bec-fbca-6adc6cb30cd4"
      },
      "outputs": [
        {
          "output_type": "stream",
          "name": "stdout",
          "text": [
            "Epoch 1/100\n",
            "1252/1252 [==============================] - 8s 6ms/step - loss: 0.5861 - acc: 0.7031 - val_loss: 0.5459 - val_acc: 0.7277\n",
            "Epoch 2/100\n",
            "1252/1252 [==============================] - 7s 6ms/step - loss: 0.5400 - acc: 0.7289 - val_loss: 0.5316 - val_acc: 0.7327\n",
            "Epoch 3/100\n",
            "1252/1252 [==============================] - 6s 5ms/step - loss: 0.5324 - acc: 0.7320 - val_loss: 0.5274 - val_acc: 0.7344\n",
            "Epoch 4/100\n",
            "1252/1252 [==============================] - 6s 5ms/step - loss: 0.5292 - acc: 0.7334 - val_loss: 0.5247 - val_acc: 0.7361\n",
            "Epoch 5/100\n",
            "1252/1252 [==============================] - 7s 6ms/step - loss: 0.5269 - acc: 0.7348 - val_loss: 0.5232 - val_acc: 0.7372\n",
            "Epoch 6/100\n",
            "1252/1252 [==============================] - 7s 6ms/step - loss: 0.5252 - acc: 0.7359 - val_loss: 0.5209 - val_acc: 0.7388\n",
            "Epoch 7/100\n",
            "1252/1252 [==============================] - 6s 5ms/step - loss: 0.5236 - acc: 0.7373 - val_loss: 0.5194 - val_acc: 0.7394\n",
            "Epoch 8/100\n",
            "1252/1252 [==============================] - 6s 5ms/step - loss: 0.5222 - acc: 0.7383 - val_loss: 0.5185 - val_acc: 0.7396\n",
            "Epoch 9/100\n",
            "1252/1252 [==============================] - 6s 5ms/step - loss: 0.5210 - acc: 0.7395 - val_loss: 0.5170 - val_acc: 0.7410\n",
            "Epoch 10/100\n",
            "1252/1252 [==============================] - 7s 6ms/step - loss: 0.5201 - acc: 0.7402 - val_loss: 0.5167 - val_acc: 0.7421\n",
            "Epoch 11/100\n",
            "1252/1252 [==============================] - 7s 6ms/step - loss: 0.5190 - acc: 0.7409 - val_loss: 0.5149 - val_acc: 0.7427\n",
            "Epoch 12/100\n",
            "1252/1252 [==============================] - 6s 5ms/step - loss: 0.5181 - acc: 0.7417 - val_loss: 0.5143 - val_acc: 0.7440\n",
            "Epoch 13/100\n",
            "1252/1252 [==============================] - 7s 6ms/step - loss: 0.5171 - acc: 0.7429 - val_loss: 0.5133 - val_acc: 0.7442\n",
            "Epoch 14/100\n",
            "1252/1252 [==============================] - 6s 5ms/step - loss: 0.5164 - acc: 0.7431 - val_loss: 0.5123 - val_acc: 0.7449\n",
            "Epoch 15/100\n",
            "1252/1252 [==============================] - 6s 5ms/step - loss: 0.5157 - acc: 0.7434 - val_loss: 0.5118 - val_acc: 0.7451\n",
            "Epoch 16/100\n",
            "1252/1252 [==============================] - 6s 5ms/step - loss: 0.5151 - acc: 0.7446 - val_loss: 0.5109 - val_acc: 0.7458\n",
            "Epoch 17/100\n",
            "1252/1252 [==============================] - 7s 6ms/step - loss: 0.5143 - acc: 0.7446 - val_loss: 0.5109 - val_acc: 0.7465\n",
            "Epoch 18/100\n",
            "1252/1252 [==============================] - 7s 6ms/step - loss: 0.5139 - acc: 0.7453 - val_loss: 0.5096 - val_acc: 0.7469\n",
            "Epoch 19/100\n",
            "1252/1252 [==============================] - 7s 6ms/step - loss: 0.5131 - acc: 0.7460 - val_loss: 0.5091 - val_acc: 0.7476\n",
            "Epoch 20/100\n",
            "1252/1252 [==============================] - 6s 5ms/step - loss: 0.5127 - acc: 0.7464 - val_loss: 0.5085 - val_acc: 0.7478\n",
            "Epoch 21/100\n",
            "1252/1252 [==============================] - 6s 5ms/step - loss: 0.5118 - acc: 0.7470 - val_loss: 0.5081 - val_acc: 0.7484\n",
            "Epoch 22/100\n",
            "1252/1252 [==============================] - 6s 5ms/step - loss: 0.5113 - acc: 0.7474 - val_loss: 0.5075 - val_acc: 0.7488\n",
            "Epoch 23/100\n",
            "1252/1252 [==============================] - 6s 5ms/step - loss: 0.5111 - acc: 0.7477 - val_loss: 0.5072 - val_acc: 0.7490\n",
            "Epoch 24/100\n",
            "1252/1252 [==============================] - 7s 6ms/step - loss: 0.5109 - acc: 0.7477 - val_loss: 0.5070 - val_acc: 0.7494\n",
            "Epoch 25/100\n",
            "1252/1252 [==============================] - 6s 5ms/step - loss: 0.5102 - acc: 0.7481 - val_loss: 0.5063 - val_acc: 0.7498\n",
            "Epoch 26/100\n",
            "1252/1252 [==============================] - 6s 5ms/step - loss: 0.5096 - acc: 0.7490 - val_loss: 0.5057 - val_acc: 0.7499\n",
            "Epoch 27/100\n",
            "1252/1252 [==============================] - 6s 5ms/step - loss: 0.5096 - acc: 0.7490 - val_loss: 0.5056 - val_acc: 0.7502\n",
            "Epoch 28/100\n",
            "1252/1252 [==============================] - 7s 6ms/step - loss: 0.5093 - acc: 0.7496 - val_loss: 0.5054 - val_acc: 0.7506\n",
            "Epoch 29/100\n",
            "1252/1252 [==============================] - 7s 6ms/step - loss: 0.5087 - acc: 0.7493 - val_loss: 0.5050 - val_acc: 0.7510\n",
            "Epoch 30/100\n",
            "1252/1252 [==============================] - 6s 5ms/step - loss: 0.5082 - acc: 0.7502 - val_loss: 0.5047 - val_acc: 0.7507\n",
            "Epoch 31/100\n",
            "1252/1252 [==============================] - 6s 5ms/step - loss: 0.5082 - acc: 0.7503 - val_loss: 0.5041 - val_acc: 0.7513\n",
            "Epoch 32/100\n",
            "1252/1252 [==============================] - 8s 6ms/step - loss: 0.5077 - acc: 0.7505 - val_loss: 0.5042 - val_acc: 0.7514\n",
            "Epoch 33/100\n",
            "1252/1252 [==============================] - 7s 5ms/step - loss: 0.5073 - acc: 0.7508 - val_loss: 0.5048 - val_acc: 0.7505\n",
            "Epoch 34/100\n",
            "1252/1252 [==============================] - 6s 5ms/step - loss: 0.5074 - acc: 0.7512 - val_loss: 0.5037 - val_acc: 0.7512\n",
            "Epoch 35/100\n",
            "1252/1252 [==============================] - 7s 6ms/step - loss: 0.5066 - acc: 0.7515 - val_loss: 0.5031 - val_acc: 0.7524\n",
            "Epoch 36/100\n",
            "1252/1252 [==============================] - 6s 5ms/step - loss: 0.5066 - acc: 0.7514 - val_loss: 0.5036 - val_acc: 0.7521\n",
            "Epoch 37/100\n",
            "1252/1252 [==============================] - 7s 6ms/step - loss: 0.5062 - acc: 0.7524 - val_loss: 0.5035 - val_acc: 0.7520\n",
            "Epoch 38/100\n",
            "1252/1252 [==============================] - 6s 5ms/step - loss: 0.5063 - acc: 0.7520 - val_loss: 0.5030 - val_acc: 0.7522\n",
            "Epoch 39/100\n",
            "1252/1252 [==============================] - 6s 5ms/step - loss: 0.5057 - acc: 0.7522 - val_loss: 0.5022 - val_acc: 0.7532\n",
            "Epoch 40/100\n",
            "1252/1252 [==============================] - 7s 6ms/step - loss: 0.5054 - acc: 0.7524 - val_loss: 0.5020 - val_acc: 0.7532\n",
            "Epoch 41/100\n",
            "1252/1252 [==============================] - 7s 6ms/step - loss: 0.5053 - acc: 0.7525 - val_loss: 0.5019 - val_acc: 0.7534\n",
            "Epoch 42/100\n",
            "1252/1252 [==============================] - 6s 5ms/step - loss: 0.5052 - acc: 0.7525 - val_loss: 0.5019 - val_acc: 0.7537\n",
            "Epoch 43/100\n",
            "1252/1252 [==============================] - 7s 6ms/step - loss: 0.5049 - acc: 0.7524 - val_loss: 0.5024 - val_acc: 0.7531\n",
            "Epoch 44/100\n",
            "1252/1252 [==============================] - 7s 6ms/step - loss: 0.5049 - acc: 0.7528 - val_loss: 0.5014 - val_acc: 0.7541\n",
            "Epoch 45/100\n",
            "1252/1252 [==============================] - 7s 6ms/step - loss: 0.5048 - acc: 0.7530 - val_loss: 0.5012 - val_acc: 0.7540\n",
            "Epoch 46/100\n",
            "1252/1252 [==============================] - 7s 6ms/step - loss: 0.5045 - acc: 0.7533 - val_loss: 0.5012 - val_acc: 0.7541\n",
            "Epoch 47/100\n",
            "1252/1252 [==============================] - 6s 5ms/step - loss: 0.5043 - acc: 0.7533 - val_loss: 0.5012 - val_acc: 0.7540\n",
            "Epoch 48/100\n",
            "1252/1252 [==============================] - 6s 5ms/step - loss: 0.5040 - acc: 0.7536 - val_loss: 0.5007 - val_acc: 0.7543\n",
            "Epoch 49/100\n",
            "1252/1252 [==============================] - 7s 6ms/step - loss: 0.5041 - acc: 0.7531 - val_loss: 0.5009 - val_acc: 0.7540\n",
            "Epoch 50/100\n",
            "1252/1252 [==============================] - 6s 5ms/step - loss: 0.5040 - acc: 0.7535 - val_loss: 0.5006 - val_acc: 0.7545\n",
            "Epoch 51/100\n",
            "1252/1252 [==============================] - 6s 5ms/step - loss: 0.5037 - acc: 0.7539 - val_loss: 0.5008 - val_acc: 0.7547\n",
            "Epoch 52/100\n",
            "1252/1252 [==============================] - 7s 6ms/step - loss: 0.5035 - acc: 0.7537 - val_loss: 0.5003 - val_acc: 0.7548\n",
            "Epoch 53/100\n",
            "1252/1252 [==============================] - 6s 5ms/step - loss: 0.5031 - acc: 0.7543 - val_loss: 0.5000 - val_acc: 0.7549\n",
            "Epoch 54/100\n",
            "1252/1252 [==============================] - 6s 5ms/step - loss: 0.5033 - acc: 0.7542 - val_loss: 0.5004 - val_acc: 0.7548\n",
            "Epoch 55/100\n",
            "1252/1252 [==============================] - 6s 5ms/step - loss: 0.5031 - acc: 0.7544 - val_loss: 0.5000 - val_acc: 0.7548\n",
            "Epoch 56/100\n",
            "1252/1252 [==============================] - 7s 6ms/step - loss: 0.5032 - acc: 0.7542 - val_loss: 0.5005 - val_acc: 0.7544\n",
            "Epoch 57/100\n",
            "1252/1252 [==============================] - 6s 5ms/step - loss: 0.5030 - acc: 0.7541 - val_loss: 0.5006 - val_acc: 0.7547\n",
            "Epoch 58/100\n",
            "1252/1252 [==============================] - 7s 6ms/step - loss: 0.5027 - acc: 0.7547 - val_loss: 0.5001 - val_acc: 0.7550\n",
            "Epoch 59/100\n",
            "1252/1252 [==============================] - 6s 5ms/step - loss: 0.5026 - acc: 0.7546 - val_loss: 0.4997 - val_acc: 0.7550\n",
            "Epoch 60/100\n",
            "1252/1252 [==============================] - 6s 5ms/step - loss: 0.5024 - acc: 0.7548 - val_loss: 0.4999 - val_acc: 0.7547\n",
            "Epoch 61/100\n",
            "1252/1252 [==============================] - 6s 5ms/step - loss: 0.5025 - acc: 0.7547 - val_loss: 0.4997 - val_acc: 0.7552\n",
            "Epoch 62/100\n",
            "1252/1252 [==============================] - 7s 6ms/step - loss: 0.5024 - acc: 0.7548 - val_loss: 0.4997 - val_acc: 0.7549\n",
            "Epoch 63/100\n",
            "1252/1252 [==============================] - 7s 6ms/step - loss: 0.5024 - acc: 0.7550 - val_loss: 0.4995 - val_acc: 0.7552\n",
            "Epoch 64/100\n",
            "1252/1252 [==============================] - 7s 6ms/step - loss: 0.5021 - acc: 0.7548 - val_loss: 0.4997 - val_acc: 0.7551\n",
            "Epoch 65/100\n",
            "1252/1252 [==============================] - 6s 5ms/step - loss: 0.5018 - acc: 0.7554 - val_loss: 0.4992 - val_acc: 0.7553\n",
            "Epoch 66/100\n",
            "1252/1252 [==============================] - 6s 5ms/step - loss: 0.5021 - acc: 0.7553 - val_loss: 0.4996 - val_acc: 0.7556\n",
            "Epoch 67/100\n",
            "1252/1252 [==============================] - 7s 6ms/step - loss: 0.5019 - acc: 0.7552 - val_loss: 0.4988 - val_acc: 0.7554\n",
            "Epoch 68/100\n",
            "1252/1252 [==============================] - 7s 6ms/step - loss: 0.5021 - acc: 0.7553 - val_loss: 0.4995 - val_acc: 0.7555\n",
            "Epoch 69/100\n",
            "1252/1252 [==============================] - 7s 6ms/step - loss: 0.5015 - acc: 0.7555 - val_loss: 0.4989 - val_acc: 0.7556\n",
            "Epoch 70/100\n",
            "1252/1252 [==============================] - 6s 5ms/step - loss: 0.5017 - acc: 0.7552 - val_loss: 0.4996 - val_acc: 0.7553\n",
            "Epoch 71/100\n",
            "1252/1252 [==============================] - 6s 5ms/step - loss: 0.5014 - acc: 0.7556 - val_loss: 0.4990 - val_acc: 0.7555\n",
            "Epoch 72/100\n",
            "1252/1252 [==============================] - 7s 6ms/step - loss: 0.5020 - acc: 0.7555 - val_loss: 0.4995 - val_acc: 0.7549\n",
            "Epoch 73/100\n",
            "1252/1252 [==============================] - 6s 5ms/step - loss: 0.5014 - acc: 0.7553 - val_loss: 0.5000 - val_acc: 0.7547\n",
            "Epoch 74/100\n",
            "1252/1252 [==============================] - 7s 6ms/step - loss: 0.5013 - acc: 0.7554 - val_loss: 0.4987 - val_acc: 0.7560\n",
            "Epoch 75/100\n",
            "1252/1252 [==============================] - 6s 5ms/step - loss: 0.5011 - acc: 0.7556 - val_loss: 0.4988 - val_acc: 0.7559\n",
            "Epoch 76/100\n",
            "1252/1252 [==============================] - 7s 6ms/step - loss: 0.5010 - acc: 0.7561 - val_loss: 0.4989 - val_acc: 0.7560\n",
            "Epoch 77/100\n",
            "1252/1252 [==============================] - 7s 6ms/step - loss: 0.5011 - acc: 0.7559 - val_loss: 0.4991 - val_acc: 0.7556\n",
            "Epoch 78/100\n",
            "1252/1252 [==============================] - 7s 6ms/step - loss: 0.5011 - acc: 0.7560 - val_loss: 0.4989 - val_acc: 0.7560\n",
            "Epoch 79/100\n",
            "1252/1252 [==============================] - 6s 5ms/step - loss: 0.5010 - acc: 0.7556 - val_loss: 0.4991 - val_acc: 0.7562\n",
            "Epoch 80/100\n",
            "1252/1252 [==============================] - 6s 5ms/step - loss: 0.5011 - acc: 0.7558 - val_loss: 0.4987 - val_acc: 0.7560\n",
            "Epoch 81/100\n",
            "1252/1252 [==============================] - 6s 5ms/step - loss: 0.5006 - acc: 0.7559 - val_loss: 0.4988 - val_acc: 0.7558\n",
            "Epoch 82/100\n",
            "1252/1252 [==============================] - 7s 6ms/step - loss: 0.5008 - acc: 0.7558 - val_loss: 0.4983 - val_acc: 0.7557\n",
            "Epoch 83/100\n",
            "1252/1252 [==============================] - 7s 6ms/step - loss: 0.5005 - acc: 0.7562 - val_loss: 0.4988 - val_acc: 0.7558\n",
            "Epoch 84/100\n",
            "1252/1252 [==============================] - 7s 6ms/step - loss: 0.5006 - acc: 0.7560 - val_loss: 0.4984 - val_acc: 0.7562\n",
            "Epoch 85/100\n",
            "1252/1252 [==============================] - 7s 6ms/step - loss: 0.5008 - acc: 0.7560 - val_loss: 0.4982 - val_acc: 0.7558\n",
            "Epoch 86/100\n",
            "1252/1252 [==============================] - 6s 5ms/step - loss: 0.5002 - acc: 0.7559 - val_loss: 0.4985 - val_acc: 0.7562\n",
            "Epoch 87/100\n",
            "1252/1252 [==============================] - 6s 5ms/step - loss: 0.5004 - acc: 0.7563 - val_loss: 0.4985 - val_acc: 0.7553\n",
            "Epoch 88/100\n",
            "1252/1252 [==============================] - 6s 5ms/step - loss: 0.5002 - acc: 0.7562 - val_loss: 0.4983 - val_acc: 0.7561\n",
            "Epoch 89/100\n",
            "1252/1252 [==============================] - 7s 6ms/step - loss: 0.5003 - acc: 0.7562 - val_loss: 0.4984 - val_acc: 0.7558\n",
            "Epoch 90/100\n",
            "1252/1252 [==============================] - 7s 6ms/step - loss: 0.5003 - acc: 0.7561 - val_loss: 0.4983 - val_acc: 0.7559\n",
            "Epoch 91/100\n",
            "1252/1252 [==============================] - 6s 5ms/step - loss: 0.5002 - acc: 0.7561 - val_loss: 0.4982 - val_acc: 0.7561\n",
            "Epoch 92/100\n",
            "1252/1252 [==============================] - 6s 5ms/step - loss: 0.5003 - acc: 0.7563 - val_loss: 0.4983 - val_acc: 0.7562\n",
            "Epoch 93/100\n",
            "1252/1252 [==============================] - 6s 5ms/step - loss: 0.5002 - acc: 0.7565 - val_loss: 0.4984 - val_acc: 0.7562\n",
            "Epoch 94/100\n",
            "1252/1252 [==============================] - 7s 6ms/step - loss: 0.4999 - acc: 0.7566 - val_loss: 0.4987 - val_acc: 0.7554\n",
            "Epoch 95/100\n",
            "1252/1252 [==============================] - 7s 6ms/step - loss: 0.4998 - acc: 0.7567 - val_loss: 0.4988 - val_acc: 0.7561\n",
            "Epoch 96/100\n",
            "1252/1252 [==============================] - 8s 6ms/step - loss: 0.5001 - acc: 0.7568 - val_loss: 0.4983 - val_acc: 0.7561\n",
            "Epoch 97/100\n",
            "1252/1252 [==============================] - 7s 5ms/step - loss: 0.4998 - acc: 0.7565 - val_loss: 0.4981 - val_acc: 0.7561\n",
            "Epoch 98/100\n",
            "1252/1252 [==============================] - 7s 6ms/step - loss: 0.5000 - acc: 0.7566 - val_loss: 0.4980 - val_acc: 0.7563\n",
            "Epoch 99/100\n",
            "1252/1252 [==============================] - 6s 5ms/step - loss: 0.5000 - acc: 0.7566 - val_loss: 0.4984 - val_acc: 0.7562\n",
            "Epoch 100/100\n",
            "1252/1252 [==============================] - 7s 6ms/step - loss: 0.5000 - acc: 0.7566 - val_loss: 0.4984 - val_acc: 0.7560\n"
          ]
        }
      ],
      "source": [
        "t0 = time()\n",
        "history_stem_glove_optimised = model_stem_glove_optimised.fit(xtrain_stem, \n",
        "                             ytrain,\n",
        "                             validation_data = (xval_stem, yval),\n",
        "                             epochs = epochs,\n",
        "                             batch_size = batch_size,\n",
        "                             verbose = 1)\n",
        "\n",
        "t_stem_glove_optimised = time() - t0"
      ],
      "id": "TF1zXqJf0Wzm"
    },
    {
      "cell_type": "markdown",
      "metadata": {
        "id": "jvATsTE40Wzn"
      },
      "source": [
        "#### Learning Curve"
      ],
      "id": "jvATsTE40Wzn"
    },
    {
      "cell_type": "code",
      "execution_count": null,
      "metadata": {
        "id": "q4P_vqFZ0Wzn",
        "colab": {
          "base_uri": "https://localhost:8080/"
        },
        "outputId": "7e985d05-365a-42a3-f61b-070f2b6673b9"
      },
      "outputs": [
        {
          "output_type": "display_data",
          "data": {
            "text/plain": [
              "<Figure size 432x288 with 1 Axes>"
            ],
            "image/png": "[encoded data removed]"
          },
          "metadata": {
            "needs_background": "light"
          }
        },
        {
          "output_type": "display_data",
          "data": {
            "text/plain": [
              "<Figure size 432x288 with 1 Axes>"
            ],
            "image/png": "[encoded data removed]"
          },
          "metadata": {
            "needs_background": "light"
          }
        }
      ],
      "source": [
        "history = history_stem_glove_optimised\n",
        "plot_history(history, list(history.history.keys()))"
      ],
      "id": "q4P_vqFZ0Wzn"
    },
    {
      "cell_type": "markdown",
      "metadata": {
        "id": "Fj4m6yjf0Wzn"
      },
      "source": [
        "#### Evaluation du modèle"
      ],
      "id": "Fj4m6yjf0Wzn"
    },
    {
      "cell_type": "code",
      "execution_count": null,
      "metadata": {
        "id": "tSOQFNOL0Wzn",
        "colab": {
          "base_uri": "https://localhost:8080/"
        },
        "outputId": "1e935337-34e9-4683-93b3-0b77a624f8fa"
      },
      "outputs": [
        {
          "output_type": "stream",
          "name": "stdout",
          "text": [
            "Loss score 0.50 : \n",
            "Accuracy score: 0.76\n"
          ]
        }
      ],
      "source": [
        "evaluate = model_stem_glove_optimised.evaluate(xval_stem, yval, verbose=0)\n",
        "\n",
        "print('Loss score %.2f : \\nAccuracy score: %.2f'%(evaluate[0], evaluate[1]))"
      ],
      "id": "tSOQFNOL0Wzn"
    },
    {
      "cell_type": "markdown",
      "metadata": {
        "id": "UXT1BiNu0z_4"
      },
      "source": [
        "#### Sauvegarde du modèle"
      ],
      "id": "UXT1BiNu0z_4"
    },
    {
      "cell_type": "code",
      "execution_count": null,
      "metadata": {
        "id": "TwY6GZFV0Wzo",
        "colab": {
          "base_uri": "https://localhost:8080/"
        },
        "outputId": "97e5784f-d7fc-4631-ac2b-3fae3817a7fa"
      },
      "outputs": [
        {
          "output_type": "stream",
          "name": "stdout",
          "text": [
            "Model Saved!\n"
          ]
        }
      ],
      "source": [
        "# saving model\n",
        "\n",
        "model_stem_glove_optimised.save(path + 'models/model_stem_glove')\n",
        "\n",
        "print('Model Saved!')"
      ],
      "id": "TwY6GZFV0Wzo"
    },
    {
      "cell_type": "code",
      "execution_count": null,
      "metadata": {
        "id": "kt7VmixHVk4l",
        "colab": {
          "base_uri": "https://localhost:8080/"
        },
        "outputId": "21487a34-49ac-4db7-a044-da2a0172cfc9"
      },
      "outputs": [
        {
          "output_type": "stream",
          "name": "stdout",
          "text": [
            "Done!\n"
          ]
        }
      ],
      "source": [
        "import pickle\n",
        "\n",
        "learning_times = {}\n",
        "learning_times['lemm_word2vec'] = t_lemm_w2v_optimised\n",
        "learning_times['lemm_glove'] = t_lemm_glove_optimised\n",
        "learning_times['stem_word2vec'] = t_stem_w2v_optimised\n",
        "learning_times['stem_glove'] = t_stem_glove_optimised\n",
        "\n",
        "# sauvegarde temsp d'entraînement\n",
        "with open(path + \"models/embedding_learning_times.pkl\", \"wb\") as tf:\n",
        "    pickle.dump(learning_times,tf)\n",
        "print('Done!')"
      ],
      "id": "kt7VmixHVk4l"
    },
    {
      "cell_type": "code",
      "source": [
        "print(learning_times)"
      ],
      "metadata": {
        "id": "u1atjneeJT92",
        "colab": {
          "base_uri": "https://localhost:8080/"
        },
        "outputId": "92f7d044-d4aa-4366-9fc7-388fac84b529"
      },
      "id": "u1atjneeJT92",
      "execution_count": null,
      "outputs": [
        {
          "output_type": "stream",
          "name": "stdout",
          "text": [
            "{'lemm_word2vec': 682.468090057373, 'lemm_glove': 681.315753698349, 'stem_word2vec': 682.4985361099243, 'stem_glove': 682.5130333900452}\n"
          ]
        }
      ]
    },
    {
      "cell_type": "markdown",
      "metadata": {
        "id": "K3Ng9b3G0Wzo"
      },
      "source": [
        "<a href=\"##sommaire\" rev=\"footnote\">&#8617;</a>"
      ],
      "id": "K3Ng9b3G0Wzo"
    }
  ],
  "metadata": {
    "colab": {
      "collapsed_sections": [
        "YU8eYa0MIYPv",
        "Z5fMr7EDIdq0",
        "ZPeHH8He0Hj6"
      ],
      "provenance": [],
      "toc_visible": true
    },
    "gpuClass": "standard",
    "kernelspec": {
      "display_name": "Python 3 (ipykernel)",
      "language": "python",
      "name": "python3"
    },
    "language_info": {
      "codemirror_mode": {
        "name": "ipython",
        "version": 3
      },
      "file_extension": ".py",
      "mimetype": "text/x-python",
      "name": "python",
      "nbconvert_exporter": "python",
      "pygments_lexer": "ipython3",
      "version": "3.9.13"
    },
    "accelerator": "GPU"
  },
  "nbformat": 4,
  "nbformat_minor": 5
}
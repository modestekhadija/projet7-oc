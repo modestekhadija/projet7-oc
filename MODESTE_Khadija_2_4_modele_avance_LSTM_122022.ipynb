{
  "cells": [
    {
      "cell_type": "markdown",
      "id": "230ba233",
      "metadata": {
        "id": "230ba233"
      },
      "source": [
        "# <center><span style='background:yellow'> Détectez les Bad Buzz grâce au Deep Learning</span></center>\n",
        "# <center><span style='background:yellow'>Modèle de Deep Learning avec une couche embedding et une couche LSTM</span></center> \n",
        "==================================================================================================================="
      ]
    },
    {
      "cell_type": "markdown",
      "id": "253d9ec4",
      "metadata": {
        "id": "253d9ec4"
      },
      "source": [
        "## Sommaire <a class=\"anchor\" id=\"sommaire\"></a>\n",
        "\n",
        "* [Import des librairies, chargement des données](#00)\n",
        "* [1. Nettoyage avec lemmatisation et vectorisation avec Word2Vec](#10)  \n",
        "* [2. Nettoyage avec lemmatisation et vectorisation avec Glove](#20)  \n",
        "* [3. Nettoyage avec Stemming et vectorisation avec Word2Vec](#30)  \n",
        "* [4. Nettoyage avec Stemming et vectorisation avec Glove](#40)  "
      ]
    },
    {
      "cell_type": "markdown",
      "id": "e480d484",
      "metadata": {
        "id": "e480d484"
      },
      "source": [
        "## Import des librairies, chargement des données<a class=\"anchor\" id=\"00\"></a>"
      ]
    },
    {
      "cell_type": "code",
      "execution_count": 1,
      "id": "VUnWUdKTxxBp",
      "metadata": {
        "colab": {
          "base_uri": "https://localhost:8080/"
        },
        "id": "VUnWUdKTxxBp",
        "outputId": "06433214-b9f8-41f9-8cbe-b04a3cb48627"
      },
      "outputs": [
        {
          "output_type": "stream",
          "name": "stdout",
          "text": [
            "Mounted at /content/drive\n"
          ]
        }
      ],
      "source": [
        "from google.colab import drive\n",
        "drive.mount('/content/drive')"
      ]
    },
    {
      "cell_type": "code",
      "execution_count": 2,
      "id": "ebfehYDn0-iN",
      "metadata": {
        "id": "ebfehYDn0-iN",
        "colab": {
          "base_uri": "https://localhost:8080/"
        },
        "outputId": "db0d3e7e-85ce-4cc0-a68b-9d59f4e8232a"
      },
      "outputs": [
        {
          "output_type": "stream",
          "name": "stdout",
          "text": [
            "Looking in indexes: https://pypi.org/simple, https://us-python.pkg.dev/colab-wheels/public/simple/\n",
            "Collecting gensim==4.2.0\n",
            "  Downloading gensim-4.2.0-cp38-cp38-manylinux_2_12_x86_64.manylinux2010_x86_64.whl (24.1 MB)\n",
            "\u001b[K     |████████████████████████████████| 24.1 MB 133.3 MB/s \n",
            "\u001b[?25hRequirement already satisfied: smart-open>=1.8.1 in /usr/local/lib/python3.8/dist-packages (from gensim==4.2.0) (6.3.0)\n",
            "Requirement already satisfied: numpy>=1.17.0 in /usr/local/lib/python3.8/dist-packages (from gensim==4.2.0) (1.21.6)\n",
            "Requirement already satisfied: scipy>=0.18.1 in /usr/local/lib/python3.8/dist-packages (from gensim==4.2.0) (1.7.3)\n",
            "Installing collected packages: gensim\n",
            "  Attempting uninstall: gensim\n",
            "    Found existing installation: gensim 3.6.0\n",
            "    Uninstalling gensim-3.6.0:\n",
            "      Successfully uninstalled gensim-3.6.0\n",
            "Successfully installed gensim-4.2.0\n"
          ]
        }
      ],
      "source": [
        "%pip install gensim==4.2.0"
      ]
    },
    {
      "cell_type": "code",
      "execution_count": 3,
      "id": "156f44fd",
      "metadata": {
        "id": "156f44fd",
        "colab": {
          "base_uri": "https://localhost:8080/"
        },
        "outputId": "869bf4c5-7b68-46d6-83cb-eb44db244615"
      },
      "outputs": [
        {
          "output_type": "stream",
          "name": "stdout",
          "text": [
            "Tensorflow version : 2.9.2\n",
            "Keras version : 2.9.0\n",
            "gensim version : 4.2.0\n"
          ]
        }
      ],
      "source": [
        "import numpy as np\n",
        "import pandas as pd\n",
        "\n",
        "# Visualisation\n",
        "import matplotlib.pyplot as plt\n",
        "import seaborn as sns\n",
        "from sklearn.model_selection import train_test_split\n",
        "\n",
        "import gensim\n",
        "from gensim.models import KeyedVectors\n",
        "import keras\n",
        "import gensim.downloader\n",
        "import tensorflow\n",
        "from tensorflow.keras import models\n",
        "from tensorflow.keras.preprocessing.sequence import pad_sequences\n",
        "from tensorflow.keras.preprocessing.text import Tokenizer\n",
        "from tensorflow.keras import models, Sequential\n",
        "from tensorflow.keras.layers import Embedding, Flatten, Dense, Dropout, LSTM\n",
        "from tensorflow.keras.layers import Bidirectional, GlobalAveragePooling1D\n",
        "\n",
        "# Version des librairie\n",
        "print('Tensorflow version :', tensorflow.__version__)\n",
        "print('Keras version :', keras.__version__)\n",
        "print('gensim version :', gensim.__version__)"
      ]
    },
    {
      "cell_type": "code",
      "execution_count": 4,
      "id": "LfrjlsAYsTpY",
      "metadata": {
        "id": "LfrjlsAYsTpY"
      },
      "outputs": [],
      "source": [
        "# Chargement des données\n",
        "path = '/content/drive/MyDrive/p7/'"
      ]
    },
    {
      "cell_type": "code",
      "execution_count": 5,
      "id": "tBDayzPihheQ",
      "metadata": {
        "id": "tBDayzPihheQ"
      },
      "outputs": [],
      "source": [
        "train = pd.read_csv(path + 'data/train.csv', index_col=0, encoding='utf-8')\n",
        "validation = pd.read_csv(path + 'data/validation.csv', index_col=0, encoding='utf-8')\n",
        "\n",
        "train.dropna(inplace=True)\n",
        "validation.dropna(inplace=True)"
      ]
    },
    {
      "cell_type": "code",
      "execution_count": 6,
      "id": "lCfrm4KdJYwJ",
      "metadata": {
        "id": "lCfrm4KdJYwJ",
        "colab": {
          "base_uri": "https://localhost:8080/",
          "height": 337
        },
        "outputId": "57d1ab7c-915c-4e21-b1c1-1575937f5265"
      },
      "outputs": [
        {
          "output_type": "execute_result",
          "data": {
            "text/plain": [
              "                                                     tweet  label  \\\n",
              "1273151   #Goodsex When he makes you squirt all over him        1   \n",
              "445145   Looking for a &quot;Sexy Sailors&quot; outfit ...      0   \n",
              "499993   i dont know why twitter just now sent that thr...      0   \n",
              "122529   A particularly brutal rejection has put me off...      0   \n",
              "1322335  @bets_carabuena dear! sa friday pa dito  thurs...      1   \n",
              "\n",
              "                                          tweet_clean_lemm  \\\n",
              "1273151                                goodsex make squirt   \n",
              "445145   look quot;sexy sailors&quot outfit laura hen n...   \n",
              "499993                 not know twitter send word headache   \n",
              "122529   particularly brutal rejection writing never co...   \n",
              "1322335           dear sa friday pa dito thursday ang game   \n",
              "\n",
              "                                          tweet_clean_stem  \n",
              "1273151                                goodsex make squirt  \n",
              "445145   look quot;sexi sailors&quot outfit laura hen n...  \n",
              "499993                   nt know twitter sent word headach  \n",
              "122529   particular brutal reject write never consid eg...  \n",
              "1322335           dear sa friday pa dito thursday ang game  "
            ],
            "text/html": [
              "\n",
              "  <div id=\"df-f499e656-aab4-46d6-81f0-c671a19ca28c\">\n",
              "    <div class=\"colab-df-container\">\n",
              "      <div>\n",
              "<style scoped>\n",
              "    .dataframe tbody tr th:only-of-type {\n",
              "        vertical-align: middle;\n",
              "    }\n",
              "\n",
              "    .dataframe tbody tr th {\n",
              "        vertical-align: top;\n",
              "    }\n",
              "\n",
              "    .dataframe thead th {\n",
              "        text-align: right;\n",
              "    }\n",
              "</style>\n",
              "<table border=\"1\" class=\"dataframe\">\n",
              "  <thead>\n",
              "    <tr style=\"text-align: right;\">\n",
              "      <th></th>\n",
              "      <th>tweet</th>\n",
              "      <th>label</th>\n",
              "      <th>tweet_clean_lemm</th>\n",
              "      <th>tweet_clean_stem</th>\n",
              "    </tr>\n",
              "  </thead>\n",
              "  <tbody>\n",
              "    <tr>\n",
              "      <th>1273151</th>\n",
              "      <td>#Goodsex When he makes you squirt all over him</td>\n",
              "      <td>1</td>\n",
              "      <td>goodsex make squirt</td>\n",
              "      <td>goodsex make squirt</td>\n",
              "    </tr>\n",
              "    <tr>\n",
              "      <th>445145</th>\n",
              "      <td>Looking for a &amp;quot;Sexy Sailors&amp;quot; outfit ...</td>\n",
              "      <td>0</td>\n",
              "      <td>look quot;sexy sailors&amp;quot outfit laura hen n...</td>\n",
              "      <td>look quot;sexi sailors&amp;quot outfit laura hen n...</td>\n",
              "    </tr>\n",
              "    <tr>\n",
              "      <th>499993</th>\n",
              "      <td>i dont know why twitter just now sent that thr...</td>\n",
              "      <td>0</td>\n",
              "      <td>not know twitter send word headache</td>\n",
              "      <td>nt know twitter sent word headach</td>\n",
              "    </tr>\n",
              "    <tr>\n",
              "      <th>122529</th>\n",
              "      <td>A particularly brutal rejection has put me off...</td>\n",
              "      <td>0</td>\n",
              "      <td>particularly brutal rejection writing never co...</td>\n",
              "      <td>particular brutal reject write never consid eg...</td>\n",
              "    </tr>\n",
              "    <tr>\n",
              "      <th>1322335</th>\n",
              "      <td>@bets_carabuena dear! sa friday pa dito  thurs...</td>\n",
              "      <td>1</td>\n",
              "      <td>dear sa friday pa dito thursday ang game</td>\n",
              "      <td>dear sa friday pa dito thursday ang game</td>\n",
              "    </tr>\n",
              "  </tbody>\n",
              "</table>\n",
              "</div>\n",
              "      <button class=\"colab-df-convert\" onclick=\"convertToInteractive('df-f499e656-aab4-46d6-81f0-c671a19ca28c')\"\n",
              "              title=\"Convert this dataframe to an interactive table.\"\n",
              "              style=\"display:none;\">\n",
              "        \n",
              "  <svg xmlns=\"http://www.w3.org/2000/svg\" height=\"24px\"viewBox=\"0 0 24 24\"\n",
              "       width=\"24px\">\n",
              "    <path d=\"M0 0h24v24H0V0z\" fill=\"none\"/>\n",
              "    <path d=\"M18.56 5.44l.94 2.06.94-2.06 2.06-.94-2.06-.94-.94-2.06-.94 2.06-2.06.94zm-11 1L8.5 8.5l.94-2.06 2.06-.94-2.06-.94L8.5 2.5l-.94 2.06-2.06.94zm10 10l.94 2.06.94-2.06 2.06-.94-2.06-.94-.94-2.06-.94 2.06-2.06.94z\"/><path d=\"M17.41 7.96l-1.37-1.37c-.4-.4-.92-.59-1.43-.59-.52 0-1.04.2-1.43.59L10.3 9.45l-7.72 7.72c-.78.78-.78 2.05 0 2.83L4 21.41c.39.39.9.59 1.41.59.51 0 1.02-.2 1.41-.59l7.78-7.78 2.81-2.81c.8-.78.8-2.07 0-2.86zM5.41 20L4 18.59l7.72-7.72 1.47 1.35L5.41 20z\"/>\n",
              "  </svg>\n",
              "      </button>\n",
              "      \n",
              "  <style>\n",
              "    .colab-df-container {\n",
              "      display:flex;\n",
              "      flex-wrap:wrap;\n",
              "      gap: 12px;\n",
              "    }\n",
              "\n",
              "    .colab-df-convert {\n",
              "      background-color: #E8F0FE;\n",
              "      border: none;\n",
              "      border-radius: 50%;\n",
              "      cursor: pointer;\n",
              "      display: none;\n",
              "      fill: #1967D2;\n",
              "      height: 32px;\n",
              "      padding: 0 0 0 0;\n",
              "      width: 32px;\n",
              "    }\n",
              "\n",
              "    .colab-df-convert:hover {\n",
              "      background-color: #E2EBFA;\n",
              "      box-shadow: 0px 1px 2px rgba(60, 64, 67, 0.3), 0px 1px 3px 1px rgba(60, 64, 67, 0.15);\n",
              "      fill: #174EA6;\n",
              "    }\n",
              "\n",
              "    [theme=dark] .colab-df-convert {\n",
              "      background-color: #3B4455;\n",
              "      fill: #D2E3FC;\n",
              "    }\n",
              "\n",
              "    [theme=dark] .colab-df-convert:hover {\n",
              "      background-color: #434B5C;\n",
              "      box-shadow: 0px 1px 3px 1px rgba(0, 0, 0, 0.15);\n",
              "      filter: drop-shadow(0px 1px 2px rgba(0, 0, 0, 0.3));\n",
              "      fill: #FFFFFF;\n",
              "    }\n",
              "  </style>\n",
              "\n",
              "      <script>\n",
              "        const buttonEl =\n",
              "          document.querySelector('#df-f499e656-aab4-46d6-81f0-c671a19ca28c button.colab-df-convert');\n",
              "        buttonEl.style.display =\n",
              "          google.colab.kernel.accessAllowed ? 'block' : 'none';\n",
              "\n",
              "        async function convertToInteractive(key) {\n",
              "          const element = document.querySelector('#df-f499e656-aab4-46d6-81f0-c671a19ca28c');\n",
              "          const dataTable =\n",
              "            await google.colab.kernel.invokeFunction('convertToInteractive',\n",
              "                                                     [key], {});\n",
              "          if (!dataTable) return;\n",
              "\n",
              "          const docLinkHtml = 'Like what you see? Visit the ' +\n",
              "            '<a target=\"_blank\" href=https://colab.research.google.com/notebooks/data_table.ipynb>data table notebook</a>'\n",
              "            + ' to learn more about interactive tables.';\n",
              "          element.innerHTML = '';\n",
              "          dataTable['output_type'] = 'display_data';\n",
              "          await google.colab.output.renderOutput(dataTable, element);\n",
              "          const docLink = document.createElement('div');\n",
              "          docLink.innerHTML = docLinkHtml;\n",
              "          element.appendChild(docLink);\n",
              "        }\n",
              "      </script>\n",
              "    </div>\n",
              "  </div>\n",
              "  "
            ]
          },
          "metadata": {},
          "execution_count": 6
        }
      ],
      "source": [
        "train.head()"
      ]
    },
    {
      "cell_type": "code",
      "execution_count": 7,
      "id": "1baebec5",
      "metadata": {
        "id": "1baebec5"
      },
      "outputs": [],
      "source": [
        "ytrain, yval = train.label, validation.label"
      ]
    },
    {
      "cell_type": "code",
      "execution_count": 8,
      "id": "1iLB1AEkIlCc",
      "metadata": {
        "id": "1iLB1AEkIlCc"
      },
      "outputs": [],
      "source": [
        "train_lem = train.tweet_clean_lemm\n",
        "train_stem = train.tweet_clean_stem\n",
        "\n",
        "val_lem = validation.tweet_clean_lemm\n",
        "val_stem = validation.tweet_clean_stem"
      ]
    },
    {
      "cell_type": "code",
      "execution_count": 9,
      "id": "BER7jqiR98YS",
      "metadata": {
        "id": "BER7jqiR98YS"
      },
      "outputs": [],
      "source": [
        "# initialisation des paramètres\n",
        "seed = 0\n",
        "batch_size = 500\n",
        "epochs = 200"
      ]
    },
    {
      "cell_type": "markdown",
      "id": "4c20f715",
      "metadata": {
        "id": "4c20f715"
      },
      "source": [
        "<a href=\"##sommaire\" rev=\"footnote\">&#8617;</a>"
      ]
    },
    {
      "cell_type": "code",
      "execution_count": 10,
      "id": "edLHDdazrhoN",
      "metadata": {
        "id": "edLHDdazrhoN"
      },
      "outputs": [],
      "source": [
        "w2v_vectors_lemm = KeyedVectors.load(path + \"embedding/lemm_word2vec.wordvectors\")\n",
        "w2v_vectors_stem = KeyedVectors.load(path + \"embedding/stem_word2vec.wordvectors\")"
      ]
    },
    {
      "cell_type": "markdown",
      "id": "a16f7449",
      "metadata": {
        "id": "a16f7449"
      },
      "source": [
        "## Nettoyage avec lemmatisation et vectorisation avec Word2Vec<a class=\"anchor\" id=\"10\"></a>"
      ]
    },
    {
      "cell_type": "markdown",
      "id": "fknRgKHZ6ZZM",
      "metadata": {
        "id": "fknRgKHZ6ZZM"
      },
      "source": [
        "**Test le tokenizer de Keras**"
      ]
    },
    {
      "cell_type": "code",
      "execution_count": 11,
      "id": "rpSLAEYr2_7s",
      "metadata": {
        "id": "rpSLAEYr2_7s"
      },
      "outputs": [],
      "source": [
        "import pickle\n",
        "\n",
        "tk_lemm = Tokenizer()\n",
        "tk_lemm.fit_on_texts(train.tweet_clean_lemm.to_list())\n",
        "\n",
        "# saving\n",
        "with open(path + 'models/tk_lemm.pickle', 'wb') as handle:\n",
        "    pickle.dump(tk_lemm, handle)"
      ]
    },
    {
      "cell_type": "code",
      "execution_count": 12,
      "id": "artE43oi3bZ0",
      "metadata": {
        "id": "artE43oi3bZ0",
        "colab": {
          "base_uri": "https://localhost:8080/"
        },
        "outputId": "27456efa-85f4-44b3-850a-db839242a897"
      },
      "outputs": [
        {
          "output_type": "execute_result",
          "data": {
            "text/plain": [
              "625617"
            ]
          },
          "metadata": {},
          "execution_count": 12
        }
      ],
      "source": [
        "tk_lemm.document_count"
      ]
    },
    {
      "cell_type": "code",
      "execution_count": 13,
      "id": "zCNxmh5D3zzQ",
      "metadata": {
        "id": "zCNxmh5D3zzQ",
        "colab": {
          "base_uri": "https://localhost:8080/"
        },
        "outputId": "d2837cc9-385c-4650-ba53-19e5be5e5477"
      },
      "outputs": [
        {
          "output_type": "execute_result",
          "data": {
            "text/plain": [
              "154397"
            ]
          },
          "metadata": {},
          "execution_count": 13
        }
      ],
      "source": [
        "len(tk_lemm.word_counts)"
      ]
    },
    {
      "cell_type": "code",
      "execution_count": 14,
      "id": "UBd6Aw3330W3",
      "metadata": {
        "id": "UBd6Aw3330W3",
        "colab": {
          "base_uri": "https://localhost:8080/"
        },
        "outputId": "72689279-aa02-4ef7-890f-43062d328869"
      },
      "outputs": [
        {
          "output_type": "execute_result",
          "data": {
            "text/plain": [
              "[('goodsex', 57),\n",
              " ('make', 7137),\n",
              " ('squirt', 14),\n",
              " ('look', 15632),\n",
              " ('quot', 28563),\n",
              " ('sexy', 727),\n",
              " ('sailors', 2),\n",
              " ('outfit', 209),\n",
              " ('laura', 175),\n",
              " ('hen', 39)]"
            ]
          },
          "metadata": {},
          "execution_count": 14
        }
      ],
      "source": [
        "list(tk_lemm.word_counts.items())[:10]"
      ]
    },
    {
      "cell_type": "code",
      "execution_count": 15,
      "id": "mZzssvC930QN",
      "metadata": {
        "id": "mZzssvC930QN",
        "colab": {
          "base_uri": "https://localhost:8080/"
        },
        "outputId": "9be196aa-0288-4169-cccb-98d79d2b49a9"
      },
      "outputs": [
        {
          "output_type": "execute_result",
          "data": {
            "text/plain": [
              "[('not', 1),\n",
              " ('go', 2),\n",
              " ('good', 3),\n",
              " ('day', 4),\n",
              " ('work', 5),\n",
              " ('get', 6),\n",
              " ('like', 7),\n",
              " ('love', 8),\n",
              " ('quot', 9),\n",
              " ('today', 10)]"
            ]
          },
          "metadata": {},
          "execution_count": 15
        }
      ],
      "source": [
        "list(tk_lemm.word_index.items())[:10]"
      ]
    },
    {
      "cell_type": "code",
      "execution_count": 16,
      "id": "OIrKlWXq60of",
      "metadata": {
        "id": "OIrKlWXq60of"
      },
      "outputs": [],
      "source": [
        "SeqText = tk_lemm.texts_to_sequences(train.tweet_clean_lemm.to_list())"
      ]
    },
    {
      "cell_type": "code",
      "execution_count": 17,
      "id": "4jXUwyli69jZ",
      "metadata": {
        "id": "4jXUwyli69jZ",
        "colab": {
          "base_uri": "https://localhost:8080/"
        },
        "outputId": "e064bc8a-5e81-4b03-9f06-eed83b07d1c2"
      },
      "outputs": [
        {
          "output_type": "execute_result",
          "data": {
            "text/plain": [
              "[[5472, 75, 13056],\n",
              " [26, 9, 761, 40321, 9, 2144, 2446, 7010, 21, 899, 410, 1, 7],\n",
              " [1, 14, 31, 162, 274, 264],\n",
              " [4426, 4796, 8408, 1418, 76, 937, 3539, 7011, 533]]"
            ]
          },
          "metadata": {},
          "execution_count": 17
        }
      ],
      "source": [
        "SeqText[:4]"
      ]
    },
    {
      "cell_type": "code",
      "execution_count": 18,
      "id": "yr_GC7Mm7II5",
      "metadata": {
        "id": "yr_GC7Mm7II5",
        "colab": {
          "base_uri": "https://localhost:8080/"
        },
        "outputId": "548aebaf-707e-4b7e-c650-83aba6a06680"
      },
      "outputs": [
        {
          "output_type": "execute_result",
          "data": {
            "text/plain": [
              "1273151                                  goodsex make squirt\n",
              "445145     look quot;sexy sailors&quot outfit laura hen n...\n",
              "499993                   not know twitter send word headache\n",
              "122529     particularly brutal rejection writing never co...\n",
              "Name: tweet_clean_lemm, dtype: object"
            ]
          },
          "metadata": {},
          "execution_count": 18
        }
      ],
      "source": [
        "train.tweet_clean_lemm.iloc[:4,]"
      ]
    },
    {
      "cell_type": "code",
      "execution_count": 19,
      "id": "TDWUD6fz8eNQ",
      "metadata": {
        "id": "TDWUD6fz8eNQ",
        "colab": {
          "base_uri": "https://localhost:8080/",
          "height": 281
        },
        "outputId": "1a3453c6-3450-4289-c9bd-8f3f04676a8b"
      },
      "outputs": [
        {
          "output_type": "display_data",
          "data": {
            "text/plain": [
              "<Figure size 432x288 with 1 Axes>"
            ],
            "image/png": "[encoded data removed]"
          },
          "metadata": {
            "needs_background": "light"
          }
        }
      ],
      "source": [
        "plt.hist([len(doc) for doc in SeqText])\n",
        "plt.title('Nombre de token dans chaque tweet nettoyé')\n",
        "plt.show()"
      ]
    },
    {
      "cell_type": "code",
      "execution_count": 20,
      "id": "fJAkW5zk7es2",
      "metadata": {
        "id": "fJAkW5zk7es2"
      },
      "outputs": [],
      "source": [
        "max_len = max([len(doc) for doc in SeqText])"
      ]
    },
    {
      "cell_type": "code",
      "execution_count": 21,
      "id": "Y1Gu35A0LZWb",
      "metadata": {
        "id": "Y1Gu35A0LZWb"
      },
      "outputs": [],
      "source": [
        "# Création de la matrice d'embedding\n",
        "def build_embedding_matrix(serie, model_vectors, size = 200):\n",
        "    list_docs = serie.to_list()\n",
        "    print(\"Fit Tokenizer ...\")\n",
        "    tokenizer = Tokenizer()\n",
        "    tokenizer.fit_on_texts(list_docs)\n",
        "    print(\"Create Embedding matrix ...\")\n",
        "    word_index = tokenizer.word_index\n",
        "    vocab_size = len(word_index) + 1\n",
        "    embedding_matrix = np.zeros((vocab_size, size))\n",
        "    i=0\n",
        "    j=0\n",
        "    miss = []\n",
        "    for word, idx in word_index.items():\n",
        "        i +=1\n",
        "        if word in model_vectors.key_to_index:\n",
        "            j +=1\n",
        "            embedding_vector = model_vectors[word]\n",
        "            \n",
        "            if embedding_vector is not None:\n",
        "                embedding_matrix[idx] = model_vectors[word]\n",
        "                \n",
        "            else :\n",
        "                miss.append(word)\n",
        "            \n",
        "    word_rate = np.round(j/i,4)\n",
        "    print(\"Word embedding rate : \", word_rate)\n",
        "    print(\"Embedding matrix shape: \" , embedding_matrix.shape)\n",
        "    \n",
        "    return {'Embedding_matrix' : embedding_matrix, 'Words_not_found' : miss}"
      ]
    },
    {
      "cell_type": "code",
      "execution_count": 22,
      "id": "13cca9b3",
      "metadata": {
        "id": "13cca9b3",
        "colab": {
          "base_uri": "https://localhost:8080/"
        },
        "outputId": "2a622dd9-e38e-4120-8b39-db995fec816f"
      },
      "outputs": [
        {
          "output_type": "stream",
          "name": "stdout",
          "text": [
            "Fit Tokenizer ...\n",
            "Create Embedding matrix ...\n",
            "Word embedding rate :  0.8915\n",
            "Embedding matrix shape:  (154398, 200)\n"
          ]
        }
      ],
      "source": [
        "size = 200\n",
        "embedding_matrix_lem_w2v = build_embedding_matrix(train.tweet_clean_lemm, \n",
        "                                                  model_vectors = w2v_vectors_lemm, \n",
        "                                                  size = size)['Embedding_matrix']"
      ]
    },
    {
      "cell_type": "code",
      "execution_count": 23,
      "id": "2d0cbb07",
      "metadata": {
        "id": "2d0cbb07"
      },
      "outputs": [],
      "source": [
        "# Définition de la fonction de Préparation des sentences (tokenization)\n",
        "def prepare_data(serie, maxlen = 205, tokenizer=tk_lemm, pprint = None):\n",
        "    if pprint:\n",
        "        print(pprint)\n",
        "    list_docs = serie.to_list()\n",
        "    tokenizer.texts_to_sequences(list_docs)\n",
        "    input_data = pad_sequences(tokenizer.texts_to_sequences(list_docs),\n",
        "                                maxlen = maxlen,\n",
        "                                padding = 'post')\n",
        "    print('Len vocab :', len(tokenizer.word_counts))\n",
        "    print('Len tweets :', input_data.shape[0])\n",
        "    print('Done! \\n')\n",
        "    return input_data"
      ]
    },
    {
      "cell_type": "code",
      "execution_count": 24,
      "id": "msh-88hbG45C",
      "metadata": {
        "id": "msh-88hbG45C",
        "scrolled": true,
        "colab": {
          "base_uri": "https://localhost:8080/"
        },
        "outputId": "7ff65c17-5b8b-4ad1-9a6d-5f21b524d2f9"
      },
      "outputs": [
        {
          "output_type": "stream",
          "name": "stdout",
          "text": [
            "Preparing the train set : \n",
            "Len vocab : 154397\n",
            "Len tweets : 625617\n",
            "Done! \n",
            "\n",
            "Preparing the validation set : \n",
            "Len vocab : 154397\n",
            "Len tweets : 268092\n",
            "Done! \n",
            "\n"
          ]
        }
      ],
      "source": [
        "xtrain_lem = prepare_data(train.tweet_clean_lemm, \n",
        "                          pprint='Preparing the train set : ')\n",
        "\n",
        "xval_lem = prepare_data(validation.tweet_clean_lemm, \n",
        "                        pprint='Preparing the validation set : ')"
      ]
    },
    {
      "cell_type": "code",
      "execution_count": 25,
      "id": "D2pePL9rib6L",
      "metadata": {
        "id": "D2pePL9rib6L",
        "colab": {
          "base_uri": "https://localhost:8080/"
        },
        "outputId": "d6305ca8-0659-4145-da2c-b41268be5b0c"
      },
      "outputs": [
        {
          "output_type": "execute_result",
          "data": {
            "text/plain": [
              "((625617, 205), (268092, 205))"
            ]
          },
          "metadata": {},
          "execution_count": 25
        }
      ],
      "source": [
        "xtrain_lem.shape, xval_lem.shape"
      ]
    },
    {
      "cell_type": "code",
      "execution_count": 26,
      "id": "7_UgUIOvRChH",
      "metadata": {
        "id": "7_UgUIOvRChH",
        "colab": {
          "base_uri": "https://localhost:8080/"
        },
        "outputId": "525fccaf-b9f6-429e-eda7-d7c906f697f4"
      },
      "outputs": [
        {
          "output_type": "execute_result",
          "data": {
            "text/plain": [
              "(154398, 200)"
            ]
          },
          "metadata": {},
          "execution_count": 26
        }
      ],
      "source": [
        "embedding_matrix_lem_w2v.shape"
      ]
    },
    {
      "cell_type": "markdown",
      "id": "DLCIDaTGOBD2",
      "metadata": {
        "id": "DLCIDaTGOBD2"
      },
      "source": [
        "### Baseline"
      ]
    },
    {
      "cell_type": "code",
      "execution_count": 27,
      "id": "56337fdf",
      "metadata": {
        "id": "56337fdf",
        "scrolled": true
      },
      "outputs": [],
      "source": [
        "def lstm_embedding(embedding_matrix,\n",
        "                   len_vocab = 154398,\n",
        "                   output_dim = 200,\n",
        "                   max_len = 200,\n",
        "                   len_padding = 5,\n",
        "                   seed=0):\n",
        "\n",
        "  tensorflow.random.set_seed(seed)\n",
        "\n",
        "  model = Sequential()\n",
        "\n",
        "  model.add(Embedding(input_dim = len_vocab ,\n",
        "                             output_dim = output_dim,\n",
        "                             embeddings_initializer = keras.initializers.Constant(embedding_matrix),\n",
        "                             input_length = max_len + len_padding,\n",
        "                             trainable = False))\n",
        "  model.add(Bidirectional(LSTM(10)))\n",
        "  model.add(Flatten())\n",
        "  model.add(Dense(1, activation=\"sigmoid\"))\n",
        "  model.compile(optimizer = 'adam', \n",
        "                       loss = 'binary_crossentropy', \n",
        "                       metrics = ['acc'])\n",
        "  return model"
      ]
    },
    {
      "cell_type": "code",
      "execution_count": 28,
      "id": "AFuByhc05fBu",
      "metadata": {
        "id": "AFuByhc05fBu",
        "colab": {
          "base_uri": "https://localhost:8080/"
        },
        "outputId": "5c51ee78-3df0-46ad-f362-413a08559914"
      },
      "outputs": [
        {
          "output_type": "stream",
          "name": "stdout",
          "text": [
            "Model: \"sequential\"\n",
            "_________________________________________________________________\n",
            " Layer (type)                Output Shape              Param #   \n",
            "=================================================================\n",
            " embedding (Embedding)       (None, 205, 200)          30879600  \n",
            "                                                                 \n",
            " bidirectional (Bidirectiona  (None, 20)               16880     \n",
            " l)                                                              \n",
            "                                                                 \n",
            " flatten (Flatten)           (None, 20)                0         \n",
            "                                                                 \n",
            " dense (Dense)               (None, 1)                 21        \n",
            "                                                                 \n",
            "=================================================================\n",
            "Total params: 30,896,501\n",
            "Trainable params: 16,901\n",
            "Non-trainable params: 30,879,600\n",
            "_________________________________________________________________\n"
          ]
        }
      ],
      "source": [
        "embedding_matrix = embedding_matrix_lem_w2v\n",
        "lstm_lemm_w2v = lstm_embedding(embedding_matrix = embedding_matrix,\n",
        "                                 seed = 0)\n",
        "\n",
        "lstm_lemm_w2v.summary()"
      ]
    },
    {
      "cell_type": "code",
      "execution_count": 29,
      "id": "1333d279",
      "metadata": {
        "id": "1333d279",
        "scrolled": true,
        "colab": {
          "base_uri": "https://localhost:8080/"
        },
        "outputId": "9dacddfd-fd62-4306-a303-439dc2d26555"
      },
      "outputs": [
        {
          "output_type": "stream",
          "name": "stdout",
          "text": [
            "Epoch 1/200\n",
            "1252/1252 [==============================] - 41s 25ms/step - loss: 0.5068 - acc: 0.7522 - val_loss: 0.4837 - val_acc: 0.7671\n",
            "Epoch 2/200\n",
            "1252/1252 [==============================] - 31s 25ms/step - loss: 0.4786 - acc: 0.7701 - val_loss: 0.4754 - val_acc: 0.7712\n",
            "Epoch 3/200\n",
            "1252/1252 [==============================] - 31s 25ms/step - loss: 0.4710 - acc: 0.7745 - val_loss: 0.4711 - val_acc: 0.7746\n",
            "Epoch 4/200\n",
            "1252/1252 [==============================] - 31s 25ms/step - loss: 0.4668 - acc: 0.7768 - val_loss: 0.4695 - val_acc: 0.7753\n",
            "Epoch 5/200\n",
            "1252/1252 [==============================] - 31s 25ms/step - loss: 0.4641 - acc: 0.7788 - val_loss: 0.4682 - val_acc: 0.7763\n",
            "Epoch 6/200\n",
            "1252/1252 [==============================] - 32s 25ms/step - loss: 0.4620 - acc: 0.7803 - val_loss: 0.4679 - val_acc: 0.7762\n",
            "Epoch 7/200\n",
            "1252/1252 [==============================] - 32s 25ms/step - loss: 0.4604 - acc: 0.7812 - val_loss: 0.4673 - val_acc: 0.7770\n",
            "Epoch 8/200\n",
            "1252/1252 [==============================] - 31s 25ms/step - loss: 0.4591 - acc: 0.7818 - val_loss: 0.4690 - val_acc: 0.7755\n",
            "Epoch 9/200\n",
            "1252/1252 [==============================] - 32s 26ms/step - loss: 0.4580 - acc: 0.7826 - val_loss: 0.4663 - val_acc: 0.7771\n",
            "Epoch 10/200\n",
            "1252/1252 [==============================] - 32s 26ms/step - loss: 0.4570 - acc: 0.7829 - val_loss: 0.4660 - val_acc: 0.7776\n",
            "Epoch 11/200\n",
            "1252/1252 [==============================] - 32s 25ms/step - loss: 0.4563 - acc: 0.7835 - val_loss: 0.4662 - val_acc: 0.7770\n",
            "Epoch 12/200\n",
            "1252/1252 [==============================] - 32s 25ms/step - loss: 0.4555 - acc: 0.7839 - val_loss: 0.4661 - val_acc: 0.7775\n",
            "Epoch 13/200\n",
            "1252/1252 [==============================] - 31s 25ms/step - loss: 0.4547 - acc: 0.7844 - val_loss: 0.4667 - val_acc: 0.7762\n",
            "Epoch 14/200\n",
            "1252/1252 [==============================] - 31s 25ms/step - loss: 0.4542 - acc: 0.7847 - val_loss: 0.4658 - val_acc: 0.7774\n",
            "Epoch 15/200\n",
            "1252/1252 [==============================] - 31s 25ms/step - loss: 0.4537 - acc: 0.7850 - val_loss: 0.4660 - val_acc: 0.7770\n",
            "Epoch 16/200\n",
            "1252/1252 [==============================] - 31s 25ms/step - loss: 0.4537 - acc: 0.7851 - val_loss: 0.4661 - val_acc: 0.7779\n",
            "Epoch 17/200\n",
            "1252/1252 [==============================] - 31s 25ms/step - loss: 0.4529 - acc: 0.7856 - val_loss: 0.4673 - val_acc: 0.7766\n",
            "Epoch 18/200\n",
            "1252/1252 [==============================] - 31s 25ms/step - loss: 0.4525 - acc: 0.7859 - val_loss: 0.4660 - val_acc: 0.7771\n",
            "Epoch 19/200\n",
            "1252/1252 [==============================] - 31s 25ms/step - loss: 0.4522 - acc: 0.7860 - val_loss: 0.4660 - val_acc: 0.7774\n",
            "Epoch 20/200\n",
            "1252/1252 [==============================] - 31s 25ms/step - loss: 0.4517 - acc: 0.7865 - val_loss: 0.4664 - val_acc: 0.7775\n",
            "Epoch 21/200\n",
            "1252/1252 [==============================] - 31s 25ms/step - loss: 0.4514 - acc: 0.7867 - val_loss: 0.4664 - val_acc: 0.7776\n",
            "Epoch 22/200\n",
            "1252/1252 [==============================] - 31s 25ms/step - loss: 0.4511 - acc: 0.7870 - val_loss: 0.4666 - val_acc: 0.7775\n",
            "Epoch 23/200\n",
            "1252/1252 [==============================] - 31s 25ms/step - loss: 0.4508 - acc: 0.7870 - val_loss: 0.4668 - val_acc: 0.7774\n",
            "Epoch 24/200\n",
            "1252/1252 [==============================] - 31s 25ms/step - loss: 0.4507 - acc: 0.7871 - val_loss: 0.4695 - val_acc: 0.7754\n",
            "Epoch 25/200\n",
            "1252/1252 [==============================] - 31s 25ms/step - loss: 0.4504 - acc: 0.7875 - val_loss: 0.4664 - val_acc: 0.7770\n",
            "Epoch 26/200\n",
            "1252/1252 [==============================] - 31s 25ms/step - loss: 0.4502 - acc: 0.7873 - val_loss: 0.4668 - val_acc: 0.7775\n",
            "Epoch 27/200\n",
            "1252/1252 [==============================] - 31s 25ms/step - loss: 0.4500 - acc: 0.7875 - val_loss: 0.4673 - val_acc: 0.7765\n",
            "Epoch 28/200\n",
            "1252/1252 [==============================] - 31s 25ms/step - loss: 0.4497 - acc: 0.7875 - val_loss: 0.4670 - val_acc: 0.7768\n",
            "Epoch 29/200\n",
            "1252/1252 [==============================] - 31s 25ms/step - loss: 0.4495 - acc: 0.7878 - val_loss: 0.4667 - val_acc: 0.7769\n",
            "Epoch 30/200\n",
            "1252/1252 [==============================] - 31s 25ms/step - loss: 0.4496 - acc: 0.7877 - val_loss: 0.4666 - val_acc: 0.7776\n",
            "Epoch 31/200\n",
            "1252/1252 [==============================] - 31s 25ms/step - loss: 0.4491 - acc: 0.7880 - val_loss: 0.4666 - val_acc: 0.7773\n",
            "Epoch 32/200\n",
            "1252/1252 [==============================] - 31s 25ms/step - loss: 0.4488 - acc: 0.7882 - val_loss: 0.4668 - val_acc: 0.7772\n",
            "Epoch 33/200\n",
            "1252/1252 [==============================] - 31s 25ms/step - loss: 0.4487 - acc: 0.7883 - val_loss: 0.4685 - val_acc: 0.7759\n",
            "Epoch 34/200\n",
            "1252/1252 [==============================] - 31s 25ms/step - loss: 0.4486 - acc: 0.7885 - val_loss: 0.4671 - val_acc: 0.7768\n",
            "Epoch 35/200\n",
            "1252/1252 [==============================] - 31s 25ms/step - loss: 0.4485 - acc: 0.7885 - val_loss: 0.4676 - val_acc: 0.7774\n",
            "Epoch 36/200\n",
            "1252/1252 [==============================] - 31s 25ms/step - loss: 0.4483 - acc: 0.7887 - val_loss: 0.4671 - val_acc: 0.7771\n",
            "Epoch 37/200\n",
            "1252/1252 [==============================] - 31s 25ms/step - loss: 0.4482 - acc: 0.7888 - val_loss: 0.4675 - val_acc: 0.7765\n",
            "Epoch 38/200\n",
            "1252/1252 [==============================] - 31s 25ms/step - loss: 0.4481 - acc: 0.7885 - val_loss: 0.4676 - val_acc: 0.7768\n",
            "Epoch 39/200\n",
            "1252/1252 [==============================] - 31s 25ms/step - loss: 0.4479 - acc: 0.7887 - val_loss: 0.4675 - val_acc: 0.7767\n",
            "Epoch 40/200\n",
            "1252/1252 [==============================] - 31s 25ms/step - loss: 0.4478 - acc: 0.7888 - val_loss: 0.4671 - val_acc: 0.7767\n",
            "Epoch 41/200\n",
            "1252/1252 [==============================] - 31s 25ms/step - loss: 0.4481 - acc: 0.7884 - val_loss: 0.4676 - val_acc: 0.7769\n",
            "Epoch 42/200\n",
            "1252/1252 [==============================] - 31s 25ms/step - loss: 0.4476 - acc: 0.7887 - val_loss: 0.4676 - val_acc: 0.7767\n",
            "Epoch 43/200\n",
            "1252/1252 [==============================] - 31s 25ms/step - loss: 0.4475 - acc: 0.7892 - val_loss: 0.4699 - val_acc: 0.7751\n",
            "Epoch 44/200\n",
            "1252/1252 [==============================] - 31s 25ms/step - loss: 0.4474 - acc: 0.7890 - val_loss: 0.4677 - val_acc: 0.7765\n",
            "Epoch 45/200\n",
            "1252/1252 [==============================] - 31s 25ms/step - loss: 0.4473 - acc: 0.7890 - val_loss: 0.4678 - val_acc: 0.7765\n",
            "Epoch 46/200\n",
            "1252/1252 [==============================] - 31s 25ms/step - loss: 0.4472 - acc: 0.7893 - val_loss: 0.4676 - val_acc: 0.7768\n",
            "Epoch 47/200\n",
            "1252/1252 [==============================] - 31s 25ms/step - loss: 0.4472 - acc: 0.7891 - val_loss: 0.4680 - val_acc: 0.7768\n",
            "Epoch 48/200\n",
            "1252/1252 [==============================] - 31s 25ms/step - loss: 0.4469 - acc: 0.7892 - val_loss: 0.4684 - val_acc: 0.7769\n",
            "Epoch 49/200\n",
            "1252/1252 [==============================] - 31s 25ms/step - loss: 0.4469 - acc: 0.7893 - val_loss: 0.4678 - val_acc: 0.7773\n",
            "Epoch 50/200\n",
            "1252/1252 [==============================] - 31s 25ms/step - loss: 0.4468 - acc: 0.7892 - val_loss: 0.4675 - val_acc: 0.7769\n",
            "Epoch 51/200\n",
            "1252/1252 [==============================] - 31s 25ms/step - loss: 0.4466 - acc: 0.7896 - val_loss: 0.4680 - val_acc: 0.7765\n",
            "Epoch 52/200\n",
            "1252/1252 [==============================] - 31s 25ms/step - loss: 0.4466 - acc: 0.7892 - val_loss: 0.4684 - val_acc: 0.7766\n",
            "Epoch 53/200\n",
            "1252/1252 [==============================] - 31s 25ms/step - loss: 0.4465 - acc: 0.7894 - val_loss: 0.4683 - val_acc: 0.7770\n",
            "Epoch 54/200\n",
            "1252/1252 [==============================] - 31s 25ms/step - loss: 0.4464 - acc: 0.7895 - val_loss: 0.4684 - val_acc: 0.7769\n",
            "Epoch 55/200\n",
            "1252/1252 [==============================] - 31s 25ms/step - loss: 0.4463 - acc: 0.7897 - val_loss: 0.4689 - val_acc: 0.7768\n",
            "Epoch 56/200\n",
            "1252/1252 [==============================] - 31s 25ms/step - loss: 0.4462 - acc: 0.7898 - val_loss: 0.4682 - val_acc: 0.7766\n",
            "Epoch 57/200\n",
            "1252/1252 [==============================] - 31s 25ms/step - loss: 0.4505 - acc: 0.7869 - val_loss: 0.4682 - val_acc: 0.7768\n",
            "Epoch 58/200\n",
            "1252/1252 [==============================] - 31s 25ms/step - loss: 0.4462 - acc: 0.7897 - val_loss: 0.4684 - val_acc: 0.7770\n",
            "Epoch 59/200\n",
            "1252/1252 [==============================] - 31s 25ms/step - loss: 0.4460 - acc: 0.7897 - val_loss: 0.4686 - val_acc: 0.7767\n",
            "Epoch 60/200\n",
            "1252/1252 [==============================] - 31s 25ms/step - loss: 0.4458 - acc: 0.7899 - val_loss: 0.4692 - val_acc: 0.7767\n",
            "Epoch 61/200\n",
            "1252/1252 [==============================] - 31s 25ms/step - loss: 0.4572 - acc: 0.7835 - val_loss: 0.4765 - val_acc: 0.7725\n",
            "Epoch 62/200\n",
            "1252/1252 [==============================] - 31s 25ms/step - loss: 0.4507 - acc: 0.7870 - val_loss: 0.4688 - val_acc: 0.7763\n",
            "Epoch 63/200\n",
            "1252/1252 [==============================] - 31s 25ms/step - loss: 0.4463 - acc: 0.7893 - val_loss: 0.4687 - val_acc: 0.7761\n",
            "Epoch 64/200\n",
            "1252/1252 [==============================] - 31s 25ms/step - loss: 0.4459 - acc: 0.7897 - val_loss: 0.4696 - val_acc: 0.7759\n",
            "Epoch 65/200\n",
            "1252/1252 [==============================] - 31s 25ms/step - loss: 0.4457 - acc: 0.7897 - val_loss: 0.4690 - val_acc: 0.7765\n",
            "Epoch 66/200\n",
            "1252/1252 [==============================] - 31s 25ms/step - loss: 0.4456 - acc: 0.7903 - val_loss: 0.4691 - val_acc: 0.7770\n",
            "Epoch 67/200\n",
            "1252/1252 [==============================] - 31s 25ms/step - loss: 0.4455 - acc: 0.7899 - val_loss: 0.4695 - val_acc: 0.7755\n",
            "Epoch 68/200\n",
            "1252/1252 [==============================] - 31s 25ms/step - loss: 0.4454 - acc: 0.7901 - val_loss: 0.4691 - val_acc: 0.7763\n",
            "Epoch 69/200\n",
            "1252/1252 [==============================] - 31s 25ms/step - loss: 0.4453 - acc: 0.7900 - val_loss: 0.4695 - val_acc: 0.7765\n",
            "Epoch 70/200\n",
            "1252/1252 [==============================] - 31s 25ms/step - loss: 0.4452 - acc: 0.7902 - val_loss: 0.4692 - val_acc: 0.7765\n",
            "Epoch 71/200\n",
            "1252/1252 [==============================] - 31s 25ms/step - loss: 0.4452 - acc: 0.7902 - val_loss: 0.4697 - val_acc: 0.7764\n",
            "Epoch 72/200\n",
            "1252/1252 [==============================] - 31s 25ms/step - loss: 0.4451 - acc: 0.7902 - val_loss: 0.4695 - val_acc: 0.7762\n",
            "Epoch 73/200\n",
            "1252/1252 [==============================] - 31s 25ms/step - loss: 0.4450 - acc: 0.7899 - val_loss: 0.4717 - val_acc: 0.7751\n",
            "Epoch 74/200\n",
            "1252/1252 [==============================] - 31s 25ms/step - loss: 0.4449 - acc: 0.7903 - val_loss: 0.4694 - val_acc: 0.7760\n",
            "Epoch 75/200\n",
            "1252/1252 [==============================] - 31s 25ms/step - loss: 0.4448 - acc: 0.7903 - val_loss: 0.4693 - val_acc: 0.7762\n",
            "Epoch 76/200\n",
            "1252/1252 [==============================] - 31s 25ms/step - loss: 0.4448 - acc: 0.7905 - val_loss: 0.4694 - val_acc: 0.7760\n",
            "Epoch 77/200\n",
            "1252/1252 [==============================] - 31s 25ms/step - loss: 0.4446 - acc: 0.7905 - val_loss: 0.4698 - val_acc: 0.7762\n",
            "Epoch 78/200\n",
            "1252/1252 [==============================] - 31s 25ms/step - loss: 0.4447 - acc: 0.7905 - val_loss: 0.4701 - val_acc: 0.7757\n",
            "Epoch 79/200\n",
            "1252/1252 [==============================] - 31s 25ms/step - loss: 0.4446 - acc: 0.7904 - val_loss: 0.4697 - val_acc: 0.7761\n",
            "Epoch 80/200\n",
            "1252/1252 [==============================] - 31s 25ms/step - loss: 0.4444 - acc: 0.7903 - val_loss: 0.4702 - val_acc: 0.7756\n",
            "Epoch 81/200\n",
            "1252/1252 [==============================] - 31s 25ms/step - loss: 0.4445 - acc: 0.7906 - val_loss: 0.4698 - val_acc: 0.7757\n",
            "Epoch 82/200\n",
            "1252/1252 [==============================] - 31s 25ms/step - loss: 0.4444 - acc: 0.7905 - val_loss: 0.4702 - val_acc: 0.7758\n",
            "Epoch 83/200\n",
            "1252/1252 [==============================] - 31s 25ms/step - loss: 0.4443 - acc: 0.7910 - val_loss: 0.4702 - val_acc: 0.7750\n",
            "Epoch 84/200\n",
            "1252/1252 [==============================] - 31s 25ms/step - loss: 0.4444 - acc: 0.7906 - val_loss: 0.4697 - val_acc: 0.7757\n",
            "Epoch 85/200\n",
            "1252/1252 [==============================] - 31s 25ms/step - loss: 0.4441 - acc: 0.7909 - val_loss: 0.4704 - val_acc: 0.7756\n",
            "Epoch 86/200\n",
            "1252/1252 [==============================] - 31s 25ms/step - loss: 0.4443 - acc: 0.7906 - val_loss: 0.4708 - val_acc: 0.7757\n",
            "Epoch 87/200\n",
            "1252/1252 [==============================] - 31s 25ms/step - loss: 0.4441 - acc: 0.7909 - val_loss: 0.4704 - val_acc: 0.7762\n",
            "Epoch 88/200\n",
            "1252/1252 [==============================] - 31s 25ms/step - loss: 0.4441 - acc: 0.7909 - val_loss: 0.4698 - val_acc: 0.7763\n",
            "Epoch 89/200\n",
            "1252/1252 [==============================] - 31s 25ms/step - loss: 0.4440 - acc: 0.7909 - val_loss: 0.4716 - val_acc: 0.7755\n",
            "Epoch 90/200\n",
            "1252/1252 [==============================] - 31s 25ms/step - loss: 0.4440 - acc: 0.7910 - val_loss: 0.4704 - val_acc: 0.7759\n",
            "Epoch 91/200\n",
            "1252/1252 [==============================] - 31s 25ms/step - loss: 0.4438 - acc: 0.7910 - val_loss: 0.4704 - val_acc: 0.7764\n",
            "Epoch 92/200\n",
            "1252/1252 [==============================] - 31s 25ms/step - loss: 0.4439 - acc: 0.7910 - val_loss: 0.4707 - val_acc: 0.7754\n",
            "Epoch 93/200\n",
            "1252/1252 [==============================] - 31s 25ms/step - loss: 0.4439 - acc: 0.7911 - val_loss: 0.4712 - val_acc: 0.7756\n",
            "Epoch 94/200\n",
            "1252/1252 [==============================] - 31s 25ms/step - loss: 0.4438 - acc: 0.7913 - val_loss: 0.4706 - val_acc: 0.7755\n",
            "Epoch 95/200\n",
            "1252/1252 [==============================] - 31s 25ms/step - loss: 0.4437 - acc: 0.7911 - val_loss: 0.4708 - val_acc: 0.7759\n",
            "Epoch 96/200\n",
            "1252/1252 [==============================] - 31s 25ms/step - loss: 0.4436 - acc: 0.7909 - val_loss: 0.4717 - val_acc: 0.7754\n",
            "Epoch 97/200\n",
            "1252/1252 [==============================] - 31s 25ms/step - loss: 0.4436 - acc: 0.7910 - val_loss: 0.4710 - val_acc: 0.7753\n",
            "Epoch 98/200\n",
            "1252/1252 [==============================] - 31s 25ms/step - loss: 0.4435 - acc: 0.7913 - val_loss: 0.4709 - val_acc: 0.7756\n",
            "Epoch 99/200\n",
            "1252/1252 [==============================] - 31s 25ms/step - loss: 0.4436 - acc: 0.7912 - val_loss: 0.4712 - val_acc: 0.7752\n",
            "Epoch 100/200\n",
            "1252/1252 [==============================] - 31s 25ms/step - loss: 0.4435 - acc: 0.7911 - val_loss: 0.4711 - val_acc: 0.7752\n",
            "Epoch 101/200\n",
            "1252/1252 [==============================] - 31s 25ms/step - loss: 0.4434 - acc: 0.7912 - val_loss: 0.4710 - val_acc: 0.7752\n",
            "Epoch 102/200\n",
            "1252/1252 [==============================] - 31s 25ms/step - loss: 0.4433 - acc: 0.7912 - val_loss: 0.4711 - val_acc: 0.7748\n",
            "Epoch 103/200\n",
            "1252/1252 [==============================] - 31s 25ms/step - loss: 0.4433 - acc: 0.7914 - val_loss: 0.4715 - val_acc: 0.7753\n",
            "Epoch 104/200\n",
            "1252/1252 [==============================] - 31s 25ms/step - loss: 0.4433 - acc: 0.7916 - val_loss: 0.4725 - val_acc: 0.7752\n",
            "Epoch 105/200\n",
            "1252/1252 [==============================] - 31s 25ms/step - loss: 0.4432 - acc: 0.7912 - val_loss: 0.4708 - val_acc: 0.7753\n",
            "Epoch 106/200\n",
            "1252/1252 [==============================] - 31s 25ms/step - loss: 0.4432 - acc: 0.7914 - val_loss: 0.4709 - val_acc: 0.7753\n",
            "Epoch 107/200\n",
            "1252/1252 [==============================] - 31s 25ms/step - loss: 0.4431 - acc: 0.7917 - val_loss: 0.4713 - val_acc: 0.7755\n",
            "Epoch 108/200\n",
            "1252/1252 [==============================] - 31s 25ms/step - loss: 0.4431 - acc: 0.7916 - val_loss: 0.4712 - val_acc: 0.7755\n",
            "Epoch 109/200\n",
            "1252/1252 [==============================] - 31s 25ms/step - loss: 0.4430 - acc: 0.7914 - val_loss: 0.4713 - val_acc: 0.7752\n",
            "Epoch 110/200\n",
            "1252/1252 [==============================] - 31s 25ms/step - loss: 0.4430 - acc: 0.7918 - val_loss: 0.4714 - val_acc: 0.7750\n",
            "Epoch 111/200\n",
            "1252/1252 [==============================] - 31s 25ms/step - loss: 0.4429 - acc: 0.7918 - val_loss: 0.4719 - val_acc: 0.7755\n",
            "Epoch 112/200\n",
            "1252/1252 [==============================] - 31s 25ms/step - loss: 0.4429 - acc: 0.7915 - val_loss: 0.4716 - val_acc: 0.7750\n",
            "Epoch 113/200\n",
            "1252/1252 [==============================] - 31s 25ms/step - loss: 0.4428 - acc: 0.7918 - val_loss: 0.4713 - val_acc: 0.7756\n",
            "Epoch 114/200\n",
            "1252/1252 [==============================] - 31s 25ms/step - loss: 0.4428 - acc: 0.7919 - val_loss: 0.4715 - val_acc: 0.7752\n",
            "Epoch 115/200\n",
            "1252/1252 [==============================] - 31s 25ms/step - loss: 0.4428 - acc: 0.7915 - val_loss: 0.4719 - val_acc: 0.7746\n",
            "Epoch 116/200\n",
            "1252/1252 [==============================] - 31s 25ms/step - loss: 0.4428 - acc: 0.7918 - val_loss: 0.4719 - val_acc: 0.7748\n",
            "Epoch 117/200\n",
            "1252/1252 [==============================] - 31s 25ms/step - loss: 0.4427 - acc: 0.7920 - val_loss: 0.4721 - val_acc: 0.7747\n",
            "Epoch 118/200\n",
            "1252/1252 [==============================] - 31s 25ms/step - loss: 0.4426 - acc: 0.7917 - val_loss: 0.4718 - val_acc: 0.7746\n",
            "Epoch 119/200\n",
            "1252/1252 [==============================] - 31s 25ms/step - loss: 0.4427 - acc: 0.7922 - val_loss: 0.4718 - val_acc: 0.7751\n",
            "Epoch 120/200\n",
            "1252/1252 [==============================] - 31s 25ms/step - loss: 0.4426 - acc: 0.7920 - val_loss: 0.4718 - val_acc: 0.7746\n",
            "Epoch 121/200\n",
            "1252/1252 [==============================] - 31s 25ms/step - loss: 0.4425 - acc: 0.7921 - val_loss: 0.4723 - val_acc: 0.7749\n",
            "Epoch 122/200\n",
            "1252/1252 [==============================] - 31s 25ms/step - loss: 0.4426 - acc: 0.7919 - val_loss: 0.4723 - val_acc: 0.7748\n",
            "Epoch 123/200\n",
            "1252/1252 [==============================] - 31s 25ms/step - loss: 0.4424 - acc: 0.7917 - val_loss: 0.4722 - val_acc: 0.7750\n",
            "Epoch 124/200\n",
            "1252/1252 [==============================] - 31s 25ms/step - loss: 0.4424 - acc: 0.7920 - val_loss: 0.4717 - val_acc: 0.7750\n",
            "Epoch 125/200\n",
            "1252/1252 [==============================] - 32s 25ms/step - loss: 0.4424 - acc: 0.7920 - val_loss: 0.4726 - val_acc: 0.7743\n",
            "Epoch 126/200\n",
            "1252/1252 [==============================] - 31s 25ms/step - loss: 0.4423 - acc: 0.7923 - val_loss: 0.4727 - val_acc: 0.7749\n",
            "Epoch 127/200\n",
            "1252/1252 [==============================] - 31s 25ms/step - loss: 0.4423 - acc: 0.7922 - val_loss: 0.4722 - val_acc: 0.7753\n",
            "Epoch 128/200\n",
            "1252/1252 [==============================] - 32s 25ms/step - loss: 0.4423 - acc: 0.7920 - val_loss: 0.4722 - val_acc: 0.7742\n",
            "Epoch 129/200\n",
            "1252/1252 [==============================] - 32s 25ms/step - loss: 0.4423 - acc: 0.7921 - val_loss: 0.4722 - val_acc: 0.7749\n",
            "Epoch 130/200\n",
            "1252/1252 [==============================] - 31s 25ms/step - loss: 0.4422 - acc: 0.7921 - val_loss: 0.4722 - val_acc: 0.7750\n",
            "Epoch 131/200\n",
            "1252/1252 [==============================] - 31s 25ms/step - loss: 0.4422 - acc: 0.7921 - val_loss: 0.4721 - val_acc: 0.7751\n",
            "Epoch 132/200\n",
            "1252/1252 [==============================] - 31s 25ms/step - loss: 0.4421 - acc: 0.7923 - val_loss: 0.4728 - val_acc: 0.7747\n",
            "Epoch 133/200\n",
            "1252/1252 [==============================] - 31s 25ms/step - loss: 0.4421 - acc: 0.7923 - val_loss: 0.4726 - val_acc: 0.7749\n",
            "Epoch 134/200\n",
            "1252/1252 [==============================] - 31s 25ms/step - loss: 0.4421 - acc: 0.7925 - val_loss: 0.4723 - val_acc: 0.7744\n",
            "Epoch 135/200\n",
            "1252/1252 [==============================] - 31s 25ms/step - loss: 0.4420 - acc: 0.7921 - val_loss: 0.4731 - val_acc: 0.7742\n",
            "Epoch 136/200\n",
            "1252/1252 [==============================] - 32s 25ms/step - loss: 0.4420 - acc: 0.7922 - val_loss: 0.4739 - val_acc: 0.7741\n",
            "Epoch 137/200\n",
            "1252/1252 [==============================] - 32s 25ms/step - loss: 0.4419 - acc: 0.7927 - val_loss: 0.4725 - val_acc: 0.7744\n",
            "Epoch 138/200\n",
            "1252/1252 [==============================] - 31s 25ms/step - loss: 0.4419 - acc: 0.7923 - val_loss: 0.4727 - val_acc: 0.7743\n",
            "Epoch 139/200\n",
            "1252/1252 [==============================] - 31s 25ms/step - loss: 0.4420 - acc: 0.7925 - val_loss: 0.4728 - val_acc: 0.7743\n",
            "Epoch 140/200\n",
            "1252/1252 [==============================] - 31s 25ms/step - loss: 0.4418 - acc: 0.7923 - val_loss: 0.4727 - val_acc: 0.7749\n",
            "Epoch 141/200\n",
            "1252/1252 [==============================] - 32s 25ms/step - loss: 0.4417 - acc: 0.7925 - val_loss: 0.4728 - val_acc: 0.7743\n",
            "Epoch 142/200\n",
            "1252/1252 [==============================] - 32s 25ms/step - loss: 0.4418 - acc: 0.7927 - val_loss: 0.4727 - val_acc: 0.7745\n",
            "Epoch 143/200\n",
            "1252/1252 [==============================] - 31s 25ms/step - loss: 0.4418 - acc: 0.7927 - val_loss: 0.4727 - val_acc: 0.7747\n",
            "Epoch 144/200\n",
            "1252/1252 [==============================] - 31s 25ms/step - loss: 0.4417 - acc: 0.7926 - val_loss: 0.4728 - val_acc: 0.7745\n",
            "Epoch 145/200\n",
            "1252/1252 [==============================] - 31s 25ms/step - loss: 0.4417 - acc: 0.7926 - val_loss: 0.4733 - val_acc: 0.7744\n",
            "Epoch 146/200\n",
            "1252/1252 [==============================] - 31s 25ms/step - loss: 0.4416 - acc: 0.7927 - val_loss: 0.4737 - val_acc: 0.7737\n",
            "Epoch 147/200\n",
            "1252/1252 [==============================] - 31s 25ms/step - loss: 0.4415 - acc: 0.7927 - val_loss: 0.4730 - val_acc: 0.7746\n",
            "Epoch 148/200\n",
            "1252/1252 [==============================] - 31s 25ms/step - loss: 0.4417 - acc: 0.7924 - val_loss: 0.4729 - val_acc: 0.7742\n",
            "Epoch 149/200\n",
            "1252/1252 [==============================] - 31s 25ms/step - loss: 0.4415 - acc: 0.7927 - val_loss: 0.4731 - val_acc: 0.7747\n",
            "Epoch 150/200\n",
            "1252/1252 [==============================] - 31s 25ms/step - loss: 0.4416 - acc: 0.7928 - val_loss: 0.4731 - val_acc: 0.7741\n",
            "Epoch 151/200\n",
            "1252/1252 [==============================] - 31s 25ms/step - loss: 0.4414 - acc: 0.7927 - val_loss: 0.4743 - val_acc: 0.7741\n",
            "Epoch 152/200\n",
            "1252/1252 [==============================] - 31s 25ms/step - loss: 0.4414 - acc: 0.7926 - val_loss: 0.4734 - val_acc: 0.7743\n",
            "Epoch 153/200\n",
            "1252/1252 [==============================] - 31s 25ms/step - loss: 0.4414 - acc: 0.7927 - val_loss: 0.4750 - val_acc: 0.7739\n",
            "Epoch 154/200\n",
            "1252/1252 [==============================] - 31s 25ms/step - loss: 0.4414 - acc: 0.7927 - val_loss: 0.4740 - val_acc: 0.7739\n",
            "Epoch 155/200\n",
            "1252/1252 [==============================] - 31s 25ms/step - loss: 0.4413 - acc: 0.7931 - val_loss: 0.4737 - val_acc: 0.7747\n",
            "Epoch 156/200\n",
            "1252/1252 [==============================] - 31s 25ms/step - loss: 0.4412 - acc: 0.7929 - val_loss: 0.4735 - val_acc: 0.7740\n",
            "Epoch 157/200\n",
            "1252/1252 [==============================] - 31s 25ms/step - loss: 0.4412 - acc: 0.7929 - val_loss: 0.4740 - val_acc: 0.7744\n",
            "Epoch 158/200\n",
            "1252/1252 [==============================] - 31s 25ms/step - loss: 0.4412 - acc: 0.7931 - val_loss: 0.4737 - val_acc: 0.7739\n",
            "Epoch 159/200\n",
            "1252/1252 [==============================] - 31s 25ms/step - loss: 0.4412 - acc: 0.7927 - val_loss: 0.4739 - val_acc: 0.7744\n",
            "Epoch 160/200\n",
            "1252/1252 [==============================] - 31s 25ms/step - loss: 0.4412 - acc: 0.7927 - val_loss: 0.4739 - val_acc: 0.7744\n",
            "Epoch 161/200\n",
            "1252/1252 [==============================] - 31s 25ms/step - loss: 0.4411 - acc: 0.7930 - val_loss: 0.4745 - val_acc: 0.7745\n",
            "Epoch 162/200\n",
            "1252/1252 [==============================] - 31s 25ms/step - loss: 0.4411 - acc: 0.7927 - val_loss: 0.4741 - val_acc: 0.7738\n",
            "Epoch 163/200\n",
            "1252/1252 [==============================] - 31s 25ms/step - loss: 0.4411 - acc: 0.7929 - val_loss: 0.4739 - val_acc: 0.7741\n",
            "Epoch 164/200\n",
            "1252/1252 [==============================] - 31s 25ms/step - loss: 0.4560 - acc: 0.7837 - val_loss: 0.4884 - val_acc: 0.7655\n",
            "Epoch 165/200\n",
            "1252/1252 [==============================] - 31s 25ms/step - loss: 0.4629 - acc: 0.7807 - val_loss: 0.4781 - val_acc: 0.7713\n",
            "Epoch 166/200\n",
            "1252/1252 [==============================] - 31s 25ms/step - loss: 0.4546 - acc: 0.7854 - val_loss: 0.4751 - val_acc: 0.7732\n",
            "Epoch 167/200\n",
            "1252/1252 [==============================] - 31s 25ms/step - loss: 0.4515 - acc: 0.7869 - val_loss: 0.4750 - val_acc: 0.7728\n",
            "Epoch 168/200\n",
            "1252/1252 [==============================] - 32s 25ms/step - loss: 0.4479 - acc: 0.7888 - val_loss: 0.4735 - val_acc: 0.7738\n",
            "Epoch 169/200\n",
            "1252/1252 [==============================] - 31s 25ms/step - loss: 0.4433 - acc: 0.7914 - val_loss: 0.4730 - val_acc: 0.7743\n",
            "Epoch 170/200\n",
            "1252/1252 [==============================] - 31s 25ms/step - loss: 0.4421 - acc: 0.7921 - val_loss: 0.4731 - val_acc: 0.7742\n",
            "Epoch 171/200\n",
            "1252/1252 [==============================] - 31s 25ms/step - loss: 0.4416 - acc: 0.7925 - val_loss: 0.4732 - val_acc: 0.7742\n",
            "Epoch 172/200\n",
            "1252/1252 [==============================] - 31s 25ms/step - loss: 0.4413 - acc: 0.7927 - val_loss: 0.4736 - val_acc: 0.7737\n",
            "Epoch 173/200\n",
            "1252/1252 [==============================] - 31s 25ms/step - loss: 0.4411 - acc: 0.7926 - val_loss: 0.4739 - val_acc: 0.7747\n",
            "Epoch 174/200\n",
            "1252/1252 [==============================] - 31s 25ms/step - loss: 0.4412 - acc: 0.7926 - val_loss: 0.4742 - val_acc: 0.7741\n",
            "Epoch 175/200\n",
            "1252/1252 [==============================] - 31s 25ms/step - loss: 0.4410 - acc: 0.7931 - val_loss: 0.4741 - val_acc: 0.7738\n",
            "Epoch 176/200\n",
            "1252/1252 [==============================] - 31s 25ms/step - loss: 0.4409 - acc: 0.7931 - val_loss: 0.4739 - val_acc: 0.7742\n",
            "Epoch 177/200\n",
            "1252/1252 [==============================] - 31s 25ms/step - loss: 0.4409 - acc: 0.7931 - val_loss: 0.4743 - val_acc: 0.7740\n",
            "Epoch 178/200\n",
            "1252/1252 [==============================] - 31s 25ms/step - loss: 0.4408 - acc: 0.7931 - val_loss: 0.4740 - val_acc: 0.7739\n",
            "Epoch 179/200\n",
            "1252/1252 [==============================] - 31s 25ms/step - loss: 0.4408 - acc: 0.7931 - val_loss: 0.4743 - val_acc: 0.7729\n",
            "Epoch 180/200\n",
            "1252/1252 [==============================] - 31s 25ms/step - loss: 0.4407 - acc: 0.7933 - val_loss: 0.4741 - val_acc: 0.7737\n",
            "Epoch 181/200\n",
            "1252/1252 [==============================] - 31s 25ms/step - loss: 0.4408 - acc: 0.7930 - val_loss: 0.4745 - val_acc: 0.7739\n",
            "Epoch 182/200\n",
            "1252/1252 [==============================] - 31s 25ms/step - loss: 0.4407 - acc: 0.7931 - val_loss: 0.4742 - val_acc: 0.7737\n",
            "Epoch 183/200\n",
            "1252/1252 [==============================] - 31s 25ms/step - loss: 0.4407 - acc: 0.7933 - val_loss: 0.4748 - val_acc: 0.7739\n",
            "Epoch 184/200\n",
            "1252/1252 [==============================] - 31s 25ms/step - loss: 0.4406 - acc: 0.7934 - val_loss: 0.4740 - val_acc: 0.7734\n",
            "Epoch 185/200\n",
            "1252/1252 [==============================] - 31s 25ms/step - loss: 0.4407 - acc: 0.7934 - val_loss: 0.4743 - val_acc: 0.7735\n",
            "Epoch 186/200\n",
            "1252/1252 [==============================] - 31s 25ms/step - loss: 0.4406 - acc: 0.7932 - val_loss: 0.4749 - val_acc: 0.7737\n",
            "Epoch 187/200\n",
            "1252/1252 [==============================] - 31s 25ms/step - loss: 0.4406 - acc: 0.7934 - val_loss: 0.4747 - val_acc: 0.7734\n",
            "Epoch 188/200\n",
            "1252/1252 [==============================] - 31s 25ms/step - loss: 0.4405 - acc: 0.7936 - val_loss: 0.4745 - val_acc: 0.7734\n",
            "Epoch 189/200\n",
            "1252/1252 [==============================] - 31s 25ms/step - loss: 0.4405 - acc: 0.7935 - val_loss: 0.4750 - val_acc: 0.7738\n",
            "Epoch 190/200\n",
            "1252/1252 [==============================] - 31s 25ms/step - loss: 0.4404 - acc: 0.7933 - val_loss: 0.4748 - val_acc: 0.7737\n",
            "Epoch 191/200\n",
            "1252/1252 [==============================] - 31s 25ms/step - loss: 0.4404 - acc: 0.7934 - val_loss: 0.4747 - val_acc: 0.7731\n",
            "Epoch 192/200\n",
            "1252/1252 [==============================] - 31s 25ms/step - loss: 0.4404 - acc: 0.7934 - val_loss: 0.4751 - val_acc: 0.7739\n",
            "Epoch 193/200\n",
            "1252/1252 [==============================] - 31s 25ms/step - loss: 0.4404 - acc: 0.7933 - val_loss: 0.4747 - val_acc: 0.7736\n",
            "Epoch 194/200\n",
            "1252/1252 [==============================] - 31s 25ms/step - loss: 0.4404 - acc: 0.7936 - val_loss: 0.4750 - val_acc: 0.7737\n",
            "Epoch 195/200\n",
            "1252/1252 [==============================] - 31s 25ms/step - loss: 0.4403 - acc: 0.7937 - val_loss: 0.4746 - val_acc: 0.7738\n",
            "Epoch 196/200\n",
            "1252/1252 [==============================] - 31s 25ms/step - loss: 0.4405 - acc: 0.7933 - val_loss: 0.4752 - val_acc: 0.7728\n",
            "Epoch 197/200\n",
            "1252/1252 [==============================] - 31s 25ms/step - loss: 0.4402 - acc: 0.7937 - val_loss: 0.4749 - val_acc: 0.7735\n",
            "Epoch 198/200\n",
            "1252/1252 [==============================] - 31s 25ms/step - loss: 0.4402 - acc: 0.7938 - val_loss: 0.4754 - val_acc: 0.7736\n",
            "Epoch 199/200\n",
            "1252/1252 [==============================] - 31s 25ms/step - loss: 0.4402 - acc: 0.7935 - val_loss: 0.4752 - val_acc: 0.7733\n",
            "Epoch 200/200\n",
            "1252/1252 [==============================] - 31s 25ms/step - loss: 0.4402 - acc: 0.7935 - val_loss: 0.4751 - val_acc: 0.7736\n",
            "CPU times: user 2h 2min 44s, sys: 8min 16s, total: 2h 11min\n",
            "Wall time: 1h 44min 14s\n"
          ]
        }
      ],
      "source": [
        "%%time\n",
        "history_lemm_w2v = lstm_lemm_w2v.fit(xtrain_lem, \n",
        "                             ytrain,\n",
        "                             validation_data = (xval_lem, yval),\n",
        "                             epochs = epochs,\n",
        "                             batch_size = batch_size,\n",
        "                             verbose = 1)"
      ]
    },
    {
      "cell_type": "code",
      "execution_count": 30,
      "id": "5b984c4f",
      "metadata": {
        "id": "5b984c4f"
      },
      "outputs": [],
      "source": [
        "def plot_history(history, list_key) :\n",
        "    # summarize history for accuracy\n",
        "    plt.plot(history.history[list_key[0]])\n",
        "    plt.plot(history.history[list_key[2]])\n",
        "    plt.title(f'model {list_key[0]}')\n",
        "    plt.ylabel(list_key[0])\n",
        "    plt.xlabel('epoch')\n",
        "    plt.legend(['train', 'test'], loc='upper left')\n",
        "    plt.show()\n",
        "\n",
        "    # summarize history for loss\n",
        "    plt.plot(history.history[list_key[1]])\n",
        "    plt.plot(history.history[list_key[3]])\n",
        "    plt.title(f'model {list_key[1]}')\n",
        "    plt.ylabel(list_key[1])\n",
        "    plt.xlabel('epoch')\n",
        "    plt.legend(['train', 'test'], loc='upper left')\n",
        "    plt.show()"
      ]
    },
    {
      "cell_type": "markdown",
      "id": "ssAQTiDANthS",
      "metadata": {
        "id": "ssAQTiDANthS"
      },
      "source": [
        "#### Learning Curve"
      ]
    },
    {
      "cell_type": "code",
      "execution_count": 31,
      "id": "8a393e96",
      "metadata": {
        "id": "8a393e96",
        "colab": {
          "base_uri": "https://localhost:8080/",
          "height": 573
        },
        "outputId": "e1bc21e3-5dcd-4536-8e84-20566feec7fb"
      },
      "outputs": [
        {
          "output_type": "display_data",
          "data": {
            "text/plain": [
              "<Figure size 432x288 with 1 Axes>"
            ],
            "image/png": "[encoded data removed]"
          },
          "metadata": {
            "needs_background": "light"
          }
        },
        {
          "output_type": "display_data",
          "data": {
            "text/plain": [
              "<Figure size 432x288 with 1 Axes>"
            ],
            "image/png": "[encoded data removed]"
          },
          "metadata": {
            "needs_background": "light"
          }
        }
      ],
      "source": [
        "history = history_lemm_w2v\n",
        "plot_history(history, list(history.history.keys()))"
      ]
    },
    {
      "cell_type": "markdown",
      "id": "u2ElOp5UN8lr",
      "metadata": {
        "id": "u2ElOp5UN8lr"
      },
      "source": [
        "#### Evaluation du modèle"
      ]
    },
    {
      "cell_type": "code",
      "execution_count": 32,
      "id": "75645385",
      "metadata": {
        "id": "75645385",
        "colab": {
          "base_uri": "https://localhost:8080/"
        },
        "outputId": "10a55a73-ffdb-4b79-8119-fddd8c12d302"
      },
      "outputs": [
        {
          "output_type": "stream",
          "name": "stdout",
          "text": [
            "Loss score 0.48 : \n",
            "Accuracy score: 0.77\n"
          ]
        }
      ],
      "source": [
        "evaluate = lstm_lemm_w2v.evaluate(xval_lem, yval, verbose=0)\n",
        "\n",
        "print('Loss score %.2f : \\nAccuracy score: %.2f'%(evaluate[0], evaluate[1]))"
      ]
    },
    {
      "cell_type": "markdown",
      "id": "qQUc5KqFEf0D",
      "metadata": {
        "id": "qQUc5KqFEf0D"
      },
      "source": [
        "### Amélioration du modèle"
      ]
    },
    {
      "cell_type": "code",
      "execution_count": 33,
      "id": "FdJrDigiFdl_",
      "metadata": {
        "id": "FdJrDigiFdl_"
      },
      "outputs": [],
      "source": [
        "len_vocab = 154_398\n",
        "output_dim = 200\n",
        "max_len = 200\n",
        "len_padding = 5\n",
        "\n",
        "tensorflow.random.set_seed(seed)\n",
        "\n",
        "lstm_lemm_w2v_optimised = Sequential()\n",
        "\n",
        "lstm_lemm_w2v_optimised.add(Embedding(input_dim = len_vocab,\n",
        "                            output_dim = output_dim,\n",
        "                            embeddings_initializer = keras.initializers.Constant(embedding_matrix),\n",
        "                            input_length = max_len + len_padding,\n",
        "                            trainable = False))\n",
        "\n",
        "lstm_lemm_w2v_optimised.add(Bidirectional(LSTM(10))) \n",
        "\n",
        "lstm_lemm_w2v_optimised.add(Dropout(0.5))\n",
        "\n",
        "lstm_lemm_w2v_optimised.add(Flatten())\n",
        "\n",
        "lstm_lemm_w2v_optimised.add(Dense(10, activation='relu'))\n",
        "\n",
        "lstm_lemm_w2v_optimised.add(Dropout(0.5))\n",
        "\n",
        "lstm_lemm_w2v_optimised.add(Dense(1, activation=\"sigmoid\"))\n",
        "\n",
        "lstm_lemm_w2v_optimised.compile(optimizer = 'adam', \n",
        "                       loss = 'binary_crossentropy', \n",
        "                       metrics = ['acc'])\n"
      ]
    },
    {
      "cell_type": "code",
      "execution_count": 34,
      "id": "0pCQ2Uo9JaO5",
      "metadata": {
        "id": "0pCQ2Uo9JaO5",
        "colab": {
          "base_uri": "https://localhost:8080/"
        },
        "outputId": "c7595ec5-b8e9-41bf-a0ea-20d5ea7c13ca"
      },
      "outputs": [
        {
          "output_type": "stream",
          "name": "stdout",
          "text": [
            "Model: \"sequential_1\"\n",
            "_________________________________________________________________\n",
            " Layer (type)                Output Shape              Param #   \n",
            "=================================================================\n",
            " embedding_1 (Embedding)     (None, 205, 200)          30879600  \n",
            "                                                                 \n",
            " bidirectional_1 (Bidirectio  (None, 20)               16880     \n",
            " nal)                                                            \n",
            "                                                                 \n",
            " dropout (Dropout)           (None, 20)                0         \n",
            "                                                                 \n",
            " flatten_1 (Flatten)         (None, 20)                0         \n",
            "                                                                 \n",
            " dense_1 (Dense)             (None, 10)                210       \n",
            "                                                                 \n",
            " dropout_1 (Dropout)         (None, 10)                0         \n",
            "                                                                 \n",
            " dense_2 (Dense)             (None, 1)                 11        \n",
            "                                                                 \n",
            "=================================================================\n",
            "Total params: 30,896,701\n",
            "Trainable params: 17,101\n",
            "Non-trainable params: 30,879,600\n",
            "_________________________________________________________________\n"
          ]
        }
      ],
      "source": [
        "lstm_lemm_w2v_optimised.summary()"
      ]
    },
    {
      "cell_type": "code",
      "execution_count": 35,
      "id": "sZYa8_MXE7pw",
      "metadata": {
        "id": "sZYa8_MXE7pw",
        "scrolled": true,
        "colab": {
          "base_uri": "https://localhost:8080/"
        },
        "outputId": "1e67a7e8-e88a-418c-c7c9-63ab6609cec0"
      },
      "outputs": [
        {
          "output_type": "stream",
          "name": "stdout",
          "text": [
            "Epoch 1/200\n",
            "1252/1252 [==============================] - 35s 26ms/step - loss: 0.5796 - acc: 0.7053 - val_loss: 0.5009 - val_acc: 0.7600\n",
            "Epoch 2/200\n",
            "1252/1252 [==============================] - 32s 25ms/step - loss: 0.5353 - acc: 0.7470 - val_loss: 0.4879 - val_acc: 0.7662\n",
            "Epoch 3/200\n",
            "1252/1252 [==============================] - 31s 25ms/step - loss: 0.5262 - acc: 0.7528 - val_loss: 0.4826 - val_acc: 0.7695\n",
            "Epoch 4/200\n",
            "1252/1252 [==============================] - 31s 25ms/step - loss: 0.5223 - acc: 0.7546 - val_loss: 0.4817 - val_acc: 0.7708\n",
            "Epoch 5/200\n",
            "1252/1252 [==============================] - 31s 25ms/step - loss: 0.5194 - acc: 0.7570 - val_loss: 0.4803 - val_acc: 0.7703\n",
            "Epoch 6/200\n",
            "1252/1252 [==============================] - 32s 25ms/step - loss: 0.5178 - acc: 0.7573 - val_loss: 0.4774 - val_acc: 0.7722\n",
            "Epoch 7/200\n",
            "1252/1252 [==============================] - 32s 25ms/step - loss: 0.5165 - acc: 0.7584 - val_loss: 0.4749 - val_acc: 0.7730\n",
            "Epoch 8/200\n",
            "1252/1252 [==============================] - 31s 25ms/step - loss: 0.5152 - acc: 0.7595 - val_loss: 0.4745 - val_acc: 0.7735\n",
            "Epoch 9/200\n",
            "1252/1252 [==============================] - 31s 25ms/step - loss: 0.5141 - acc: 0.7601 - val_loss: 0.4749 - val_acc: 0.7734\n",
            "Epoch 10/200\n",
            "1252/1252 [==============================] - 31s 25ms/step - loss: 0.5137 - acc: 0.7607 - val_loss: 0.4760 - val_acc: 0.7727\n",
            "Epoch 11/200\n",
            "1252/1252 [==============================] - 32s 25ms/step - loss: 0.5136 - acc: 0.7605 - val_loss: 0.4738 - val_acc: 0.7727\n",
            "Epoch 12/200\n",
            "1252/1252 [==============================] - 31s 25ms/step - loss: 0.5119 - acc: 0.7612 - val_loss: 0.4727 - val_acc: 0.7744\n",
            "Epoch 13/200\n",
            "1252/1252 [==============================] - 31s 25ms/step - loss: 0.5211 - acc: 0.7557 - val_loss: 0.4741 - val_acc: 0.7742\n",
            "Epoch 14/200\n",
            "1252/1252 [==============================] - 31s 25ms/step - loss: 0.5111 - acc: 0.7618 - val_loss: 0.4745 - val_acc: 0.7740\n",
            "Epoch 15/200\n",
            "1252/1252 [==============================] - 32s 25ms/step - loss: 0.5109 - acc: 0.7622 - val_loss: 0.4739 - val_acc: 0.7726\n",
            "Epoch 16/200\n",
            "1252/1252 [==============================] - 31s 25ms/step - loss: 0.5097 - acc: 0.7627 - val_loss: 0.4741 - val_acc: 0.7745\n",
            "Epoch 17/200\n",
            "1252/1252 [==============================] - 31s 25ms/step - loss: 0.5093 - acc: 0.7628 - val_loss: 0.4782 - val_acc: 0.7740\n",
            "Epoch 18/200\n",
            "1252/1252 [==============================] - 31s 25ms/step - loss: 0.5094 - acc: 0.7633 - val_loss: 0.4722 - val_acc: 0.7743\n",
            "Epoch 19/200\n",
            "1252/1252 [==============================] - 31s 25ms/step - loss: 0.5098 - acc: 0.7626 - val_loss: 0.4750 - val_acc: 0.7744\n",
            "Epoch 20/200\n",
            "1252/1252 [==============================] - 31s 25ms/step - loss: 0.5091 - acc: 0.7634 - val_loss: 0.4714 - val_acc: 0.7748\n",
            "Epoch 21/200\n",
            "1252/1252 [==============================] - 31s 25ms/step - loss: 0.5089 - acc: 0.7633 - val_loss: 0.4717 - val_acc: 0.7751\n",
            "Epoch 22/200\n",
            "1252/1252 [==============================] - 31s 25ms/step - loss: 0.5080 - acc: 0.7637 - val_loss: 0.4737 - val_acc: 0.7743\n",
            "Epoch 23/200\n",
            "1252/1252 [==============================] - 31s 25ms/step - loss: 0.5088 - acc: 0.7635 - val_loss: 0.4728 - val_acc: 0.7746\n",
            "Epoch 24/200\n",
            "1252/1252 [==============================] - 32s 25ms/step - loss: 0.5078 - acc: 0.7633 - val_loss: 0.4732 - val_acc: 0.7746\n",
            "Epoch 25/200\n",
            "1252/1252 [==============================] - 31s 25ms/step - loss: 0.5077 - acc: 0.7635 - val_loss: 0.4741 - val_acc: 0.7751\n",
            "Epoch 26/200\n",
            "1252/1252 [==============================] - 31s 25ms/step - loss: 0.5076 - acc: 0.7634 - val_loss: 0.4720 - val_acc: 0.7747\n",
            "Epoch 27/200\n",
            "1252/1252 [==============================] - 31s 25ms/step - loss: 0.5074 - acc: 0.7641 - val_loss: 0.4729 - val_acc: 0.7750\n",
            "Epoch 28/200\n",
            "1252/1252 [==============================] - 32s 25ms/step - loss: 0.5069 - acc: 0.7643 - val_loss: 0.4728 - val_acc: 0.7754\n",
            "Epoch 29/200\n",
            "1252/1252 [==============================] - 31s 25ms/step - loss: 0.5076 - acc: 0.7642 - val_loss: 0.4727 - val_acc: 0.7747\n",
            "Epoch 30/200\n",
            "1252/1252 [==============================] - 31s 25ms/step - loss: 0.5066 - acc: 0.7639 - val_loss: 0.4719 - val_acc: 0.7748\n",
            "Epoch 31/200\n",
            "1252/1252 [==============================] - 31s 25ms/step - loss: 0.5067 - acc: 0.7639 - val_loss: 0.4719 - val_acc: 0.7746\n",
            "Epoch 32/200\n",
            "1252/1252 [==============================] - 32s 25ms/step - loss: 0.5067 - acc: 0.7646 - val_loss: 0.4721 - val_acc: 0.7752\n",
            "Epoch 33/200\n",
            "1252/1252 [==============================] - 31s 25ms/step - loss: 0.5064 - acc: 0.7645 - val_loss: 0.4733 - val_acc: 0.7745\n",
            "Epoch 34/200\n",
            "1252/1252 [==============================] - 31s 25ms/step - loss: 0.5068 - acc: 0.7641 - val_loss: 0.4719 - val_acc: 0.7748\n",
            "Epoch 35/200\n",
            "1252/1252 [==============================] - 31s 25ms/step - loss: 0.5064 - acc: 0.7645 - val_loss: 0.4722 - val_acc: 0.7750\n",
            "Epoch 36/200\n",
            "1252/1252 [==============================] - 31s 25ms/step - loss: 0.5058 - acc: 0.7643 - val_loss: 0.4746 - val_acc: 0.7744\n",
            "Epoch 37/200\n",
            "1252/1252 [==============================] - 32s 25ms/step - loss: 0.5059 - acc: 0.7646 - val_loss: 0.4737 - val_acc: 0.7744\n",
            "Epoch 38/200\n",
            "1252/1252 [==============================] - 31s 25ms/step - loss: 0.5065 - acc: 0.7646 - val_loss: 0.4721 - val_acc: 0.7746\n",
            "Epoch 39/200\n",
            "1252/1252 [==============================] - 31s 25ms/step - loss: 0.5057 - acc: 0.7643 - val_loss: 0.4733 - val_acc: 0.7744\n",
            "Epoch 40/200\n",
            "1252/1252 [==============================] - 31s 25ms/step - loss: 0.5063 - acc: 0.7639 - val_loss: 0.4719 - val_acc: 0.7744\n",
            "Epoch 41/200\n",
            "1252/1252 [==============================] - 32s 25ms/step - loss: 0.5058 - acc: 0.7651 - val_loss: 0.4736 - val_acc: 0.7738\n",
            "Epoch 42/200\n",
            "1252/1252 [==============================] - 31s 25ms/step - loss: 0.5057 - acc: 0.7646 - val_loss: 0.4722 - val_acc: 0.7748\n",
            "Epoch 43/200\n",
            "1252/1252 [==============================] - 31s 25ms/step - loss: 0.5048 - acc: 0.7655 - val_loss: 0.4720 - val_acc: 0.7739\n",
            "Epoch 44/200\n",
            "1252/1252 [==============================] - 31s 25ms/step - loss: 0.5053 - acc: 0.7650 - val_loss: 0.4731 - val_acc: 0.7738\n",
            "Epoch 45/200\n",
            "1252/1252 [==============================] - 31s 25ms/step - loss: 0.5054 - acc: 0.7650 - val_loss: 0.4741 - val_acc: 0.7741\n",
            "Epoch 46/200\n",
            "1252/1252 [==============================] - 31s 25ms/step - loss: 0.5048 - acc: 0.7651 - val_loss: 0.4717 - val_acc: 0.7748\n",
            "Epoch 47/200\n",
            "1252/1252 [==============================] - 31s 25ms/step - loss: 0.5056 - acc: 0.7648 - val_loss: 0.4727 - val_acc: 0.7755\n",
            "Epoch 48/200\n",
            "1252/1252 [==============================] - 31s 25ms/step - loss: 0.5054 - acc: 0.7650 - val_loss: 0.4718 - val_acc: 0.7748\n",
            "Epoch 49/200\n",
            "1252/1252 [==============================] - 31s 25ms/step - loss: 0.5050 - acc: 0.7650 - val_loss: 0.4732 - val_acc: 0.7748\n",
            "Epoch 50/200\n",
            "1252/1252 [==============================] - 31s 25ms/step - loss: 0.5054 - acc: 0.7653 - val_loss: 0.4728 - val_acc: 0.7750\n",
            "Epoch 51/200\n",
            "1252/1252 [==============================] - 31s 25ms/step - loss: 0.5045 - acc: 0.7656 - val_loss: 0.4736 - val_acc: 0.7743\n",
            "Epoch 52/200\n",
            "1252/1252 [==============================] - 31s 25ms/step - loss: 0.5051 - acc: 0.7651 - val_loss: 0.4717 - val_acc: 0.7749\n",
            "Epoch 53/200\n",
            "1252/1252 [==============================] - 31s 25ms/step - loss: 0.5043 - acc: 0.7655 - val_loss: 0.4721 - val_acc: 0.7745\n",
            "Epoch 54/200\n",
            "1252/1252 [==============================] - 31s 25ms/step - loss: 0.5042 - acc: 0.7660 - val_loss: 0.4724 - val_acc: 0.7745\n",
            "Epoch 55/200\n",
            "1252/1252 [==============================] - 31s 25ms/step - loss: 0.5048 - acc: 0.7650 - val_loss: 0.4733 - val_acc: 0.7747\n",
            "Epoch 56/200\n",
            "1252/1252 [==============================] - 31s 25ms/step - loss: 0.5047 - acc: 0.7657 - val_loss: 0.4726 - val_acc: 0.7747\n",
            "Epoch 57/200\n",
            "1252/1252 [==============================] - 31s 25ms/step - loss: 0.5044 - acc: 0.7659 - val_loss: 0.4715 - val_acc: 0.7745\n",
            "Epoch 58/200\n",
            "1252/1252 [==============================] - 31s 25ms/step - loss: 0.5049 - acc: 0.7654 - val_loss: 0.4740 - val_acc: 0.7749\n",
            "Epoch 59/200\n",
            "1252/1252 [==============================] - 31s 25ms/step - loss: 0.5042 - acc: 0.7657 - val_loss: 0.4726 - val_acc: 0.7741\n",
            "Epoch 60/200\n",
            "1252/1252 [==============================] - 31s 25ms/step - loss: 0.5044 - acc: 0.7660 - val_loss: 0.4722 - val_acc: 0.7749\n",
            "Epoch 61/200\n",
            "1252/1252 [==============================] - 31s 25ms/step - loss: 0.5043 - acc: 0.7661 - val_loss: 0.4727 - val_acc: 0.7749\n",
            "Epoch 62/200\n",
            "1252/1252 [==============================] - 31s 25ms/step - loss: 0.5050 - acc: 0.7657 - val_loss: 0.4725 - val_acc: 0.7741\n",
            "Epoch 63/200\n",
            "1252/1252 [==============================] - 31s 25ms/step - loss: 0.5041 - acc: 0.7657 - val_loss: 0.4729 - val_acc: 0.7743\n",
            "Epoch 64/200\n",
            "1252/1252 [==============================] - 31s 25ms/step - loss: 0.5040 - acc: 0.7659 - val_loss: 0.4720 - val_acc: 0.7743\n",
            "Epoch 65/200\n",
            "1252/1252 [==============================] - 32s 25ms/step - loss: 0.5045 - acc: 0.7659 - val_loss: 0.4715 - val_acc: 0.7745\n",
            "Epoch 66/200\n",
            "1252/1252 [==============================] - 31s 25ms/step - loss: 0.5031 - acc: 0.7660 - val_loss: 0.4737 - val_acc: 0.7739\n",
            "Epoch 67/200\n",
            "1252/1252 [==============================] - 31s 25ms/step - loss: 0.5038 - acc: 0.7661 - val_loss: 0.4718 - val_acc: 0.7748\n",
            "Epoch 68/200\n",
            "1252/1252 [==============================] - 31s 25ms/step - loss: 0.5036 - acc: 0.7662 - val_loss: 0.4719 - val_acc: 0.7750\n",
            "Epoch 69/200\n",
            "1252/1252 [==============================] - 31s 25ms/step - loss: 0.5038 - acc: 0.7655 - val_loss: 0.4726 - val_acc: 0.7746\n",
            "Epoch 70/200\n",
            "1252/1252 [==============================] - 31s 25ms/step - loss: 0.5038 - acc: 0.7658 - val_loss: 0.4722 - val_acc: 0.7744\n",
            "Epoch 71/200\n",
            "1252/1252 [==============================] - 32s 25ms/step - loss: 0.5042 - acc: 0.7658 - val_loss: 0.4718 - val_acc: 0.7750\n",
            "Epoch 72/200\n",
            "1252/1252 [==============================] - 31s 25ms/step - loss: 0.5039 - acc: 0.7661 - val_loss: 0.4726 - val_acc: 0.7745\n",
            "Epoch 73/200\n",
            "1252/1252 [==============================] - 31s 25ms/step - loss: 0.5037 - acc: 0.7659 - val_loss: 0.4735 - val_acc: 0.7741\n",
            "Epoch 74/200\n",
            "1252/1252 [==============================] - 31s 25ms/step - loss: 0.5031 - acc: 0.7659 - val_loss: 0.4726 - val_acc: 0.7747\n",
            "Epoch 75/200\n",
            "1252/1252 [==============================] - 31s 25ms/step - loss: 0.5030 - acc: 0.7662 - val_loss: 0.4738 - val_acc: 0.7742\n",
            "Epoch 76/200\n",
            "1252/1252 [==============================] - 31s 25ms/step - loss: 0.5040 - acc: 0.7652 - val_loss: 0.4724 - val_acc: 0.7747\n",
            "Epoch 77/200\n",
            "1252/1252 [==============================] - 32s 25ms/step - loss: 0.5034 - acc: 0.7660 - val_loss: 0.4720 - val_acc: 0.7745\n",
            "Epoch 78/200\n",
            "1252/1252 [==============================] - 31s 25ms/step - loss: 0.5036 - acc: 0.7664 - val_loss: 0.4737 - val_acc: 0.7736\n",
            "Epoch 79/200\n",
            "1252/1252 [==============================] - 31s 25ms/step - loss: 0.5031 - acc: 0.7662 - val_loss: 0.4731 - val_acc: 0.7749\n",
            "Epoch 80/200\n",
            "1252/1252 [==============================] - 32s 25ms/step - loss: 0.5035 - acc: 0.7661 - val_loss: 0.4740 - val_acc: 0.7740\n",
            "Epoch 81/200\n",
            "1252/1252 [==============================] - 32s 25ms/step - loss: 0.5042 - acc: 0.7652 - val_loss: 0.4728 - val_acc: 0.7749\n",
            "Epoch 82/200\n",
            "1252/1252 [==============================] - 32s 25ms/step - loss: 0.5036 - acc: 0.7657 - val_loss: 0.4733 - val_acc: 0.7742\n",
            "Epoch 83/200\n",
            "1252/1252 [==============================] - 32s 25ms/step - loss: 0.5036 - acc: 0.7660 - val_loss: 0.4745 - val_acc: 0.7740\n",
            "Epoch 84/200\n",
            "1252/1252 [==============================] - 32s 25ms/step - loss: 0.5040 - acc: 0.7657 - val_loss: 0.4728 - val_acc: 0.7745\n",
            "Epoch 85/200\n",
            "1252/1252 [==============================] - 32s 25ms/step - loss: 0.5031 - acc: 0.7657 - val_loss: 0.4756 - val_acc: 0.7736\n",
            "Epoch 86/200\n",
            "1252/1252 [==============================] - 32s 25ms/step - loss: 0.5036 - acc: 0.7654 - val_loss: 0.4716 - val_acc: 0.7745\n",
            "Epoch 87/200\n",
            "1252/1252 [==============================] - 31s 25ms/step - loss: 0.5037 - acc: 0.7657 - val_loss: 0.4726 - val_acc: 0.7746\n",
            "Epoch 88/200\n",
            "1252/1252 [==============================] - 31s 25ms/step - loss: 0.5035 - acc: 0.7662 - val_loss: 0.4722 - val_acc: 0.7740\n",
            "Epoch 89/200\n",
            "1252/1252 [==============================] - 32s 25ms/step - loss: 0.5029 - acc: 0.7660 - val_loss: 0.4730 - val_acc: 0.7743\n",
            "Epoch 90/200\n",
            "1252/1252 [==============================] - 32s 25ms/step - loss: 0.5030 - acc: 0.7661 - val_loss: 0.4726 - val_acc: 0.7747\n",
            "Epoch 91/200\n",
            "1252/1252 [==============================] - 31s 25ms/step - loss: 0.5028 - acc: 0.7659 - val_loss: 0.4718 - val_acc: 0.7748\n",
            "Epoch 92/200\n",
            "1252/1252 [==============================] - 32s 25ms/step - loss: 0.5033 - acc: 0.7660 - val_loss: 0.4722 - val_acc: 0.7742\n",
            "Epoch 93/200\n",
            "1252/1252 [==============================] - 32s 25ms/step - loss: 0.5030 - acc: 0.7666 - val_loss: 0.4743 - val_acc: 0.7741\n",
            "Epoch 94/200\n",
            "1252/1252 [==============================] - 32s 26ms/step - loss: 0.5029 - acc: 0.7662 - val_loss: 0.4737 - val_acc: 0.7749\n",
            "Epoch 95/200\n",
            "1252/1252 [==============================] - 32s 26ms/step - loss: 0.5031 - acc: 0.7668 - val_loss: 0.4752 - val_acc: 0.7731\n",
            "Epoch 96/200\n",
            "1252/1252 [==============================] - 31s 25ms/step - loss: 0.5033 - acc: 0.7662 - val_loss: 0.4736 - val_acc: 0.7734\n",
            "Epoch 97/200\n",
            "1252/1252 [==============================] - 31s 25ms/step - loss: 0.5036 - acc: 0.7660 - val_loss: 0.4742 - val_acc: 0.7738\n",
            "Epoch 98/200\n",
            "1252/1252 [==============================] - 31s 25ms/step - loss: 0.5026 - acc: 0.7663 - val_loss: 0.4729 - val_acc: 0.7740\n",
            "Epoch 99/200\n",
            "1252/1252 [==============================] - 31s 25ms/step - loss: 0.5032 - acc: 0.7662 - val_loss: 0.4727 - val_acc: 0.7742\n",
            "Epoch 100/200\n",
            "1252/1252 [==============================] - 32s 25ms/step - loss: 0.5032 - acc: 0.7668 - val_loss: 0.4732 - val_acc: 0.7742\n",
            "Epoch 101/200\n",
            "1252/1252 [==============================] - 32s 25ms/step - loss: 0.5029 - acc: 0.7667 - val_loss: 0.4734 - val_acc: 0.7745\n",
            "Epoch 102/200\n",
            "1252/1252 [==============================] - 31s 25ms/step - loss: 0.5028 - acc: 0.7663 - val_loss: 0.4743 - val_acc: 0.7744\n",
            "Epoch 103/200\n",
            "1252/1252 [==============================] - 32s 25ms/step - loss: 0.5027 - acc: 0.7661 - val_loss: 0.4729 - val_acc: 0.7741\n",
            "Epoch 104/200\n",
            "1252/1252 [==============================] - 32s 25ms/step - loss: 0.5034 - acc: 0.7662 - val_loss: 0.4740 - val_acc: 0.7734\n",
            "Epoch 105/200\n",
            "1252/1252 [==============================] - 32s 25ms/step - loss: 0.5028 - acc: 0.7659 - val_loss: 0.4739 - val_acc: 0.7742\n",
            "Epoch 106/200\n",
            "1252/1252 [==============================] - 32s 25ms/step - loss: 0.5031 - acc: 0.7662 - val_loss: 0.4737 - val_acc: 0.7741\n",
            "Epoch 107/200\n",
            "1252/1252 [==============================] - 31s 25ms/step - loss: 0.5027 - acc: 0.7670 - val_loss: 0.4739 - val_acc: 0.7735\n",
            "Epoch 108/200\n",
            "1252/1252 [==============================] - 32s 25ms/step - loss: 0.5031 - acc: 0.7659 - val_loss: 0.4742 - val_acc: 0.7744\n",
            "Epoch 109/200\n",
            "1252/1252 [==============================] - 31s 25ms/step - loss: 0.5025 - acc: 0.7662 - val_loss: 0.4738 - val_acc: 0.7740\n",
            "Epoch 110/200\n",
            "1252/1252 [==============================] - 31s 25ms/step - loss: 0.5023 - acc: 0.7666 - val_loss: 0.4739 - val_acc: 0.7737\n",
            "Epoch 111/200\n",
            "1252/1252 [==============================] - 31s 25ms/step - loss: 0.5018 - acc: 0.7667 - val_loss: 0.4724 - val_acc: 0.7742\n",
            "Epoch 112/200\n",
            "1252/1252 [==============================] - 32s 25ms/step - loss: 0.5024 - acc: 0.7662 - val_loss: 0.4727 - val_acc: 0.7740\n",
            "Epoch 113/200\n",
            "1252/1252 [==============================] - 31s 25ms/step - loss: 0.5020 - acc: 0.7662 - val_loss: 0.4742 - val_acc: 0.7742\n",
            "Epoch 114/200\n",
            "1252/1252 [==============================] - 32s 25ms/step - loss: 0.5020 - acc: 0.7661 - val_loss: 0.4723 - val_acc: 0.7744\n",
            "Epoch 115/200\n",
            "1252/1252 [==============================] - 31s 25ms/step - loss: 0.5026 - acc: 0.7665 - val_loss: 0.4732 - val_acc: 0.7744\n",
            "Epoch 116/200\n",
            "1252/1252 [==============================] - 31s 25ms/step - loss: 0.5024 - acc: 0.7666 - val_loss: 0.4739 - val_acc: 0.7739\n",
            "Epoch 117/200\n",
            "1252/1252 [==============================] - 31s 25ms/step - loss: 0.5017 - acc: 0.7665 - val_loss: 0.4728 - val_acc: 0.7745\n",
            "Epoch 118/200\n",
            "1252/1252 [==============================] - 32s 25ms/step - loss: 0.5024 - acc: 0.7667 - val_loss: 0.4729 - val_acc: 0.7749\n",
            "Epoch 119/200\n",
            "1252/1252 [==============================] - 31s 25ms/step - loss: 0.5027 - acc: 0.7663 - val_loss: 0.4729 - val_acc: 0.7745\n",
            "Epoch 120/200\n",
            "1252/1252 [==============================] - 31s 25ms/step - loss: 0.5026 - acc: 0.7670 - val_loss: 0.4724 - val_acc: 0.7742\n",
            "Epoch 121/200\n",
            "1252/1252 [==============================] - 31s 25ms/step - loss: 0.5027 - acc: 0.7666 - val_loss: 0.4728 - val_acc: 0.7743\n",
            "Epoch 122/200\n",
            "1252/1252 [==============================] - 31s 25ms/step - loss: 0.5023 - acc: 0.7663 - val_loss: 0.4740 - val_acc: 0.7730\n",
            "Epoch 123/200\n",
            "1252/1252 [==============================] - 32s 25ms/step - loss: 0.5028 - acc: 0.7664 - val_loss: 0.4732 - val_acc: 0.7741\n",
            "Epoch 124/200\n",
            "1252/1252 [==============================] - 32s 25ms/step - loss: 0.5022 - acc: 0.7663 - val_loss: 0.4730 - val_acc: 0.7742\n",
            "Epoch 125/200\n",
            "1252/1252 [==============================] - 32s 25ms/step - loss: 0.5024 - acc: 0.7662 - val_loss: 0.4761 - val_acc: 0.7737\n",
            "Epoch 126/200\n",
            "1252/1252 [==============================] - 31s 25ms/step - loss: 0.5023 - acc: 0.7670 - val_loss: 0.4726 - val_acc: 0.7746\n",
            "Epoch 127/200\n",
            "1252/1252 [==============================] - 31s 25ms/step - loss: 0.5021 - acc: 0.7670 - val_loss: 0.4731 - val_acc: 0.7738\n",
            "Epoch 128/200\n",
            "1252/1252 [==============================] - 31s 25ms/step - loss: 0.5014 - acc: 0.7664 - val_loss: 0.4738 - val_acc: 0.7735\n",
            "Epoch 129/200\n",
            "1252/1252 [==============================] - 31s 25ms/step - loss: 0.5019 - acc: 0.7664 - val_loss: 0.4727 - val_acc: 0.7738\n",
            "Epoch 130/200\n",
            "1252/1252 [==============================] - 32s 25ms/step - loss: 0.5029 - acc: 0.7661 - val_loss: 0.4736 - val_acc: 0.7740\n",
            "Epoch 131/200\n",
            "1252/1252 [==============================] - 31s 25ms/step - loss: 0.5020 - acc: 0.7665 - val_loss: 0.4740 - val_acc: 0.7735\n",
            "Epoch 132/200\n",
            "1252/1252 [==============================] - 31s 25ms/step - loss: 0.5024 - acc: 0.7665 - val_loss: 0.4729 - val_acc: 0.7738\n",
            "Epoch 133/200\n",
            "1252/1252 [==============================] - 31s 25ms/step - loss: 0.5025 - acc: 0.7665 - val_loss: 0.4727 - val_acc: 0.7741\n",
            "Epoch 134/200\n",
            "1252/1252 [==============================] - 32s 25ms/step - loss: 0.5022 - acc: 0.7665 - val_loss: 0.4732 - val_acc: 0.7737\n",
            "Epoch 135/200\n",
            "1252/1252 [==============================] - 32s 25ms/step - loss: 0.5017 - acc: 0.7658 - val_loss: 0.4740 - val_acc: 0.7738\n",
            "Epoch 136/200\n",
            "1252/1252 [==============================] - 32s 25ms/step - loss: 0.5020 - acc: 0.7669 - val_loss: 0.4742 - val_acc: 0.7734\n",
            "Epoch 137/200\n",
            "1252/1252 [==============================] - 31s 25ms/step - loss: 0.5014 - acc: 0.7670 - val_loss: 0.4737 - val_acc: 0.7727\n",
            "Epoch 138/200\n",
            "1252/1252 [==============================] - 31s 25ms/step - loss: 0.5019 - acc: 0.7674 - val_loss: 0.4734 - val_acc: 0.7736\n",
            "Epoch 139/200\n",
            "1252/1252 [==============================] - 31s 25ms/step - loss: 0.5021 - acc: 0.7663 - val_loss: 0.4737 - val_acc: 0.7736\n",
            "Epoch 140/200\n",
            "1252/1252 [==============================] - 31s 25ms/step - loss: 0.5021 - acc: 0.7663 - val_loss: 0.4749 - val_acc: 0.7730\n",
            "Epoch 141/200\n",
            "1252/1252 [==============================] - 31s 25ms/step - loss: 0.5020 - acc: 0.7666 - val_loss: 0.4739 - val_acc: 0.7739\n",
            "Epoch 142/200\n",
            "1252/1252 [==============================] - 32s 26ms/step - loss: 0.5021 - acc: 0.7664 - val_loss: 0.4745 - val_acc: 0.7739\n",
            "Epoch 143/200\n",
            "1252/1252 [==============================] - 32s 25ms/step - loss: 0.5015 - acc: 0.7668 - val_loss: 0.4743 - val_acc: 0.7733\n",
            "Epoch 144/200\n",
            "1252/1252 [==============================] - 32s 25ms/step - loss: 0.5013 - acc: 0.7662 - val_loss: 0.4743 - val_acc: 0.7732\n",
            "Epoch 145/200\n",
            "1252/1252 [==============================] - 31s 25ms/step - loss: 0.5017 - acc: 0.7663 - val_loss: 0.4735 - val_acc: 0.7729\n",
            "Epoch 146/200\n",
            "1252/1252 [==============================] - 31s 25ms/step - loss: 0.5021 - acc: 0.7666 - val_loss: 0.4738 - val_acc: 0.7736\n",
            "Epoch 147/200\n",
            "1252/1252 [==============================] - 31s 25ms/step - loss: 0.5016 - acc: 0.7664 - val_loss: 0.4745 - val_acc: 0.7735\n",
            "Epoch 148/200\n",
            "1252/1252 [==============================] - 32s 25ms/step - loss: 0.5014 - acc: 0.7663 - val_loss: 0.4742 - val_acc: 0.7742\n",
            "Epoch 149/200\n",
            "1252/1252 [==============================] - 31s 25ms/step - loss: 0.5015 - acc: 0.7664 - val_loss: 0.4757 - val_acc: 0.7738\n",
            "Epoch 150/200\n",
            "1252/1252 [==============================] - 32s 25ms/step - loss: 0.5015 - acc: 0.7664 - val_loss: 0.4738 - val_acc: 0.7738\n",
            "Epoch 151/200\n",
            "1252/1252 [==============================] - 31s 25ms/step - loss: 0.5022 - acc: 0.7661 - val_loss: 0.4736 - val_acc: 0.7740\n",
            "Epoch 152/200\n",
            "1252/1252 [==============================] - 31s 25ms/step - loss: 0.5013 - acc: 0.7670 - val_loss: 0.4754 - val_acc: 0.7734\n",
            "Epoch 153/200\n",
            "1252/1252 [==============================] - 31s 25ms/step - loss: 0.5014 - acc: 0.7665 - val_loss: 0.4736 - val_acc: 0.7730\n",
            "Epoch 154/200\n",
            "1252/1252 [==============================] - 32s 25ms/step - loss: 0.5019 - acc: 0.7670 - val_loss: 0.4769 - val_acc: 0.7721\n",
            "Epoch 155/200\n",
            "1252/1252 [==============================] - 31s 25ms/step - loss: 0.5017 - acc: 0.7674 - val_loss: 0.4736 - val_acc: 0.7738\n",
            "Epoch 156/200\n",
            "1252/1252 [==============================] - 31s 25ms/step - loss: 0.5016 - acc: 0.7666 - val_loss: 0.4743 - val_acc: 0.7731\n",
            "Epoch 157/200\n",
            "1252/1252 [==============================] - 31s 25ms/step - loss: 0.5018 - acc: 0.7668 - val_loss: 0.4745 - val_acc: 0.7730\n",
            "Epoch 158/200\n",
            "1252/1252 [==============================] - 31s 25ms/step - loss: 0.5022 - acc: 0.7665 - val_loss: 0.4757 - val_acc: 0.7739\n",
            "Epoch 159/200\n",
            "1252/1252 [==============================] - 31s 25ms/step - loss: 0.5012 - acc: 0.7667 - val_loss: 0.4736 - val_acc: 0.7738\n",
            "Epoch 160/200\n",
            "1252/1252 [==============================] - 32s 25ms/step - loss: 0.5014 - acc: 0.7665 - val_loss: 0.4732 - val_acc: 0.7740\n",
            "Epoch 161/200\n",
            "1252/1252 [==============================] - 31s 25ms/step - loss: 0.5015 - acc: 0.7666 - val_loss: 0.4743 - val_acc: 0.7735\n",
            "Epoch 162/200\n",
            "1252/1252 [==============================] - 31s 25ms/step - loss: 0.5022 - acc: 0.7661 - val_loss: 0.4764 - val_acc: 0.7730\n",
            "Epoch 163/200\n",
            "1252/1252 [==============================] - 32s 25ms/step - loss: 0.5012 - acc: 0.7664 - val_loss: 0.4750 - val_acc: 0.7733\n",
            "Epoch 164/200\n",
            "1252/1252 [==============================] - 31s 25ms/step - loss: 0.5020 - acc: 0.7665 - val_loss: 0.4749 - val_acc: 0.7728\n",
            "Epoch 165/200\n",
            "1252/1252 [==============================] - 31s 25ms/step - loss: 0.5014 - acc: 0.7663 - val_loss: 0.4766 - val_acc: 0.7733\n",
            "Epoch 166/200\n",
            "1252/1252 [==============================] - 32s 25ms/step - loss: 0.5013 - acc: 0.7669 - val_loss: 0.4745 - val_acc: 0.7729\n",
            "Epoch 167/200\n",
            "1252/1252 [==============================] - 31s 25ms/step - loss: 0.5016 - acc: 0.7670 - val_loss: 0.4742 - val_acc: 0.7733\n",
            "Epoch 168/200\n",
            "1252/1252 [==============================] - 31s 25ms/step - loss: 0.5014 - acc: 0.7671 - val_loss: 0.4757 - val_acc: 0.7725\n",
            "Epoch 169/200\n",
            "1252/1252 [==============================] - 31s 25ms/step - loss: 0.5012 - acc: 0.7665 - val_loss: 0.4747 - val_acc: 0.7736\n",
            "Epoch 170/200\n",
            "1252/1252 [==============================] - 31s 25ms/step - loss: 0.5012 - acc: 0.7672 - val_loss: 0.4733 - val_acc: 0.7734\n",
            "Epoch 171/200\n",
            "1252/1252 [==============================] - 32s 25ms/step - loss: 0.5011 - acc: 0.7669 - val_loss: 0.4757 - val_acc: 0.7734\n",
            "Epoch 172/200\n",
            "1252/1252 [==============================] - 31s 25ms/step - loss: 0.5019 - acc: 0.7667 - val_loss: 0.4746 - val_acc: 0.7733\n",
            "Epoch 173/200\n",
            "1252/1252 [==============================] - 32s 25ms/step - loss: 0.5014 - acc: 0.7672 - val_loss: 0.4740 - val_acc: 0.7729\n",
            "Epoch 174/200\n",
            "1252/1252 [==============================] - 31s 25ms/step - loss: 0.5016 - acc: 0.7663 - val_loss: 0.4738 - val_acc: 0.7736\n",
            "Epoch 175/200\n",
            "1252/1252 [==============================] - 31s 25ms/step - loss: 0.5012 - acc: 0.7664 - val_loss: 0.4740 - val_acc: 0.7739\n",
            "Epoch 176/200\n",
            "1252/1252 [==============================] - 31s 25ms/step - loss: 0.5002 - acc: 0.7671 - val_loss: 0.4745 - val_acc: 0.7737\n",
            "Epoch 177/200\n",
            "1252/1252 [==============================] - 32s 25ms/step - loss: 0.5016 - acc: 0.7665 - val_loss: 0.4748 - val_acc: 0.7732\n",
            "Epoch 178/200\n",
            "1252/1252 [==============================] - 31s 25ms/step - loss: 0.5015 - acc: 0.7668 - val_loss: 0.4749 - val_acc: 0.7735\n",
            "Epoch 179/200\n",
            "1252/1252 [==============================] - 31s 25ms/step - loss: 0.5008 - acc: 0.7667 - val_loss: 0.4746 - val_acc: 0.7733\n",
            "Epoch 180/200\n",
            "1252/1252 [==============================] - 31s 25ms/step - loss: 0.5010 - acc: 0.7669 - val_loss: 0.4749 - val_acc: 0.7738\n",
            "Epoch 181/200\n",
            "1252/1252 [==============================] - 31s 25ms/step - loss: 0.5010 - acc: 0.7667 - val_loss: 0.4736 - val_acc: 0.7737\n",
            "Epoch 182/200\n",
            "1252/1252 [==============================] - 31s 25ms/step - loss: 0.5010 - acc: 0.7664 - val_loss: 0.4746 - val_acc: 0.7734\n",
            "Epoch 183/200\n",
            "1252/1252 [==============================] - 32s 25ms/step - loss: 0.5012 - acc: 0.7669 - val_loss: 0.4746 - val_acc: 0.7731\n",
            "Epoch 184/200\n",
            "1252/1252 [==============================] - 31s 25ms/step - loss: 0.5011 - acc: 0.7666 - val_loss: 0.4745 - val_acc: 0.7741\n",
            "Epoch 185/200\n",
            "1252/1252 [==============================] - 31s 25ms/step - loss: 0.5015 - acc: 0.7668 - val_loss: 0.4751 - val_acc: 0.7735\n",
            "Epoch 186/200\n",
            "1252/1252 [==============================] - 31s 25ms/step - loss: 0.5003 - acc: 0.7671 - val_loss: 0.4745 - val_acc: 0.7741\n",
            "Epoch 187/200\n",
            "1252/1252 [==============================] - 31s 25ms/step - loss: 0.5018 - acc: 0.7662 - val_loss: 0.4751 - val_acc: 0.7735\n",
            "Epoch 188/200\n",
            "1252/1252 [==============================] - 31s 25ms/step - loss: 0.5008 - acc: 0.7667 - val_loss: 0.4745 - val_acc: 0.7736\n",
            "Epoch 189/200\n",
            "1252/1252 [==============================] - 32s 25ms/step - loss: 0.5004 - acc: 0.7671 - val_loss: 0.4748 - val_acc: 0.7737\n",
            "Epoch 190/200\n",
            "1252/1252 [==============================] - 31s 25ms/step - loss: 0.5012 - acc: 0.7671 - val_loss: 0.4744 - val_acc: 0.7739\n",
            "Epoch 191/200\n",
            "1252/1252 [==============================] - 31s 25ms/step - loss: 0.5010 - acc: 0.7665 - val_loss: 0.4750 - val_acc: 0.7735\n",
            "Epoch 192/200\n",
            "1252/1252 [==============================] - 31s 25ms/step - loss: 0.5016 - acc: 0.7663 - val_loss: 0.4745 - val_acc: 0.7736\n",
            "Epoch 193/200\n",
            "1252/1252 [==============================] - 32s 25ms/step - loss: 0.5017 - acc: 0.7667 - val_loss: 0.4752 - val_acc: 0.7733\n",
            "Epoch 194/200\n",
            "1252/1252 [==============================] - 32s 25ms/step - loss: 0.5012 - acc: 0.7671 - val_loss: 0.4742 - val_acc: 0.7731\n",
            "Epoch 195/200\n",
            "1252/1252 [==============================] - 31s 25ms/step - loss: 0.5010 - acc: 0.7668 - val_loss: 0.4757 - val_acc: 0.7731\n",
            "Epoch 196/200\n",
            "1252/1252 [==============================] - 31s 25ms/step - loss: 0.5009 - acc: 0.7665 - val_loss: 0.4748 - val_acc: 0.7737\n",
            "Epoch 197/200\n",
            "1252/1252 [==============================] - 31s 25ms/step - loss: 0.5017 - acc: 0.7673 - val_loss: 0.4743 - val_acc: 0.7739\n",
            "Epoch 198/200\n",
            "1252/1252 [==============================] - 32s 25ms/step - loss: 0.5016 - acc: 0.7672 - val_loss: 0.4745 - val_acc: 0.7735\n",
            "Epoch 199/200\n",
            "1252/1252 [==============================] - 32s 25ms/step - loss: 0.5015 - acc: 0.7674 - val_loss: 0.4744 - val_acc: 0.7736\n",
            "Epoch 200/200\n",
            "1252/1252 [==============================] - 32s 25ms/step - loss: 0.5013 - acc: 0.7667 - val_loss: 0.4763 - val_acc: 0.7729\n"
          ]
        }
      ],
      "source": [
        "from time import time\n",
        "\n",
        "learning_times = {}\n",
        "t0 = time()\n",
        "\n",
        "history_lemm_w2v_optimised = lstm_lemm_w2v_optimised.fit(xtrain_lem, \n",
        "                             ytrain,\n",
        "                             validation_data = (xval_lem, yval),\n",
        "                             epochs = epochs,\n",
        "                             batch_size = batch_size,\n",
        "                             verbose = 1)\n",
        "\n",
        "learning_times['lemm_word2vec'] = time() - t0"
      ]
    },
    {
      "cell_type": "markdown",
      "id": "q2o18WVQHqtH",
      "metadata": {
        "id": "q2o18WVQHqtH"
      },
      "source": [
        "#### Learning Curve"
      ]
    },
    {
      "cell_type": "code",
      "execution_count": 36,
      "id": "3PjZUG77E7px",
      "metadata": {
        "id": "3PjZUG77E7px",
        "colab": {
          "base_uri": "https://localhost:8080/",
          "height": 573
        },
        "outputId": "d346ce39-336a-48c9-de26-d34b522bc893"
      },
      "outputs": [
        {
          "output_type": "display_data",
          "data": {
            "text/plain": [
              "<Figure size 432x288 with 1 Axes>"
            ],
            "image/png": "[encoded data removed]"
          },
          "metadata": {
            "needs_background": "light"
          }
        },
        {
          "output_type": "display_data",
          "data": {
            "text/plain": [
              "<Figure size 432x288 with 1 Axes>"
            ],
            "image/png": "[encoded data removed]"
          },
          "metadata": {
            "needs_background": "light"
          }
        }
      ],
      "source": [
        "history = history_lemm_w2v_optimised\n",
        "\n",
        "plot_history(history, list(history.history.keys()))"
      ]
    },
    {
      "cell_type": "markdown",
      "id": "gdwxWRxWNyo0",
      "metadata": {
        "id": "gdwxWRxWNyo0"
      },
      "source": [
        "#### Evaluation du modèle"
      ]
    },
    {
      "cell_type": "code",
      "execution_count": 37,
      "id": "5RltEF8QE7px",
      "metadata": {
        "id": "5RltEF8QE7px",
        "colab": {
          "base_uri": "https://localhost:8080/"
        },
        "outputId": "3257e2f4-7ba9-4bb5-ea8d-e393044ba383"
      },
      "outputs": [
        {
          "output_type": "stream",
          "name": "stdout",
          "text": [
            "Loss score 0.48 : \n",
            "Accuracy score: 0.77\n"
          ]
        }
      ],
      "source": [
        "evaluate = lstm_lemm_w2v_optimised.evaluate(xval_lem, yval, verbose=0)\n",
        "\n",
        "print('Loss score %.2f : \\nAccuracy score: %.2f'%(evaluate[0], evaluate[1]))"
      ]
    },
    {
      "cell_type": "markdown",
      "id": "lQ0Pt58Wa2N7",
      "metadata": {
        "id": "lQ0Pt58Wa2N7"
      },
      "source": [
        "#### Sauvegarde du modèle"
      ]
    },
    {
      "cell_type": "code",
      "execution_count": 38,
      "id": "LOQrI-73lWiz",
      "metadata": {
        "id": "LOQrI-73lWiz",
        "colab": {
          "base_uri": "https://localhost:8080/"
        },
        "outputId": "15b6002f-d4db-4df9-a4f7-11476124d1be"
      },
      "outputs": [
        {
          "output_type": "stream",
          "name": "stdout",
          "text": [
            "Model Saved!\n"
          ]
        }
      ],
      "source": [
        "# saving model architecture and weights\n",
        " \n",
        "# save model architecture\n",
        "lstm_lemm_w2v_optimised.save(path + 'models/lstm_lemm_w2v.h5')\n",
        " \n",
        "# save model weights\n",
        "lstm_lemm_w2v_optimised.save_weights(path + 'models/lstm_lemm_w2v_weights')\n",
        "print('Model Saved!')"
      ]
    },
    {
      "cell_type": "markdown",
      "id": "bcb7349c",
      "metadata": {
        "id": "bcb7349c"
      },
      "source": [
        "<a href=\"##sommaire\" rev=\"footnote\">&#8617;</a>"
      ]
    },
    {
      "cell_type": "markdown",
      "id": "3de8c3f4",
      "metadata": {
        "id": "3de8c3f4"
      },
      "source": [
        "## Nettoyage avec lemmatisation et vectorisation avec Glove<a class=\"anchor\" id=\"20\"></a>"
      ]
    },
    {
      "cell_type": "code",
      "execution_count": 39,
      "id": "d20341fb",
      "metadata": {
        "id": "d20341fb"
      },
      "outputs": [],
      "source": [
        "glove_vectors = KeyedVectors.load(path + \"embedding/glove.wordvectors\")"
      ]
    },
    {
      "cell_type": "code",
      "execution_count": 40,
      "id": "0d7c649b",
      "metadata": {
        "id": "0d7c649b",
        "colab": {
          "base_uri": "https://localhost:8080/"
        },
        "outputId": "c903c6a5-7727-486b-ee9e-3088da433084"
      },
      "outputs": [
        {
          "output_type": "stream",
          "name": "stdout",
          "text": [
            "Fit Tokenizer ...\n",
            "Create Embedding matrix ...\n",
            "Word embedding rate :  0.5262\n",
            "Embedding matrix shape:  (154398, 200)\n"
          ]
        }
      ],
      "source": [
        "embedding_matrix_lemm_glove = build_embedding_matrix(train_lem, glove_vectors)['Embedding_matrix']"
      ]
    },
    {
      "cell_type": "markdown",
      "id": "L5q-SoegPwNx",
      "metadata": {
        "id": "L5q-SoegPwNx"
      },
      "source": [
        "### Baseline"
      ]
    },
    {
      "cell_type": "code",
      "execution_count": 41,
      "id": "bea423b6",
      "metadata": {
        "id": "bea423b6",
        "colab": {
          "base_uri": "https://localhost:8080/"
        },
        "outputId": "daac411e-bf05-4dc4-92ee-fcaaf54b9ff9"
      },
      "outputs": [
        {
          "output_type": "stream",
          "name": "stdout",
          "text": [
            "Model: \"sequential_2\"\n",
            "_________________________________________________________________\n",
            " Layer (type)                Output Shape              Param #   \n",
            "=================================================================\n",
            " embedding_2 (Embedding)     (None, 205, 200)          30879600  \n",
            "                                                                 \n",
            " bidirectional_2 (Bidirectio  (None, 20)               16880     \n",
            " nal)                                                            \n",
            "                                                                 \n",
            " flatten_2 (Flatten)         (None, 20)                0         \n",
            "                                                                 \n",
            " dense_3 (Dense)             (None, 1)                 21        \n",
            "                                                                 \n",
            "=================================================================\n",
            "Total params: 30,896,501\n",
            "Trainable params: 16,901\n",
            "Non-trainable params: 30,879,600\n",
            "_________________________________________________________________\n"
          ]
        }
      ],
      "source": [
        "embedding_matrix = embedding_matrix_lemm_glove\n",
        "lstm_lemm_glove = lstm_embedding(embedding_matrix = embedding_matrix, \n",
        "                                len_vocab = 154398)\n",
        "lstm_lemm_glove.summary()"
      ]
    },
    {
      "cell_type": "code",
      "execution_count": 42,
      "id": "1f3923a3",
      "metadata": {
        "id": "1f3923a3",
        "scrolled": true,
        "colab": {
          "base_uri": "https://localhost:8080/"
        },
        "outputId": "704bfd27-e9a9-4dfe-bdb8-dd74330919e1"
      },
      "outputs": [
        {
          "output_type": "stream",
          "name": "stdout",
          "text": [
            "Epoch 1/200\n",
            "1252/1252 [==============================] - 35s 26ms/step - loss: 0.5074 - acc: 0.7500 - val_loss: 0.4843 - val_acc: 0.7649\n",
            "Epoch 2/200\n",
            "1252/1252 [==============================] - 31s 25ms/step - loss: 0.4770 - acc: 0.7703 - val_loss: 0.4732 - val_acc: 0.7728\n",
            "Epoch 3/200\n",
            "1252/1252 [==============================] - 31s 25ms/step - loss: 0.4697 - acc: 0.7751 - val_loss: 0.4685 - val_acc: 0.7754\n",
            "Epoch 4/200\n",
            "1252/1252 [==============================] - 31s 25ms/step - loss: 0.4655 - acc: 0.7778 - val_loss: 0.4663 - val_acc: 0.7774\n",
            "Epoch 5/200\n",
            "1252/1252 [==============================] - 31s 25ms/step - loss: 0.4626 - acc: 0.7794 - val_loss: 0.4651 - val_acc: 0.7778\n",
            "Epoch 6/200\n",
            "1252/1252 [==============================] - 31s 25ms/step - loss: 0.4605 - acc: 0.7809 - val_loss: 0.4634 - val_acc: 0.7786\n",
            "Epoch 7/200\n",
            "1252/1252 [==============================] - 31s 25ms/step - loss: 0.4588 - acc: 0.7817 - val_loss: 0.4631 - val_acc: 0.7794\n",
            "Epoch 8/200\n",
            "1252/1252 [==============================] - 31s 25ms/step - loss: 0.4573 - acc: 0.7827 - val_loss: 0.4633 - val_acc: 0.7790\n",
            "Epoch 9/200\n",
            "1252/1252 [==============================] - 31s 25ms/step - loss: 0.4579 - acc: 0.7830 - val_loss: 0.4627 - val_acc: 0.7792\n",
            "Epoch 10/200\n",
            "1252/1252 [==============================] - 31s 25ms/step - loss: 0.4557 - acc: 0.7840 - val_loss: 0.4624 - val_acc: 0.7800\n",
            "Epoch 11/200\n",
            "1252/1252 [==============================] - 31s 25ms/step - loss: 0.4549 - acc: 0.7841 - val_loss: 0.4620 - val_acc: 0.7800\n",
            "Epoch 12/200\n",
            "1252/1252 [==============================] - 31s 25ms/step - loss: 0.4541 - acc: 0.7848 - val_loss: 0.4622 - val_acc: 0.7797\n",
            "Epoch 13/200\n",
            "1252/1252 [==============================] - 32s 25ms/step - loss: 0.4534 - acc: 0.7853 - val_loss: 0.4618 - val_acc: 0.7803\n",
            "Epoch 14/200\n",
            "1252/1252 [==============================] - 31s 25ms/step - loss: 0.4528 - acc: 0.7854 - val_loss: 0.4613 - val_acc: 0.7803\n",
            "Epoch 15/200\n",
            "1252/1252 [==============================] - 31s 25ms/step - loss: 0.4523 - acc: 0.7861 - val_loss: 0.4611 - val_acc: 0.7803\n",
            "Epoch 16/200\n",
            "1252/1252 [==============================] - 31s 25ms/step - loss: 0.4517 - acc: 0.7857 - val_loss: 0.4613 - val_acc: 0.7802\n",
            "Epoch 17/200\n",
            "1252/1252 [==============================] - 31s 25ms/step - loss: 0.4514 - acc: 0.7863 - val_loss: 0.4625 - val_acc: 0.7797\n",
            "Epoch 18/200\n",
            "1252/1252 [==============================] - 31s 25ms/step - loss: 0.4510 - acc: 0.7867 - val_loss: 0.4610 - val_acc: 0.7807\n",
            "Epoch 19/200\n",
            "1252/1252 [==============================] - 31s 25ms/step - loss: 0.4506 - acc: 0.7865 - val_loss: 0.4611 - val_acc: 0.7803\n",
            "Epoch 20/200\n",
            "1252/1252 [==============================] - 31s 25ms/step - loss: 0.4502 - acc: 0.7869 - val_loss: 0.4607 - val_acc: 0.7806\n",
            "Epoch 21/200\n",
            "1252/1252 [==============================] - 31s 25ms/step - loss: 0.4498 - acc: 0.7873 - val_loss: 0.4605 - val_acc: 0.7807\n",
            "Epoch 22/200\n",
            "1252/1252 [==============================] - 31s 25ms/step - loss: 0.4494 - acc: 0.7872 - val_loss: 0.4609 - val_acc: 0.7803\n",
            "Epoch 23/200\n",
            "1252/1252 [==============================] - 31s 25ms/step - loss: 0.4491 - acc: 0.7876 - val_loss: 0.4620 - val_acc: 0.7803\n",
            "Epoch 24/200\n",
            "1252/1252 [==============================] - 31s 25ms/step - loss: 0.4489 - acc: 0.7874 - val_loss: 0.4623 - val_acc: 0.7804\n",
            "Epoch 25/200\n",
            "1252/1252 [==============================] - 31s 25ms/step - loss: 0.4485 - acc: 0.7879 - val_loss: 0.4603 - val_acc: 0.7811\n",
            "Epoch 26/200\n",
            "1252/1252 [==============================] - 31s 25ms/step - loss: 0.4483 - acc: 0.7881 - val_loss: 0.4607 - val_acc: 0.7810\n",
            "Epoch 27/200\n",
            "1252/1252 [==============================] - 31s 25ms/step - loss: 0.4481 - acc: 0.7881 - val_loss: 0.4617 - val_acc: 0.7802\n",
            "Epoch 28/200\n",
            "1252/1252 [==============================] - 31s 25ms/step - loss: 0.4479 - acc: 0.7883 - val_loss: 0.4604 - val_acc: 0.7808\n",
            "Epoch 29/200\n",
            "1252/1252 [==============================] - 31s 25ms/step - loss: 0.4476 - acc: 0.7884 - val_loss: 0.4601 - val_acc: 0.7813\n",
            "Epoch 30/200\n",
            "1252/1252 [==============================] - 31s 25ms/step - loss: 0.4473 - acc: 0.7887 - val_loss: 0.4611 - val_acc: 0.7807\n",
            "Epoch 31/200\n",
            "1252/1252 [==============================] - 31s 25ms/step - loss: 0.4472 - acc: 0.7889 - val_loss: 0.4610 - val_acc: 0.7809\n",
            "Epoch 32/200\n",
            "1252/1252 [==============================] - 31s 25ms/step - loss: 0.4469 - acc: 0.7890 - val_loss: 0.4609 - val_acc: 0.7805\n",
            "Epoch 33/200\n",
            "1252/1252 [==============================] - 31s 25ms/step - loss: 0.4468 - acc: 0.7890 - val_loss: 0.4610 - val_acc: 0.7808\n",
            "Epoch 34/200\n",
            "1252/1252 [==============================] - 31s 25ms/step - loss: 0.4466 - acc: 0.7893 - val_loss: 0.4609 - val_acc: 0.7809\n",
            "Epoch 35/200\n",
            "1252/1252 [==============================] - 31s 25ms/step - loss: 0.4472 - acc: 0.7887 - val_loss: 0.4615 - val_acc: 0.7807\n",
            "Epoch 36/200\n",
            "1252/1252 [==============================] - 31s 25ms/step - loss: 0.4465 - acc: 0.7894 - val_loss: 0.4604 - val_acc: 0.7813\n",
            "Epoch 37/200\n",
            "1252/1252 [==============================] - 31s 25ms/step - loss: 0.4462 - acc: 0.7897 - val_loss: 0.4606 - val_acc: 0.7807\n",
            "Epoch 38/200\n",
            "1252/1252 [==============================] - 31s 25ms/step - loss: 0.4461 - acc: 0.7896 - val_loss: 0.4606 - val_acc: 0.7814\n",
            "Epoch 39/200\n",
            "1252/1252 [==============================] - 31s 25ms/step - loss: 0.4459 - acc: 0.7895 - val_loss: 0.4606 - val_acc: 0.7809\n",
            "Epoch 40/200\n",
            "1252/1252 [==============================] - 31s 25ms/step - loss: 0.4458 - acc: 0.7897 - val_loss: 0.4608 - val_acc: 0.7814\n",
            "Epoch 41/200\n",
            "1252/1252 [==============================] - 31s 25ms/step - loss: 0.4455 - acc: 0.7899 - val_loss: 0.4612 - val_acc: 0.7808\n",
            "Epoch 42/200\n",
            "1252/1252 [==============================] - 31s 25ms/step - loss: 0.4456 - acc: 0.7897 - val_loss: 0.4608 - val_acc: 0.7811\n",
            "Epoch 43/200\n",
            "1252/1252 [==============================] - 31s 25ms/step - loss: 0.4454 - acc: 0.7901 - val_loss: 0.4630 - val_acc: 0.7797\n",
            "Epoch 44/200\n",
            "1252/1252 [==============================] - 31s 25ms/step - loss: 0.4453 - acc: 0.7901 - val_loss: 0.4609 - val_acc: 0.7815\n",
            "Epoch 45/200\n",
            "1252/1252 [==============================] - 31s 25ms/step - loss: 0.4452 - acc: 0.7903 - val_loss: 0.4605 - val_acc: 0.7812\n",
            "Epoch 46/200\n",
            "1252/1252 [==============================] - 31s 25ms/step - loss: 0.4450 - acc: 0.7903 - val_loss: 0.4608 - val_acc: 0.7811\n",
            "Epoch 47/200\n",
            "1252/1252 [==============================] - 31s 25ms/step - loss: 0.4452 - acc: 0.7903 - val_loss: 0.4611 - val_acc: 0.7808\n",
            "Epoch 48/200\n",
            "1252/1252 [==============================] - 31s 25ms/step - loss: 0.4448 - acc: 0.7904 - val_loss: 0.4616 - val_acc: 0.7809\n",
            "Epoch 49/200\n",
            "1252/1252 [==============================] - 31s 25ms/step - loss: 0.4448 - acc: 0.7902 - val_loss: 0.4607 - val_acc: 0.7808\n",
            "Epoch 50/200\n",
            "1252/1252 [==============================] - 31s 25ms/step - loss: 0.4447 - acc: 0.7904 - val_loss: 0.4605 - val_acc: 0.7815\n",
            "Epoch 51/200\n",
            "1252/1252 [==============================] - 31s 25ms/step - loss: 0.4446 - acc: 0.7906 - val_loss: 0.4607 - val_acc: 0.7809\n",
            "Epoch 52/200\n",
            "1252/1252 [==============================] - 31s 25ms/step - loss: 0.4445 - acc: 0.7907 - val_loss: 0.4611 - val_acc: 0.7808\n",
            "Epoch 53/200\n",
            "1252/1252 [==============================] - 31s 25ms/step - loss: 0.4443 - acc: 0.7904 - val_loss: 0.4611 - val_acc: 0.7816\n",
            "Epoch 54/200\n",
            "1252/1252 [==============================] - 31s 25ms/step - loss: 0.4453 - acc: 0.7901 - val_loss: 0.4612 - val_acc: 0.7810\n",
            "Epoch 55/200\n",
            "1252/1252 [==============================] - 31s 25ms/step - loss: 0.4443 - acc: 0.7907 - val_loss: 0.4612 - val_acc: 0.7808\n",
            "Epoch 56/200\n",
            "1252/1252 [==============================] - 31s 25ms/step - loss: 0.4440 - acc: 0.7910 - val_loss: 0.4612 - val_acc: 0.7807\n",
            "Epoch 57/200\n",
            "1252/1252 [==============================] - 31s 25ms/step - loss: 0.4440 - acc: 0.7909 - val_loss: 0.4615 - val_acc: 0.7810\n",
            "Epoch 58/200\n",
            "1252/1252 [==============================] - 31s 25ms/step - loss: 0.4438 - acc: 0.7910 - val_loss: 0.4606 - val_acc: 0.7812\n",
            "Epoch 59/200\n",
            "1252/1252 [==============================] - 31s 25ms/step - loss: 0.4438 - acc: 0.7911 - val_loss: 0.4608 - val_acc: 0.7813\n",
            "Epoch 60/200\n",
            "1252/1252 [==============================] - 31s 25ms/step - loss: 0.4437 - acc: 0.7912 - val_loss: 0.4619 - val_acc: 0.7803\n",
            "Epoch 61/200\n",
            "1252/1252 [==============================] - 31s 25ms/step - loss: 0.4436 - acc: 0.7912 - val_loss: 0.4612 - val_acc: 0.7813\n",
            "Epoch 62/200\n",
            "1252/1252 [==============================] - 31s 25ms/step - loss: 0.4436 - acc: 0.7910 - val_loss: 0.4614 - val_acc: 0.7808\n",
            "Epoch 63/200\n",
            "1252/1252 [==============================] - 31s 25ms/step - loss: 0.4434 - acc: 0.7912 - val_loss: 0.4611 - val_acc: 0.7811\n",
            "Epoch 64/200\n",
            "1252/1252 [==============================] - 31s 25ms/step - loss: 0.4436 - acc: 0.7911 - val_loss: 0.4627 - val_acc: 0.7801\n",
            "Epoch 65/200\n",
            "1252/1252 [==============================] - 31s 25ms/step - loss: 0.4433 - acc: 0.7914 - val_loss: 0.4613 - val_acc: 0.7806\n",
            "Epoch 66/200\n",
            "1252/1252 [==============================] - 31s 25ms/step - loss: 0.4433 - acc: 0.7912 - val_loss: 0.4612 - val_acc: 0.7811\n",
            "Epoch 67/200\n",
            "1252/1252 [==============================] - 31s 25ms/step - loss: 0.4431 - acc: 0.7915 - val_loss: 0.4627 - val_acc: 0.7803\n",
            "Epoch 68/200\n",
            "1252/1252 [==============================] - 31s 25ms/step - loss: 0.4431 - acc: 0.7915 - val_loss: 0.4613 - val_acc: 0.7808\n",
            "Epoch 69/200\n",
            "1252/1252 [==============================] - 31s 25ms/step - loss: 0.4430 - acc: 0.7917 - val_loss: 0.4613 - val_acc: 0.7809\n",
            "Epoch 70/200\n",
            "1252/1252 [==============================] - 31s 25ms/step - loss: 0.4429 - acc: 0.7920 - val_loss: 0.4615 - val_acc: 0.7813\n",
            "Epoch 71/200\n",
            "1252/1252 [==============================] - 31s 25ms/step - loss: 0.4429 - acc: 0.7916 - val_loss: 0.4612 - val_acc: 0.7811\n",
            "Epoch 72/200\n",
            "1252/1252 [==============================] - 31s 25ms/step - loss: 0.4434 - acc: 0.7911 - val_loss: 0.4622 - val_acc: 0.7804\n",
            "Epoch 73/200\n",
            "1252/1252 [==============================] - 31s 25ms/step - loss: 0.4430 - acc: 0.7916 - val_loss: 0.4627 - val_acc: 0.7803\n",
            "Epoch 74/200\n",
            "1252/1252 [==============================] - 31s 25ms/step - loss: 0.4427 - acc: 0.7916 - val_loss: 0.4619 - val_acc: 0.7808\n",
            "Epoch 75/200\n",
            "1252/1252 [==============================] - 31s 25ms/step - loss: 0.4426 - acc: 0.7918 - val_loss: 0.4620 - val_acc: 0.7810\n",
            "Epoch 76/200\n",
            "1252/1252 [==============================] - 31s 25ms/step - loss: 0.4426 - acc: 0.7918 - val_loss: 0.4617 - val_acc: 0.7810\n",
            "Epoch 77/200\n",
            "1252/1252 [==============================] - 31s 25ms/step - loss: 0.4425 - acc: 0.7919 - val_loss: 0.4627 - val_acc: 0.7808\n",
            "Epoch 78/200\n",
            "1252/1252 [==============================] - 31s 25ms/step - loss: 0.4424 - acc: 0.7921 - val_loss: 0.4616 - val_acc: 0.7807\n",
            "Epoch 79/200\n",
            "1252/1252 [==============================] - 31s 25ms/step - loss: 0.4424 - acc: 0.7920 - val_loss: 0.4619 - val_acc: 0.7808\n",
            "Epoch 80/200\n",
            "1252/1252 [==============================] - 31s 25ms/step - loss: 0.4423 - acc: 0.7919 - val_loss: 0.4621 - val_acc: 0.7808\n",
            "Epoch 81/200\n",
            "1252/1252 [==============================] - 31s 25ms/step - loss: 0.4424 - acc: 0.7921 - val_loss: 0.4620 - val_acc: 0.7809\n",
            "Epoch 82/200\n",
            "1252/1252 [==============================] - 31s 25ms/step - loss: 0.4422 - acc: 0.7921 - val_loss: 0.4621 - val_acc: 0.7806\n",
            "Epoch 83/200\n",
            "1252/1252 [==============================] - 31s 25ms/step - loss: 0.4421 - acc: 0.7920 - val_loss: 0.4618 - val_acc: 0.7808\n",
            "Epoch 84/200\n",
            "1252/1252 [==============================] - 31s 25ms/step - loss: 0.4421 - acc: 0.7924 - val_loss: 0.4620 - val_acc: 0.7812\n",
            "Epoch 85/200\n",
            "1252/1252 [==============================] - 31s 25ms/step - loss: 0.4420 - acc: 0.7921 - val_loss: 0.4617 - val_acc: 0.7811\n",
            "Epoch 86/200\n",
            "1252/1252 [==============================] - 31s 25ms/step - loss: 0.4419 - acc: 0.7924 - val_loss: 0.4627 - val_acc: 0.7807\n",
            "Epoch 87/200\n",
            "1252/1252 [==============================] - 31s 25ms/step - loss: 0.4418 - acc: 0.7922 - val_loss: 0.4625 - val_acc: 0.7807\n",
            "Epoch 88/200\n",
            "1252/1252 [==============================] - 31s 25ms/step - loss: 0.4419 - acc: 0.7924 - val_loss: 0.4619 - val_acc: 0.7810\n",
            "Epoch 89/200\n",
            "1252/1252 [==============================] - 31s 25ms/step - loss: 0.4418 - acc: 0.7924 - val_loss: 0.4631 - val_acc: 0.7807\n",
            "Epoch 90/200\n",
            "1252/1252 [==============================] - 31s 25ms/step - loss: 0.4417 - acc: 0.7923 - val_loss: 0.4624 - val_acc: 0.7808\n",
            "Epoch 91/200\n",
            "1252/1252 [==============================] - 31s 25ms/step - loss: 0.4416 - acc: 0.7926 - val_loss: 0.4627 - val_acc: 0.7814\n",
            "Epoch 92/200\n",
            "1252/1252 [==============================] - 31s 25ms/step - loss: 0.4416 - acc: 0.7925 - val_loss: 0.4618 - val_acc: 0.7814\n",
            "Epoch 93/200\n",
            "1252/1252 [==============================] - 31s 25ms/step - loss: 0.4416 - acc: 0.7923 - val_loss: 0.4622 - val_acc: 0.7806\n",
            "Epoch 94/200\n",
            "1252/1252 [==============================] - 31s 25ms/step - loss: 0.4415 - acc: 0.7925 - val_loss: 0.4624 - val_acc: 0.7806\n",
            "Epoch 95/200\n",
            "1252/1252 [==============================] - 32s 25ms/step - loss: 0.4414 - acc: 0.7925 - val_loss: 0.4621 - val_acc: 0.7808\n",
            "Epoch 96/200\n",
            "1252/1252 [==============================] - 31s 25ms/step - loss: 0.4415 - acc: 0.7923 - val_loss: 0.4626 - val_acc: 0.7808\n",
            "Epoch 97/200\n",
            "1252/1252 [==============================] - 32s 25ms/step - loss: 0.4415 - acc: 0.7926 - val_loss: 0.4625 - val_acc: 0.7811\n",
            "Epoch 98/200\n",
            "1252/1252 [==============================] - 31s 25ms/step - loss: 0.4413 - acc: 0.7928 - val_loss: 0.4622 - val_acc: 0.7808\n",
            "Epoch 99/200\n",
            "1252/1252 [==============================] - 31s 25ms/step - loss: 0.4412 - acc: 0.7928 - val_loss: 0.4623 - val_acc: 0.7810\n",
            "Epoch 100/200\n",
            "1252/1252 [==============================] - 31s 25ms/step - loss: 0.4413 - acc: 0.7928 - val_loss: 0.4619 - val_acc: 0.7806\n",
            "Epoch 101/200\n",
            "1252/1252 [==============================] - 31s 25ms/step - loss: 0.4412 - acc: 0.7925 - val_loss: 0.4624 - val_acc: 0.7808\n",
            "Epoch 102/200\n",
            "1252/1252 [==============================] - 32s 25ms/step - loss: 0.4412 - acc: 0.7925 - val_loss: 0.4621 - val_acc: 0.7808\n",
            "Epoch 103/200\n",
            "1252/1252 [==============================] - 31s 25ms/step - loss: 0.4411 - acc: 0.7930 - val_loss: 0.4625 - val_acc: 0.7814\n",
            "Epoch 104/200\n",
            "1252/1252 [==============================] - 31s 25ms/step - loss: 0.4411 - acc: 0.7929 - val_loss: 0.4644 - val_acc: 0.7797\n",
            "Epoch 105/200\n",
            "1252/1252 [==============================] - 31s 25ms/step - loss: 0.4410 - acc: 0.7930 - val_loss: 0.4626 - val_acc: 0.7804\n",
            "Epoch 106/200\n",
            "1252/1252 [==============================] - 31s 25ms/step - loss: 0.4410 - acc: 0.7932 - val_loss: 0.4626 - val_acc: 0.7805\n",
            "Epoch 107/200\n",
            "1252/1252 [==============================] - 31s 25ms/step - loss: 0.4409 - acc: 0.7931 - val_loss: 0.4632 - val_acc: 0.7809\n",
            "Epoch 108/200\n",
            "1252/1252 [==============================] - 31s 25ms/step - loss: 0.4408 - acc: 0.7931 - val_loss: 0.4625 - val_acc: 0.7807\n",
            "Epoch 109/200\n",
            "1252/1252 [==============================] - 31s 25ms/step - loss: 0.4408 - acc: 0.7932 - val_loss: 0.4632 - val_acc: 0.7806\n",
            "Epoch 110/200\n",
            "1252/1252 [==============================] - 31s 25ms/step - loss: 0.4408 - acc: 0.7929 - val_loss: 0.4622 - val_acc: 0.7806\n",
            "Epoch 111/200\n",
            "1252/1252 [==============================] - 31s 25ms/step - loss: 0.4552 - acc: 0.7849 - val_loss: 0.4774 - val_acc: 0.7772\n",
            "Epoch 112/200\n",
            "1252/1252 [==============================] - 31s 25ms/step - loss: 0.4436 - acc: 0.7914 - val_loss: 0.4621 - val_acc: 0.7808\n",
            "Epoch 113/200\n",
            "1252/1252 [==============================] - 31s 25ms/step - loss: 0.4409 - acc: 0.7932 - val_loss: 0.4623 - val_acc: 0.7811\n",
            "Epoch 114/200\n",
            "1252/1252 [==============================] - 31s 25ms/step - loss: 0.4407 - acc: 0.7931 - val_loss: 0.4625 - val_acc: 0.7807\n",
            "Epoch 115/200\n",
            "1252/1252 [==============================] - 31s 25ms/step - loss: 0.4407 - acc: 0.7931 - val_loss: 0.4622 - val_acc: 0.7805\n",
            "Epoch 116/200\n",
            "1252/1252 [==============================] - 31s 25ms/step - loss: 0.4406 - acc: 0.7932 - val_loss: 0.4629 - val_acc: 0.7806\n",
            "Epoch 117/200\n",
            "1252/1252 [==============================] - 31s 25ms/step - loss: 0.4405 - acc: 0.7932 - val_loss: 0.4629 - val_acc: 0.7804\n",
            "Epoch 118/200\n",
            "1252/1252 [==============================] - 31s 25ms/step - loss: 0.4405 - acc: 0.7931 - val_loss: 0.4623 - val_acc: 0.7810\n",
            "Epoch 119/200\n",
            "1252/1252 [==============================] - 31s 25ms/step - loss: 0.4404 - acc: 0.7933 - val_loss: 0.4626 - val_acc: 0.7808\n",
            "Epoch 120/200\n",
            "1252/1252 [==============================] - 31s 25ms/step - loss: 0.4404 - acc: 0.7932 - val_loss: 0.4627 - val_acc: 0.7801\n",
            "Epoch 121/200\n",
            "1252/1252 [==============================] - 31s 25ms/step - loss: 0.4404 - acc: 0.7932 - val_loss: 0.4628 - val_acc: 0.7806\n",
            "Epoch 122/200\n",
            "1252/1252 [==============================] - 31s 25ms/step - loss: 0.4403 - acc: 0.7934 - val_loss: 0.4636 - val_acc: 0.7796\n",
            "Epoch 123/200\n",
            "1252/1252 [==============================] - 31s 25ms/step - loss: 0.4402 - acc: 0.7935 - val_loss: 0.4630 - val_acc: 0.7805\n",
            "Epoch 124/200\n",
            "1252/1252 [==============================] - 31s 25ms/step - loss: 0.4402 - acc: 0.7935 - val_loss: 0.4626 - val_acc: 0.7806\n",
            "Epoch 125/200\n",
            "1252/1252 [==============================] - 31s 25ms/step - loss: 0.4402 - acc: 0.7934 - val_loss: 0.4626 - val_acc: 0.7806\n",
            "Epoch 126/200\n",
            "1252/1252 [==============================] - 31s 25ms/step - loss: 0.4401 - acc: 0.7934 - val_loss: 0.4631 - val_acc: 0.7808\n",
            "Epoch 127/200\n",
            "1252/1252 [==============================] - 31s 25ms/step - loss: 0.4573 - acc: 0.7837 - val_loss: 0.4632 - val_acc: 0.7806\n",
            "Epoch 128/200\n",
            "1252/1252 [==============================] - 31s 25ms/step - loss: 0.4408 - acc: 0.7930 - val_loss: 0.4629 - val_acc: 0.7806\n",
            "Epoch 129/200\n",
            "1252/1252 [==============================] - 31s 25ms/step - loss: 0.4403 - acc: 0.7936 - val_loss: 0.4626 - val_acc: 0.7809\n",
            "Epoch 130/200\n",
            "1252/1252 [==============================] - 31s 25ms/step - loss: 0.4402 - acc: 0.7935 - val_loss: 0.4632 - val_acc: 0.7803\n",
            "Epoch 131/200\n",
            "1252/1252 [==============================] - 31s 25ms/step - loss: 0.4401 - acc: 0.7935 - val_loss: 0.4626 - val_acc: 0.7807\n",
            "Epoch 132/200\n",
            "1252/1252 [==============================] - 31s 25ms/step - loss: 0.4400 - acc: 0.7936 - val_loss: 0.4630 - val_acc: 0.7807\n",
            "Epoch 133/200\n",
            "1252/1252 [==============================] - 31s 25ms/step - loss: 0.4400 - acc: 0.7934 - val_loss: 0.4627 - val_acc: 0.7810\n",
            "Epoch 134/200\n",
            "1252/1252 [==============================] - 31s 25ms/step - loss: 0.4675 - acc: 0.7779 - val_loss: 0.4769 - val_acc: 0.7731\n",
            "Epoch 135/200\n",
            "1252/1252 [==============================] - 31s 25ms/step - loss: 0.4582 - acc: 0.7831 - val_loss: 0.4689 - val_acc: 0.7775\n",
            "Epoch 136/200\n",
            "1252/1252 [==============================] - 32s 25ms/step - loss: 0.4498 - acc: 0.7880 - val_loss: 0.4659 - val_acc: 0.7795\n",
            "Epoch 137/200\n",
            "1252/1252 [==============================] - 31s 25ms/step - loss: 0.4444 - acc: 0.7911 - val_loss: 0.4633 - val_acc: 0.7806\n",
            "Epoch 138/200\n",
            "1252/1252 [==============================] - 31s 25ms/step - loss: 0.4417 - acc: 0.7925 - val_loss: 0.4626 - val_acc: 0.7811\n",
            "Epoch 139/200\n",
            "1252/1252 [==============================] - 31s 25ms/step - loss: 0.4409 - acc: 0.7929 - val_loss: 0.4631 - val_acc: 0.7807\n",
            "Epoch 140/200\n",
            "1252/1252 [==============================] - 32s 25ms/step - loss: 0.4405 - acc: 0.7932 - val_loss: 0.4626 - val_acc: 0.7810\n",
            "Epoch 141/200\n",
            "1252/1252 [==============================] - 31s 25ms/step - loss: 0.4402 - acc: 0.7934 - val_loss: 0.4627 - val_acc: 0.7808\n",
            "Epoch 142/200\n",
            "1252/1252 [==============================] - 31s 25ms/step - loss: 0.4401 - acc: 0.7935 - val_loss: 0.4623 - val_acc: 0.7810\n",
            "Epoch 143/200\n",
            "1252/1252 [==============================] - 31s 25ms/step - loss: 0.4399 - acc: 0.7935 - val_loss: 0.4628 - val_acc: 0.7803\n",
            "Epoch 144/200\n",
            "1252/1252 [==============================] - 31s 25ms/step - loss: 0.4399 - acc: 0.7936 - val_loss: 0.4626 - val_acc: 0.7809\n",
            "Epoch 145/200\n",
            "1252/1252 [==============================] - 31s 25ms/step - loss: 0.4398 - acc: 0.7933 - val_loss: 0.4631 - val_acc: 0.7807\n",
            "Epoch 146/200\n",
            "1252/1252 [==============================] - 31s 25ms/step - loss: 0.4397 - acc: 0.7938 - val_loss: 0.4640 - val_acc: 0.7807\n",
            "Epoch 147/200\n",
            "1252/1252 [==============================] - 31s 25ms/step - loss: 0.4397 - acc: 0.7935 - val_loss: 0.4629 - val_acc: 0.7809\n",
            "Epoch 148/200\n",
            "1252/1252 [==============================] - 31s 25ms/step - loss: 0.4396 - acc: 0.7936 - val_loss: 0.4630 - val_acc: 0.7799\n",
            "Epoch 149/200\n",
            "1252/1252 [==============================] - 31s 25ms/step - loss: 0.4396 - acc: 0.7937 - val_loss: 0.4623 - val_acc: 0.7810\n",
            "Epoch 150/200\n",
            "1252/1252 [==============================] - 31s 25ms/step - loss: 0.4395 - acc: 0.7936 - val_loss: 0.4631 - val_acc: 0.7806\n",
            "Epoch 151/200\n",
            "1252/1252 [==============================] - 31s 25ms/step - loss: 0.4394 - acc: 0.7938 - val_loss: 0.4638 - val_acc: 0.7806\n",
            "Epoch 152/200\n",
            "1252/1252 [==============================] - 31s 25ms/step - loss: 0.4394 - acc: 0.7937 - val_loss: 0.4627 - val_acc: 0.7804\n",
            "Epoch 153/200\n",
            "1252/1252 [==============================] - 32s 25ms/step - loss: 0.4393 - acc: 0.7942 - val_loss: 0.4640 - val_acc: 0.7803\n",
            "Epoch 154/200\n",
            "1252/1252 [==============================] - 31s 25ms/step - loss: 0.4393 - acc: 0.7940 - val_loss: 0.4640 - val_acc: 0.7803\n",
            "Epoch 155/200\n",
            "1252/1252 [==============================] - 31s 25ms/step - loss: 0.4392 - acc: 0.7941 - val_loss: 0.4632 - val_acc: 0.7808\n",
            "Epoch 156/200\n",
            "1252/1252 [==============================] - 31s 25ms/step - loss: 0.4393 - acc: 0.7938 - val_loss: 0.4625 - val_acc: 0.7805\n",
            "Epoch 157/200\n",
            "1252/1252 [==============================] - 31s 25ms/step - loss: 0.4392 - acc: 0.7939 - val_loss: 0.4634 - val_acc: 0.7812\n",
            "Epoch 158/200\n",
            "1252/1252 [==============================] - 31s 25ms/step - loss: 0.4392 - acc: 0.7944 - val_loss: 0.4636 - val_acc: 0.7808\n",
            "Epoch 159/200\n",
            "1252/1252 [==============================] - 31s 25ms/step - loss: 0.4391 - acc: 0.7941 - val_loss: 0.4635 - val_acc: 0.7801\n",
            "Epoch 160/200\n",
            "1252/1252 [==============================] - 31s 25ms/step - loss: 0.4391 - acc: 0.7942 - val_loss: 0.4638 - val_acc: 0.7806\n",
            "Epoch 161/200\n",
            "1252/1252 [==============================] - 31s 25ms/step - loss: 0.4390 - acc: 0.7940 - val_loss: 0.4639 - val_acc: 0.7802\n",
            "Epoch 162/200\n",
            "1252/1252 [==============================] - 31s 25ms/step - loss: 0.4410 - acc: 0.7932 - val_loss: 0.4637 - val_acc: 0.7804\n",
            "Epoch 163/200\n",
            "1252/1252 [==============================] - 31s 25ms/step - loss: 0.4390 - acc: 0.7942 - val_loss: 0.4633 - val_acc: 0.7806\n",
            "Epoch 164/200\n",
            "1252/1252 [==============================] - 31s 25ms/step - loss: 0.4389 - acc: 0.7942 - val_loss: 0.4630 - val_acc: 0.7807\n",
            "Epoch 165/200\n",
            "1252/1252 [==============================] - 31s 25ms/step - loss: 0.4388 - acc: 0.7941 - val_loss: 0.4635 - val_acc: 0.7802\n",
            "Epoch 166/200\n",
            "1252/1252 [==============================] - 31s 25ms/step - loss: 0.4389 - acc: 0.7942 - val_loss: 0.4637 - val_acc: 0.7803\n",
            "Epoch 167/200\n",
            "1252/1252 [==============================] - 31s 25ms/step - loss: 0.4388 - acc: 0.7943 - val_loss: 0.4633 - val_acc: 0.7803\n",
            "Epoch 168/200\n",
            "1252/1252 [==============================] - 31s 25ms/step - loss: 0.4388 - acc: 0.7942 - val_loss: 0.4640 - val_acc: 0.7804\n",
            "Epoch 169/200\n",
            "1252/1252 [==============================] - 31s 25ms/step - loss: 0.4388 - acc: 0.7941 - val_loss: 0.4641 - val_acc: 0.7804\n",
            "Epoch 170/200\n",
            "1252/1252 [==============================] - 31s 25ms/step - loss: 0.4388 - acc: 0.7945 - val_loss: 0.4635 - val_acc: 0.7804\n",
            "Epoch 171/200\n",
            "1252/1252 [==============================] - 31s 25ms/step - loss: 0.4388 - acc: 0.7944 - val_loss: 0.4636 - val_acc: 0.7800\n",
            "Epoch 172/200\n",
            "1252/1252 [==============================] - 31s 25ms/step - loss: 0.4388 - acc: 0.7945 - val_loss: 0.4637 - val_acc: 0.7805\n",
            "Epoch 173/200\n",
            "1252/1252 [==============================] - 31s 25ms/step - loss: 0.4387 - acc: 0.7945 - val_loss: 0.4639 - val_acc: 0.7807\n",
            "Epoch 174/200\n",
            "1252/1252 [==============================] - 31s 25ms/step - loss: 0.4387 - acc: 0.7944 - val_loss: 0.4655 - val_acc: 0.7797\n",
            "Epoch 175/200\n",
            "1252/1252 [==============================] - 31s 25ms/step - loss: 0.4388 - acc: 0.7941 - val_loss: 0.4635 - val_acc: 0.7807\n",
            "Epoch 176/200\n",
            "1252/1252 [==============================] - 31s 25ms/step - loss: 0.4387 - acc: 0.7945 - val_loss: 0.4630 - val_acc: 0.7806\n",
            "Epoch 177/200\n",
            "1252/1252 [==============================] - 31s 25ms/step - loss: 0.4386 - acc: 0.7945 - val_loss: 0.4635 - val_acc: 0.7802\n",
            "Epoch 178/200\n",
            "1252/1252 [==============================] - 31s 25ms/step - loss: 0.4386 - acc: 0.7946 - val_loss: 0.4641 - val_acc: 0.7805\n",
            "Epoch 179/200\n",
            "1252/1252 [==============================] - 31s 25ms/step - loss: 0.4393 - acc: 0.7939 - val_loss: 0.4634 - val_acc: 0.7803\n",
            "Epoch 180/200\n",
            "1252/1252 [==============================] - 31s 25ms/step - loss: 0.4384 - acc: 0.7944 - val_loss: 0.4639 - val_acc: 0.7804\n",
            "Epoch 181/200\n",
            "1252/1252 [==============================] - 31s 25ms/step - loss: 0.4385 - acc: 0.7946 - val_loss: 0.4637 - val_acc: 0.7805\n",
            "Epoch 182/200\n",
            "1252/1252 [==============================] - 31s 25ms/step - loss: 0.4385 - acc: 0.7947 - val_loss: 0.4638 - val_acc: 0.7801\n",
            "Epoch 183/200\n",
            "1252/1252 [==============================] - 31s 25ms/step - loss: 0.4386 - acc: 0.7944 - val_loss: 0.4648 - val_acc: 0.7805\n",
            "Epoch 184/200\n",
            "1252/1252 [==============================] - 31s 25ms/step - loss: 0.4385 - acc: 0.7943 - val_loss: 0.4637 - val_acc: 0.7804\n",
            "Epoch 185/200\n",
            "1252/1252 [==============================] - 31s 25ms/step - loss: 0.4385 - acc: 0.7946 - val_loss: 0.4640 - val_acc: 0.7803\n",
            "Epoch 186/200\n",
            "1252/1252 [==============================] - 31s 25ms/step - loss: 0.4384 - acc: 0.7946 - val_loss: 0.4642 - val_acc: 0.7798\n",
            "Epoch 187/200\n",
            "1252/1252 [==============================] - 31s 25ms/step - loss: 0.4385 - acc: 0.7942 - val_loss: 0.4643 - val_acc: 0.7799\n",
            "Epoch 188/200\n",
            "1252/1252 [==============================] - 31s 25ms/step - loss: 0.4384 - acc: 0.7947 - val_loss: 0.4639 - val_acc: 0.7805\n",
            "Epoch 189/200\n",
            "1252/1252 [==============================] - 31s 25ms/step - loss: 0.4383 - acc: 0.7944 - val_loss: 0.4637 - val_acc: 0.7804\n",
            "Epoch 190/200\n",
            "1252/1252 [==============================] - 31s 25ms/step - loss: 0.4384 - acc: 0.7944 - val_loss: 0.4648 - val_acc: 0.7801\n",
            "Epoch 191/200\n",
            "1252/1252 [==============================] - 31s 25ms/step - loss: 0.4384 - acc: 0.7947 - val_loss: 0.4642 - val_acc: 0.7804\n",
            "Epoch 192/200\n",
            "1252/1252 [==============================] - 31s 25ms/step - loss: 0.4383 - acc: 0.7946 - val_loss: 0.4641 - val_acc: 0.7806\n",
            "Epoch 193/200\n",
            "1252/1252 [==============================] - 31s 25ms/step - loss: 0.4382 - acc: 0.7946 - val_loss: 0.4639 - val_acc: 0.7809\n",
            "Epoch 194/200\n",
            "1252/1252 [==============================] - 31s 25ms/step - loss: 0.4383 - acc: 0.7946 - val_loss: 0.4643 - val_acc: 0.7802\n",
            "Epoch 195/200\n",
            "1252/1252 [==============================] - 31s 25ms/step - loss: 0.4382 - acc: 0.7946 - val_loss: 0.4636 - val_acc: 0.7803\n",
            "Epoch 196/200\n",
            "1252/1252 [==============================] - 31s 25ms/step - loss: 0.4382 - acc: 0.7945 - val_loss: 0.4641 - val_acc: 0.7801\n",
            "Epoch 197/200\n",
            "1252/1252 [==============================] - 31s 25ms/step - loss: 0.4382 - acc: 0.7945 - val_loss: 0.4639 - val_acc: 0.7804\n",
            "Epoch 198/200\n",
            "1252/1252 [==============================] - 31s 25ms/step - loss: 0.4384 - acc: 0.7944 - val_loss: 0.4645 - val_acc: 0.7803\n",
            "Epoch 199/200\n",
            "1252/1252 [==============================] - 31s 25ms/step - loss: 0.4382 - acc: 0.7943 - val_loss: 0.4642 - val_acc: 0.7804\n",
            "Epoch 200/200\n",
            "1252/1252 [==============================] - 31s 25ms/step - loss: 0.4381 - acc: 0.7944 - val_loss: 0.4645 - val_acc: 0.7802\n",
            "CPU times: user 2h 2min 49s, sys: 8min 18s, total: 2h 11min 7s\n",
            "Wall time: 1h 44min 5s\n"
          ]
        }
      ],
      "source": [
        "%%time\n",
        "history_lemm_glove = lstm_lemm_glove.fit(xtrain_lem, \n",
        "                             ytrain,\n",
        "                             validation_data = (xval_lem, yval),\n",
        "                             epochs = epochs,\n",
        "                             batch_size = batch_size,\n",
        "                             verbose = 1)"
      ]
    },
    {
      "cell_type": "markdown",
      "id": "Ukbj5pKTPwNy",
      "metadata": {
        "id": "Ukbj5pKTPwNy"
      },
      "source": [
        "#### Learning Curve"
      ]
    },
    {
      "cell_type": "code",
      "execution_count": 43,
      "id": "R8KOEZpQ_UgK",
      "metadata": {
        "id": "R8KOEZpQ_UgK",
        "colab": {
          "base_uri": "https://localhost:8080/",
          "height": 573
        },
        "outputId": "0b7a641a-735d-430c-88b5-a895b2788aec"
      },
      "outputs": [
        {
          "output_type": "display_data",
          "data": {
            "text/plain": [
              "<Figure size 432x288 with 1 Axes>"
            ],
            "image/png": "[encoded data removed]"
          },
          "metadata": {
            "needs_background": "light"
          }
        },
        {
          "output_type": "display_data",
          "data": {
            "text/plain": [
              "<Figure size 432x288 with 1 Axes>"
            ],
            "image/png": "[encoded data removed]"
          },
          "metadata": {
            "needs_background": "light"
          }
        }
      ],
      "source": [
        "history = history_lemm_glove\n",
        "plot_history(history, list(history.history.keys()))"
      ]
    },
    {
      "cell_type": "markdown",
      "id": "Wodz6UVTPwNy",
      "metadata": {
        "id": "Wodz6UVTPwNy"
      },
      "source": [
        "#### Evaluation du modèle"
      ]
    },
    {
      "cell_type": "code",
      "execution_count": 44,
      "id": "ICVhDZae_UgL",
      "metadata": {
        "id": "ICVhDZae_UgL",
        "colab": {
          "base_uri": "https://localhost:8080/"
        },
        "outputId": "abc71976-8f0c-43dd-c229-315629625037"
      },
      "outputs": [
        {
          "output_type": "stream",
          "name": "stdout",
          "text": [
            "Loss score 0.46 : \n",
            "Accuracy score: 0.78 \n"
          ]
        }
      ],
      "source": [
        "evaluate = lstm_lemm_glove.evaluate(xval_lem, yval, verbose=0)\n",
        "\n",
        "print('Loss score %.2f : \\nAccuracy score: %.2f '%(evaluate[0], evaluate[1]))"
      ]
    },
    {
      "cell_type": "markdown",
      "id": "PtfFdXcU-Z98",
      "metadata": {
        "id": "PtfFdXcU-Z98"
      },
      "source": [
        "### Amélioration du modèle"
      ]
    },
    {
      "cell_type": "code",
      "execution_count": 45,
      "id": "G3Miw92l-Z99",
      "metadata": {
        "id": "G3Miw92l-Z99"
      },
      "outputs": [],
      "source": [
        "len_vocab = 154398\n",
        "output_dim = 200\n",
        "max_len = 200\n",
        "len_padding = 5\n",
        "\n",
        "tensorflow.random.set_seed(seed)\n",
        "\n",
        "lstm_lemm_glove_optimised = Sequential()\n",
        "\n",
        "lstm_lemm_glove_optimised.add(Embedding(input_dim = len_vocab ,\n",
        "                             output_dim = output_dim,\n",
        "                             embeddings_initializer = keras.initializers.Constant(embedding_matrix),\n",
        "                             input_length = max_len + len_padding,\n",
        "                             trainable = False))\n",
        "\n",
        "lstm_lemm_glove_optimised.add(Bidirectional(LSTM(10)))\n",
        "lstm_lemm_glove_optimised.add(Dropout(0.7))\n",
        "lstm_lemm_glove_optimised.add(Flatten())\n",
        "\n",
        "lstm_lemm_w2v_optimised.add(Dense(10, activation='relu'))\n",
        "lstm_lemm_w2v_optimised.add(Dropout(0.7))\n",
        "\n",
        "lstm_lemm_w2v_optimised.add(Dense(5, activation='relu'))\n",
        "lstm_lemm_w2v_optimised.add(Dropout(0.7))\n",
        "\n",
        "lstm_lemm_glove_optimised.add(Dense(1, activation=\"sigmoid\"))\n",
        "lstm_lemm_glove_optimised.compile(optimizer = 'adam', \n",
        "                       loss = 'binary_crossentropy', \n",
        "                       metrics = ['acc'])"
      ]
    },
    {
      "cell_type": "code",
      "execution_count": 46,
      "id": "u721Z2LJ-Z9-",
      "metadata": {
        "id": "u721Z2LJ-Z9-",
        "colab": {
          "base_uri": "https://localhost:8080/"
        },
        "outputId": "7a6bb25d-482c-4fd3-b4af-c2b430e6f1ea"
      },
      "outputs": [
        {
          "output_type": "stream",
          "name": "stdout",
          "text": [
            "Model: \"sequential_3\"\n",
            "_________________________________________________________________\n",
            " Layer (type)                Output Shape              Param #   \n",
            "=================================================================\n",
            " embedding_3 (Embedding)     (None, 205, 200)          30879600  \n",
            "                                                                 \n",
            " bidirectional_3 (Bidirectio  (None, 20)               16880     \n",
            " nal)                                                            \n",
            "                                                                 \n",
            " dropout_2 (Dropout)         (None, 20)                0         \n",
            "                                                                 \n",
            " flatten_3 (Flatten)         (None, 20)                0         \n",
            "                                                                 \n",
            " dense_6 (Dense)             (None, 1)                 21        \n",
            "                                                                 \n",
            "=================================================================\n",
            "Total params: 30,896,501\n",
            "Trainable params: 16,901\n",
            "Non-trainable params: 30,879,600\n",
            "_________________________________________________________________\n"
          ]
        }
      ],
      "source": [
        "lstm_lemm_glove_optimised.summary()"
      ]
    },
    {
      "cell_type": "code",
      "execution_count": 47,
      "id": "QXdBQgi_-Z9-",
      "metadata": {
        "id": "QXdBQgi_-Z9-",
        "scrolled": true,
        "colab": {
          "base_uri": "https://localhost:8080/"
        },
        "outputId": "717ff7bc-2200-4edb-e72d-61f5b7162a4a"
      },
      "outputs": [
        {
          "output_type": "stream",
          "name": "stdout",
          "text": [
            "Epoch 1/200\n",
            "1252/1252 [==============================] - 35s 25ms/step - loss: 0.5527 - acc: 0.7275 - val_loss: 0.4990 - val_acc: 0.7593\n",
            "Epoch 2/200\n",
            "1252/1252 [==============================] - 32s 25ms/step - loss: 0.5271 - acc: 0.7464 - val_loss: 0.4891 - val_acc: 0.7644\n",
            "Epoch 3/200\n",
            "1252/1252 [==============================] - 31s 25ms/step - loss: 0.5200 - acc: 0.7498 - val_loss: 0.4849 - val_acc: 0.7678\n",
            "Epoch 4/200\n",
            "1252/1252 [==============================] - 31s 25ms/step - loss: 0.5168 - acc: 0.7520 - val_loss: 0.4812 - val_acc: 0.7692\n",
            "Epoch 5/200\n",
            "1252/1252 [==============================] - 31s 25ms/step - loss: 0.5138 - acc: 0.7542 - val_loss: 0.4786 - val_acc: 0.7709\n",
            "Epoch 6/200\n",
            "1252/1252 [==============================] - 31s 25ms/step - loss: 0.5126 - acc: 0.7550 - val_loss: 0.4779 - val_acc: 0.7712\n",
            "Epoch 7/200\n",
            "1252/1252 [==============================] - 31s 25ms/step - loss: 0.5106 - acc: 0.7557 - val_loss: 0.4759 - val_acc: 0.7717\n",
            "Epoch 8/200\n",
            "1252/1252 [==============================] - 31s 25ms/step - loss: 0.5099 - acc: 0.7565 - val_loss: 0.4770 - val_acc: 0.7716\n",
            "Epoch 9/200\n",
            "1252/1252 [==============================] - 31s 25ms/step - loss: 0.5077 - acc: 0.7577 - val_loss: 0.4753 - val_acc: 0.7716\n",
            "Epoch 10/200\n",
            "1252/1252 [==============================] - 32s 25ms/step - loss: 0.5080 - acc: 0.7581 - val_loss: 0.4778 - val_acc: 0.7719\n",
            "Epoch 11/200\n",
            "1252/1252 [==============================] - 32s 25ms/step - loss: 0.5072 - acc: 0.7584 - val_loss: 0.4729 - val_acc: 0.7736\n",
            "Epoch 12/200\n",
            "1252/1252 [==============================] - 32s 25ms/step - loss: 0.5070 - acc: 0.7586 - val_loss: 0.4749 - val_acc: 0.7720\n",
            "Epoch 13/200\n",
            "1252/1252 [==============================] - 32s 25ms/step - loss: 0.5061 - acc: 0.7589 - val_loss: 0.4728 - val_acc: 0.7736\n",
            "Epoch 14/200\n",
            "1252/1252 [==============================] - 32s 26ms/step - loss: 0.5052 - acc: 0.7595 - val_loss: 0.4744 - val_acc: 0.7744\n",
            "Epoch 15/200\n",
            "1252/1252 [==============================] - 32s 25ms/step - loss: 0.5054 - acc: 0.7602 - val_loss: 0.4731 - val_acc: 0.7742\n",
            "Epoch 16/200\n",
            "1252/1252 [==============================] - 32s 25ms/step - loss: 0.5044 - acc: 0.7605 - val_loss: 0.4721 - val_acc: 0.7747\n",
            "Epoch 17/200\n",
            "1252/1252 [==============================] - 31s 25ms/step - loss: 0.5041 - acc: 0.7609 - val_loss: 0.4744 - val_acc: 0.7740\n",
            "Epoch 18/200\n",
            "1252/1252 [==============================] - 32s 26ms/step - loss: 0.5040 - acc: 0.7605 - val_loss: 0.4715 - val_acc: 0.7742\n",
            "Epoch 19/200\n",
            "1252/1252 [==============================] - 32s 26ms/step - loss: 0.5042 - acc: 0.7603 - val_loss: 0.4726 - val_acc: 0.7745\n",
            "Epoch 20/200\n",
            "1252/1252 [==============================] - 33s 26ms/step - loss: 0.5034 - acc: 0.7612 - val_loss: 0.4707 - val_acc: 0.7753\n",
            "Epoch 21/200\n",
            "1252/1252 [==============================] - 32s 26ms/step - loss: 0.5036 - acc: 0.7608 - val_loss: 0.4708 - val_acc: 0.7746\n",
            "Epoch 22/200\n",
            "1252/1252 [==============================] - 32s 25ms/step - loss: 0.5035 - acc: 0.7614 - val_loss: 0.4725 - val_acc: 0.7743\n",
            "Epoch 23/200\n",
            "1252/1252 [==============================] - 32s 26ms/step - loss: 0.5027 - acc: 0.7614 - val_loss: 0.4721 - val_acc: 0.7745\n",
            "Epoch 24/200\n",
            "1252/1252 [==============================] - 32s 26ms/step - loss: 0.5026 - acc: 0.7616 - val_loss: 0.4716 - val_acc: 0.7748\n",
            "Epoch 25/200\n",
            "1252/1252 [==============================] - 33s 26ms/step - loss: 0.5023 - acc: 0.7618 - val_loss: 0.4715 - val_acc: 0.7752\n",
            "Epoch 26/200\n",
            "1252/1252 [==============================] - 33s 26ms/step - loss: 0.5021 - acc: 0.7620 - val_loss: 0.4701 - val_acc: 0.7751\n",
            "Epoch 27/200\n",
            "1252/1252 [==============================] - 33s 26ms/step - loss: 0.5021 - acc: 0.7618 - val_loss: 0.4721 - val_acc: 0.7750\n",
            "Epoch 28/200\n",
            "1252/1252 [==============================] - 32s 26ms/step - loss: 0.5015 - acc: 0.7624 - val_loss: 0.4708 - val_acc: 0.7745\n",
            "Epoch 29/200\n",
            "1252/1252 [==============================] - 32s 26ms/step - loss: 0.5013 - acc: 0.7619 - val_loss: 0.4716 - val_acc: 0.7756\n",
            "Epoch 30/200\n",
            "1252/1252 [==============================] - 32s 26ms/step - loss: 0.5009 - acc: 0.7623 - val_loss: 0.4720 - val_acc: 0.7753\n",
            "Epoch 31/200\n",
            "1252/1252 [==============================] - 32s 26ms/step - loss: 0.5013 - acc: 0.7617 - val_loss: 0.4703 - val_acc: 0.7749\n",
            "Epoch 32/200\n",
            "1252/1252 [==============================] - 33s 26ms/step - loss: 0.5008 - acc: 0.7629 - val_loss: 0.4705 - val_acc: 0.7756\n",
            "Epoch 33/200\n",
            "1252/1252 [==============================] - 32s 26ms/step - loss: 0.5004 - acc: 0.7633 - val_loss: 0.4704 - val_acc: 0.7750\n",
            "Epoch 34/200\n",
            "1252/1252 [==============================] - 32s 26ms/step - loss: 0.5004 - acc: 0.7626 - val_loss: 0.4695 - val_acc: 0.7767\n",
            "Epoch 35/200\n",
            "1252/1252 [==============================] - 33s 26ms/step - loss: 0.5002 - acc: 0.7629 - val_loss: 0.4702 - val_acc: 0.7759\n",
            "Epoch 36/200\n",
            "1252/1252 [==============================] - 33s 26ms/step - loss: 0.5003 - acc: 0.7628 - val_loss: 0.4715 - val_acc: 0.7766\n",
            "Epoch 37/200\n",
            "1252/1252 [==============================] - 33s 26ms/step - loss: 0.4999 - acc: 0.7633 - val_loss: 0.4711 - val_acc: 0.7756\n",
            "Epoch 38/200\n",
            "1252/1252 [==============================] - 32s 26ms/step - loss: 0.5009 - acc: 0.7626 - val_loss: 0.4710 - val_acc: 0.7756\n",
            "Epoch 39/200\n",
            "1252/1252 [==============================] - 32s 26ms/step - loss: 0.4997 - acc: 0.7633 - val_loss: 0.4707 - val_acc: 0.7762\n",
            "Epoch 40/200\n",
            "1252/1252 [==============================] - 33s 26ms/step - loss: 0.4997 - acc: 0.7631 - val_loss: 0.4693 - val_acc: 0.7766\n",
            "Epoch 41/200\n",
            "1252/1252 [==============================] - 32s 26ms/step - loss: 0.5001 - acc: 0.7629 - val_loss: 0.4720 - val_acc: 0.7764\n",
            "Epoch 42/200\n",
            "1252/1252 [==============================] - 33s 26ms/step - loss: 0.4998 - acc: 0.7630 - val_loss: 0.4705 - val_acc: 0.7766\n",
            "Epoch 43/200\n",
            "1252/1252 [==============================] - 33s 26ms/step - loss: 0.4996 - acc: 0.7632 - val_loss: 0.4729 - val_acc: 0.7741\n",
            "Epoch 44/200\n",
            "1252/1252 [==============================] - 32s 26ms/step - loss: 0.4992 - acc: 0.7636 - val_loss: 0.4705 - val_acc: 0.7767\n",
            "Epoch 45/200\n",
            "1252/1252 [==============================] - 32s 26ms/step - loss: 0.4986 - acc: 0.7639 - val_loss: 0.4705 - val_acc: 0.7764\n",
            "Epoch 46/200\n",
            "1252/1252 [==============================] - 32s 26ms/step - loss: 0.4990 - acc: 0.7637 - val_loss: 0.4692 - val_acc: 0.7765\n",
            "Epoch 47/200\n",
            "1252/1252 [==============================] - 32s 26ms/step - loss: 0.4986 - acc: 0.7637 - val_loss: 0.4693 - val_acc: 0.7763\n",
            "Epoch 48/200\n",
            "1252/1252 [==============================] - 32s 26ms/step - loss: 0.4991 - acc: 0.7638 - val_loss: 0.4693 - val_acc: 0.7763\n",
            "Epoch 49/200\n",
            "1252/1252 [==============================] - 33s 26ms/step - loss: 0.4993 - acc: 0.7633 - val_loss: 0.4704 - val_acc: 0.7768\n",
            "Epoch 50/200\n",
            "1252/1252 [==============================] - 32s 26ms/step - loss: 0.4989 - acc: 0.7641 - val_loss: 0.4705 - val_acc: 0.7763\n",
            "Epoch 51/200\n",
            "1252/1252 [==============================] - 32s 26ms/step - loss: 0.4987 - acc: 0.7641 - val_loss: 0.4714 - val_acc: 0.7761\n",
            "Epoch 52/200\n",
            "1252/1252 [==============================] - 32s 26ms/step - loss: 0.4985 - acc: 0.7639 - val_loss: 0.4689 - val_acc: 0.7763\n",
            "Epoch 53/200\n",
            "1252/1252 [==============================] - 32s 26ms/step - loss: 0.4988 - acc: 0.7635 - val_loss: 0.4688 - val_acc: 0.7759\n",
            "Epoch 54/200\n",
            "1252/1252 [==============================] - 33s 26ms/step - loss: 0.4986 - acc: 0.7642 - val_loss: 0.4694 - val_acc: 0.7767\n",
            "Epoch 55/200\n",
            "1252/1252 [==============================] - 33s 26ms/step - loss: 0.4982 - acc: 0.7644 - val_loss: 0.4711 - val_acc: 0.7760\n",
            "Epoch 56/200\n",
            "1252/1252 [==============================] - 32s 26ms/step - loss: 0.4984 - acc: 0.7643 - val_loss: 0.4701 - val_acc: 0.7759\n",
            "Epoch 57/200\n",
            "1252/1252 [==============================] - 32s 26ms/step - loss: 0.4980 - acc: 0.7641 - val_loss: 0.4698 - val_acc: 0.7766\n",
            "Epoch 58/200\n",
            "1252/1252 [==============================] - 32s 26ms/step - loss: 0.4988 - acc: 0.7640 - val_loss: 0.4713 - val_acc: 0.7764\n",
            "Epoch 59/200\n",
            "1252/1252 [==============================] - 32s 26ms/step - loss: 0.4977 - acc: 0.7644 - val_loss: 0.4701 - val_acc: 0.7760\n",
            "Epoch 60/200\n",
            "1252/1252 [==============================] - 32s 26ms/step - loss: 0.4978 - acc: 0.7649 - val_loss: 0.4699 - val_acc: 0.7755\n",
            "Epoch 61/200\n",
            "1252/1252 [==============================] - 33s 26ms/step - loss: 0.4977 - acc: 0.7647 - val_loss: 0.4702 - val_acc: 0.7764\n",
            "Epoch 62/200\n",
            "1252/1252 [==============================] - 32s 26ms/step - loss: 0.4984 - acc: 0.7639 - val_loss: 0.4689 - val_acc: 0.7761\n",
            "Epoch 63/200\n",
            "1252/1252 [==============================] - 33s 26ms/step - loss: 0.4975 - acc: 0.7645 - val_loss: 0.4699 - val_acc: 0.7768\n",
            "Epoch 64/200\n",
            "1252/1252 [==============================] - 33s 26ms/step - loss: 0.4976 - acc: 0.7646 - val_loss: 0.4716 - val_acc: 0.7765\n",
            "Epoch 65/200\n",
            "1252/1252 [==============================] - 33s 26ms/step - loss: 0.4980 - acc: 0.7644 - val_loss: 0.4693 - val_acc: 0.7761\n",
            "Epoch 66/200\n",
            "1252/1252 [==============================] - 33s 26ms/step - loss: 0.4974 - acc: 0.7643 - val_loss: 0.4697 - val_acc: 0.7764\n",
            "Epoch 67/200\n",
            "1252/1252 [==============================] - 33s 26ms/step - loss: 0.4977 - acc: 0.7640 - val_loss: 0.4694 - val_acc: 0.7759\n",
            "Epoch 68/200\n",
            "1252/1252 [==============================] - 32s 26ms/step - loss: 0.4972 - acc: 0.7647 - val_loss: 0.4689 - val_acc: 0.7762\n",
            "Epoch 69/200\n",
            "1252/1252 [==============================] - 33s 26ms/step - loss: 0.4969 - acc: 0.7640 - val_loss: 0.4693 - val_acc: 0.7762\n",
            "Epoch 70/200\n",
            "1252/1252 [==============================] - 33s 26ms/step - loss: 0.4975 - acc: 0.7646 - val_loss: 0.4692 - val_acc: 0.7768\n",
            "Epoch 71/200\n",
            "1252/1252 [==============================] - 32s 26ms/step - loss: 0.4979 - acc: 0.7639 - val_loss: 0.4696 - val_acc: 0.7766\n",
            "Epoch 72/200\n",
            "1252/1252 [==============================] - 32s 26ms/step - loss: 0.4968 - acc: 0.7647 - val_loss: 0.4696 - val_acc: 0.7757\n",
            "Epoch 73/200\n",
            "1252/1252 [==============================] - 33s 26ms/step - loss: 0.4973 - acc: 0.7644 - val_loss: 0.4707 - val_acc: 0.7764\n",
            "Epoch 74/200\n",
            "1252/1252 [==============================] - 33s 26ms/step - loss: 0.4965 - acc: 0.7647 - val_loss: 0.4703 - val_acc: 0.7756\n",
            "Epoch 75/200\n",
            "1252/1252 [==============================] - 33s 26ms/step - loss: 0.4975 - acc: 0.7646 - val_loss: 0.4696 - val_acc: 0.7764\n",
            "Epoch 76/200\n",
            "1252/1252 [==============================] - 33s 26ms/step - loss: 0.4966 - acc: 0.7645 - val_loss: 0.4698 - val_acc: 0.7763\n",
            "Epoch 77/200\n",
            "1252/1252 [==============================] - 33s 26ms/step - loss: 0.4965 - acc: 0.7653 - val_loss: 0.4693 - val_acc: 0.7765\n",
            "Epoch 78/200\n",
            "1252/1252 [==============================] - 33s 26ms/step - loss: 0.4970 - acc: 0.7648 - val_loss: 0.4711 - val_acc: 0.7759\n",
            "Epoch 79/200\n",
            "1252/1252 [==============================] - 33s 26ms/step - loss: 0.4975 - acc: 0.7642 - val_loss: 0.4703 - val_acc: 0.7771\n",
            "Epoch 80/200\n",
            "1252/1252 [==============================] - 33s 26ms/step - loss: 0.4973 - acc: 0.7646 - val_loss: 0.4710 - val_acc: 0.7760\n",
            "Epoch 81/200\n",
            "1252/1252 [==============================] - 33s 26ms/step - loss: 0.4963 - acc: 0.7652 - val_loss: 0.4693 - val_acc: 0.7765\n",
            "Epoch 82/200\n",
            "1252/1252 [==============================] - 33s 26ms/step - loss: 0.4972 - acc: 0.7646 - val_loss: 0.4695 - val_acc: 0.7763\n",
            "Epoch 83/200\n",
            "1252/1252 [==============================] - 33s 26ms/step - loss: 0.4966 - acc: 0.7646 - val_loss: 0.4696 - val_acc: 0.7767\n",
            "Epoch 84/200\n",
            "1252/1252 [==============================] - 33s 26ms/step - loss: 0.4965 - acc: 0.7650 - val_loss: 0.4697 - val_acc: 0.7766\n",
            "Epoch 85/200\n",
            "1252/1252 [==============================] - 33s 26ms/step - loss: 0.4968 - acc: 0.7646 - val_loss: 0.4704 - val_acc: 0.7760\n",
            "Epoch 86/200\n",
            "1252/1252 [==============================] - 33s 26ms/step - loss: 0.4965 - acc: 0.7647 - val_loss: 0.4693 - val_acc: 0.7760\n",
            "Epoch 87/200\n",
            "1252/1252 [==============================] - 33s 26ms/step - loss: 0.4962 - acc: 0.7649 - val_loss: 0.4697 - val_acc: 0.7762\n",
            "Epoch 88/200\n",
            "1252/1252 [==============================] - 33s 26ms/step - loss: 0.4969 - acc: 0.7648 - val_loss: 0.4697 - val_acc: 0.7764\n",
            "Epoch 89/200\n",
            "1252/1252 [==============================] - 33s 26ms/step - loss: 0.4965 - acc: 0.7647 - val_loss: 0.4691 - val_acc: 0.7766\n",
            "Epoch 90/200\n",
            "1252/1252 [==============================] - 33s 26ms/step - loss: 0.4963 - acc: 0.7656 - val_loss: 0.4696 - val_acc: 0.7768\n",
            "Epoch 91/200\n",
            "1252/1252 [==============================] - 32s 26ms/step - loss: 0.4962 - acc: 0.7653 - val_loss: 0.4697 - val_acc: 0.7767\n",
            "Epoch 92/200\n",
            "1252/1252 [==============================] - 33s 26ms/step - loss: 0.4966 - acc: 0.7652 - val_loss: 0.4700 - val_acc: 0.7771\n",
            "Epoch 93/200\n",
            "1252/1252 [==============================] - 33s 26ms/step - loss: 0.4957 - acc: 0.7655 - val_loss: 0.4708 - val_acc: 0.7758\n",
            "Epoch 94/200\n",
            "1252/1252 [==============================] - 33s 26ms/step - loss: 0.4961 - acc: 0.7650 - val_loss: 0.4716 - val_acc: 0.7760\n",
            "Epoch 95/200\n",
            "1252/1252 [==============================] - 33s 26ms/step - loss: 0.4961 - acc: 0.7654 - val_loss: 0.4704 - val_acc: 0.7768\n",
            "Epoch 96/200\n",
            "1252/1252 [==============================] - 32s 26ms/step - loss: 0.4958 - acc: 0.7650 - val_loss: 0.4713 - val_acc: 0.7766\n",
            "Epoch 97/200\n",
            "1252/1252 [==============================] - 33s 26ms/step - loss: 0.4962 - acc: 0.7654 - val_loss: 0.4698 - val_acc: 0.7767\n",
            "Epoch 98/200\n",
            "1252/1252 [==============================] - 33s 26ms/step - loss: 0.4958 - acc: 0.7646 - val_loss: 0.4699 - val_acc: 0.7768\n",
            "Epoch 99/200\n",
            "1252/1252 [==============================] - 33s 26ms/step - loss: 0.4963 - acc: 0.7649 - val_loss: 0.4695 - val_acc: 0.7768\n",
            "Epoch 100/200\n",
            "1252/1252 [==============================] - 33s 26ms/step - loss: 0.4960 - acc: 0.7655 - val_loss: 0.4695 - val_acc: 0.7766\n",
            "Epoch 101/200\n",
            "1252/1252 [==============================] - 33s 26ms/step - loss: 0.4957 - acc: 0.7649 - val_loss: 0.4699 - val_acc: 0.7769\n",
            "Epoch 102/200\n",
            "1252/1252 [==============================] - 33s 26ms/step - loss: 0.4951 - acc: 0.7654 - val_loss: 0.4711 - val_acc: 0.7763\n",
            "Epoch 103/200\n",
            "1252/1252 [==============================] - 33s 26ms/step - loss: 0.4954 - acc: 0.7655 - val_loss: 0.4692 - val_acc: 0.7767\n",
            "Epoch 104/200\n",
            "1252/1252 [==============================] - 32s 26ms/step - loss: 0.4960 - acc: 0.7652 - val_loss: 0.4700 - val_acc: 0.7764\n",
            "Epoch 105/200\n",
            "1252/1252 [==============================] - 33s 26ms/step - loss: 0.4962 - acc: 0.7652 - val_loss: 0.4707 - val_acc: 0.7766\n",
            "Epoch 106/200\n",
            "1252/1252 [==============================] - 33s 26ms/step - loss: 0.4956 - acc: 0.7655 - val_loss: 0.4711 - val_acc: 0.7764\n",
            "Epoch 107/200\n",
            "1252/1252 [==============================] - 33s 26ms/step - loss: 0.4956 - acc: 0.7650 - val_loss: 0.4701 - val_acc: 0.7767\n",
            "Epoch 108/200\n",
            "1252/1252 [==============================] - 32s 26ms/step - loss: 0.4963 - acc: 0.7652 - val_loss: 0.4699 - val_acc: 0.7768\n",
            "Epoch 109/200\n",
            "1252/1252 [==============================] - 33s 26ms/step - loss: 0.4955 - acc: 0.7653 - val_loss: 0.4699 - val_acc: 0.7767\n",
            "Epoch 110/200\n",
            "1252/1252 [==============================] - 33s 26ms/step - loss: 0.4960 - acc: 0.7651 - val_loss: 0.4725 - val_acc: 0.7765\n",
            "Epoch 111/200\n",
            "1252/1252 [==============================] - 33s 26ms/step - loss: 0.4956 - acc: 0.7658 - val_loss: 0.4699 - val_acc: 0.7766\n",
            "Epoch 112/200\n",
            "1252/1252 [==============================] - 33s 26ms/step - loss: 0.4955 - acc: 0.7650 - val_loss: 0.4698 - val_acc: 0.7767\n",
            "Epoch 113/200\n",
            "1252/1252 [==============================] - 33s 26ms/step - loss: 0.4953 - acc: 0.7657 - val_loss: 0.4705 - val_acc: 0.7759\n",
            "Epoch 114/200\n",
            "1252/1252 [==============================] - 33s 26ms/step - loss: 0.4950 - acc: 0.7658 - val_loss: 0.4696 - val_acc: 0.7767\n",
            "Epoch 115/200\n",
            "1252/1252 [==============================] - 33s 26ms/step - loss: 0.4957 - acc: 0.7651 - val_loss: 0.4702 - val_acc: 0.7762\n",
            "Epoch 116/200\n",
            "1252/1252 [==============================] - 32s 26ms/step - loss: 0.4957 - acc: 0.7655 - val_loss: 0.4702 - val_acc: 0.7766\n",
            "Epoch 117/200\n",
            "1252/1252 [==============================] - 33s 26ms/step - loss: 0.5016 - acc: 0.7627 - val_loss: 0.4702 - val_acc: 0.7768\n",
            "Epoch 118/200\n",
            "1252/1252 [==============================] - 33s 26ms/step - loss: 0.4957 - acc: 0.7658 - val_loss: 0.4695 - val_acc: 0.7769\n",
            "Epoch 119/200\n",
            "1252/1252 [==============================] - 33s 26ms/step - loss: 0.4959 - acc: 0.7653 - val_loss: 0.4700 - val_acc: 0.7773\n",
            "Epoch 120/200\n",
            "1252/1252 [==============================] - 33s 26ms/step - loss: 0.4956 - acc: 0.7649 - val_loss: 0.4697 - val_acc: 0.7765\n",
            "Epoch 121/200\n",
            "1252/1252 [==============================] - 33s 26ms/step - loss: 0.4955 - acc: 0.7651 - val_loss: 0.4698 - val_acc: 0.7767\n",
            "Epoch 122/200\n",
            "1252/1252 [==============================] - 33s 26ms/step - loss: 0.4951 - acc: 0.7656 - val_loss: 0.4706 - val_acc: 0.7760\n",
            "Epoch 123/200\n",
            "1252/1252 [==============================] - 33s 26ms/step - loss: 0.4959 - acc: 0.7656 - val_loss: 0.4716 - val_acc: 0.7756\n",
            "Epoch 124/200\n",
            "1252/1252 [==============================] - 33s 26ms/step - loss: 0.4959 - acc: 0.7661 - val_loss: 0.4694 - val_acc: 0.7769\n",
            "Epoch 125/200\n",
            "1252/1252 [==============================] - 33s 26ms/step - loss: 0.4953 - acc: 0.7657 - val_loss: 0.4739 - val_acc: 0.7756\n",
            "Epoch 126/200\n",
            "1252/1252 [==============================] - 33s 26ms/step - loss: 0.4953 - acc: 0.7659 - val_loss: 0.4708 - val_acc: 0.7759\n",
            "Epoch 127/200\n",
            "1252/1252 [==============================] - 33s 26ms/step - loss: 0.4949 - acc: 0.7649 - val_loss: 0.4701 - val_acc: 0.7766\n",
            "Epoch 128/200\n",
            "1252/1252 [==============================] - 33s 26ms/step - loss: 0.4951 - acc: 0.7655 - val_loss: 0.4704 - val_acc: 0.7769\n",
            "Epoch 129/200\n",
            "1252/1252 [==============================] - 32s 26ms/step - loss: 0.4952 - acc: 0.7654 - val_loss: 0.4700 - val_acc: 0.7767\n",
            "Epoch 130/200\n",
            "1252/1252 [==============================] - 33s 26ms/step - loss: 0.4955 - acc: 0.7656 - val_loss: 0.4719 - val_acc: 0.7760\n",
            "Epoch 131/200\n",
            "1252/1252 [==============================] - 33s 26ms/step - loss: 0.4954 - acc: 0.7652 - val_loss: 0.4705 - val_acc: 0.7766\n",
            "Epoch 132/200\n",
            "1252/1252 [==============================] - 33s 26ms/step - loss: 0.4954 - acc: 0.7649 - val_loss: 0.4701 - val_acc: 0.7769\n",
            "Epoch 133/200\n",
            "1252/1252 [==============================] - 33s 26ms/step - loss: 0.4949 - acc: 0.7658 - val_loss: 0.4706 - val_acc: 0.7764\n",
            "Epoch 134/200\n",
            "1252/1252 [==============================] - 33s 26ms/step - loss: 0.4946 - acc: 0.7659 - val_loss: 0.4703 - val_acc: 0.7766\n",
            "Epoch 135/200\n",
            "1252/1252 [==============================] - 33s 26ms/step - loss: 0.4955 - acc: 0.7657 - val_loss: 0.4708 - val_acc: 0.7763\n",
            "Epoch 136/200\n",
            "1252/1252 [==============================] - 33s 26ms/step - loss: 0.4951 - acc: 0.7661 - val_loss: 0.4708 - val_acc: 0.7762\n",
            "Epoch 137/200\n",
            "1252/1252 [==============================] - 32s 26ms/step - loss: 0.4945 - acc: 0.7658 - val_loss: 0.4702 - val_acc: 0.7768\n",
            "Epoch 138/200\n",
            "1252/1252 [==============================] - 33s 26ms/step - loss: 0.4948 - acc: 0.7657 - val_loss: 0.4698 - val_acc: 0.7766\n",
            "Epoch 139/200\n",
            "1252/1252 [==============================] - 33s 26ms/step - loss: 0.4952 - acc: 0.7659 - val_loss: 0.4712 - val_acc: 0.7768\n",
            "Epoch 140/200\n",
            "1252/1252 [==============================] - 33s 26ms/step - loss: 0.4950 - acc: 0.7658 - val_loss: 0.4704 - val_acc: 0.7764\n",
            "Epoch 141/200\n",
            "1252/1252 [==============================] - 33s 26ms/step - loss: 0.4951 - acc: 0.7658 - val_loss: 0.4703 - val_acc: 0.7768\n",
            "Epoch 142/200\n",
            "1252/1252 [==============================] - 33s 26ms/step - loss: 0.4950 - acc: 0.7656 - val_loss: 0.4708 - val_acc: 0.7771\n",
            "Epoch 143/200\n",
            "1252/1252 [==============================] - 33s 26ms/step - loss: 0.4950 - acc: 0.7658 - val_loss: 0.4718 - val_acc: 0.7758\n",
            "Epoch 144/200\n",
            "1252/1252 [==============================] - 33s 26ms/step - loss: 0.4944 - acc: 0.7660 - val_loss: 0.4706 - val_acc: 0.7769\n",
            "Epoch 145/200\n",
            "1252/1252 [==============================] - 33s 26ms/step - loss: 0.4949 - acc: 0.7661 - val_loss: 0.4704 - val_acc: 0.7765\n",
            "Epoch 146/200\n",
            "1252/1252 [==============================] - 33s 26ms/step - loss: 0.4944 - acc: 0.7656 - val_loss: 0.4706 - val_acc: 0.7766\n",
            "Epoch 147/200\n",
            "1252/1252 [==============================] - 33s 26ms/step - loss: 0.4942 - acc: 0.7660 - val_loss: 0.4701 - val_acc: 0.7765\n",
            "Epoch 148/200\n",
            "1252/1252 [==============================] - 33s 26ms/step - loss: 0.4947 - acc: 0.7652 - val_loss: 0.4705 - val_acc: 0.7770\n",
            "Epoch 149/200\n",
            "1252/1252 [==============================] - 33s 26ms/step - loss: 0.4947 - acc: 0.7658 - val_loss: 0.4709 - val_acc: 0.7770\n",
            "Epoch 150/200\n",
            "1252/1252 [==============================] - 33s 26ms/step - loss: 0.4951 - acc: 0.7656 - val_loss: 0.4721 - val_acc: 0.7763\n",
            "Epoch 151/200\n",
            "1252/1252 [==============================] - 33s 26ms/step - loss: 0.4946 - acc: 0.7658 - val_loss: 0.4705 - val_acc: 0.7768\n",
            "Epoch 152/200\n",
            "1252/1252 [==============================] - 33s 26ms/step - loss: 0.4949 - acc: 0.7656 - val_loss: 0.4712 - val_acc: 0.7760\n",
            "Epoch 153/200\n",
            "1252/1252 [==============================] - 33s 26ms/step - loss: 0.4940 - acc: 0.7659 - val_loss: 0.4713 - val_acc: 0.7764\n",
            "Epoch 154/200\n",
            "1252/1252 [==============================] - 32s 26ms/step - loss: 0.4949 - acc: 0.7659 - val_loss: 0.4708 - val_acc: 0.7761\n",
            "Epoch 155/200\n",
            "1252/1252 [==============================] - 33s 26ms/step - loss: 0.4951 - acc: 0.7655 - val_loss: 0.4702 - val_acc: 0.7766\n",
            "Epoch 156/200\n",
            "1252/1252 [==============================] - 33s 26ms/step - loss: 0.4944 - acc: 0.7657 - val_loss: 0.4711 - val_acc: 0.7760\n",
            "Epoch 157/200\n",
            "1252/1252 [==============================] - 33s 26ms/step - loss: 0.4946 - acc: 0.7661 - val_loss: 0.4705 - val_acc: 0.7765\n",
            "Epoch 158/200\n",
            "1252/1252 [==============================] - 33s 26ms/step - loss: 0.4944 - acc: 0.7660 - val_loss: 0.4698 - val_acc: 0.7767\n",
            "Epoch 159/200\n",
            "1252/1252 [==============================] - 33s 26ms/step - loss: 0.4939 - acc: 0.7661 - val_loss: 0.4716 - val_acc: 0.7769\n",
            "Epoch 160/200\n",
            "1252/1252 [==============================] - 33s 26ms/step - loss: 0.4947 - acc: 0.7663 - val_loss: 0.4704 - val_acc: 0.7771\n",
            "Epoch 161/200\n",
            "1252/1252 [==============================] - 33s 26ms/step - loss: 0.4946 - acc: 0.7657 - val_loss: 0.4707 - val_acc: 0.7761\n",
            "Epoch 162/200\n",
            "1252/1252 [==============================] - 32s 26ms/step - loss: 0.4941 - acc: 0.7660 - val_loss: 0.4714 - val_acc: 0.7763\n",
            "Epoch 163/200\n",
            "1252/1252 [==============================] - 33s 26ms/step - loss: 0.4942 - acc: 0.7663 - val_loss: 0.4710 - val_acc: 0.7771\n",
            "Epoch 164/200\n",
            "1252/1252 [==============================] - 33s 26ms/step - loss: 0.4946 - acc: 0.7658 - val_loss: 0.4705 - val_acc: 0.7763\n",
            "Epoch 165/200\n",
            "1252/1252 [==============================] - 33s 26ms/step - loss: 0.4943 - acc: 0.7659 - val_loss: 0.4721 - val_acc: 0.7765\n",
            "Epoch 166/200\n",
            "1252/1252 [==============================] - 33s 26ms/step - loss: 0.4941 - acc: 0.7659 - val_loss: 0.4706 - val_acc: 0.7766\n",
            "Epoch 167/200\n",
            "1252/1252 [==============================] - 32s 26ms/step - loss: 0.4941 - acc: 0.7659 - val_loss: 0.4709 - val_acc: 0.7770\n",
            "Epoch 168/200\n",
            "1252/1252 [==============================] - 33s 26ms/step - loss: 0.4940 - acc: 0.7661 - val_loss: 0.4710 - val_acc: 0.7766\n",
            "Epoch 169/200\n",
            "1252/1252 [==============================] - 33s 26ms/step - loss: 0.4943 - acc: 0.7654 - val_loss: 0.4706 - val_acc: 0.7772\n",
            "Epoch 170/200\n",
            "1252/1252 [==============================] - 33s 26ms/step - loss: 0.4940 - acc: 0.7659 - val_loss: 0.4706 - val_acc: 0.7768\n",
            "Epoch 171/200\n",
            "1252/1252 [==============================] - 32s 26ms/step - loss: 0.4941 - acc: 0.7659 - val_loss: 0.4713 - val_acc: 0.7766\n",
            "Epoch 172/200\n",
            "1252/1252 [==============================] - 33s 26ms/step - loss: 0.4944 - acc: 0.7660 - val_loss: 0.4706 - val_acc: 0.7762\n",
            "Epoch 173/200\n",
            "1252/1252 [==============================] - 33s 26ms/step - loss: 0.4944 - acc: 0.7664 - val_loss: 0.4708 - val_acc: 0.7764\n",
            "Epoch 174/200\n",
            "1252/1252 [==============================] - 32s 26ms/step - loss: 0.4949 - acc: 0.7664 - val_loss: 0.4704 - val_acc: 0.7765\n",
            "Epoch 175/200\n",
            "1252/1252 [==============================] - 33s 26ms/step - loss: 0.4943 - acc: 0.7661 - val_loss: 0.4704 - val_acc: 0.7764\n",
            "Epoch 176/200\n",
            "1252/1252 [==============================] - 33s 26ms/step - loss: 0.4938 - acc: 0.7668 - val_loss: 0.4702 - val_acc: 0.7765\n",
            "Epoch 177/200\n",
            "1252/1252 [==============================] - 33s 26ms/step - loss: 0.4947 - acc: 0.7663 - val_loss: 0.4706 - val_acc: 0.7765\n",
            "Epoch 178/200\n",
            "1252/1252 [==============================] - 33s 26ms/step - loss: 0.4939 - acc: 0.7665 - val_loss: 0.4706 - val_acc: 0.7765\n",
            "Epoch 179/200\n",
            "1252/1252 [==============================] - 33s 26ms/step - loss: 0.4941 - acc: 0.7660 - val_loss: 0.4705 - val_acc: 0.7770\n",
            "Epoch 180/200\n",
            "1252/1252 [==============================] - 33s 26ms/step - loss: 0.4942 - acc: 0.7661 - val_loss: 0.4709 - val_acc: 0.7767\n",
            "Epoch 181/200\n",
            "1252/1252 [==============================] - 33s 26ms/step - loss: 0.4938 - acc: 0.7665 - val_loss: 0.4706 - val_acc: 0.7764\n",
            "Epoch 182/200\n",
            "1252/1252 [==============================] - 33s 26ms/step - loss: 0.4938 - acc: 0.7659 - val_loss: 0.4708 - val_acc: 0.7767\n",
            "Epoch 183/200\n",
            "1252/1252 [==============================] - 32s 26ms/step - loss: 0.4940 - acc: 0.7667 - val_loss: 0.4706 - val_acc: 0.7760\n",
            "Epoch 184/200\n",
            "1252/1252 [==============================] - 33s 26ms/step - loss: 0.4940 - acc: 0.7659 - val_loss: 0.4714 - val_acc: 0.7768\n",
            "Epoch 185/200\n",
            "1252/1252 [==============================] - 33s 26ms/step - loss: 0.4943 - acc: 0.7661 - val_loss: 0.4710 - val_acc: 0.7766\n",
            "Epoch 186/200\n",
            "1252/1252 [==============================] - 33s 26ms/step - loss: 0.4937 - acc: 0.7660 - val_loss: 0.4706 - val_acc: 0.7767\n",
            "Epoch 187/200\n",
            "1252/1252 [==============================] - 33s 26ms/step - loss: 0.4943 - acc: 0.7659 - val_loss: 0.4709 - val_acc: 0.7763\n",
            "Epoch 188/200\n",
            "1252/1252 [==============================] - 33s 26ms/step - loss: 0.4941 - acc: 0.7658 - val_loss: 0.4708 - val_acc: 0.7765\n",
            "Epoch 189/200\n",
            "1252/1252 [==============================] - 33s 26ms/step - loss: 0.4935 - acc: 0.7662 - val_loss: 0.4708 - val_acc: 0.7769\n",
            "Epoch 190/200\n",
            "1252/1252 [==============================] - 33s 26ms/step - loss: 0.4941 - acc: 0.7664 - val_loss: 0.4725 - val_acc: 0.7755\n",
            "Epoch 191/200\n",
            "1252/1252 [==============================] - 33s 26ms/step - loss: 0.4942 - acc: 0.7657 - val_loss: 0.4714 - val_acc: 0.7762\n",
            "Epoch 192/200\n",
            "1252/1252 [==============================] - 33s 26ms/step - loss: 0.4938 - acc: 0.7662 - val_loss: 0.4717 - val_acc: 0.7767\n",
            "Epoch 193/200\n",
            "1252/1252 [==============================] - 33s 26ms/step - loss: 0.4938 - acc: 0.7668 - val_loss: 0.4716 - val_acc: 0.7765\n",
            "Epoch 194/200\n",
            "1252/1252 [==============================] - 33s 26ms/step - loss: 0.4932 - acc: 0.7661 - val_loss: 0.4716 - val_acc: 0.7760\n",
            "Epoch 195/200\n",
            "1252/1252 [==============================] - 33s 26ms/step - loss: 0.4937 - acc: 0.7662 - val_loss: 0.4716 - val_acc: 0.7761\n",
            "Epoch 196/200\n",
            "1252/1252 [==============================] - 33s 26ms/step - loss: 0.4938 - acc: 0.7658 - val_loss: 0.4720 - val_acc: 0.7761\n",
            "Epoch 197/200\n",
            "1252/1252 [==============================] - 33s 26ms/step - loss: 0.4940 - acc: 0.7660 - val_loss: 0.4711 - val_acc: 0.7765\n",
            "Epoch 198/200\n",
            "1252/1252 [==============================] - 33s 26ms/step - loss: 0.4942 - acc: 0.7658 - val_loss: 0.4710 - val_acc: 0.7766\n",
            "Epoch 199/200\n",
            "1252/1252 [==============================] - 33s 26ms/step - loss: 0.4943 - acc: 0.7655 - val_loss: 0.4714 - val_acc: 0.7761\n",
            "Epoch 200/200\n",
            "1252/1252 [==============================] - 32s 26ms/step - loss: 0.4943 - acc: 0.7652 - val_loss: 0.4715 - val_acc: 0.7766\n"
          ]
        }
      ],
      "source": [
        "t0 = time()\n",
        "history_lemm_glove_optimised = lstm_lemm_glove_optimised.fit(xtrain_lem, \n",
        "                             ytrain,\n",
        "                             validation_data = (xval_lem, yval),\n",
        "                             epochs = epochs,\n",
        "                             batch_size = batch_size,\n",
        "                             verbose = 1)\n",
        "learning_times['lemm_glove'] = time() - t0"
      ]
    },
    {
      "cell_type": "markdown",
      "id": "ogfZdtBQ-Z9_",
      "metadata": {
        "id": "ogfZdtBQ-Z9_"
      },
      "source": [
        "#### Learning Curve"
      ]
    },
    {
      "cell_type": "code",
      "execution_count": 48,
      "id": "50QTqZPB-Z9_",
      "metadata": {
        "id": "50QTqZPB-Z9_",
        "colab": {
          "base_uri": "https://localhost:8080/",
          "height": 573
        },
        "outputId": "861ef305-1c0f-4834-e405-3eb4399bb022"
      },
      "outputs": [
        {
          "output_type": "display_data",
          "data": {
            "text/plain": [
              "<Figure size 432x288 with 1 Axes>"
            ],
            "image/png": "[encoded data removed]"
          },
          "metadata": {
            "needs_background": "light"
          }
        },
        {
          "output_type": "display_data",
          "data": {
            "text/plain": [
              "<Figure size 432x288 with 1 Axes>"
            ],
            "image/png": "[encoded data removed]"
          },
          "metadata": {
            "needs_background": "light"
          }
        }
      ],
      "source": [
        "history = history_lemm_glove_optimised\n",
        "plot_history(history, list(history.history.keys()))"
      ]
    },
    {
      "cell_type": "markdown",
      "id": "RopswHIm-Z9_",
      "metadata": {
        "id": "RopswHIm-Z9_"
      },
      "source": [
        "#### Evaluation du modèle"
      ]
    },
    {
      "cell_type": "code",
      "execution_count": 49,
      "id": "KiQvY4UI-Z9_",
      "metadata": {
        "id": "KiQvY4UI-Z9_",
        "colab": {
          "base_uri": "https://localhost:8080/"
        },
        "outputId": "5bcd5289-3cf3-42b9-bdd7-db9232e456e0"
      },
      "outputs": [
        {
          "output_type": "stream",
          "name": "stdout",
          "text": [
            "Loss score 0.47 : \n",
            "Accuracy score: 0.78\n"
          ]
        }
      ],
      "source": [
        "evaluate = lstm_lemm_glove_optimised.evaluate(xval_lem, yval, verbose=0)\n",
        "\n",
        "print('Loss score %.2f : \\nAccuracy score: %.2f'%(evaluate[0], evaluate[1]))"
      ]
    },
    {
      "cell_type": "markdown",
      "id": "NsAb6hla-Z9_",
      "metadata": {
        "id": "NsAb6hla-Z9_"
      },
      "source": [
        "#### Sauvegarde du modèle"
      ]
    },
    {
      "cell_type": "code",
      "execution_count": 50,
      "id": "SmYvn5DE-Z-A",
      "metadata": {
        "id": "SmYvn5DE-Z-A",
        "colab": {
          "base_uri": "https://localhost:8080/"
        },
        "outputId": "652f5193-bc41-487c-a24f-b9de953a60aa"
      },
      "outputs": [
        {
          "output_type": "stream",
          "name": "stdout",
          "text": [
            "Model Saved!\n"
          ]
        }
      ],
      "source": [
        "# saving model architecture and weights\n",
        " \n",
        "# save model architecture\n",
        "lstm_lemm_glove_optimised.save(path + 'models/lstm_lemm_glove.h5')\n",
        " \n",
        "# save model weights\n",
        "lstm_lemm_glove_optimised.save_weights(path + 'models/lstm_lemm_glove_weights')\n",
        "print('Model Saved!')"
      ]
    },
    {
      "cell_type": "markdown",
      "id": "qLoEbC0z-Z-A",
      "metadata": {
        "id": "qLoEbC0z-Z-A"
      },
      "source": [
        "<a href=\"##sommaire\" rev=\"footnote\">&#8617;</a>"
      ]
    },
    {
      "cell_type": "markdown",
      "id": "628c21ca",
      "metadata": {
        "id": "628c21ca"
      },
      "source": [
        "## Nettoyage avec stemming et vectorisation avec Word2Vec <a class=\"anchor\" id=\"30\"></a>"
      ]
    },
    {
      "cell_type": "code",
      "execution_count": 51,
      "id": "ENDt-f9PFAl4",
      "metadata": {
        "id": "ENDt-f9PFAl4",
        "colab": {
          "base_uri": "https://localhost:8080/"
        },
        "outputId": "fbb6593d-a7a3-42b7-c2e3-4369c584f29f"
      },
      "outputs": [
        {
          "output_type": "stream",
          "name": "stdout",
          "text": [
            "Fit Tokenizer ...\n",
            "Create Embedding matrix ...\n",
            "Word embedding rate :  0.8831\n",
            "Embedding matrix shape:  (138808, 200)\n"
          ]
        }
      ],
      "source": [
        "size = 200\n",
        "embedding_matrix_stem_w2v = build_embedding_matrix(train_stem, \n",
        "                                                  model_vectors = w2v_vectors_stem, \n",
        "                                                  size = size)['Embedding_matrix']"
      ]
    },
    {
      "cell_type": "code",
      "execution_count": 52,
      "id": "88445ba8",
      "metadata": {
        "id": "88445ba8",
        "colab": {
          "base_uri": "https://localhost:8080/"
        },
        "outputId": "4e903563-8007-4959-f2d7-ec9a4a934f58"
      },
      "outputs": [
        {
          "output_type": "stream",
          "name": "stdout",
          "text": [
            "Préparing the train set : \n",
            "Len vocab : 138807\n",
            "Len tweets : 625617\n",
            "Done! \n",
            "\n",
            "Préparing the validation set : \n",
            "Len vocab : 138807\n",
            "Len tweets : 268092\n",
            "Done! \n",
            "\n"
          ]
        }
      ],
      "source": [
        "tk_stem = Tokenizer()\n",
        "tk_stem.fit_on_texts(train_stem)\n",
        "xtrain_stem = prepare_data(train.tweet_clean_stem, \n",
        "                           tokenizer = tk_stem,\n",
        "                           pprint='Préparing the train set : ')\n",
        "\n",
        "xval_stem = prepare_data(val_stem, \n",
        "                         tokenizer = tk_stem,\n",
        "                         pprint='Préparing the validation set : ')"
      ]
    },
    {
      "cell_type": "markdown",
      "id": "r9nu7dOiRfVe",
      "metadata": {
        "id": "r9nu7dOiRfVe"
      },
      "source": [
        "### Baseline"
      ]
    },
    {
      "cell_type": "code",
      "execution_count": 53,
      "id": "CVFnS7jnAWnd",
      "metadata": {
        "id": "CVFnS7jnAWnd",
        "colab": {
          "base_uri": "https://localhost:8080/"
        },
        "outputId": "f8a9cde9-dbe6-4f62-dd7d-53672e4bae11"
      },
      "outputs": [
        {
          "output_type": "stream",
          "name": "stdout",
          "text": [
            "Model: \"sequential_4\"\n",
            "_________________________________________________________________\n",
            " Layer (type)                Output Shape              Param #   \n",
            "=================================================================\n",
            " embedding_4 (Embedding)     (None, 205, 200)          27761600  \n",
            "                                                                 \n",
            " bidirectional_4 (Bidirectio  (None, 20)               16880     \n",
            " nal)                                                            \n",
            "                                                                 \n",
            " flatten_4 (Flatten)         (None, 20)                0         \n",
            "                                                                 \n",
            " dense_7 (Dense)             (None, 1)                 21        \n",
            "                                                                 \n",
            "=================================================================\n",
            "Total params: 27,778,501\n",
            "Trainable params: 16,901\n",
            "Non-trainable params: 27,761,600\n",
            "_________________________________________________________________\n",
            "CPU times: user 637 ms, sys: 16.5 ms, total: 653 ms\n",
            "Wall time: 645 ms\n"
          ]
        }
      ],
      "source": [
        "%%time\n",
        "embedding_matrix = embedding_matrix_stem_w2v\n",
        "model_stem_w2v = lstm_embedding(embedding_matrix=embedding_matrix, \n",
        "                                len_vocab = 138807+1)\n",
        "\n",
        "model_stem_w2v.summary()"
      ]
    },
    {
      "cell_type": "code",
      "execution_count": 54,
      "id": "f0XbM7yDAWne",
      "metadata": {
        "id": "f0XbM7yDAWne",
        "scrolled": true,
        "colab": {
          "base_uri": "https://localhost:8080/"
        },
        "outputId": "4726b439-3d29-40f7-940e-aaf31bd26443"
      },
      "outputs": [
        {
          "output_type": "stream",
          "name": "stdout",
          "text": [
            "Epoch 1/200\n",
            "1252/1252 [==============================] - 36s 26ms/step - loss: 0.5062 - acc: 0.7532 - val_loss: 0.4807 - val_acc: 0.7702\n",
            "Epoch 2/200\n",
            "1252/1252 [==============================] - 32s 26ms/step - loss: 0.4756 - acc: 0.7726 - val_loss: 0.4727 - val_acc: 0.7747\n",
            "Epoch 3/200\n",
            "1252/1252 [==============================] - 33s 26ms/step - loss: 0.4682 - acc: 0.7770 - val_loss: 0.4691 - val_acc: 0.7769\n",
            "Epoch 4/200\n",
            "1252/1252 [==============================] - 32s 26ms/step - loss: 0.4642 - acc: 0.7792 - val_loss: 0.4674 - val_acc: 0.7769\n",
            "Epoch 5/200\n",
            "1252/1252 [==============================] - 32s 26ms/step - loss: 0.4616 - acc: 0.7808 - val_loss: 0.4668 - val_acc: 0.7780\n",
            "Epoch 6/200\n",
            "1252/1252 [==============================] - 32s 26ms/step - loss: 0.4597 - acc: 0.7824 - val_loss: 0.4660 - val_acc: 0.7779\n",
            "Epoch 7/200\n",
            "1252/1252 [==============================] - 33s 26ms/step - loss: 0.4581 - acc: 0.7829 - val_loss: 0.4660 - val_acc: 0.7783\n",
            "Epoch 8/200\n",
            "1252/1252 [==============================] - 32s 26ms/step - loss: 0.4569 - acc: 0.7835 - val_loss: 0.4663 - val_acc: 0.7776\n",
            "Epoch 9/200\n",
            "1252/1252 [==============================] - 32s 26ms/step - loss: 0.4558 - acc: 0.7848 - val_loss: 0.4652 - val_acc: 0.7786\n",
            "Epoch 10/200\n",
            "1252/1252 [==============================] - 32s 26ms/step - loss: 0.4549 - acc: 0.7851 - val_loss: 0.4649 - val_acc: 0.7784\n",
            "Epoch 11/200\n",
            "1252/1252 [==============================] - 32s 26ms/step - loss: 0.4542 - acc: 0.7857 - val_loss: 0.4651 - val_acc: 0.7785\n",
            "Epoch 12/200\n",
            "1252/1252 [==============================] - 33s 26ms/step - loss: 0.4534 - acc: 0.7862 - val_loss: 0.4652 - val_acc: 0.7786\n",
            "Epoch 13/200\n",
            "1252/1252 [==============================] - 32s 26ms/step - loss: 0.4528 - acc: 0.7863 - val_loss: 0.4644 - val_acc: 0.7791\n",
            "Epoch 14/200\n",
            "1252/1252 [==============================] - 32s 26ms/step - loss: 0.4525 - acc: 0.7867 - val_loss: 0.4640 - val_acc: 0.7793\n",
            "Epoch 15/200\n",
            "1252/1252 [==============================] - 33s 26ms/step - loss: 0.4519 - acc: 0.7873 - val_loss: 0.4645 - val_acc: 0.7785\n",
            "Epoch 16/200\n",
            "1252/1252 [==============================] - 33s 26ms/step - loss: 0.4514 - acc: 0.7873 - val_loss: 0.4647 - val_acc: 0.7785\n",
            "Epoch 17/200\n",
            "1252/1252 [==============================] - 32s 26ms/step - loss: 0.4511 - acc: 0.7875 - val_loss: 0.4649 - val_acc: 0.7783\n",
            "Epoch 18/200\n",
            "1252/1252 [==============================] - 32s 26ms/step - loss: 0.4507 - acc: 0.7878 - val_loss: 0.4640 - val_acc: 0.7790\n",
            "Epoch 19/200\n",
            "1252/1252 [==============================] - 32s 26ms/step - loss: 0.4504 - acc: 0.7881 - val_loss: 0.4650 - val_acc: 0.7788\n",
            "Epoch 20/200\n",
            "1252/1252 [==============================] - 33s 26ms/step - loss: 0.4500 - acc: 0.7882 - val_loss: 0.4646 - val_acc: 0.7787\n",
            "Epoch 21/200\n",
            "1252/1252 [==============================] - 32s 26ms/step - loss: 0.4497 - acc: 0.7885 - val_loss: 0.4645 - val_acc: 0.7791\n",
            "Epoch 22/200\n",
            "1252/1252 [==============================] - 32s 26ms/step - loss: 0.4494 - acc: 0.7888 - val_loss: 0.4650 - val_acc: 0.7789\n",
            "Epoch 23/200\n",
            "1252/1252 [==============================] - 32s 26ms/step - loss: 0.4491 - acc: 0.7883 - val_loss: 0.4652 - val_acc: 0.7781\n",
            "Epoch 24/200\n",
            "1252/1252 [==============================] - 33s 26ms/step - loss: 0.4490 - acc: 0.7890 - val_loss: 0.4666 - val_acc: 0.7775\n",
            "Epoch 25/200\n",
            "1252/1252 [==============================] - 32s 26ms/step - loss: 0.4487 - acc: 0.7888 - val_loss: 0.4645 - val_acc: 0.7788\n",
            "Epoch 26/200\n",
            "1252/1252 [==============================] - 32s 26ms/step - loss: 0.4485 - acc: 0.7896 - val_loss: 0.4646 - val_acc: 0.7795\n",
            "Epoch 27/200\n",
            "1252/1252 [==============================] - 32s 26ms/step - loss: 0.4482 - acc: 0.7893 - val_loss: 0.4655 - val_acc: 0.7785\n",
            "Epoch 28/200\n",
            "1252/1252 [==============================] - 32s 26ms/step - loss: 0.4479 - acc: 0.7896 - val_loss: 0.4651 - val_acc: 0.7783\n",
            "Epoch 29/200\n",
            "1252/1252 [==============================] - 33s 26ms/step - loss: 0.4478 - acc: 0.7895 - val_loss: 0.4648 - val_acc: 0.7788\n",
            "Epoch 30/200\n",
            "1252/1252 [==============================] - 32s 26ms/step - loss: 0.4474 - acc: 0.7895 - val_loss: 0.4653 - val_acc: 0.7786\n",
            "Epoch 31/200\n",
            "1252/1252 [==============================] - 32s 26ms/step - loss: 0.4473 - acc: 0.7900 - val_loss: 0.4649 - val_acc: 0.7791\n",
            "Epoch 32/200\n",
            "1252/1252 [==============================] - 32s 26ms/step - loss: 0.4471 - acc: 0.7902 - val_loss: 0.4652 - val_acc: 0.7790\n",
            "Epoch 33/200\n",
            "1252/1252 [==============================] - 32s 26ms/step - loss: 0.4469 - acc: 0.7900 - val_loss: 0.4656 - val_acc: 0.7785\n",
            "Epoch 34/200\n",
            "1252/1252 [==============================] - 32s 26ms/step - loss: 0.4467 - acc: 0.7905 - val_loss: 0.4653 - val_acc: 0.7788\n",
            "Epoch 35/200\n",
            "1252/1252 [==============================] - 32s 26ms/step - loss: 0.4465 - acc: 0.7902 - val_loss: 0.4658 - val_acc: 0.7791\n",
            "Epoch 36/200\n",
            "1252/1252 [==============================] - 32s 26ms/step - loss: 0.4464 - acc: 0.7902 - val_loss: 0.4652 - val_acc: 0.7787\n",
            "Epoch 37/200\n",
            "1252/1252 [==============================] - 32s 26ms/step - loss: 0.4462 - acc: 0.7903 - val_loss: 0.4653 - val_acc: 0.7785\n",
            "Epoch 38/200\n",
            "1252/1252 [==============================] - 32s 26ms/step - loss: 0.4460 - acc: 0.7904 - val_loss: 0.4654 - val_acc: 0.7785\n",
            "Epoch 39/200\n",
            "1252/1252 [==============================] - 32s 26ms/step - loss: 0.4459 - acc: 0.7906 - val_loss: 0.4654 - val_acc: 0.7785\n",
            "Epoch 40/200\n",
            "1252/1252 [==============================] - 32s 26ms/step - loss: 0.4456 - acc: 0.7906 - val_loss: 0.4656 - val_acc: 0.7788\n",
            "Epoch 41/200\n",
            "1252/1252 [==============================] - 32s 26ms/step - loss: 0.4455 - acc: 0.7906 - val_loss: 0.4650 - val_acc: 0.7791\n",
            "Epoch 42/200\n",
            "1252/1252 [==============================] - 33s 26ms/step - loss: 0.4455 - acc: 0.7909 - val_loss: 0.4658 - val_acc: 0.7785\n",
            "Epoch 43/200\n",
            "1252/1252 [==============================] - 32s 26ms/step - loss: 0.4453 - acc: 0.7911 - val_loss: 0.4679 - val_acc: 0.7769\n",
            "Epoch 44/200\n",
            "1252/1252 [==============================] - 32s 26ms/step - loss: 0.4452 - acc: 0.7910 - val_loss: 0.4656 - val_acc: 0.7787\n",
            "Epoch 45/200\n",
            "1252/1252 [==============================] - 32s 26ms/step - loss: 0.4449 - acc: 0.7917 - val_loss: 0.4659 - val_acc: 0.7783\n",
            "Epoch 46/200\n",
            "1252/1252 [==============================] - 33s 26ms/step - loss: 0.4448 - acc: 0.7914 - val_loss: 0.4659 - val_acc: 0.7780\n",
            "Epoch 47/200\n",
            "1252/1252 [==============================] - 32s 26ms/step - loss: 0.4448 - acc: 0.7912 - val_loss: 0.4654 - val_acc: 0.7785\n",
            "Epoch 48/200\n",
            "1252/1252 [==============================] - 32s 26ms/step - loss: 0.4445 - acc: 0.7916 - val_loss: 0.4664 - val_acc: 0.7782\n",
            "Epoch 49/200\n",
            "1252/1252 [==============================] - 32s 26ms/step - loss: 0.4445 - acc: 0.7916 - val_loss: 0.4657 - val_acc: 0.7784\n",
            "Epoch 50/200\n",
            "1252/1252 [==============================] - 32s 26ms/step - loss: 0.4444 - acc: 0.7916 - val_loss: 0.4658 - val_acc: 0.7787\n",
            "Epoch 51/200\n",
            "1252/1252 [==============================] - 33s 26ms/step - loss: 0.4442 - acc: 0.7917 - val_loss: 0.4660 - val_acc: 0.7784\n",
            "Epoch 52/200\n",
            "1252/1252 [==============================] - 32s 26ms/step - loss: 0.4441 - acc: 0.7916 - val_loss: 0.4666 - val_acc: 0.7784\n",
            "Epoch 53/200\n",
            "1252/1252 [==============================] - 32s 26ms/step - loss: 0.4440 - acc: 0.7919 - val_loss: 0.4667 - val_acc: 0.7779\n",
            "Epoch 54/200\n",
            "1252/1252 [==============================] - 32s 26ms/step - loss: 0.4439 - acc: 0.7922 - val_loss: 0.4664 - val_acc: 0.7779\n",
            "Epoch 55/200\n",
            "1252/1252 [==============================] - 32s 26ms/step - loss: 0.4438 - acc: 0.7921 - val_loss: 0.4665 - val_acc: 0.7783\n",
            "Epoch 56/200\n",
            "1252/1252 [==============================] - 32s 26ms/step - loss: 0.4437 - acc: 0.7917 - val_loss: 0.4662 - val_acc: 0.7779\n",
            "Epoch 57/200\n",
            "1252/1252 [==============================] - 32s 26ms/step - loss: 0.4437 - acc: 0.7920 - val_loss: 0.4670 - val_acc: 0.7778\n",
            "Epoch 58/200\n",
            "1252/1252 [==============================] - 32s 26ms/step - loss: 0.4435 - acc: 0.7922 - val_loss: 0.4668 - val_acc: 0.7774\n",
            "Epoch 59/200\n",
            "1252/1252 [==============================] - 32s 26ms/step - loss: 0.4434 - acc: 0.7923 - val_loss: 0.4664 - val_acc: 0.7779\n",
            "Epoch 60/200\n",
            "1252/1252 [==============================] - 33s 26ms/step - loss: 0.4433 - acc: 0.7921 - val_loss: 0.4670 - val_acc: 0.7781\n",
            "Epoch 61/200\n",
            "1252/1252 [==============================] - 32s 26ms/step - loss: 0.4432 - acc: 0.7922 - val_loss: 0.4669 - val_acc: 0.7780\n",
            "Epoch 62/200\n",
            "1252/1252 [==============================] - 32s 26ms/step - loss: 0.4432 - acc: 0.7923 - val_loss: 0.4668 - val_acc: 0.7775\n",
            "Epoch 63/200\n",
            "1252/1252 [==============================] - 32s 26ms/step - loss: 0.4527 - acc: 0.7871 - val_loss: 0.4683 - val_acc: 0.7774\n",
            "Epoch 64/200\n",
            "1252/1252 [==============================] - 32s 26ms/step - loss: 0.4439 - acc: 0.7921 - val_loss: 0.4677 - val_acc: 0.7775\n",
            "Epoch 65/200\n",
            "1252/1252 [==============================] - 33s 26ms/step - loss: 0.4431 - acc: 0.7923 - val_loss: 0.4674 - val_acc: 0.7773\n",
            "Epoch 66/200\n",
            "1252/1252 [==============================] - 32s 26ms/step - loss: 0.4429 - acc: 0.7926 - val_loss: 0.4670 - val_acc: 0.7773\n",
            "Epoch 67/200\n",
            "1252/1252 [==============================] - 32s 26ms/step - loss: 0.4428 - acc: 0.7927 - val_loss: 0.4679 - val_acc: 0.7775\n",
            "Epoch 68/200\n",
            "1252/1252 [==============================] - 32s 26ms/step - loss: 0.4427 - acc: 0.7927 - val_loss: 0.4675 - val_acc: 0.7776\n",
            "Epoch 69/200\n",
            "1252/1252 [==============================] - 33s 26ms/step - loss: 0.4426 - acc: 0.7930 - val_loss: 0.4677 - val_acc: 0.7774\n",
            "Epoch 70/200\n",
            "1252/1252 [==============================] - 32s 26ms/step - loss: 0.4429 - acc: 0.7925 - val_loss: 0.4689 - val_acc: 0.7769\n",
            "Epoch 71/200\n",
            "1252/1252 [==============================] - 32s 26ms/step - loss: 0.4425 - acc: 0.7929 - val_loss: 0.4681 - val_acc: 0.7778\n",
            "Epoch 72/200\n",
            "1252/1252 [==============================] - 32s 26ms/step - loss: 0.4423 - acc: 0.7927 - val_loss: 0.4686 - val_acc: 0.7772\n",
            "Epoch 73/200\n",
            "1252/1252 [==============================] - 32s 26ms/step - loss: 0.4460 - acc: 0.7908 - val_loss: 0.4886 - val_acc: 0.7671\n",
            "Epoch 74/200\n",
            "1252/1252 [==============================] - 32s 26ms/step - loss: 0.4468 - acc: 0.7900 - val_loss: 0.4678 - val_acc: 0.7776\n",
            "Epoch 75/200\n",
            "1252/1252 [==============================] - 32s 26ms/step - loss: 0.4423 - acc: 0.7930 - val_loss: 0.4679 - val_acc: 0.7772\n",
            "Epoch 76/200\n",
            "1252/1252 [==============================] - 32s 26ms/step - loss: 0.4422 - acc: 0.7932 - val_loss: 0.4682 - val_acc: 0.7779\n",
            "Epoch 77/200\n",
            "1252/1252 [==============================] - 32s 26ms/step - loss: 0.4420 - acc: 0.7929 - val_loss: 0.4683 - val_acc: 0.7775\n",
            "Epoch 78/200\n",
            "1252/1252 [==============================] - 33s 26ms/step - loss: 0.4420 - acc: 0.7933 - val_loss: 0.4679 - val_acc: 0.7773\n",
            "Epoch 79/200\n",
            "1252/1252 [==============================] - 33s 26ms/step - loss: 0.4419 - acc: 0.7932 - val_loss: 0.4681 - val_acc: 0.7774\n",
            "Epoch 80/200\n",
            "1252/1252 [==============================] - 32s 26ms/step - loss: 0.4418 - acc: 0.7931 - val_loss: 0.4685 - val_acc: 0.7772\n",
            "Epoch 81/200\n",
            "1252/1252 [==============================] - 32s 26ms/step - loss: 0.4417 - acc: 0.7933 - val_loss: 0.4682 - val_acc: 0.7774\n",
            "Epoch 82/200\n",
            "1252/1252 [==============================] - 32s 26ms/step - loss: 0.4417 - acc: 0.7935 - val_loss: 0.4691 - val_acc: 0.7777\n",
            "Epoch 83/200\n",
            "1252/1252 [==============================] - 33s 26ms/step - loss: 0.4416 - acc: 0.7933 - val_loss: 0.4688 - val_acc: 0.7766\n",
            "Epoch 84/200\n",
            "1252/1252 [==============================] - 33s 26ms/step - loss: 0.4415 - acc: 0.7935 - val_loss: 0.4691 - val_acc: 0.7767\n",
            "Epoch 85/200\n",
            "1252/1252 [==============================] - 32s 26ms/step - loss: 0.4631 - acc: 0.7814 - val_loss: 0.4735 - val_acc: 0.7749\n",
            "Epoch 86/200\n",
            "1252/1252 [==============================] - 32s 26ms/step - loss: 0.4442 - acc: 0.7919 - val_loss: 0.4684 - val_acc: 0.7776\n",
            "Epoch 87/200\n",
            "1252/1252 [==============================] - 32s 26ms/step - loss: 0.4420 - acc: 0.7933 - val_loss: 0.4687 - val_acc: 0.7775\n",
            "Epoch 88/200\n",
            "1252/1252 [==============================] - 33s 26ms/step - loss: 0.4417 - acc: 0.7933 - val_loss: 0.4683 - val_acc: 0.7777\n",
            "Epoch 89/200\n",
            "1252/1252 [==============================] - 32s 26ms/step - loss: 0.4415 - acc: 0.7937 - val_loss: 0.4691 - val_acc: 0.7776\n",
            "Epoch 90/200\n",
            "1252/1252 [==============================] - 32s 26ms/step - loss: 0.4414 - acc: 0.7934 - val_loss: 0.4689 - val_acc: 0.7777\n",
            "Epoch 91/200\n",
            "1252/1252 [==============================] - 32s 26ms/step - loss: 0.4413 - acc: 0.7936 - val_loss: 0.4695 - val_acc: 0.7776\n",
            "Epoch 92/200\n",
            "1252/1252 [==============================] - 33s 26ms/step - loss: 0.4412 - acc: 0.7936 - val_loss: 0.4688 - val_acc: 0.7776\n",
            "Epoch 93/200\n",
            "1252/1252 [==============================] - 32s 26ms/step - loss: 0.4411 - acc: 0.7937 - val_loss: 0.4695 - val_acc: 0.7769\n",
            "Epoch 94/200\n",
            "1252/1252 [==============================] - 32s 26ms/step - loss: 0.4411 - acc: 0.7938 - val_loss: 0.4692 - val_acc: 0.7771\n",
            "Epoch 95/200\n",
            "1252/1252 [==============================] - 32s 26ms/step - loss: 0.4409 - acc: 0.7939 - val_loss: 0.4693 - val_acc: 0.7776\n",
            "Epoch 96/200\n",
            "1252/1252 [==============================] - 32s 26ms/step - loss: 0.4409 - acc: 0.7940 - val_loss: 0.4695 - val_acc: 0.7775\n",
            "Epoch 97/200\n",
            "1252/1252 [==============================] - 33s 26ms/step - loss: 0.4410 - acc: 0.7938 - val_loss: 0.4692 - val_acc: 0.7774\n",
            "Epoch 98/200\n",
            "1252/1252 [==============================] - 32s 26ms/step - loss: 0.4408 - acc: 0.7939 - val_loss: 0.4696 - val_acc: 0.7774\n",
            "Epoch 99/200\n",
            "1252/1252 [==============================] - 32s 26ms/step - loss: 0.4408 - acc: 0.7940 - val_loss: 0.4697 - val_acc: 0.7772\n",
            "Epoch 100/200\n",
            "1252/1252 [==============================] - 32s 26ms/step - loss: 0.4409 - acc: 0.7937 - val_loss: 0.4697 - val_acc: 0.7768\n",
            "Epoch 101/200\n",
            "1252/1252 [==============================] - 32s 26ms/step - loss: 0.4407 - acc: 0.7940 - val_loss: 0.4698 - val_acc: 0.7769\n",
            "Epoch 102/200\n",
            "1252/1252 [==============================] - 33s 26ms/step - loss: 0.4406 - acc: 0.7939 - val_loss: 0.4695 - val_acc: 0.7772\n",
            "Epoch 103/200\n",
            "1252/1252 [==============================] - 32s 26ms/step - loss: 0.4405 - acc: 0.7942 - val_loss: 0.4696 - val_acc: 0.7773\n",
            "Epoch 104/200\n",
            "1252/1252 [==============================] - 32s 26ms/step - loss: 0.4406 - acc: 0.7940 - val_loss: 0.4711 - val_acc: 0.7761\n",
            "Epoch 105/200\n",
            "1252/1252 [==============================] - 32s 26ms/step - loss: 0.4404 - acc: 0.7942 - val_loss: 0.4701 - val_acc: 0.7769\n",
            "Epoch 106/200\n",
            "1252/1252 [==============================] - 32s 26ms/step - loss: 0.4405 - acc: 0.7944 - val_loss: 0.4695 - val_acc: 0.7769\n",
            "Epoch 107/200\n",
            "1252/1252 [==============================] - 33s 26ms/step - loss: 0.4403 - acc: 0.7941 - val_loss: 0.4705 - val_acc: 0.7772\n",
            "Epoch 108/200\n",
            "1252/1252 [==============================] - 32s 26ms/step - loss: 0.4404 - acc: 0.7944 - val_loss: 0.4703 - val_acc: 0.7774\n",
            "Epoch 109/200\n",
            "1252/1252 [==============================] - 32s 26ms/step - loss: 0.4402 - acc: 0.7943 - val_loss: 0.4701 - val_acc: 0.7768\n",
            "Epoch 110/200\n",
            "1252/1252 [==============================] - 32s 26ms/step - loss: 0.4402 - acc: 0.7944 - val_loss: 0.4700 - val_acc: 0.7767\n",
            "Epoch 111/200\n",
            "1252/1252 [==============================] - 32s 26ms/step - loss: 0.4401 - acc: 0.7942 - val_loss: 0.4705 - val_acc: 0.7769\n",
            "Epoch 112/200\n",
            "1252/1252 [==============================] - 32s 26ms/step - loss: 0.4401 - acc: 0.7942 - val_loss: 0.4705 - val_acc: 0.7769\n",
            "Epoch 113/200\n",
            "1252/1252 [==============================] - 32s 26ms/step - loss: 0.4401 - acc: 0.7945 - val_loss: 0.4703 - val_acc: 0.7774\n",
            "Epoch 114/200\n",
            "1252/1252 [==============================] - 32s 26ms/step - loss: 0.4400 - acc: 0.7945 - val_loss: 0.4705 - val_acc: 0.7770\n",
            "Epoch 115/200\n",
            "1252/1252 [==============================] - 32s 26ms/step - loss: 0.4401 - acc: 0.7943 - val_loss: 0.4704 - val_acc: 0.7769\n",
            "Epoch 116/200\n",
            "1252/1252 [==============================] - 32s 26ms/step - loss: 0.4415 - acc: 0.7935 - val_loss: 0.4707 - val_acc: 0.7768\n",
            "Epoch 117/200\n",
            "1252/1252 [==============================] - 32s 26ms/step - loss: 0.4399 - acc: 0.7945 - val_loss: 0.4708 - val_acc: 0.7761\n",
            "Epoch 118/200\n",
            "1252/1252 [==============================] - 32s 26ms/step - loss: 0.4398 - acc: 0.7946 - val_loss: 0.4704 - val_acc: 0.7768\n",
            "Epoch 119/200\n",
            "1252/1252 [==============================] - 33s 26ms/step - loss: 0.4399 - acc: 0.7946 - val_loss: 0.4708 - val_acc: 0.7764\n",
            "Epoch 120/200\n",
            "1252/1252 [==============================] - 32s 26ms/step - loss: 0.4397 - acc: 0.7948 - val_loss: 0.4705 - val_acc: 0.7767\n",
            "Epoch 121/200\n",
            "1252/1252 [==============================] - 32s 26ms/step - loss: 0.4397 - acc: 0.7946 - val_loss: 0.4712 - val_acc: 0.7762\n",
            "Epoch 122/200\n",
            "1252/1252 [==============================] - 32s 26ms/step - loss: 0.4397 - acc: 0.7949 - val_loss: 0.4709 - val_acc: 0.7762\n",
            "Epoch 123/200\n",
            "1252/1252 [==============================] - 32s 26ms/step - loss: 0.4396 - acc: 0.7948 - val_loss: 0.4711 - val_acc: 0.7765\n",
            "Epoch 124/200\n",
            "1252/1252 [==============================] - 32s 26ms/step - loss: 0.4396 - acc: 0.7945 - val_loss: 0.4704 - val_acc: 0.7768\n",
            "Epoch 125/200\n",
            "1252/1252 [==============================] - 32s 26ms/step - loss: 0.4396 - acc: 0.7949 - val_loss: 0.4713 - val_acc: 0.7759\n",
            "Epoch 126/200\n",
            "1252/1252 [==============================] - 33s 26ms/step - loss: 0.4395 - acc: 0.7948 - val_loss: 0.4710 - val_acc: 0.7767\n",
            "Epoch 127/200\n",
            "1252/1252 [==============================] - 32s 26ms/step - loss: 0.4396 - acc: 0.7946 - val_loss: 0.4708 - val_acc: 0.7763\n",
            "Epoch 128/200\n",
            "1252/1252 [==============================] - 32s 26ms/step - loss: 0.4395 - acc: 0.7949 - val_loss: 0.4720 - val_acc: 0.7760\n",
            "Epoch 129/200\n",
            "1252/1252 [==============================] - 32s 26ms/step - loss: 0.4394 - acc: 0.7948 - val_loss: 0.4712 - val_acc: 0.7763\n",
            "Epoch 130/200\n",
            "1252/1252 [==============================] - 32s 26ms/step - loss: 0.4394 - acc: 0.7949 - val_loss: 0.4710 - val_acc: 0.7765\n",
            "Epoch 131/200\n",
            "1252/1252 [==============================] - 32s 26ms/step - loss: 0.4394 - acc: 0.7952 - val_loss: 0.4713 - val_acc: 0.7766\n",
            "Epoch 132/200\n",
            "1252/1252 [==============================] - 32s 26ms/step - loss: 0.4393 - acc: 0.7950 - val_loss: 0.4718 - val_acc: 0.7766\n",
            "Epoch 133/200\n",
            "1252/1252 [==============================] - 32s 26ms/step - loss: 0.4393 - acc: 0.7950 - val_loss: 0.4715 - val_acc: 0.7763\n",
            "Epoch 134/200\n",
            "1252/1252 [==============================] - 32s 26ms/step - loss: 0.4392 - acc: 0.7951 - val_loss: 0.4714 - val_acc: 0.7761\n",
            "Epoch 135/200\n",
            "1252/1252 [==============================] - 32s 26ms/step - loss: 0.4392 - acc: 0.7949 - val_loss: 0.4712 - val_acc: 0.7761\n",
            "Epoch 136/200\n",
            "1252/1252 [==============================] - 32s 26ms/step - loss: 0.4391 - acc: 0.7953 - val_loss: 0.4725 - val_acc: 0.7759\n",
            "Epoch 137/200\n",
            "1252/1252 [==============================] - 32s 26ms/step - loss: 0.4391 - acc: 0.7950 - val_loss: 0.4713 - val_acc: 0.7762\n",
            "Epoch 138/200\n",
            "1252/1252 [==============================] - 32s 26ms/step - loss: 0.4390 - acc: 0.7952 - val_loss: 0.4724 - val_acc: 0.7758\n",
            "Epoch 139/200\n",
            "1252/1252 [==============================] - 33s 26ms/step - loss: 0.4391 - acc: 0.7951 - val_loss: 0.4717 - val_acc: 0.7756\n",
            "Epoch 140/200\n",
            "1252/1252 [==============================] - 32s 26ms/step - loss: 0.4390 - acc: 0.7950 - val_loss: 0.4719 - val_acc: 0.7761\n",
            "Epoch 141/200\n",
            "1252/1252 [==============================] - 32s 26ms/step - loss: 0.4411 - acc: 0.7937 - val_loss: 0.4722 - val_acc: 0.7759\n",
            "Epoch 142/200\n",
            "1252/1252 [==============================] - 32s 26ms/step - loss: 0.4389 - acc: 0.7950 - val_loss: 0.4723 - val_acc: 0.7762\n",
            "Epoch 143/200\n",
            "1252/1252 [==============================] - 32s 26ms/step - loss: 0.4389 - acc: 0.7955 - val_loss: 0.4720 - val_acc: 0.7762\n",
            "Epoch 144/200\n",
            "1252/1252 [==============================] - 32s 26ms/step - loss: 0.4388 - acc: 0.7953 - val_loss: 0.4717 - val_acc: 0.7761\n",
            "Epoch 145/200\n",
            "1252/1252 [==============================] - 32s 26ms/step - loss: 0.4389 - acc: 0.7951 - val_loss: 0.4725 - val_acc: 0.7758\n",
            "Epoch 146/200\n",
            "1252/1252 [==============================] - 33s 26ms/step - loss: 0.4388 - acc: 0.7954 - val_loss: 0.4727 - val_acc: 0.7758\n",
            "Epoch 147/200\n",
            "1252/1252 [==============================] - 32s 26ms/step - loss: 0.4388 - acc: 0.7953 - val_loss: 0.4718 - val_acc: 0.7761\n",
            "Epoch 148/200\n",
            "1252/1252 [==============================] - 32s 26ms/step - loss: 0.4388 - acc: 0.7954 - val_loss: 0.4731 - val_acc: 0.7758\n",
            "Epoch 149/200\n",
            "1252/1252 [==============================] - 32s 26ms/step - loss: 0.4663 - acc: 0.7793 - val_loss: 0.4860 - val_acc: 0.7687\n",
            "Epoch 150/200\n",
            "1252/1252 [==============================] - 32s 26ms/step - loss: 0.4669 - acc: 0.7794 - val_loss: 0.4824 - val_acc: 0.7710\n",
            "Epoch 151/200\n",
            "1252/1252 [==============================] - 32s 26ms/step - loss: 0.4611 - acc: 0.7830 - val_loss: 0.4731 - val_acc: 0.7756\n",
            "Epoch 152/200\n",
            "1252/1252 [==============================] - 32s 26ms/step - loss: 0.4617 - acc: 0.7821 - val_loss: 0.4805 - val_acc: 0.7721\n",
            "Epoch 153/200\n",
            "1252/1252 [==============================] - 32s 26ms/step - loss: 0.4598 - acc: 0.7832 - val_loss: 0.4794 - val_acc: 0.7728\n",
            "Epoch 154/200\n",
            "1252/1252 [==============================] - 32s 26ms/step - loss: 0.4584 - acc: 0.7840 - val_loss: 0.4798 - val_acc: 0.7728\n",
            "Epoch 155/200\n",
            "1252/1252 [==============================] - 32s 26ms/step - loss: 0.4565 - acc: 0.7853 - val_loss: 0.4778 - val_acc: 0.7734\n",
            "Epoch 156/200\n",
            "1252/1252 [==============================] - 32s 26ms/step - loss: 0.4553 - acc: 0.7859 - val_loss: 0.4745 - val_acc: 0.7752\n",
            "Epoch 157/200\n",
            "1252/1252 [==============================] - 32s 26ms/step - loss: 0.4468 - acc: 0.7905 - val_loss: 0.4706 - val_acc: 0.7767\n",
            "Epoch 158/200\n",
            "1252/1252 [==============================] - 32s 26ms/step - loss: 0.4432 - acc: 0.7927 - val_loss: 0.4706 - val_acc: 0.7768\n",
            "Epoch 159/200\n",
            "1252/1252 [==============================] - 32s 26ms/step - loss: 0.4417 - acc: 0.7935 - val_loss: 0.4707 - val_acc: 0.7769\n",
            "Epoch 160/200\n",
            "1252/1252 [==============================] - 33s 26ms/step - loss: 0.4408 - acc: 0.7938 - val_loss: 0.4709 - val_acc: 0.7773\n",
            "Epoch 161/200\n",
            "1252/1252 [==============================] - 32s 26ms/step - loss: 0.4402 - acc: 0.7942 - val_loss: 0.4713 - val_acc: 0.7767\n",
            "Epoch 162/200\n",
            "1252/1252 [==============================] - 32s 26ms/step - loss: 0.4399 - acc: 0.7943 - val_loss: 0.4715 - val_acc: 0.7765\n",
            "Epoch 163/200\n",
            "1252/1252 [==============================] - 32s 26ms/step - loss: 0.4396 - acc: 0.7949 - val_loss: 0.4718 - val_acc: 0.7765\n",
            "Epoch 164/200\n",
            "1252/1252 [==============================] - 32s 26ms/step - loss: 0.4393 - acc: 0.7948 - val_loss: 0.4713 - val_acc: 0.7764\n",
            "Epoch 165/200\n",
            "1252/1252 [==============================] - 32s 26ms/step - loss: 0.4391 - acc: 0.7949 - val_loss: 0.4716 - val_acc: 0.7763\n",
            "Epoch 166/200\n",
            "1252/1252 [==============================] - 32s 26ms/step - loss: 0.4390 - acc: 0.7949 - val_loss: 0.4719 - val_acc: 0.7764\n",
            "Epoch 167/200\n",
            "1252/1252 [==============================] - 32s 26ms/step - loss: 0.4389 - acc: 0.7951 - val_loss: 0.4720 - val_acc: 0.7762\n",
            "Epoch 168/200\n",
            "1252/1252 [==============================] - 32s 26ms/step - loss: 0.4388 - acc: 0.7954 - val_loss: 0.4733 - val_acc: 0.7757\n",
            "Epoch 169/200\n",
            "1252/1252 [==============================] - 32s 26ms/step - loss: 0.4388 - acc: 0.7953 - val_loss: 0.4723 - val_acc: 0.7759\n",
            "Epoch 170/200\n",
            "1252/1252 [==============================] - 32s 26ms/step - loss: 0.4387 - acc: 0.7954 - val_loss: 0.4722 - val_acc: 0.7762\n",
            "Epoch 171/200\n",
            "1252/1252 [==============================] - 32s 26ms/step - loss: 0.4387 - acc: 0.7954 - val_loss: 0.4725 - val_acc: 0.7759\n",
            "Epoch 172/200\n",
            "1252/1252 [==============================] - 32s 26ms/step - loss: 0.4385 - acc: 0.7953 - val_loss: 0.4720 - val_acc: 0.7758\n",
            "Epoch 173/200\n",
            "1252/1252 [==============================] - 32s 26ms/step - loss: 0.4386 - acc: 0.7953 - val_loss: 0.4728 - val_acc: 0.7757\n",
            "Epoch 174/200\n",
            "1252/1252 [==============================] - 33s 26ms/step - loss: 0.4384 - acc: 0.7955 - val_loss: 0.4731 - val_acc: 0.7758\n",
            "Epoch 175/200\n",
            "1252/1252 [==============================] - 32s 26ms/step - loss: 0.4384 - acc: 0.7952 - val_loss: 0.4727 - val_acc: 0.7759\n",
            "Epoch 176/200\n",
            "1252/1252 [==============================] - 32s 26ms/step - loss: 0.4383 - acc: 0.7951 - val_loss: 0.4730 - val_acc: 0.7757\n",
            "Epoch 177/200\n",
            "1252/1252 [==============================] - 32s 26ms/step - loss: 0.4383 - acc: 0.7954 - val_loss: 0.4722 - val_acc: 0.7755\n",
            "Epoch 178/200\n",
            "1252/1252 [==============================] - 32s 26ms/step - loss: 0.4383 - acc: 0.7956 - val_loss: 0.4731 - val_acc: 0.7757\n",
            "Epoch 179/200\n",
            "1252/1252 [==============================] - 32s 26ms/step - loss: 0.4382 - acc: 0.7954 - val_loss: 0.4725 - val_acc: 0.7752\n",
            "Epoch 180/200\n",
            "1252/1252 [==============================] - 33s 26ms/step - loss: 0.4381 - acc: 0.7953 - val_loss: 0.4727 - val_acc: 0.7754\n",
            "Epoch 181/200\n",
            "1252/1252 [==============================] - 32s 26ms/step - loss: 0.4382 - acc: 0.7954 - val_loss: 0.4728 - val_acc: 0.7757\n",
            "Epoch 182/200\n",
            "1252/1252 [==============================] - 32s 26ms/step - loss: 0.4381 - acc: 0.7954 - val_loss: 0.4734 - val_acc: 0.7758\n",
            "Epoch 183/200\n",
            "1252/1252 [==============================] - 32s 26ms/step - loss: 0.4381 - acc: 0.7956 - val_loss: 0.4736 - val_acc: 0.7755\n",
            "Epoch 184/200\n",
            "1252/1252 [==============================] - 32s 26ms/step - loss: 0.4381 - acc: 0.7957 - val_loss: 0.4732 - val_acc: 0.7756\n",
            "Epoch 185/200\n",
            "1252/1252 [==============================] - 32s 26ms/step - loss: 0.4380 - acc: 0.7955 - val_loss: 0.4732 - val_acc: 0.7751\n",
            "Epoch 186/200\n",
            "1252/1252 [==============================] - 32s 26ms/step - loss: 0.4379 - acc: 0.7956 - val_loss: 0.4741 - val_acc: 0.7748\n",
            "Epoch 187/200\n",
            "1252/1252 [==============================] - 33s 26ms/step - loss: 0.4380 - acc: 0.7958 - val_loss: 0.4732 - val_acc: 0.7759\n",
            "Epoch 188/200\n",
            "1252/1252 [==============================] - 32s 26ms/step - loss: 0.4380 - acc: 0.7958 - val_loss: 0.4729 - val_acc: 0.7756\n",
            "Epoch 189/200\n",
            "1252/1252 [==============================] - 32s 26ms/step - loss: 0.4379 - acc: 0.7957 - val_loss: 0.4731 - val_acc: 0.7754\n",
            "Epoch 190/200\n",
            "1252/1252 [==============================] - 32s 26ms/step - loss: 0.4378 - acc: 0.7958 - val_loss: 0.4735 - val_acc: 0.7753\n",
            "Epoch 191/200\n",
            "1252/1252 [==============================] - 32s 26ms/step - loss: 0.4379 - acc: 0.7958 - val_loss: 0.4734 - val_acc: 0.7755\n",
            "Epoch 192/200\n",
            "1252/1252 [==============================] - 32s 26ms/step - loss: 0.4378 - acc: 0.7959 - val_loss: 0.4734 - val_acc: 0.7759\n",
            "Epoch 193/200\n",
            "1252/1252 [==============================] - 32s 26ms/step - loss: 0.4377 - acc: 0.7959 - val_loss: 0.4733 - val_acc: 0.7753\n",
            "Epoch 194/200\n",
            "1252/1252 [==============================] - 33s 26ms/step - loss: 0.4378 - acc: 0.7957 - val_loss: 0.4737 - val_acc: 0.7753\n",
            "Epoch 195/200\n",
            "1252/1252 [==============================] - 32s 26ms/step - loss: 0.4377 - acc: 0.7960 - val_loss: 0.4735 - val_acc: 0.7752\n",
            "Epoch 196/200\n",
            "1252/1252 [==============================] - 32s 26ms/step - loss: 0.4377 - acc: 0.7958 - val_loss: 0.4738 - val_acc: 0.7755\n",
            "Epoch 197/200\n",
            "1252/1252 [==============================] - 32s 26ms/step - loss: 0.4376 - acc: 0.7958 - val_loss: 0.4733 - val_acc: 0.7753\n",
            "Epoch 198/200\n",
            "1252/1252 [==============================] - 32s 26ms/step - loss: 0.4376 - acc: 0.7961 - val_loss: 0.4738 - val_acc: 0.7752\n",
            "Epoch 199/200\n",
            "1252/1252 [==============================] - 32s 26ms/step - loss: 0.4376 - acc: 0.7959 - val_loss: 0.4743 - val_acc: 0.7750\n",
            "Epoch 200/200\n",
            "1252/1252 [==============================] - 32s 26ms/step - loss: 0.4376 - acc: 0.7961 - val_loss: 0.4736 - val_acc: 0.7752\n"
          ]
        }
      ],
      "source": [
        "history_stem_w2v = model_stem_w2v.fit(xtrain_stem, \n",
        "                             ytrain,\n",
        "                             validation_data = (xval_stem, yval),\n",
        "                             epochs = epochs,\n",
        "                             batch_size = batch_size,\n",
        "                             verbose = 1)                  "
      ]
    },
    {
      "cell_type": "markdown",
      "id": "uUGtB_2HRfVf",
      "metadata": {
        "id": "uUGtB_2HRfVf"
      },
      "source": [
        "#### Learning Curve"
      ]
    },
    {
      "cell_type": "code",
      "execution_count": 55,
      "id": "DJJUahVTAWne",
      "metadata": {
        "id": "DJJUahVTAWne",
        "colab": {
          "base_uri": "https://localhost:8080/",
          "height": 573
        },
        "outputId": "9423b596-99e3-438e-d2ef-761195f4f5ef"
      },
      "outputs": [
        {
          "output_type": "display_data",
          "data": {
            "text/plain": [
              "<Figure size 432x288 with 1 Axes>"
            ],
            "image/png": "[encoded data removed]"
          },
          "metadata": {
            "needs_background": "light"
          }
        },
        {
          "output_type": "display_data",
          "data": {
            "text/plain": [
              "<Figure size 432x288 with 1 Axes>"
            ],
            "image/png": "[encoded data removed]"
          },
          "metadata": {
            "needs_background": "light"
          }
        }
      ],
      "source": [
        "history = history_stem_w2v\n",
        "plot_history(history, list(history.history.keys()))"
      ]
    },
    {
      "cell_type": "markdown",
      "id": "RqMpbDf9RfVf",
      "metadata": {
        "id": "RqMpbDf9RfVf"
      },
      "source": [
        "#### Evaluation du modèle"
      ]
    },
    {
      "cell_type": "code",
      "execution_count": 56,
      "id": "HsMOLeZ-AWnf",
      "metadata": {
        "id": "HsMOLeZ-AWnf",
        "colab": {
          "base_uri": "https://localhost:8080/"
        },
        "outputId": "858910f9-448c-4f68-add1-fdc98e931afa"
      },
      "outputs": [
        {
          "output_type": "stream",
          "name": "stdout",
          "text": [
            "Loss score 0.47 : \n",
            "Accuracy score: 0.78 \n"
          ]
        }
      ],
      "source": [
        "evaluate = model_stem_w2v.evaluate(xval_stem, yval, verbose=0)\n",
        "\n",
        "print('Loss score %.2f : \\nAccuracy score: %.2f '%(evaluate[0], evaluate[1]))"
      ]
    },
    {
      "cell_type": "markdown",
      "id": "0UDNxHgL_Scy",
      "metadata": {
        "id": "0UDNxHgL_Scy"
      },
      "source": [
        "### Amélioration du modèle"
      ]
    },
    {
      "cell_type": "code",
      "execution_count": 57,
      "id": "nDdFTiMu_Sc7",
      "metadata": {
        "id": "nDdFTiMu_Sc7"
      },
      "outputs": [],
      "source": [
        "embedding_matrix = embedding_matrix_stem_w2v\n",
        "len_vocab = 138807+1\n",
        "output_dim = 200\n",
        "max_len = 200\n",
        "len_padding = 5\n",
        "\n",
        "tensorflow.random.set_seed(seed)\n",
        "\n",
        "lstm_stem_w2v_optimised = Sequential()\n",
        "\n",
        "lstm_stem_w2v_optimised.add(Embedding(input_dim = len_vocab ,\n",
        "                             output_dim = output_dim,\n",
        "                             embeddings_initializer = keras.initializers.Constant(embedding_matrix),\n",
        "                             input_length = max_len + len_padding,\n",
        "                             trainable = False))\n",
        "\n",
        "lstm_stem_w2v_optimised.add(Bidirectional(LSTM(10)))\n",
        "lstm_stem_w2v_optimised.add(Dropout(0.5))\n",
        "lstm_stem_w2v_optimised.add(Flatten())\n",
        "lstm_stem_w2v_optimised.add(Dense(10, activation=\"relu\"))\n",
        "lstm_stem_w2v_optimised.add(Dropout(0.4))\n",
        "lstm_stem_w2v_optimised.add(Dense(1, activation=\"sigmoid\"))\n",
        "lstm_stem_w2v_optimised.compile(optimizer = 'adam', \n",
        "                       loss = 'binary_crossentropy', \n",
        "                       metrics = ['acc'])\n",
        "\n"
      ]
    },
    {
      "cell_type": "code",
      "execution_count": 58,
      "id": "cLu1iWri_Sc8",
      "metadata": {
        "id": "cLu1iWri_Sc8",
        "colab": {
          "base_uri": "https://localhost:8080/"
        },
        "outputId": "faa6ddd9-cf34-42c5-f4f3-8b47e7a64082"
      },
      "outputs": [
        {
          "output_type": "stream",
          "name": "stdout",
          "text": [
            "Model: \"sequential_5\"\n",
            "_________________________________________________________________\n",
            " Layer (type)                Output Shape              Param #   \n",
            "=================================================================\n",
            " embedding_5 (Embedding)     (None, 205, 200)          27761600  \n",
            "                                                                 \n",
            " bidirectional_5 (Bidirectio  (None, 20)               16880     \n",
            " nal)                                                            \n",
            "                                                                 \n",
            " dropout_5 (Dropout)         (None, 20)                0         \n",
            "                                                                 \n",
            " flatten_5 (Flatten)         (None, 20)                0         \n",
            "                                                                 \n",
            " dense_8 (Dense)             (None, 10)                210       \n",
            "                                                                 \n",
            " dropout_6 (Dropout)         (None, 10)                0         \n",
            "                                                                 \n",
            " dense_9 (Dense)             (None, 1)                 11        \n",
            "                                                                 \n",
            "=================================================================\n",
            "Total params: 27,778,701\n",
            "Trainable params: 17,101\n",
            "Non-trainable params: 27,761,600\n",
            "_________________________________________________________________\n"
          ]
        }
      ],
      "source": [
        "lstm_stem_w2v_optimised.summary()"
      ]
    },
    {
      "cell_type": "code",
      "execution_count": 59,
      "id": "wBK3K6nm_Sc8",
      "metadata": {
        "id": "wBK3K6nm_Sc8",
        "scrolled": true,
        "colab": {
          "base_uri": "https://localhost:8080/"
        },
        "outputId": "76d4c782-1a5c-49e6-8b32-938ab50f3d39"
      },
      "outputs": [
        {
          "output_type": "stream",
          "name": "stdout",
          "text": [
            "Epoch 1/200\n",
            "1252/1252 [==============================] - 37s 27ms/step - loss: 0.5586 - acc: 0.7246 - val_loss: 0.4920 - val_acc: 0.7667\n",
            "Epoch 2/200\n",
            "1252/1252 [==============================] - 33s 26ms/step - loss: 0.5214 - acc: 0.7564 - val_loss: 0.4823 - val_acc: 0.7715\n",
            "Epoch 3/200\n",
            "1252/1252 [==============================] - 32s 25ms/step - loss: 0.5145 - acc: 0.7603 - val_loss: 0.4781 - val_acc: 0.7728\n",
            "Epoch 4/200\n",
            "1252/1252 [==============================] - 32s 25ms/step - loss: 0.5106 - acc: 0.7627 - val_loss: 0.4767 - val_acc: 0.7732\n",
            "Epoch 5/200\n",
            "1252/1252 [==============================] - 32s 25ms/step - loss: 0.5083 - acc: 0.7638 - val_loss: 0.4743 - val_acc: 0.7755\n",
            "Epoch 6/200\n",
            "1252/1252 [==============================] - 32s 25ms/step - loss: 0.5064 - acc: 0.7644 - val_loss: 0.4726 - val_acc: 0.7762\n",
            "Epoch 7/200\n",
            "1252/1252 [==============================] - 32s 25ms/step - loss: 0.5052 - acc: 0.7657 - val_loss: 0.4704 - val_acc: 0.7767\n",
            "Epoch 8/200\n",
            "1252/1252 [==============================] - 31s 25ms/step - loss: 0.5038 - acc: 0.7657 - val_loss: 0.4705 - val_acc: 0.7767\n",
            "Epoch 9/200\n",
            "1252/1252 [==============================] - 31s 25ms/step - loss: 0.5026 - acc: 0.7667 - val_loss: 0.4693 - val_acc: 0.7776\n",
            "Epoch 10/200\n",
            "1252/1252 [==============================] - 31s 25ms/step - loss: 0.5016 - acc: 0.7672 - val_loss: 0.4710 - val_acc: 0.7766\n",
            "Epoch 11/200\n",
            "1252/1252 [==============================] - 31s 25ms/step - loss: 0.5017 - acc: 0.7670 - val_loss: 0.4691 - val_acc: 0.7777\n",
            "Epoch 12/200\n",
            "1252/1252 [==============================] - 31s 25ms/step - loss: 0.5000 - acc: 0.7685 - val_loss: 0.4690 - val_acc: 0.7767\n",
            "Epoch 13/200\n",
            "1252/1252 [==============================] - 32s 25ms/step - loss: 0.4996 - acc: 0.7683 - val_loss: 0.4694 - val_acc: 0.7780\n",
            "Epoch 14/200\n",
            "1252/1252 [==============================] - 31s 25ms/step - loss: 0.4991 - acc: 0.7690 - val_loss: 0.4697 - val_acc: 0.7779\n",
            "Epoch 15/200\n",
            "1252/1252 [==============================] - 31s 25ms/step - loss: 0.4995 - acc: 0.7685 - val_loss: 0.4695 - val_acc: 0.7771\n",
            "Epoch 16/200\n",
            "1252/1252 [==============================] - 31s 25ms/step - loss: 0.4985 - acc: 0.7695 - val_loss: 0.4678 - val_acc: 0.7788\n",
            "Epoch 17/200\n",
            "1252/1252 [==============================] - 31s 25ms/step - loss: 0.4984 - acc: 0.7691 - val_loss: 0.4716 - val_acc: 0.7776\n",
            "Epoch 18/200\n",
            "1252/1252 [==============================] - 31s 25ms/step - loss: 0.4980 - acc: 0.7698 - val_loss: 0.4677 - val_acc: 0.7784\n",
            "Epoch 19/200\n",
            "1252/1252 [==============================] - 31s 25ms/step - loss: 0.4976 - acc: 0.7699 - val_loss: 0.4694 - val_acc: 0.7784\n",
            "Epoch 20/200\n",
            "1252/1252 [==============================] - 31s 25ms/step - loss: 0.4974 - acc: 0.7699 - val_loss: 0.4677 - val_acc: 0.7786\n",
            "Epoch 21/200\n",
            "1252/1252 [==============================] - 32s 25ms/step - loss: 0.4976 - acc: 0.7699 - val_loss: 0.4669 - val_acc: 0.7792\n",
            "Epoch 22/200\n",
            "1252/1252 [==============================] - 31s 25ms/step - loss: 0.4969 - acc: 0.7705 - val_loss: 0.4690 - val_acc: 0.7779\n",
            "Epoch 23/200\n",
            "1252/1252 [==============================] - 31s 25ms/step - loss: 0.4971 - acc: 0.7710 - val_loss: 0.4681 - val_acc: 0.7788\n",
            "Epoch 24/200\n",
            "1252/1252 [==============================] - 31s 25ms/step - loss: 0.4964 - acc: 0.7705 - val_loss: 0.4677 - val_acc: 0.7790\n",
            "Epoch 25/200\n",
            "1252/1252 [==============================] - 31s 25ms/step - loss: 0.4960 - acc: 0.7708 - val_loss: 0.4686 - val_acc: 0.7787\n",
            "Epoch 26/200\n",
            "1252/1252 [==============================] - 31s 25ms/step - loss: 0.4963 - acc: 0.7710 - val_loss: 0.4669 - val_acc: 0.7783\n",
            "Epoch 27/200\n",
            "1252/1252 [==============================] - 31s 25ms/step - loss: 0.4958 - acc: 0.7707 - val_loss: 0.4675 - val_acc: 0.7786\n",
            "Epoch 28/200\n",
            "1252/1252 [==============================] - 32s 25ms/step - loss: 0.4953 - acc: 0.7708 - val_loss: 0.4682 - val_acc: 0.7781\n",
            "Epoch 29/200\n",
            "1252/1252 [==============================] - 31s 25ms/step - loss: 0.4959 - acc: 0.7709 - val_loss: 0.4680 - val_acc: 0.7788\n",
            "Epoch 30/200\n",
            "1252/1252 [==============================] - 31s 25ms/step - loss: 0.4951 - acc: 0.7709 - val_loss: 0.4682 - val_acc: 0.7778\n",
            "Epoch 31/200\n",
            "1252/1252 [==============================] - 31s 25ms/step - loss: 0.4953 - acc: 0.7708 - val_loss: 0.4668 - val_acc: 0.7793\n",
            "Epoch 32/200\n",
            "1252/1252 [==============================] - 31s 25ms/step - loss: 0.4950 - acc: 0.7715 - val_loss: 0.4667 - val_acc: 0.7789\n",
            "Epoch 33/200\n",
            "1252/1252 [==============================] - 31s 25ms/step - loss: 0.4948 - acc: 0.7718 - val_loss: 0.4666 - val_acc: 0.7792\n",
            "Epoch 34/200\n",
            "1252/1252 [==============================] - 31s 25ms/step - loss: 0.4947 - acc: 0.7720 - val_loss: 0.4665 - val_acc: 0.7790\n",
            "Epoch 35/200\n",
            "1252/1252 [==============================] - 31s 25ms/step - loss: 0.4943 - acc: 0.7716 - val_loss: 0.4672 - val_acc: 0.7789\n",
            "Epoch 36/200\n",
            "1252/1252 [==============================] - 32s 25ms/step - loss: 0.4941 - acc: 0.7715 - val_loss: 0.4687 - val_acc: 0.7789\n",
            "Epoch 37/200\n",
            "1252/1252 [==============================] - 32s 25ms/step - loss: 0.4942 - acc: 0.7718 - val_loss: 0.4672 - val_acc: 0.7788\n",
            "Epoch 38/200\n",
            "1252/1252 [==============================] - 31s 25ms/step - loss: 0.4942 - acc: 0.7719 - val_loss: 0.4676 - val_acc: 0.7791\n",
            "Epoch 39/200\n",
            "1252/1252 [==============================] - 32s 25ms/step - loss: 0.4940 - acc: 0.7716 - val_loss: 0.4680 - val_acc: 0.7790\n",
            "Epoch 40/200\n",
            "1252/1252 [==============================] - 31s 25ms/step - loss: 0.4948 - acc: 0.7720 - val_loss: 0.4675 - val_acc: 0.7792\n",
            "Epoch 41/200\n",
            "1252/1252 [==============================] - 32s 25ms/step - loss: 0.4941 - acc: 0.7717 - val_loss: 0.4673 - val_acc: 0.7790\n",
            "Epoch 42/200\n",
            "1252/1252 [==============================] - 32s 25ms/step - loss: 0.4937 - acc: 0.7725 - val_loss: 0.4683 - val_acc: 0.7789\n",
            "Epoch 43/200\n",
            "1252/1252 [==============================] - 32s 26ms/step - loss: 0.4932 - acc: 0.7726 - val_loss: 0.4686 - val_acc: 0.7772\n",
            "Epoch 44/200\n",
            "1252/1252 [==============================] - 31s 25ms/step - loss: 0.4936 - acc: 0.7719 - val_loss: 0.4681 - val_acc: 0.7789\n",
            "Epoch 45/200\n",
            "1252/1252 [==============================] - 31s 25ms/step - loss: 0.4934 - acc: 0.7729 - val_loss: 0.4675 - val_acc: 0.7783\n",
            "Epoch 46/200\n",
            "1252/1252 [==============================] - 32s 25ms/step - loss: 0.4935 - acc: 0.7724 - val_loss: 0.4669 - val_acc: 0.7788\n",
            "Epoch 47/200\n",
            "1252/1252 [==============================] - 32s 25ms/step - loss: 0.4936 - acc: 0.7722 - val_loss: 0.4672 - val_acc: 0.7790\n",
            "Epoch 48/200\n",
            "1252/1252 [==============================] - 32s 25ms/step - loss: 0.4937 - acc: 0.7723 - val_loss: 0.4674 - val_acc: 0.7786\n",
            "Epoch 49/200\n",
            "1252/1252 [==============================] - 32s 25ms/step - loss: 0.4933 - acc: 0.7723 - val_loss: 0.4676 - val_acc: 0.7782\n",
            "Epoch 50/200\n",
            "1252/1252 [==============================] - 32s 25ms/step - loss: 0.4936 - acc: 0.7727 - val_loss: 0.4676 - val_acc: 0.7794\n",
            "Epoch 51/200\n",
            "1252/1252 [==============================] - 32s 26ms/step - loss: 0.4934 - acc: 0.7727 - val_loss: 0.4684 - val_acc: 0.7790\n",
            "Epoch 52/200\n",
            "1252/1252 [==============================] - 32s 25ms/step - loss: 0.4927 - acc: 0.7730 - val_loss: 0.4669 - val_acc: 0.7786\n",
            "Epoch 53/200\n",
            "1252/1252 [==============================] - 32s 25ms/step - loss: 0.4929 - acc: 0.7725 - val_loss: 0.4673 - val_acc: 0.7786\n",
            "Epoch 54/200\n",
            "1252/1252 [==============================] - 32s 25ms/step - loss: 0.4922 - acc: 0.7735 - val_loss: 0.4675 - val_acc: 0.7784\n",
            "Epoch 55/200\n",
            "1252/1252 [==============================] - 32s 25ms/step - loss: 0.4930 - acc: 0.7727 - val_loss: 0.4686 - val_acc: 0.7784\n",
            "Epoch 56/200\n",
            "1252/1252 [==============================] - 32s 25ms/step - loss: 0.4926 - acc: 0.7731 - val_loss: 0.4680 - val_acc: 0.7778\n",
            "Epoch 57/200\n",
            "1252/1252 [==============================] - 32s 25ms/step - loss: 0.4924 - acc: 0.7729 - val_loss: 0.4683 - val_acc: 0.7785\n",
            "Epoch 58/200\n",
            "1252/1252 [==============================] - 32s 25ms/step - loss: 0.4927 - acc: 0.7736 - val_loss: 0.4676 - val_acc: 0.7784\n",
            "Epoch 59/200\n",
            "1252/1252 [==============================] - 31s 25ms/step - loss: 0.4923 - acc: 0.7732 - val_loss: 0.4674 - val_acc: 0.7790\n",
            "Epoch 60/200\n",
            "1252/1252 [==============================] - 32s 25ms/step - loss: 0.4926 - acc: 0.7730 - val_loss: 0.4673 - val_acc: 0.7785\n",
            "Epoch 61/200\n",
            "1252/1252 [==============================] - 32s 25ms/step - loss: 0.4918 - acc: 0.7734 - val_loss: 0.4673 - val_acc: 0.7791\n",
            "Epoch 62/200\n",
            "1252/1252 [==============================] - 32s 25ms/step - loss: 0.4923 - acc: 0.7730 - val_loss: 0.4667 - val_acc: 0.7787\n",
            "Epoch 63/200\n",
            "1252/1252 [==============================] - 31s 25ms/step - loss: 0.4919 - acc: 0.7733 - val_loss: 0.4671 - val_acc: 0.7787\n",
            "Epoch 64/200\n",
            "1252/1252 [==============================] - 31s 25ms/step - loss: 0.4920 - acc: 0.7734 - val_loss: 0.4677 - val_acc: 0.7789\n",
            "Epoch 65/200\n",
            "1252/1252 [==============================] - 31s 25ms/step - loss: 0.4925 - acc: 0.7734 - val_loss: 0.4671 - val_acc: 0.7791\n",
            "Epoch 66/200\n",
            "1252/1252 [==============================] - 32s 25ms/step - loss: 0.4914 - acc: 0.7739 - val_loss: 0.4677 - val_acc: 0.7783\n",
            "Epoch 67/200\n",
            "1252/1252 [==============================] - 31s 25ms/step - loss: 0.4921 - acc: 0.7730 - val_loss: 0.4679 - val_acc: 0.7780\n",
            "Epoch 68/200\n",
            "1252/1252 [==============================] - 32s 25ms/step - loss: 0.4917 - acc: 0.7736 - val_loss: 0.4675 - val_acc: 0.7787\n",
            "Epoch 69/200\n",
            "1252/1252 [==============================] - 31s 25ms/step - loss: 0.4915 - acc: 0.7739 - val_loss: 0.4679 - val_acc: 0.7782\n",
            "Epoch 70/200\n",
            "1252/1252 [==============================] - 31s 25ms/step - loss: 0.4918 - acc: 0.7740 - val_loss: 0.4673 - val_acc: 0.7786\n",
            "Epoch 71/200\n",
            "1252/1252 [==============================] - 31s 25ms/step - loss: 0.4917 - acc: 0.7735 - val_loss: 0.4677 - val_acc: 0.7783\n",
            "Epoch 72/200\n",
            "1252/1252 [==============================] - 31s 25ms/step - loss: 0.4918 - acc: 0.7734 - val_loss: 0.4685 - val_acc: 0.7785\n",
            "Epoch 73/200\n",
            "1252/1252 [==============================] - 31s 25ms/step - loss: 0.4913 - acc: 0.7739 - val_loss: 0.4676 - val_acc: 0.7786\n",
            "Epoch 74/200\n",
            "1252/1252 [==============================] - 32s 25ms/step - loss: 0.4911 - acc: 0.7734 - val_loss: 0.4687 - val_acc: 0.7780\n",
            "Epoch 75/200\n",
            "1252/1252 [==============================] - 31s 25ms/step - loss: 0.4913 - acc: 0.7738 - val_loss: 0.4684 - val_acc: 0.7781\n",
            "Epoch 76/200\n",
            "1252/1252 [==============================] - 31s 25ms/step - loss: 0.4913 - acc: 0.7732 - val_loss: 0.4678 - val_acc: 0.7787\n",
            "Epoch 77/200\n",
            "1252/1252 [==============================] - 31s 25ms/step - loss: 0.4911 - acc: 0.7743 - val_loss: 0.4682 - val_acc: 0.7781\n",
            "Epoch 78/200\n",
            "1252/1252 [==============================] - 31s 25ms/step - loss: 0.4920 - acc: 0.7738 - val_loss: 0.4682 - val_acc: 0.7785\n",
            "Epoch 79/200\n",
            "1252/1252 [==============================] - 31s 25ms/step - loss: 0.4907 - acc: 0.7743 - val_loss: 0.4678 - val_acc: 0.7786\n",
            "Epoch 80/200\n",
            "1252/1252 [==============================] - 31s 25ms/step - loss: 0.4913 - acc: 0.7733 - val_loss: 0.4681 - val_acc: 0.7782\n",
            "Epoch 81/200\n",
            "1252/1252 [==============================] - 32s 25ms/step - loss: 0.4915 - acc: 0.7737 - val_loss: 0.4686 - val_acc: 0.7779\n",
            "Epoch 82/200\n",
            "1252/1252 [==============================] - 31s 25ms/step - loss: 0.4915 - acc: 0.7738 - val_loss: 0.4684 - val_acc: 0.7784\n",
            "Epoch 83/200\n",
            "1252/1252 [==============================] - 32s 25ms/step - loss: 0.4910 - acc: 0.7740 - val_loss: 0.4691 - val_acc: 0.7779\n",
            "Epoch 84/200\n",
            "1252/1252 [==============================] - 31s 25ms/step - loss: 0.4914 - acc: 0.7742 - val_loss: 0.4688 - val_acc: 0.7781\n",
            "Epoch 85/200\n",
            "1252/1252 [==============================] - 31s 25ms/step - loss: 0.4907 - acc: 0.7741 - val_loss: 0.4683 - val_acc: 0.7787\n",
            "Epoch 86/200\n",
            "1252/1252 [==============================] - 31s 25ms/step - loss: 0.4911 - acc: 0.7734 - val_loss: 0.4678 - val_acc: 0.7787\n",
            "Epoch 87/200\n",
            "1252/1252 [==============================] - 31s 25ms/step - loss: 0.4912 - acc: 0.7733 - val_loss: 0.4685 - val_acc: 0.7783\n",
            "Epoch 88/200\n",
            "1252/1252 [==============================] - 31s 25ms/step - loss: 0.4910 - acc: 0.7742 - val_loss: 0.4680 - val_acc: 0.7784\n",
            "Epoch 89/200\n",
            "1252/1252 [==============================] - 32s 25ms/step - loss: 0.4908 - acc: 0.7740 - val_loss: 0.4683 - val_acc: 0.7779\n",
            "Epoch 90/200\n",
            "1252/1252 [==============================] - 32s 25ms/step - loss: 0.4906 - acc: 0.7743 - val_loss: 0.4687 - val_acc: 0.7781\n",
            "Epoch 91/200\n",
            "1252/1252 [==============================] - 31s 25ms/step - loss: 0.4906 - acc: 0.7742 - val_loss: 0.4682 - val_acc: 0.7783\n",
            "Epoch 92/200\n",
            "1252/1252 [==============================] - 31s 25ms/step - loss: 0.4909 - acc: 0.7738 - val_loss: 0.4681 - val_acc: 0.7781\n",
            "Epoch 93/200\n",
            "1252/1252 [==============================] - 31s 25ms/step - loss: 0.4906 - acc: 0.7733 - val_loss: 0.4689 - val_acc: 0.7783\n",
            "Epoch 94/200\n",
            "1252/1252 [==============================] - 31s 25ms/step - loss: 0.4902 - acc: 0.7746 - val_loss: 0.4695 - val_acc: 0.7774\n",
            "Epoch 95/200\n",
            "1252/1252 [==============================] - 31s 25ms/step - loss: 0.4908 - acc: 0.7743 - val_loss: 0.4689 - val_acc: 0.7782\n",
            "Epoch 96/200\n",
            "1252/1252 [==============================] - 32s 25ms/step - loss: 0.4909 - acc: 0.7743 - val_loss: 0.4687 - val_acc: 0.7783\n",
            "Epoch 97/200\n",
            "1252/1252 [==============================] - 31s 25ms/step - loss: 0.4910 - acc: 0.7740 - val_loss: 0.4688 - val_acc: 0.7783\n",
            "Epoch 98/200\n",
            "1252/1252 [==============================] - 31s 25ms/step - loss: 0.4903 - acc: 0.7744 - val_loss: 0.4683 - val_acc: 0.7780\n",
            "Epoch 99/200\n",
            "1252/1252 [==============================] - 31s 25ms/step - loss: 0.4906 - acc: 0.7740 - val_loss: 0.4690 - val_acc: 0.7777\n",
            "Epoch 100/200\n",
            "1252/1252 [==============================] - 31s 25ms/step - loss: 0.4909 - acc: 0.7746 - val_loss: 0.4692 - val_acc: 0.7782\n",
            "Epoch 101/200\n",
            "1252/1252 [==============================] - 31s 25ms/step - loss: 0.4908 - acc: 0.7738 - val_loss: 0.4696 - val_acc: 0.7780\n",
            "Epoch 102/200\n",
            "1252/1252 [==============================] - 31s 25ms/step - loss: 0.4901 - acc: 0.7743 - val_loss: 0.4694 - val_acc: 0.7776\n",
            "Epoch 103/200\n",
            "1252/1252 [==============================] - 31s 25ms/step - loss: 0.4907 - acc: 0.7740 - val_loss: 0.4680 - val_acc: 0.7782\n",
            "Epoch 104/200\n",
            "1252/1252 [==============================] - 32s 25ms/step - loss: 0.4906 - acc: 0.7743 - val_loss: 0.4696 - val_acc: 0.7775\n",
            "Epoch 105/200\n",
            "1252/1252 [==============================] - 31s 25ms/step - loss: 0.4902 - acc: 0.7746 - val_loss: 0.4693 - val_acc: 0.7775\n",
            "Epoch 106/200\n",
            "1252/1252 [==============================] - 31s 25ms/step - loss: 0.4906 - acc: 0.7744 - val_loss: 0.4698 - val_acc: 0.7777\n",
            "Epoch 107/200\n",
            "1252/1252 [==============================] - 31s 25ms/step - loss: 0.4904 - acc: 0.7746 - val_loss: 0.4684 - val_acc: 0.7781\n",
            "Epoch 108/200\n",
            "1252/1252 [==============================] - 32s 25ms/step - loss: 0.4904 - acc: 0.7740 - val_loss: 0.4687 - val_acc: 0.7785\n",
            "Epoch 109/200\n",
            "1252/1252 [==============================] - 31s 25ms/step - loss: 0.4897 - acc: 0.7747 - val_loss: 0.4695 - val_acc: 0.7779\n",
            "Epoch 110/200\n",
            "1252/1252 [==============================] - 31s 25ms/step - loss: 0.4902 - acc: 0.7746 - val_loss: 0.4692 - val_acc: 0.7781\n",
            "Epoch 111/200\n",
            "1252/1252 [==============================] - 31s 25ms/step - loss: 0.4901 - acc: 0.7745 - val_loss: 0.4686 - val_acc: 0.7778\n",
            "Epoch 112/200\n",
            "1252/1252 [==============================] - 32s 25ms/step - loss: 0.4899 - acc: 0.7743 - val_loss: 0.4683 - val_acc: 0.7785\n",
            "Epoch 113/200\n",
            "1252/1252 [==============================] - 31s 25ms/step - loss: 0.4901 - acc: 0.7747 - val_loss: 0.4687 - val_acc: 0.7780\n",
            "Epoch 114/200\n",
            "1252/1252 [==============================] - 31s 25ms/step - loss: 0.4895 - acc: 0.7744 - val_loss: 0.4687 - val_acc: 0.7783\n",
            "Epoch 115/200\n",
            "1252/1252 [==============================] - 32s 25ms/step - loss: 0.4902 - acc: 0.7745 - val_loss: 0.4688 - val_acc: 0.7774\n",
            "Epoch 116/200\n",
            "1252/1252 [==============================] - 31s 25ms/step - loss: 0.4899 - acc: 0.7745 - val_loss: 0.4701 - val_acc: 0.7777\n",
            "Epoch 117/200\n",
            "1252/1252 [==============================] - 32s 25ms/step - loss: 0.4890 - acc: 0.7748 - val_loss: 0.4692 - val_acc: 0.7777\n",
            "Epoch 118/200\n",
            "1252/1252 [==============================] - 31s 25ms/step - loss: 0.4897 - acc: 0.7749 - val_loss: 0.4696 - val_acc: 0.7782\n",
            "Epoch 119/200\n",
            "1252/1252 [==============================] - 32s 25ms/step - loss: 0.4907 - acc: 0.7743 - val_loss: 0.4685 - val_acc: 0.7781\n",
            "Epoch 120/200\n",
            "1252/1252 [==============================] - 32s 25ms/step - loss: 0.4905 - acc: 0.7741 - val_loss: 0.4691 - val_acc: 0.7776\n",
            "Epoch 121/200\n",
            "1252/1252 [==============================] - 32s 25ms/step - loss: 0.4898 - acc: 0.7749 - val_loss: 0.4686 - val_acc: 0.7783\n",
            "Epoch 122/200\n",
            "1252/1252 [==============================] - 32s 25ms/step - loss: 0.4897 - acc: 0.7746 - val_loss: 0.4692 - val_acc: 0.7782\n",
            "Epoch 123/200\n",
            "1252/1252 [==============================] - 31s 25ms/step - loss: 0.4897 - acc: 0.7747 - val_loss: 0.4696 - val_acc: 0.7780\n",
            "Epoch 124/200\n",
            "1252/1252 [==============================] - 31s 25ms/step - loss: 0.4900 - acc: 0.7744 - val_loss: 0.4687 - val_acc: 0.7786\n",
            "Epoch 125/200\n",
            "1252/1252 [==============================] - 32s 25ms/step - loss: 0.4901 - acc: 0.7746 - val_loss: 0.4705 - val_acc: 0.7778\n",
            "Epoch 126/200\n",
            "1252/1252 [==============================] - 32s 25ms/step - loss: 0.4894 - acc: 0.7754 - val_loss: 0.4687 - val_acc: 0.7779\n",
            "Epoch 127/200\n",
            "1252/1252 [==============================] - 31s 25ms/step - loss: 0.4901 - acc: 0.7744 - val_loss: 0.4692 - val_acc: 0.7780\n",
            "Epoch 128/200\n",
            "1252/1252 [==============================] - 31s 25ms/step - loss: 0.4893 - acc: 0.7751 - val_loss: 0.4694 - val_acc: 0.7780\n",
            "Epoch 129/200\n",
            "1252/1252 [==============================] - 31s 25ms/step - loss: 0.4898 - acc: 0.7749 - val_loss: 0.4693 - val_acc: 0.7780\n",
            "Epoch 130/200\n",
            "1252/1252 [==============================] - 31s 25ms/step - loss: 0.4900 - acc: 0.7745 - val_loss: 0.4689 - val_acc: 0.7778\n",
            "Epoch 131/200\n",
            "1252/1252 [==============================] - 31s 25ms/step - loss: 0.4898 - acc: 0.7748 - val_loss: 0.4690 - val_acc: 0.7776\n",
            "Epoch 132/200\n",
            "1252/1252 [==============================] - 31s 25ms/step - loss: 0.4893 - acc: 0.7754 - val_loss: 0.4689 - val_acc: 0.7784\n",
            "Epoch 133/200\n",
            "1252/1252 [==============================] - 31s 25ms/step - loss: 0.4896 - acc: 0.7750 - val_loss: 0.4688 - val_acc: 0.7781\n",
            "Epoch 134/200\n",
            "1252/1252 [==============================] - 32s 25ms/step - loss: 0.4897 - acc: 0.7750 - val_loss: 0.4689 - val_acc: 0.7777\n",
            "Epoch 135/200\n",
            "1252/1252 [==============================] - 31s 25ms/step - loss: 0.4891 - acc: 0.7750 - val_loss: 0.4697 - val_acc: 0.7771\n",
            "Epoch 136/200\n",
            "1252/1252 [==============================] - 31s 25ms/step - loss: 0.4892 - acc: 0.7747 - val_loss: 0.4699 - val_acc: 0.7771\n",
            "Epoch 137/200\n",
            "1252/1252 [==============================] - 31s 25ms/step - loss: 0.4888 - acc: 0.7750 - val_loss: 0.4696 - val_acc: 0.7774\n",
            "Epoch 138/200\n",
            "1252/1252 [==============================] - 31s 25ms/step - loss: 0.4896 - acc: 0.7746 - val_loss: 0.4694 - val_acc: 0.7781\n",
            "Epoch 139/200\n",
            "1252/1252 [==============================] - 32s 25ms/step - loss: 0.4894 - acc: 0.7755 - val_loss: 0.4697 - val_acc: 0.7784\n",
            "Epoch 140/200\n",
            "1252/1252 [==============================] - 31s 25ms/step - loss: 0.4898 - acc: 0.7746 - val_loss: 0.4702 - val_acc: 0.7778\n",
            "Epoch 141/200\n",
            "1252/1252 [==============================] - 32s 25ms/step - loss: 0.4895 - acc: 0.7751 - val_loss: 0.4690 - val_acc: 0.7780\n",
            "Epoch 142/200\n",
            "1252/1252 [==============================] - 32s 25ms/step - loss: 0.4893 - acc: 0.7749 - val_loss: 0.4693 - val_acc: 0.7778\n",
            "Epoch 143/200\n",
            "1252/1252 [==============================] - 31s 25ms/step - loss: 0.4892 - acc: 0.7745 - val_loss: 0.4694 - val_acc: 0.7777\n",
            "Epoch 144/200\n",
            "1252/1252 [==============================] - 31s 25ms/step - loss: 0.4893 - acc: 0.7748 - val_loss: 0.4696 - val_acc: 0.7779\n",
            "Epoch 145/200\n",
            "1252/1252 [==============================] - 31s 25ms/step - loss: 0.4895 - acc: 0.7749 - val_loss: 0.4693 - val_acc: 0.7781\n",
            "Epoch 146/200\n",
            "1252/1252 [==============================] - 31s 25ms/step - loss: 0.4896 - acc: 0.7747 - val_loss: 0.4696 - val_acc: 0.7779\n",
            "Epoch 147/200\n",
            "1252/1252 [==============================] - 31s 25ms/step - loss: 0.4893 - acc: 0.7746 - val_loss: 0.4698 - val_acc: 0.7780\n",
            "Epoch 148/200\n",
            "1252/1252 [==============================] - 31s 25ms/step - loss: 0.4892 - acc: 0.7753 - val_loss: 0.4703 - val_acc: 0.7776\n",
            "Epoch 149/200\n",
            "1252/1252 [==============================] - 32s 25ms/step - loss: 0.4896 - acc: 0.7746 - val_loss: 0.4703 - val_acc: 0.7772\n",
            "Epoch 150/200\n",
            "1252/1252 [==============================] - 31s 25ms/step - loss: 0.4894 - acc: 0.7754 - val_loss: 0.4691 - val_acc: 0.7780\n",
            "Epoch 151/200\n",
            "1252/1252 [==============================] - 31s 25ms/step - loss: 0.4886 - acc: 0.7748 - val_loss: 0.4706 - val_acc: 0.7776\n",
            "Epoch 152/200\n",
            "1252/1252 [==============================] - 31s 25ms/step - loss: 0.4888 - acc: 0.7747 - val_loss: 0.4711 - val_acc: 0.7773\n",
            "Epoch 153/200\n",
            "1252/1252 [==============================] - 31s 25ms/step - loss: 0.4884 - acc: 0.7752 - val_loss: 0.4697 - val_acc: 0.7781\n",
            "Epoch 154/200\n",
            "1252/1252 [==============================] - 32s 25ms/step - loss: 0.4896 - acc: 0.7756 - val_loss: 0.4705 - val_acc: 0.7771\n",
            "Epoch 155/200\n",
            "1252/1252 [==============================] - 32s 25ms/step - loss: 0.4896 - acc: 0.7747 - val_loss: 0.4697 - val_acc: 0.7776\n",
            "Epoch 156/200\n",
            "1252/1252 [==============================] - 31s 25ms/step - loss: 0.4895 - acc: 0.7753 - val_loss: 0.4702 - val_acc: 0.7767\n",
            "Epoch 157/200\n",
            "1252/1252 [==============================] - 32s 25ms/step - loss: 0.4894 - acc: 0.7749 - val_loss: 0.4699 - val_acc: 0.7776\n",
            "Epoch 158/200\n",
            "1252/1252 [==============================] - 32s 25ms/step - loss: 0.4894 - acc: 0.7754 - val_loss: 0.4700 - val_acc: 0.7774\n",
            "Epoch 159/200\n",
            "1252/1252 [==============================] - 31s 25ms/step - loss: 0.4888 - acc: 0.7752 - val_loss: 0.4698 - val_acc: 0.7774\n",
            "Epoch 160/200\n",
            "1252/1252 [==============================] - 31s 25ms/step - loss: 0.4891 - acc: 0.7750 - val_loss: 0.4697 - val_acc: 0.7777\n",
            "Epoch 161/200\n",
            "1252/1252 [==============================] - 31s 25ms/step - loss: 0.4888 - acc: 0.7752 - val_loss: 0.4708 - val_acc: 0.7770\n",
            "Epoch 162/200\n",
            "1252/1252 [==============================] - 31s 25ms/step - loss: 0.4894 - acc: 0.7748 - val_loss: 0.4706 - val_acc: 0.7772\n",
            "Epoch 163/200\n",
            "1252/1252 [==============================] - 31s 25ms/step - loss: 0.4888 - acc: 0.7751 - val_loss: 0.4701 - val_acc: 0.7779\n",
            "Epoch 164/200\n",
            "1252/1252 [==============================] - 31s 25ms/step - loss: 0.4892 - acc: 0.7751 - val_loss: 0.4698 - val_acc: 0.7776\n",
            "Epoch 165/200\n",
            "1252/1252 [==============================] - 32s 25ms/step - loss: 0.4892 - acc: 0.7751 - val_loss: 0.4711 - val_acc: 0.7782\n",
            "Epoch 166/200\n",
            "1252/1252 [==============================] - 31s 25ms/step - loss: 0.4883 - acc: 0.7757 - val_loss: 0.4695 - val_acc: 0.7775\n",
            "Epoch 167/200\n",
            "1252/1252 [==============================] - 31s 25ms/step - loss: 0.4883 - acc: 0.7757 - val_loss: 0.4698 - val_acc: 0.7774\n",
            "Epoch 168/200\n",
            "1252/1252 [==============================] - 31s 25ms/step - loss: 0.4888 - acc: 0.7758 - val_loss: 0.4701 - val_acc: 0.7767\n",
            "Epoch 169/200\n",
            "1252/1252 [==============================] - 31s 25ms/step - loss: 0.4884 - acc: 0.7755 - val_loss: 0.4701 - val_acc: 0.7774\n",
            "Epoch 170/200\n",
            "1252/1252 [==============================] - 31s 25ms/step - loss: 0.4888 - acc: 0.7749 - val_loss: 0.4700 - val_acc: 0.7774\n",
            "Epoch 171/200\n",
            "1252/1252 [==============================] - 31s 25ms/step - loss: 0.4885 - acc: 0.7750 - val_loss: 0.4699 - val_acc: 0.7771\n",
            "Epoch 172/200\n",
            "1252/1252 [==============================] - 32s 25ms/step - loss: 0.4890 - acc: 0.7754 - val_loss: 0.4699 - val_acc: 0.7775\n",
            "Epoch 173/200\n",
            "1252/1252 [==============================] - 31s 25ms/step - loss: 0.4886 - acc: 0.7755 - val_loss: 0.4701 - val_acc: 0.7771\n",
            "Epoch 174/200\n",
            "1252/1252 [==============================] - 32s 25ms/step - loss: 0.4887 - acc: 0.7754 - val_loss: 0.4705 - val_acc: 0.7772\n",
            "Epoch 175/200\n",
            "1252/1252 [==============================] - 32s 25ms/step - loss: 0.4888 - acc: 0.7750 - val_loss: 0.4705 - val_acc: 0.7770\n",
            "Epoch 176/200\n",
            "1252/1252 [==============================] - 31s 25ms/step - loss: 0.4882 - acc: 0.7752 - val_loss: 0.4709 - val_acc: 0.7768\n",
            "Epoch 177/200\n",
            "1252/1252 [==============================] - 31s 25ms/step - loss: 0.4888 - acc: 0.7755 - val_loss: 0.4707 - val_acc: 0.7773\n",
            "Epoch 178/200\n",
            "1252/1252 [==============================] - 31s 25ms/step - loss: 0.4888 - acc: 0.7751 - val_loss: 0.4706 - val_acc: 0.7772\n",
            "Epoch 179/200\n",
            "1252/1252 [==============================] - 31s 25ms/step - loss: 0.4884 - acc: 0.7759 - val_loss: 0.4702 - val_acc: 0.7774\n",
            "Epoch 180/200\n",
            "1252/1252 [==============================] - 32s 25ms/step - loss: 0.4890 - acc: 0.7754 - val_loss: 0.4702 - val_acc: 0.7776\n",
            "Epoch 181/200\n",
            "1252/1252 [==============================] - 31s 25ms/step - loss: 0.4887 - acc: 0.7751 - val_loss: 0.4701 - val_acc: 0.7773\n",
            "Epoch 182/200\n",
            "1252/1252 [==============================] - 31s 25ms/step - loss: 0.4887 - acc: 0.7750 - val_loss: 0.4711 - val_acc: 0.7767\n",
            "Epoch 183/200\n",
            "1252/1252 [==============================] - 31s 25ms/step - loss: 0.4885 - acc: 0.7756 - val_loss: 0.4707 - val_acc: 0.7770\n",
            "Epoch 184/200\n",
            "1252/1252 [==============================] - 31s 25ms/step - loss: 0.4885 - acc: 0.7752 - val_loss: 0.4714 - val_acc: 0.7770\n",
            "Epoch 185/200\n",
            "1252/1252 [==============================] - 31s 25ms/step - loss: 0.4890 - acc: 0.7751 - val_loss: 0.4712 - val_acc: 0.7773\n",
            "Epoch 186/200\n",
            "1252/1252 [==============================] - 31s 25ms/step - loss: 0.4886 - acc: 0.7755 - val_loss: 0.4708 - val_acc: 0.7769\n",
            "Epoch 187/200\n",
            "1252/1252 [==============================] - 31s 25ms/step - loss: 0.4890 - acc: 0.7752 - val_loss: 0.4700 - val_acc: 0.7772\n",
            "Epoch 188/200\n",
            "1252/1252 [==============================] - 32s 25ms/step - loss: 0.4880 - acc: 0.7758 - val_loss: 0.4712 - val_acc: 0.7771\n",
            "Epoch 189/200\n",
            "1252/1252 [==============================] - 31s 25ms/step - loss: 0.4881 - acc: 0.7758 - val_loss: 0.4706 - val_acc: 0.7772\n",
            "Epoch 190/200\n",
            "1252/1252 [==============================] - 32s 25ms/step - loss: 0.4886 - acc: 0.7755 - val_loss: 0.4702 - val_acc: 0.7771\n",
            "Epoch 191/200\n",
            "1252/1252 [==============================] - 31s 25ms/step - loss: 0.4883 - acc: 0.7756 - val_loss: 0.4706 - val_acc: 0.7770\n",
            "Epoch 192/200\n",
            "1252/1252 [==============================] - 31s 25ms/step - loss: 0.4890 - acc: 0.7756 - val_loss: 0.4707 - val_acc: 0.7772\n",
            "Epoch 193/200\n",
            "1252/1252 [==============================] - 31s 25ms/step - loss: 0.4892 - acc: 0.7756 - val_loss: 0.4707 - val_acc: 0.7770\n",
            "Epoch 194/200\n",
            "1252/1252 [==============================] - 31s 25ms/step - loss: 0.4884 - acc: 0.7753 - val_loss: 0.4705 - val_acc: 0.7773\n",
            "Epoch 195/200\n",
            "1252/1252 [==============================] - 31s 25ms/step - loss: 0.4880 - acc: 0.7757 - val_loss: 0.4712 - val_acc: 0.7775\n",
            "Epoch 196/200\n",
            "1252/1252 [==============================] - 32s 25ms/step - loss: 0.4883 - acc: 0.7752 - val_loss: 0.4714 - val_acc: 0.7774\n",
            "Epoch 197/200\n",
            "1252/1252 [==============================] - 31s 25ms/step - loss: 0.4887 - acc: 0.7756 - val_loss: 0.4706 - val_acc: 0.7775\n",
            "Epoch 198/200\n",
            "1252/1252 [==============================] - 31s 25ms/step - loss: 0.4889 - acc: 0.7749 - val_loss: 0.4709 - val_acc: 0.7772\n",
            "Epoch 199/200\n",
            "1252/1252 [==============================] - 32s 25ms/step - loss: 0.4884 - acc: 0.7751 - val_loss: 0.4708 - val_acc: 0.7770\n",
            "Epoch 200/200\n",
            "1252/1252 [==============================] - 32s 26ms/step - loss: 0.4886 - acc: 0.7753 - val_loss: 0.4708 - val_acc: 0.7767\n"
          ]
        }
      ],
      "source": [
        "t0 = time()\n",
        "history_stem_w2v_optimised = lstm_stem_w2v_optimised.fit(xtrain_stem, \n",
        "                             ytrain,\n",
        "                             validation_data = (xval_stem, yval),\n",
        "                             epochs = epochs,\n",
        "                             batch_size = batch_size,\n",
        "                             verbose = 1)\n",
        "learning_times['stem_word2vec'] = time() - t0"
      ]
    },
    {
      "cell_type": "markdown",
      "id": "hUpNqnm0_Sc9",
      "metadata": {
        "id": "hUpNqnm0_Sc9"
      },
      "source": [
        "#### Learning Curve"
      ]
    },
    {
      "cell_type": "code",
      "execution_count": 60,
      "id": "gZSYyccZ_Sc9",
      "metadata": {
        "id": "gZSYyccZ_Sc9",
        "colab": {
          "base_uri": "https://localhost:8080/",
          "height": 573
        },
        "outputId": "50c0ebfe-0a05-46e4-d61f-58cb0984976c"
      },
      "outputs": [
        {
          "output_type": "display_data",
          "data": {
            "text/plain": [
              "<Figure size 432x288 with 1 Axes>"
            ],
            "image/png": "[encoded data removed]"
          },
          "metadata": {
            "needs_background": "light"
          }
        },
        {
          "output_type": "display_data",
          "data": {
            "text/plain": [
              "<Figure size 432x288 with 1 Axes>"
            ],
            "image/png": "[encoded data removed]"
          },
          "metadata": {
            "needs_background": "light"
          }
        }
      ],
      "source": [
        "history = history_stem_w2v_optimised\n",
        "plot_history(history, list(history.history.keys()))"
      ]
    },
    {
      "cell_type": "markdown",
      "id": "Q2PPNfT2_Sc9",
      "metadata": {
        "id": "Q2PPNfT2_Sc9"
      },
      "source": [
        "#### Evaluation du modèle"
      ]
    },
    {
      "cell_type": "code",
      "execution_count": 61,
      "id": "pTwtD2ww_Sc9",
      "metadata": {
        "id": "pTwtD2ww_Sc9",
        "colab": {
          "base_uri": "https://localhost:8080/"
        },
        "outputId": "3db8e5ea-e9c8-494e-d3eb-154b97a786e9"
      },
      "outputs": [
        {
          "output_type": "stream",
          "name": "stdout",
          "text": [
            "Loss score 0.47 : \n",
            "Accuracy score: 0.78\n"
          ]
        }
      ],
      "source": [
        "evaluate = lstm_stem_w2v_optimised.evaluate(xval_stem, yval, verbose=0)\n",
        "\n",
        "print('Loss score %.2f : \\nAccuracy score: %.2f'%(evaluate[0], evaluate[1]))"
      ]
    },
    {
      "cell_type": "markdown",
      "id": "9jCx5s8H_Sc9",
      "metadata": {
        "id": "9jCx5s8H_Sc9"
      },
      "source": [
        "#### Sauvegarde du modèle"
      ]
    },
    {
      "cell_type": "code",
      "execution_count": 62,
      "id": "xQeyZ5XT_Sc-",
      "metadata": {
        "id": "xQeyZ5XT_Sc-",
        "colab": {
          "base_uri": "https://localhost:8080/"
        },
        "outputId": "9f90ed5c-10dc-4863-a3e1-b04817cfd5d6"
      },
      "outputs": [
        {
          "output_type": "stream",
          "name": "stdout",
          "text": [
            "Model Saved!\n"
          ]
        }
      ],
      "source": [
        "# saving model architecture and weights\n",
        " \n",
        "# save model architecture\n",
        "lstm_stem_w2v_optimised.save(path + 'models/lstm_stem_w2v.h5')\n",
        " \n",
        "# save model weights\n",
        "lstm_stem_w2v_optimised.save_weights(path + 'models/lstm_stem_w2v_weights')\n",
        "print('Model Saved!')"
      ]
    },
    {
      "cell_type": "markdown",
      "id": "4TMmtbQ5_Sc-",
      "metadata": {
        "id": "4TMmtbQ5_Sc-"
      },
      "source": [
        "<a href=\"##sommaire\" rev=\"footnote\">&#8617;</a>"
      ]
    },
    {
      "cell_type": "markdown",
      "id": "3a771ba3",
      "metadata": {
        "id": "3a771ba3"
      },
      "source": [
        "## Nettoyage avec stemming et vectorisation avec Glove<a class=\"anchor\" id=\"4\"> </a>"
      ]
    },
    {
      "cell_type": "code",
      "execution_count": 63,
      "id": "16ed53c1",
      "metadata": {
        "id": "16ed53c1",
        "colab": {
          "base_uri": "https://localhost:8080/"
        },
        "outputId": "79531353-c340-4db5-a87c-0e82d7479983"
      },
      "outputs": [
        {
          "output_type": "stream",
          "name": "stdout",
          "text": [
            "Fit Tokenizer ...\n",
            "Create Embedding matrix ...\n",
            "Word embedding rate :  0.448\n",
            "Embedding matrix shape:  (138808, 200)\n"
          ]
        }
      ],
      "source": [
        "embedding_matrix_stem_glove = build_embedding_matrix(train_stem, glove_vectors)['Embedding_matrix']"
      ]
    },
    {
      "cell_type": "markdown",
      "id": "kbOIEMnbQnC0",
      "metadata": {
        "id": "kbOIEMnbQnC0"
      },
      "source": [
        "### Baseline"
      ]
    },
    {
      "cell_type": "code",
      "execution_count": 64,
      "id": "at8nBKmtAvB8",
      "metadata": {
        "id": "at8nBKmtAvB8",
        "colab": {
          "base_uri": "https://localhost:8080/"
        },
        "outputId": "b279d267-398b-4864-cda2-35ef37c145cc"
      },
      "outputs": [
        {
          "output_type": "stream",
          "name": "stdout",
          "text": [
            "Model: \"sequential_6\"\n",
            "_________________________________________________________________\n",
            " Layer (type)                Output Shape              Param #   \n",
            "=================================================================\n",
            " embedding_6 (Embedding)     (None, 205, 200)          27761600  \n",
            "                                                                 \n",
            " bidirectional_6 (Bidirectio  (None, 20)               16880     \n",
            " nal)                                                            \n",
            "                                                                 \n",
            " flatten_6 (Flatten)         (None, 20)                0         \n",
            "                                                                 \n",
            " dense_10 (Dense)            (None, 1)                 21        \n",
            "                                                                 \n",
            "=================================================================\n",
            "Total params: 27,778,501\n",
            "Trainable params: 16,901\n",
            "Non-trainable params: 27,761,600\n",
            "_________________________________________________________________\n"
          ]
        }
      ],
      "source": [
        "embedding_matrix = embedding_matrix_stem_glove\n",
        "lstm_stem_glove = lstm_embedding(embedding_matrix=embedding_matrix, \n",
        "                                  len_vocab=138808)\n",
        "lstm_stem_glove.summary()"
      ]
    },
    {
      "cell_type": "code",
      "execution_count": 65,
      "id": "ZqTCruCIAvB9",
      "metadata": {
        "id": "ZqTCruCIAvB9",
        "scrolled": true,
        "colab": {
          "base_uri": "https://localhost:8080/"
        },
        "outputId": "b758fe2b-a08d-441b-e118-a380b98525ad"
      },
      "outputs": [
        {
          "output_type": "stream",
          "name": "stdout",
          "text": [
            "Epoch 1/200\n",
            "1252/1252 [==============================] - 36s 26ms/step - loss: 0.5183 - acc: 0.7423 - val_loss: 0.4941 - val_acc: 0.7587\n",
            "Epoch 2/200\n",
            "1252/1252 [==============================] - 31s 25ms/step - loss: 0.4858 - acc: 0.7645 - val_loss: 0.4816 - val_acc: 0.7672\n",
            "Epoch 3/200\n",
            "1252/1252 [==============================] - 31s 25ms/step - loss: 0.4776 - acc: 0.7700 - val_loss: 0.4769 - val_acc: 0.7708\n",
            "Epoch 4/200\n",
            "1252/1252 [==============================] - 31s 25ms/step - loss: 0.4730 - acc: 0.7731 - val_loss: 0.4743 - val_acc: 0.7724\n",
            "Epoch 5/200\n",
            "1252/1252 [==============================] - 31s 25ms/step - loss: 0.4699 - acc: 0.7753 - val_loss: 0.4725 - val_acc: 0.7739\n",
            "Epoch 6/200\n",
            "1252/1252 [==============================] - 31s 25ms/step - loss: 0.4675 - acc: 0.7766 - val_loss: 0.4714 - val_acc: 0.7741\n",
            "Epoch 7/200\n",
            "1252/1252 [==============================] - 31s 25ms/step - loss: 0.4657 - acc: 0.7778 - val_loss: 0.4709 - val_acc: 0.7747\n",
            "Epoch 8/200\n",
            "1252/1252 [==============================] - 32s 25ms/step - loss: 0.4642 - acc: 0.7787 - val_loss: 0.4709 - val_acc: 0.7747\n",
            "Epoch 9/200\n",
            "1252/1252 [==============================] - 31s 25ms/step - loss: 0.4630 - acc: 0.7795 - val_loss: 0.4693 - val_acc: 0.7758\n",
            "Epoch 10/200\n",
            "1252/1252 [==============================] - 31s 25ms/step - loss: 0.4620 - acc: 0.7801 - val_loss: 0.4687 - val_acc: 0.7760\n",
            "Epoch 11/200\n",
            "1252/1252 [==============================] - 31s 25ms/step - loss: 0.4611 - acc: 0.7805 - val_loss: 0.4688 - val_acc: 0.7763\n",
            "Epoch 12/200\n",
            "1252/1252 [==============================] - 31s 25ms/step - loss: 0.4603 - acc: 0.7812 - val_loss: 0.4692 - val_acc: 0.7755\n",
            "Epoch 13/200\n",
            "1252/1252 [==============================] - 31s 25ms/step - loss: 0.4596 - acc: 0.7813 - val_loss: 0.4680 - val_acc: 0.7770\n",
            "Epoch 14/200\n",
            "1252/1252 [==============================] - 31s 25ms/step - loss: 0.4590 - acc: 0.7819 - val_loss: 0.4680 - val_acc: 0.7762\n",
            "Epoch 15/200\n",
            "1252/1252 [==============================] - 31s 25ms/step - loss: 0.4585 - acc: 0.7822 - val_loss: 0.4678 - val_acc: 0.7765\n",
            "Epoch 16/200\n",
            "1252/1252 [==============================] - 31s 25ms/step - loss: 0.4578 - acc: 0.7826 - val_loss: 0.4681 - val_acc: 0.7761\n",
            "Epoch 17/200\n",
            "1252/1252 [==============================] - 31s 25ms/step - loss: 0.4574 - acc: 0.7828 - val_loss: 0.4679 - val_acc: 0.7767\n",
            "Epoch 18/200\n",
            "1252/1252 [==============================] - 31s 25ms/step - loss: 0.4570 - acc: 0.7833 - val_loss: 0.4680 - val_acc: 0.7767\n",
            "Epoch 19/200\n",
            "1252/1252 [==============================] - 31s 25ms/step - loss: 0.4567 - acc: 0.7834 - val_loss: 0.4684 - val_acc: 0.7762\n",
            "Epoch 20/200\n",
            "1252/1252 [==============================] - 31s 25ms/step - loss: 0.4562 - acc: 0.7838 - val_loss: 0.4677 - val_acc: 0.7767\n",
            "Epoch 21/200\n",
            "1252/1252 [==============================] - 31s 25ms/step - loss: 0.4558 - acc: 0.7841 - val_loss: 0.4672 - val_acc: 0.7770\n",
            "Epoch 22/200\n",
            "1252/1252 [==============================] - 31s 25ms/step - loss: 0.4555 - acc: 0.7841 - val_loss: 0.4671 - val_acc: 0.7768\n",
            "Epoch 23/200\n",
            "1252/1252 [==============================] - 31s 25ms/step - loss: 0.4566 - acc: 0.7839 - val_loss: 0.4687 - val_acc: 0.7755\n",
            "Epoch 24/200\n",
            "1252/1252 [==============================] - 31s 25ms/step - loss: 0.4552 - acc: 0.7844 - val_loss: 0.4691 - val_acc: 0.7754\n",
            "Epoch 25/200\n",
            "1252/1252 [==============================] - 31s 25ms/step - loss: 0.4547 - acc: 0.7844 - val_loss: 0.4665 - val_acc: 0.7774\n",
            "Epoch 26/200\n",
            "1252/1252 [==============================] - 31s 25ms/step - loss: 0.4544 - acc: 0.7851 - val_loss: 0.4666 - val_acc: 0.7775\n",
            "Epoch 27/200\n",
            "1252/1252 [==============================] - 31s 25ms/step - loss: 0.4541 - acc: 0.7850 - val_loss: 0.4675 - val_acc: 0.7765\n",
            "Epoch 28/200\n",
            "1252/1252 [==============================] - 31s 25ms/step - loss: 0.4539 - acc: 0.7853 - val_loss: 0.4670 - val_acc: 0.7768\n",
            "Epoch 29/200\n",
            "1252/1252 [==============================] - 31s 25ms/step - loss: 0.4537 - acc: 0.7851 - val_loss: 0.4667 - val_acc: 0.7771\n",
            "Epoch 30/200\n",
            "1252/1252 [==============================] - 32s 25ms/step - loss: 0.4533 - acc: 0.7856 - val_loss: 0.4674 - val_acc: 0.7772\n",
            "Epoch 31/200\n",
            "1252/1252 [==============================] - 31s 25ms/step - loss: 0.4532 - acc: 0.7856 - val_loss: 0.4670 - val_acc: 0.7771\n",
            "Epoch 32/200\n",
            "1252/1252 [==============================] - 31s 25ms/step - loss: 0.4530 - acc: 0.7859 - val_loss: 0.4669 - val_acc: 0.7772\n",
            "Epoch 33/200\n",
            "1252/1252 [==============================] - 31s 25ms/step - loss: 0.4528 - acc: 0.7858 - val_loss: 0.4672 - val_acc: 0.7766\n",
            "Epoch 34/200\n",
            "1252/1252 [==============================] - 32s 25ms/step - loss: 0.4526 - acc: 0.7863 - val_loss: 0.4667 - val_acc: 0.7776\n",
            "Epoch 35/200\n",
            "1252/1252 [==============================] - 32s 25ms/step - loss: 0.4523 - acc: 0.7861 - val_loss: 0.4671 - val_acc: 0.7772\n",
            "Epoch 36/200\n",
            "1252/1252 [==============================] - 32s 25ms/step - loss: 0.4523 - acc: 0.7863 - val_loss: 0.4663 - val_acc: 0.7773\n",
            "Epoch 37/200\n",
            "1252/1252 [==============================] - 32s 25ms/step - loss: 0.4521 - acc: 0.7863 - val_loss: 0.4671 - val_acc: 0.7767\n",
            "Epoch 38/200\n",
            "1252/1252 [==============================] - 31s 25ms/step - loss: 0.4520 - acc: 0.7868 - val_loss: 0.4665 - val_acc: 0.7774\n",
            "Epoch 39/200\n",
            "1252/1252 [==============================] - 31s 25ms/step - loss: 0.4518 - acc: 0.7866 - val_loss: 0.4667 - val_acc: 0.7776\n",
            "Epoch 40/200\n",
            "1252/1252 [==============================] - 31s 25ms/step - loss: 0.4516 - acc: 0.7867 - val_loss: 0.4670 - val_acc: 0.7770\n",
            "Epoch 41/200\n",
            "1252/1252 [==============================] - 31s 25ms/step - loss: 0.4514 - acc: 0.7871 - val_loss: 0.4671 - val_acc: 0.7776\n",
            "Epoch 42/200\n",
            "1252/1252 [==============================] - 31s 25ms/step - loss: 0.4515 - acc: 0.7866 - val_loss: 0.4667 - val_acc: 0.7777\n",
            "Epoch 43/200\n",
            "1252/1252 [==============================] - 31s 25ms/step - loss: 0.4513 - acc: 0.7868 - val_loss: 0.4691 - val_acc: 0.7759\n",
            "Epoch 44/200\n",
            "1252/1252 [==============================] - 31s 25ms/step - loss: 0.4512 - acc: 0.7868 - val_loss: 0.4674 - val_acc: 0.7773\n",
            "Epoch 45/200\n",
            "1252/1252 [==============================] - 31s 25ms/step - loss: 0.4510 - acc: 0.7872 - val_loss: 0.4670 - val_acc: 0.7773\n",
            "Epoch 46/200\n",
            "1252/1252 [==============================] - 31s 25ms/step - loss: 0.4508 - acc: 0.7872 - val_loss: 0.4672 - val_acc: 0.7769\n",
            "Epoch 47/200\n",
            "1252/1252 [==============================] - 31s 25ms/step - loss: 0.4508 - acc: 0.7870 - val_loss: 0.4671 - val_acc: 0.7774\n",
            "Epoch 48/200\n",
            "1252/1252 [==============================] - 31s 25ms/step - loss: 0.4506 - acc: 0.7876 - val_loss: 0.4680 - val_acc: 0.7774\n",
            "Epoch 49/200\n",
            "1252/1252 [==============================] - 31s 25ms/step - loss: 0.4505 - acc: 0.7874 - val_loss: 0.4668 - val_acc: 0.7774\n",
            "Epoch 50/200\n",
            "1252/1252 [==============================] - 31s 25ms/step - loss: 0.4504 - acc: 0.7873 - val_loss: 0.4666 - val_acc: 0.7778\n",
            "Epoch 51/200\n",
            "1252/1252 [==============================] - 31s 25ms/step - loss: 0.4504 - acc: 0.7874 - val_loss: 0.4667 - val_acc: 0.7778\n",
            "Epoch 52/200\n",
            "1252/1252 [==============================] - 31s 25ms/step - loss: 0.4503 - acc: 0.7873 - val_loss: 0.4673 - val_acc: 0.7774\n",
            "Epoch 53/200\n",
            "1252/1252 [==============================] - 31s 25ms/step - loss: 0.4501 - acc: 0.7874 - val_loss: 0.4672 - val_acc: 0.7779\n",
            "Epoch 54/200\n",
            "1252/1252 [==============================] - 31s 25ms/step - loss: 0.4500 - acc: 0.7878 - val_loss: 0.4667 - val_acc: 0.7774\n",
            "Epoch 55/200\n",
            "1252/1252 [==============================] - 31s 25ms/step - loss: 0.4500 - acc: 0.7876 - val_loss: 0.4670 - val_acc: 0.7778\n",
            "Epoch 56/200\n",
            "1252/1252 [==============================] - 31s 25ms/step - loss: 0.4500 - acc: 0.7878 - val_loss: 0.4671 - val_acc: 0.7773\n",
            "Epoch 57/200\n",
            "1252/1252 [==============================] - 31s 25ms/step - loss: 0.4497 - acc: 0.7880 - val_loss: 0.4678 - val_acc: 0.7769\n",
            "Epoch 58/200\n",
            "1252/1252 [==============================] - 31s 25ms/step - loss: 0.4496 - acc: 0.7879 - val_loss: 0.4671 - val_acc: 0.7776\n",
            "Epoch 59/200\n",
            "1252/1252 [==============================] - 31s 25ms/step - loss: 0.4497 - acc: 0.7878 - val_loss: 0.4666 - val_acc: 0.7779\n",
            "Epoch 60/200\n",
            "1252/1252 [==============================] - 31s 25ms/step - loss: 0.4495 - acc: 0.7879 - val_loss: 0.4671 - val_acc: 0.7773\n",
            "Epoch 61/200\n",
            "1252/1252 [==============================] - 31s 25ms/step - loss: 0.4495 - acc: 0.7881 - val_loss: 0.4669 - val_acc: 0.7776\n",
            "Epoch 62/200\n",
            "1252/1252 [==============================] - 31s 25ms/step - loss: 0.4648 - acc: 0.7792 - val_loss: 0.4764 - val_acc: 0.7724\n",
            "Epoch 63/200\n",
            "1252/1252 [==============================] - 31s 25ms/step - loss: 0.4553 - acc: 0.7848 - val_loss: 0.4688 - val_acc: 0.7760\n",
            "Epoch 64/200\n",
            "1252/1252 [==============================] - 31s 25ms/step - loss: 0.4521 - acc: 0.7867 - val_loss: 0.4699 - val_acc: 0.7744\n",
            "Epoch 65/200\n",
            "1252/1252 [==============================] - 31s 25ms/step - loss: 0.4513 - acc: 0.7869 - val_loss: 0.4682 - val_acc: 0.7767\n",
            "Epoch 66/200\n",
            "1252/1252 [==============================] - 31s 25ms/step - loss: 0.4503 - acc: 0.7875 - val_loss: 0.4672 - val_acc: 0.7774\n",
            "Epoch 67/200\n",
            "1252/1252 [==============================] - 31s 25ms/step - loss: 0.4496 - acc: 0.7879 - val_loss: 0.4679 - val_acc: 0.7775\n",
            "Epoch 68/200\n",
            "1252/1252 [==============================] - 31s 25ms/step - loss: 0.4493 - acc: 0.7881 - val_loss: 0.4671 - val_acc: 0.7776\n",
            "Epoch 69/200\n",
            "1252/1252 [==============================] - 31s 25ms/step - loss: 0.4491 - acc: 0.7880 - val_loss: 0.4675 - val_acc: 0.7768\n",
            "Epoch 70/200\n",
            "1252/1252 [==============================] - 31s 25ms/step - loss: 0.4489 - acc: 0.7883 - val_loss: 0.4673 - val_acc: 0.7773\n",
            "Epoch 71/200\n",
            "1252/1252 [==============================] - 31s 25ms/step - loss: 0.4496 - acc: 0.7881 - val_loss: 0.4679 - val_acc: 0.7771\n",
            "Epoch 72/200\n",
            "1252/1252 [==============================] - 31s 25ms/step - loss: 0.4490 - acc: 0.7880 - val_loss: 0.4678 - val_acc: 0.7770\n",
            "Epoch 73/200\n",
            "1252/1252 [==============================] - 31s 25ms/step - loss: 0.4487 - acc: 0.7882 - val_loss: 0.4703 - val_acc: 0.7751\n",
            "Epoch 74/200\n",
            "1252/1252 [==============================] - 31s 25ms/step - loss: 0.4486 - acc: 0.7885 - val_loss: 0.4675 - val_acc: 0.7776\n",
            "Epoch 75/200\n",
            "1252/1252 [==============================] - 32s 25ms/step - loss: 0.4486 - acc: 0.7888 - val_loss: 0.4675 - val_acc: 0.7775\n",
            "Epoch 76/200\n",
            "1252/1252 [==============================] - 31s 25ms/step - loss: 0.4485 - acc: 0.7887 - val_loss: 0.4674 - val_acc: 0.7779\n",
            "Epoch 77/200\n",
            "1252/1252 [==============================] - 31s 25ms/step - loss: 0.4483 - acc: 0.7886 - val_loss: 0.4685 - val_acc: 0.7774\n",
            "Epoch 78/200\n",
            "1252/1252 [==============================] - 31s 25ms/step - loss: 0.4483 - acc: 0.7887 - val_loss: 0.4679 - val_acc: 0.7769\n",
            "Epoch 79/200\n",
            "1252/1252 [==============================] - 31s 25ms/step - loss: 0.4486 - acc: 0.7886 - val_loss: 0.4682 - val_acc: 0.7769\n",
            "Epoch 80/200\n",
            "1252/1252 [==============================] - 31s 25ms/step - loss: 0.4484 - acc: 0.7888 - val_loss: 0.4680 - val_acc: 0.7774\n",
            "Epoch 81/200\n",
            "1252/1252 [==============================] - 31s 25ms/step - loss: 0.4481 - acc: 0.7886 - val_loss: 0.4674 - val_acc: 0.7776\n",
            "Epoch 82/200\n",
            "1252/1252 [==============================] - 31s 25ms/step - loss: 0.4480 - acc: 0.7888 - val_loss: 0.4677 - val_acc: 0.7777\n",
            "Epoch 83/200\n",
            "1252/1252 [==============================] - 31s 25ms/step - loss: 0.4480 - acc: 0.7889 - val_loss: 0.4676 - val_acc: 0.7769\n",
            "Epoch 84/200\n",
            "1252/1252 [==============================] - 31s 25ms/step - loss: 0.4481 - acc: 0.7888 - val_loss: 0.4678 - val_acc: 0.7774\n",
            "Epoch 85/200\n",
            "1252/1252 [==============================] - 31s 25ms/step - loss: 0.4479 - acc: 0.7888 - val_loss: 0.4677 - val_acc: 0.7773\n",
            "Epoch 86/200\n",
            "1252/1252 [==============================] - 31s 25ms/step - loss: 0.4479 - acc: 0.7890 - val_loss: 0.4684 - val_acc: 0.7772\n",
            "Epoch 87/200\n",
            "1252/1252 [==============================] - 31s 25ms/step - loss: 0.4478 - acc: 0.7890 - val_loss: 0.4676 - val_acc: 0.7779\n",
            "Epoch 88/200\n",
            "1252/1252 [==============================] - 31s 25ms/step - loss: 0.4478 - acc: 0.7890 - val_loss: 0.4679 - val_acc: 0.7773\n",
            "Epoch 89/200\n",
            "1252/1252 [==============================] - 31s 25ms/step - loss: 0.4477 - acc: 0.7889 - val_loss: 0.4683 - val_acc: 0.7769\n",
            "Epoch 90/200\n",
            "1252/1252 [==============================] - 31s 25ms/step - loss: 0.4523 - acc: 0.7865 - val_loss: 0.4691 - val_acc: 0.7767\n",
            "Epoch 91/200\n",
            "1252/1252 [==============================] - 31s 25ms/step - loss: 0.4481 - acc: 0.7891 - val_loss: 0.4681 - val_acc: 0.7772\n",
            "Epoch 92/200\n",
            "1252/1252 [==============================] - 31s 25ms/step - loss: 0.4476 - acc: 0.7889 - val_loss: 0.4676 - val_acc: 0.7772\n",
            "Epoch 93/200\n",
            "1252/1252 [==============================] - 31s 25ms/step - loss: 0.4475 - acc: 0.7893 - val_loss: 0.4683 - val_acc: 0.7771\n",
            "Epoch 94/200\n",
            "1252/1252 [==============================] - 31s 25ms/step - loss: 0.4474 - acc: 0.7893 - val_loss: 0.4679 - val_acc: 0.7771\n",
            "Epoch 95/200\n",
            "1252/1252 [==============================] - 31s 25ms/step - loss: 0.4474 - acc: 0.7891 - val_loss: 0.4684 - val_acc: 0.7770\n",
            "Epoch 96/200\n",
            "1252/1252 [==============================] - 31s 25ms/step - loss: 0.4473 - acc: 0.7894 - val_loss: 0.4689 - val_acc: 0.7770\n",
            "Epoch 97/200\n",
            "1252/1252 [==============================] - 31s 25ms/step - loss: 0.4473 - acc: 0.7893 - val_loss: 0.4684 - val_acc: 0.7776\n",
            "Epoch 98/200\n",
            "1252/1252 [==============================] - 31s 25ms/step - loss: 0.4473 - acc: 0.7893 - val_loss: 0.4682 - val_acc: 0.7773\n",
            "Epoch 99/200\n",
            "1252/1252 [==============================] - 31s 25ms/step - loss: 0.4472 - acc: 0.7900 - val_loss: 0.4684 - val_acc: 0.7770\n",
            "Epoch 100/200\n",
            "1252/1252 [==============================] - 31s 25ms/step - loss: 0.4472 - acc: 0.7895 - val_loss: 0.4680 - val_acc: 0.7774\n",
            "Epoch 101/200\n",
            "1252/1252 [==============================] - 31s 25ms/step - loss: 0.4475 - acc: 0.7895 - val_loss: 0.4684 - val_acc: 0.7769\n",
            "Epoch 102/200\n",
            "1252/1252 [==============================] - 31s 25ms/step - loss: 0.4471 - acc: 0.7894 - val_loss: 0.4682 - val_acc: 0.7774\n",
            "Epoch 103/200\n",
            "1252/1252 [==============================] - 31s 25ms/step - loss: 0.4470 - acc: 0.7896 - val_loss: 0.4688 - val_acc: 0.7771\n",
            "Epoch 104/200\n",
            "1252/1252 [==============================] - 31s 25ms/step - loss: 0.4470 - acc: 0.7898 - val_loss: 0.4699 - val_acc: 0.7758\n",
            "Epoch 105/200\n",
            "1252/1252 [==============================] - 31s 25ms/step - loss: 0.4469 - acc: 0.7895 - val_loss: 0.4689 - val_acc: 0.7766\n",
            "Epoch 106/200\n",
            "1252/1252 [==============================] - 31s 25ms/step - loss: 0.4478 - acc: 0.7891 - val_loss: 0.7148 - val_acc: 0.6359\n",
            "Epoch 107/200\n",
            "1252/1252 [==============================] - 31s 25ms/step - loss: 0.4608 - acc: 0.7807 - val_loss: 0.4725 - val_acc: 0.7743\n",
            "Epoch 108/200\n",
            "1252/1252 [==============================] - 31s 25ms/step - loss: 0.4528 - acc: 0.7859 - val_loss: 0.4697 - val_acc: 0.7757\n",
            "Epoch 109/200\n",
            "1252/1252 [==============================] - 31s 25ms/step - loss: 0.4502 - acc: 0.7874 - val_loss: 0.4700 - val_acc: 0.7765\n",
            "Epoch 110/200\n",
            "1252/1252 [==============================] - 31s 25ms/step - loss: 0.4481 - acc: 0.7891 - val_loss: 0.4686 - val_acc: 0.7773\n",
            "Epoch 111/200\n",
            "1252/1252 [==============================] - 31s 25ms/step - loss: 0.4475 - acc: 0.7892 - val_loss: 0.4686 - val_acc: 0.7774\n",
            "Epoch 112/200\n",
            "1252/1252 [==============================] - 31s 25ms/step - loss: 0.4469 - acc: 0.7895 - val_loss: 0.4685 - val_acc: 0.7769\n",
            "Epoch 113/200\n",
            "1252/1252 [==============================] - 31s 25ms/step - loss: 0.4468 - acc: 0.7896 - val_loss: 0.4684 - val_acc: 0.7774\n",
            "Epoch 114/200\n",
            "1252/1252 [==============================] - 31s 25ms/step - loss: 0.4467 - acc: 0.7897 - val_loss: 0.4683 - val_acc: 0.7769\n",
            "Epoch 115/200\n",
            "1252/1252 [==============================] - 31s 25ms/step - loss: 0.4468 - acc: 0.7897 - val_loss: 0.4688 - val_acc: 0.7767\n",
            "Epoch 116/200\n",
            "1252/1252 [==============================] - 31s 25ms/step - loss: 0.4466 - acc: 0.7897 - val_loss: 0.4687 - val_acc: 0.7768\n",
            "Epoch 117/200\n",
            "1252/1252 [==============================] - 31s 25ms/step - loss: 0.4468 - acc: 0.7898 - val_loss: 0.4689 - val_acc: 0.7768\n",
            "Epoch 118/200\n",
            "1252/1252 [==============================] - 31s 25ms/step - loss: 0.4466 - acc: 0.7898 - val_loss: 0.4683 - val_acc: 0.7771\n",
            "Epoch 119/200\n",
            "1252/1252 [==============================] - 31s 25ms/step - loss: 0.4465 - acc: 0.7901 - val_loss: 0.4688 - val_acc: 0.7770\n",
            "Epoch 120/200\n",
            "1252/1252 [==============================] - 31s 25ms/step - loss: 0.4464 - acc: 0.7898 - val_loss: 0.4683 - val_acc: 0.7774\n",
            "Epoch 121/200\n",
            "1252/1252 [==============================] - 31s 25ms/step - loss: 0.4464 - acc: 0.7900 - val_loss: 0.4687 - val_acc: 0.7774\n",
            "Epoch 122/200\n",
            "1252/1252 [==============================] - 31s 25ms/step - loss: 0.4464 - acc: 0.7900 - val_loss: 0.4690 - val_acc: 0.7764\n",
            "Epoch 123/200\n",
            "1252/1252 [==============================] - 31s 25ms/step - loss: 0.4463 - acc: 0.7898 - val_loss: 0.4687 - val_acc: 0.7767\n",
            "Epoch 124/200\n",
            "1252/1252 [==============================] - 31s 25ms/step - loss: 0.4463 - acc: 0.7900 - val_loss: 0.4687 - val_acc: 0.7768\n",
            "Epoch 125/200\n",
            "1252/1252 [==============================] - 31s 25ms/step - loss: 0.4463 - acc: 0.7903 - val_loss: 0.4690 - val_acc: 0.7769\n",
            "Epoch 126/200\n",
            "1252/1252 [==============================] - 31s 25ms/step - loss: 0.4461 - acc: 0.7902 - val_loss: 0.4695 - val_acc: 0.7770\n",
            "Epoch 127/200\n",
            "1252/1252 [==============================] - 31s 25ms/step - loss: 0.4462 - acc: 0.7900 - val_loss: 0.4690 - val_acc: 0.7771\n",
            "Epoch 128/200\n",
            "1252/1252 [==============================] - 31s 25ms/step - loss: 0.4462 - acc: 0.7901 - val_loss: 0.4687 - val_acc: 0.7773\n",
            "Epoch 129/200\n",
            "1252/1252 [==============================] - 31s 25ms/step - loss: 0.4461 - acc: 0.7903 - val_loss: 0.4688 - val_acc: 0.7766\n",
            "Epoch 130/200\n",
            "1252/1252 [==============================] - 31s 25ms/step - loss: 0.4461 - acc: 0.7901 - val_loss: 0.4695 - val_acc: 0.7769\n",
            "Epoch 131/200\n",
            "1252/1252 [==============================] - 31s 25ms/step - loss: 0.4708 - acc: 0.7760 - val_loss: 0.4737 - val_acc: 0.7742\n",
            "Epoch 132/200\n",
            "1252/1252 [==============================] - 31s 25ms/step - loss: 0.4482 - acc: 0.7888 - val_loss: 0.4694 - val_acc: 0.7766\n",
            "Epoch 133/200\n",
            "1252/1252 [==============================] - 31s 25ms/step - loss: 0.4466 - acc: 0.7897 - val_loss: 0.4690 - val_acc: 0.7766\n",
            "Epoch 134/200\n",
            "1252/1252 [==============================] - 31s 25ms/step - loss: 0.4463 - acc: 0.7902 - val_loss: 0.4687 - val_acc: 0.7771\n",
            "Epoch 135/200\n",
            "1252/1252 [==============================] - 31s 25ms/step - loss: 0.4461 - acc: 0.7901 - val_loss: 0.4694 - val_acc: 0.7763\n",
            "Epoch 136/200\n",
            "1252/1252 [==============================] - 31s 25ms/step - loss: 0.4460 - acc: 0.7901 - val_loss: 0.4692 - val_acc: 0.7764\n",
            "Epoch 137/200\n",
            "1252/1252 [==============================] - 31s 25ms/step - loss: 0.4460 - acc: 0.7901 - val_loss: 0.4691 - val_acc: 0.7766\n",
            "Epoch 138/200\n",
            "1252/1252 [==============================] - 31s 25ms/step - loss: 0.4458 - acc: 0.7902 - val_loss: 0.4697 - val_acc: 0.7762\n",
            "Epoch 139/200\n",
            "1252/1252 [==============================] - 31s 25ms/step - loss: 0.4460 - acc: 0.7900 - val_loss: 0.4697 - val_acc: 0.7764\n",
            "Epoch 140/200\n",
            "1252/1252 [==============================] - 31s 25ms/step - loss: 0.4458 - acc: 0.7902 - val_loss: 0.4690 - val_acc: 0.7773\n",
            "Epoch 141/200\n",
            "1252/1252 [==============================] - 31s 25ms/step - loss: 0.4458 - acc: 0.7905 - val_loss: 0.4691 - val_acc: 0.7761\n",
            "Epoch 142/200\n",
            "1252/1252 [==============================] - 31s 25ms/step - loss: 0.4458 - acc: 0.7905 - val_loss: 0.4695 - val_acc: 0.7765\n",
            "Epoch 143/200\n",
            "1252/1252 [==============================] - 31s 25ms/step - loss: 0.4456 - acc: 0.7903 - val_loss: 0.4692 - val_acc: 0.7761\n",
            "Epoch 144/200\n",
            "1252/1252 [==============================] - 31s 25ms/step - loss: 0.4461 - acc: 0.7901 - val_loss: 0.4691 - val_acc: 0.7767\n",
            "Epoch 145/200\n",
            "1252/1252 [==============================] - 31s 25ms/step - loss: 0.4456 - acc: 0.7903 - val_loss: 0.4699 - val_acc: 0.7769\n",
            "Epoch 146/200\n",
            "1252/1252 [==============================] - 31s 25ms/step - loss: 0.4455 - acc: 0.7903 - val_loss: 0.4701 - val_acc: 0.7764\n",
            "Epoch 147/200\n",
            "1252/1252 [==============================] - 31s 25ms/step - loss: 0.4597 - acc: 0.7826 - val_loss: 0.4768 - val_acc: 0.7739\n",
            "Epoch 148/200\n",
            "1252/1252 [==============================] - 31s 25ms/step - loss: 0.4562 - acc: 0.7854 - val_loss: 0.4734 - val_acc: 0.7749\n",
            "Epoch 149/200\n",
            "1252/1252 [==============================] - 31s 25ms/step - loss: 0.4507 - acc: 0.7879 - val_loss: 0.4698 - val_acc: 0.7765\n",
            "Epoch 150/200\n",
            "1252/1252 [==============================] - 31s 25ms/step - loss: 0.4480 - acc: 0.7895 - val_loss: 0.4698 - val_acc: 0.7761\n",
            "Epoch 151/200\n",
            "1252/1252 [==============================] - 31s 25ms/step - loss: 0.4464 - acc: 0.7899 - val_loss: 0.4700 - val_acc: 0.7758\n",
            "Epoch 152/200\n",
            "1252/1252 [==============================] - 31s 25ms/step - loss: 0.4460 - acc: 0.7902 - val_loss: 0.4696 - val_acc: 0.7765\n",
            "Epoch 153/200\n",
            "1252/1252 [==============================] - 31s 25ms/step - loss: 0.4457 - acc: 0.7905 - val_loss: 0.4711 - val_acc: 0.7757\n",
            "Epoch 154/200\n",
            "1252/1252 [==============================] - 31s 25ms/step - loss: 0.4457 - acc: 0.7903 - val_loss: 0.4699 - val_acc: 0.7765\n",
            "Epoch 155/200\n",
            "1252/1252 [==============================] - 31s 25ms/step - loss: 0.4455 - acc: 0.7906 - val_loss: 0.4696 - val_acc: 0.7770\n",
            "Epoch 156/200\n",
            "1252/1252 [==============================] - 31s 25ms/step - loss: 0.4456 - acc: 0.7904 - val_loss: 0.4694 - val_acc: 0.7767\n",
            "Epoch 157/200\n",
            "1252/1252 [==============================] - 31s 25ms/step - loss: 0.4454 - acc: 0.7905 - val_loss: 0.4701 - val_acc: 0.7764\n",
            "Epoch 158/200\n",
            "1252/1252 [==============================] - 31s 25ms/step - loss: 0.4453 - acc: 0.7905 - val_loss: 0.4701 - val_acc: 0.7765\n",
            "Epoch 159/200\n",
            "1252/1252 [==============================] - 31s 25ms/step - loss: 0.4453 - acc: 0.7907 - val_loss: 0.4699 - val_acc: 0.7760\n",
            "Epoch 160/200\n",
            "1252/1252 [==============================] - 31s 25ms/step - loss: 0.4453 - acc: 0.7909 - val_loss: 0.4709 - val_acc: 0.7762\n",
            "Epoch 161/200\n",
            "1252/1252 [==============================] - 31s 25ms/step - loss: 0.4452 - acc: 0.7906 - val_loss: 0.4702 - val_acc: 0.7762\n",
            "Epoch 162/200\n",
            "1252/1252 [==============================] - 31s 25ms/step - loss: 0.4452 - acc: 0.7908 - val_loss: 0.4704 - val_acc: 0.7762\n",
            "Epoch 163/200\n",
            "1252/1252 [==============================] - 31s 25ms/step - loss: 0.4452 - acc: 0.7906 - val_loss: 0.4700 - val_acc: 0.7761\n",
            "Epoch 164/200\n",
            "1252/1252 [==============================] - 31s 25ms/step - loss: 0.4451 - acc: 0.7906 - val_loss: 0.4695 - val_acc: 0.7764\n",
            "Epoch 165/200\n",
            "1252/1252 [==============================] - 31s 25ms/step - loss: 0.4451 - acc: 0.7908 - val_loss: 0.4703 - val_acc: 0.7758\n",
            "Epoch 166/200\n",
            "1252/1252 [==============================] - 31s 25ms/step - loss: 0.4451 - acc: 0.7908 - val_loss: 0.4709 - val_acc: 0.7760\n",
            "Epoch 167/200\n",
            "1252/1252 [==============================] - 31s 25ms/step - loss: 0.4451 - acc: 0.7906 - val_loss: 0.4706 - val_acc: 0.7754\n",
            "Epoch 168/200\n",
            "1252/1252 [==============================] - 31s 25ms/step - loss: 0.4451 - acc: 0.7908 - val_loss: 0.4705 - val_acc: 0.7762\n",
            "Epoch 169/200\n",
            "1252/1252 [==============================] - 31s 25ms/step - loss: 0.4450 - acc: 0.7908 - val_loss: 0.4703 - val_acc: 0.7762\n",
            "Epoch 170/200\n",
            "1252/1252 [==============================] - 31s 25ms/step - loss: 0.4450 - acc: 0.7908 - val_loss: 0.4702 - val_acc: 0.7765\n",
            "Epoch 171/200\n",
            "1252/1252 [==============================] - 31s 25ms/step - loss: 0.4449 - acc: 0.7907 - val_loss: 0.4699 - val_acc: 0.7762\n",
            "Epoch 172/200\n",
            "1252/1252 [==============================] - 31s 25ms/step - loss: 0.4450 - acc: 0.7909 - val_loss: 0.4704 - val_acc: 0.7756\n",
            "Epoch 173/200\n",
            "1252/1252 [==============================] - 31s 25ms/step - loss: 0.4449 - acc: 0.7910 - val_loss: 0.4706 - val_acc: 0.7761\n",
            "Epoch 174/200\n",
            "1252/1252 [==============================] - 31s 25ms/step - loss: 0.4449 - acc: 0.7910 - val_loss: 0.4728 - val_acc: 0.7745\n",
            "Epoch 175/200\n",
            "1252/1252 [==============================] - 31s 25ms/step - loss: 0.4450 - acc: 0.7907 - val_loss: 0.4704 - val_acc: 0.7759\n",
            "Epoch 176/200\n",
            "1252/1252 [==============================] - 31s 25ms/step - loss: 0.4448 - acc: 0.7909 - val_loss: 0.4701 - val_acc: 0.7761\n",
            "Epoch 177/200\n",
            "1252/1252 [==============================] - 31s 25ms/step - loss: 0.4448 - acc: 0.7910 - val_loss: 0.4698 - val_acc: 0.7763\n",
            "Epoch 178/200\n",
            "1252/1252 [==============================] - 31s 25ms/step - loss: 0.4452 - acc: 0.7906 - val_loss: 0.4710 - val_acc: 0.7756\n",
            "Epoch 179/200\n",
            "1252/1252 [==============================] - 31s 25ms/step - loss: 0.4450 - acc: 0.7909 - val_loss: 0.4704 - val_acc: 0.7753\n",
            "Epoch 180/200\n",
            "1252/1252 [==============================] - 31s 25ms/step - loss: 0.4448 - acc: 0.7909 - val_loss: 0.4706 - val_acc: 0.7757\n",
            "Epoch 181/200\n",
            "1252/1252 [==============================] - 31s 25ms/step - loss: 0.4447 - acc: 0.7912 - val_loss: 0.4700 - val_acc: 0.7757\n",
            "Epoch 182/200\n",
            "1252/1252 [==============================] - 31s 25ms/step - loss: 0.4446 - acc: 0.7909 - val_loss: 0.4706 - val_acc: 0.7759\n",
            "Epoch 183/200\n",
            "1252/1252 [==============================] - 31s 25ms/step - loss: 0.4446 - acc: 0.7911 - val_loss: 0.4711 - val_acc: 0.7757\n",
            "Epoch 184/200\n",
            "1252/1252 [==============================] - 31s 25ms/step - loss: 0.4446 - acc: 0.7911 - val_loss: 0.4708 - val_acc: 0.7761\n",
            "Epoch 185/200\n",
            "1252/1252 [==============================] - 31s 25ms/step - loss: 0.4449 - acc: 0.7908 - val_loss: 0.4706 - val_acc: 0.7758\n",
            "Epoch 186/200\n",
            "1252/1252 [==============================] - 31s 25ms/step - loss: 0.4445 - acc: 0.7911 - val_loss: 0.4709 - val_acc: 0.7759\n",
            "Epoch 187/200\n",
            "1252/1252 [==============================] - 31s 25ms/step - loss: 0.4446 - acc: 0.7909 - val_loss: 0.4707 - val_acc: 0.7760\n",
            "Epoch 188/200\n",
            "1252/1252 [==============================] - 31s 25ms/step - loss: 0.4445 - acc: 0.7914 - val_loss: 0.4711 - val_acc: 0.7759\n",
            "Epoch 189/200\n",
            "1252/1252 [==============================] - 31s 25ms/step - loss: 0.4445 - acc: 0.7914 - val_loss: 0.4706 - val_acc: 0.7761\n",
            "Epoch 190/200\n",
            "1252/1252 [==============================] - 31s 25ms/step - loss: 0.4445 - acc: 0.7913 - val_loss: 0.4713 - val_acc: 0.7753\n",
            "Epoch 191/200\n",
            "1252/1252 [==============================] - 32s 25ms/step - loss: 0.4445 - acc: 0.7913 - val_loss: 0.4708 - val_acc: 0.7759\n",
            "Epoch 192/200\n",
            "1252/1252 [==============================] - 31s 25ms/step - loss: 0.4606 - acc: 0.7819 - val_loss: 0.4774 - val_acc: 0.7735\n",
            "Epoch 193/200\n",
            "1252/1252 [==============================] - 31s 25ms/step - loss: 0.4568 - acc: 0.7848 - val_loss: 0.4794 - val_acc: 0.7704\n",
            "Epoch 194/200\n",
            "1252/1252 [==============================] - 32s 25ms/step - loss: 0.4556 - acc: 0.7858 - val_loss: 0.4762 - val_acc: 0.7733\n",
            "Epoch 195/200\n",
            "1252/1252 [==============================] - 31s 25ms/step - loss: 0.4531 - acc: 0.7872 - val_loss: 0.4737 - val_acc: 0.7749\n",
            "Epoch 196/200\n",
            "1252/1252 [==============================] - 31s 25ms/step - loss: 0.4528 - acc: 0.7870 - val_loss: 0.4753 - val_acc: 0.7738\n",
            "Epoch 197/200\n",
            "1252/1252 [==============================] - 32s 25ms/step - loss: 0.4526 - acc: 0.7871 - val_loss: 0.4742 - val_acc: 0.7751\n",
            "Epoch 198/200\n",
            "1252/1252 [==============================] - 32s 25ms/step - loss: 0.4508 - acc: 0.7885 - val_loss: 0.4733 - val_acc: 0.7754\n",
            "Epoch 199/200\n",
            "1252/1252 [==============================] - 32s 25ms/step - loss: 0.4496 - acc: 0.7888 - val_loss: 0.4724 - val_acc: 0.7755\n",
            "Epoch 200/200\n",
            "1252/1252 [==============================] - 32s 25ms/step - loss: 0.4478 - acc: 0.7896 - val_loss: 0.4711 - val_acc: 0.7752\n",
            "CPU times: user 2h 2min 8s, sys: 8min 18s, total: 2h 10min 26s\n",
            "Wall time: 1h 43min 38s\n"
          ]
        }
      ],
      "source": [
        "%%time\n",
        "history_stem_glove = lstm_stem_glove.fit(xtrain_stem, \n",
        "                             ytrain,\n",
        "                             validation_data = (xval_stem, yval),\n",
        "                             epochs = epochs,\n",
        "                             batch_size = batch_size,\n",
        "                             verbose = 1)"
      ]
    },
    {
      "cell_type": "markdown",
      "id": "3NSff4-OQnC0",
      "metadata": {
        "id": "3NSff4-OQnC0"
      },
      "source": [
        "#### Learning Curve"
      ]
    },
    {
      "cell_type": "code",
      "execution_count": 66,
      "id": "2Ir1aSi-AvB9",
      "metadata": {
        "id": "2Ir1aSi-AvB9",
        "colab": {
          "base_uri": "https://localhost:8080/",
          "height": 573
        },
        "outputId": "34d2088b-641e-4a46-91b5-bafddf85f5c3"
      },
      "outputs": [
        {
          "output_type": "display_data",
          "data": {
            "text/plain": [
              "<Figure size 432x288 with 1 Axes>"
            ],
            "image/png": "[encoded data removed]"
          },
          "metadata": {
            "needs_background": "light"
          }
        },
        {
          "output_type": "display_data",
          "data": {
            "text/plain": [
              "<Figure size 432x288 with 1 Axes>"
            ],
            "image/png": "[encoded data removed]"
          },
          "metadata": {
            "needs_background": "light"
          }
        }
      ],
      "source": [
        "history = history_stem_glove\n",
        "plot_history(history, list(history.history.keys()))"
      ]
    },
    {
      "cell_type": "markdown",
      "id": "GD2VqSydQnC0",
      "metadata": {
        "id": "GD2VqSydQnC0"
      },
      "source": [
        "#### Evaluation du modèle"
      ]
    },
    {
      "cell_type": "code",
      "execution_count": 67,
      "id": "eem5ZjPGAvB9",
      "metadata": {
        "id": "eem5ZjPGAvB9",
        "colab": {
          "base_uri": "https://localhost:8080/"
        },
        "outputId": "9934d2b4-6fdd-4f5a-da03-26913c4aa5ce"
      },
      "outputs": [
        {
          "output_type": "stream",
          "name": "stdout",
          "text": [
            "Loss score 0.47 : \n",
            "Accuracy score: 0.78 \n"
          ]
        }
      ],
      "source": [
        "evaluate = lstm_stem_glove.evaluate(xval_stem, yval, verbose=0)\n",
        "\n",
        "print('Loss score %.2f : \\nAccuracy score: %.2f '%(evaluate[0], evaluate[1]))"
      ]
    },
    {
      "cell_type": "markdown",
      "id": "V4QRl5J5AGXU",
      "metadata": {
        "id": "V4QRl5J5AGXU"
      },
      "source": [
        "### Amélioration du modèle"
      ]
    },
    {
      "cell_type": "code",
      "execution_count": 68,
      "id": "Xq_2kqVtAGXU",
      "metadata": {
        "id": "Xq_2kqVtAGXU"
      },
      "outputs": [],
      "source": [
        "embedding_matrix = embedding_matrix_stem_glove\n",
        "len_vocab = 138808\n",
        "output_dim = 200\n",
        "max_len = 200\n",
        "len_padding = 5\n",
        "\n",
        "tensorflow.random.set_seed(seed)\n",
        "\n",
        "lstm_stem_glove_optimised = Sequential()\n",
        "\n",
        "lstm_stem_glove_optimised.add(Embedding(input_dim = len_vocab ,\n",
        "                             output_dim = output_dim,\n",
        "                             embeddings_initializer = keras.initializers.Constant(embedding_matrix),\n",
        "                             input_length = max_len + len_padding,\n",
        "                            trainable = False))\n",
        "\n",
        "lstm_stem_glove_optimised.add(Bidirectional(LSTM(10)))\n",
        "lstm_stem_glove_optimised.add(Dropout(0.4))\n",
        "lstm_stem_glove_optimised.add(Flatten())\n",
        "lstm_stem_glove_optimised.add(Dense(10, activation='relu'))\n",
        "lstm_stem_glove_optimised.add(Dropout(0.4))\n",
        "lstm_stem_glove_optimised.add(Dense(1, activation=\"sigmoid\"))\n",
        "lstm_stem_glove_optimised.compile(optimizer = 'adam', \n",
        "                       loss = 'binary_crossentropy', \n",
        "                       metrics = ['acc'])"
      ]
    },
    {
      "cell_type": "code",
      "execution_count": 69,
      "id": "LJfEyhA7AGXU",
      "metadata": {
        "id": "LJfEyhA7AGXU",
        "colab": {
          "base_uri": "https://localhost:8080/"
        },
        "outputId": "eca52220-97fd-4ee0-e2b1-775ea1a1b279"
      },
      "outputs": [
        {
          "output_type": "stream",
          "name": "stdout",
          "text": [
            "Model: \"sequential_7\"\n",
            "_________________________________________________________________\n",
            " Layer (type)                Output Shape              Param #   \n",
            "=================================================================\n",
            " embedding_7 (Embedding)     (None, 205, 200)          27761600  \n",
            "                                                                 \n",
            " bidirectional_7 (Bidirectio  (None, 20)               16880     \n",
            " nal)                                                            \n",
            "                                                                 \n",
            " dropout_7 (Dropout)         (None, 20)                0         \n",
            "                                                                 \n",
            " flatten_7 (Flatten)         (None, 20)                0         \n",
            "                                                                 \n",
            " dense_11 (Dense)            (None, 10)                210       \n",
            "                                                                 \n",
            " dropout_8 (Dropout)         (None, 10)                0         \n",
            "                                                                 \n",
            " dense_12 (Dense)            (None, 1)                 11        \n",
            "                                                                 \n",
            "=================================================================\n",
            "Total params: 27,778,701\n",
            "Trainable params: 17,101\n",
            "Non-trainable params: 27,761,600\n",
            "_________________________________________________________________\n"
          ]
        }
      ],
      "source": [
        "lstm_stem_glove_optimised.summary()"
      ]
    },
    {
      "cell_type": "code",
      "execution_count": 70,
      "id": "AbxuVmh3AGXU",
      "metadata": {
        "id": "AbxuVmh3AGXU",
        "scrolled": true,
        "colab": {
          "base_uri": "https://localhost:8080/"
        },
        "outputId": "fc6cd7b8-d72c-47c7-fb39-c45a577f7f82"
      },
      "outputs": [
        {
          "output_type": "stream",
          "name": "stdout",
          "text": [
            "Epoch 1/200\n",
            "1252/1252 [==============================] - 36s 26ms/step - loss: 0.5547 - acc: 0.7243 - val_loss: 0.4999 - val_acc: 0.7574\n",
            "Epoch 2/200\n",
            "1252/1252 [==============================] - 32s 25ms/step - loss: 0.5215 - acc: 0.7518 - val_loss: 0.4905 - val_acc: 0.7620\n",
            "Epoch 3/200\n",
            "1252/1252 [==============================] - 32s 25ms/step - loss: 0.5150 - acc: 0.7558 - val_loss: 0.4847 - val_acc: 0.7651\n",
            "Epoch 4/200\n",
            "1252/1252 [==============================] - 32s 26ms/step - loss: 0.5112 - acc: 0.7588 - val_loss: 0.4830 - val_acc: 0.7670\n",
            "Epoch 5/200\n",
            "1252/1252 [==============================] - 32s 26ms/step - loss: 0.5092 - acc: 0.7609 - val_loss: 0.4807 - val_acc: 0.7687\n",
            "Epoch 6/200\n",
            "1252/1252 [==============================] - 32s 25ms/step - loss: 0.5069 - acc: 0.7619 - val_loss: 0.4798 - val_acc: 0.7701\n",
            "Epoch 7/200\n",
            "1252/1252 [==============================] - 32s 25ms/step - loss: 0.5058 - acc: 0.7629 - val_loss: 0.4771 - val_acc: 0.7711\n",
            "Epoch 8/200\n",
            "1252/1252 [==============================] - 32s 25ms/step - loss: 0.5042 - acc: 0.7636 - val_loss: 0.4768 - val_acc: 0.7712\n",
            "Epoch 9/200\n",
            "1252/1252 [==============================] - 31s 25ms/step - loss: 0.5033 - acc: 0.7642 - val_loss: 0.4763 - val_acc: 0.7713\n",
            "Epoch 10/200\n",
            "1252/1252 [==============================] - 31s 25ms/step - loss: 0.5026 - acc: 0.7648 - val_loss: 0.4762 - val_acc: 0.7720\n",
            "Epoch 11/200\n",
            "1252/1252 [==============================] - 31s 25ms/step - loss: 0.5023 - acc: 0.7652 - val_loss: 0.4747 - val_acc: 0.7728\n",
            "Epoch 12/200\n",
            "1252/1252 [==============================] - 31s 25ms/step - loss: 0.5007 - acc: 0.7658 - val_loss: 0.4759 - val_acc: 0.7726\n",
            "Epoch 13/200\n",
            "1252/1252 [==============================] - 32s 25ms/step - loss: 0.5003 - acc: 0.7665 - val_loss: 0.4747 - val_acc: 0.7729\n",
            "Epoch 14/200\n",
            "1252/1252 [==============================] - 31s 25ms/step - loss: 0.4993 - acc: 0.7666 - val_loss: 0.4746 - val_acc: 0.7723\n",
            "Epoch 15/200\n",
            "1252/1252 [==============================] - 31s 25ms/step - loss: 0.4987 - acc: 0.7678 - val_loss: 0.4742 - val_acc: 0.7733\n",
            "Epoch 16/200\n",
            "1252/1252 [==============================] - 32s 25ms/step - loss: 0.4982 - acc: 0.7676 - val_loss: 0.4735 - val_acc: 0.7731\n",
            "Epoch 17/200\n",
            "1252/1252 [==============================] - 32s 25ms/step - loss: 0.4977 - acc: 0.7684 - val_loss: 0.4739 - val_acc: 0.7731\n",
            "Epoch 18/200\n",
            "1252/1252 [==============================] - 31s 25ms/step - loss: 0.4976 - acc: 0.7682 - val_loss: 0.4729 - val_acc: 0.7733\n",
            "Epoch 19/200\n",
            "1252/1252 [==============================] - 32s 25ms/step - loss: 0.4976 - acc: 0.7677 - val_loss: 0.4740 - val_acc: 0.7729\n",
            "Epoch 20/200\n",
            "1252/1252 [==============================] - 32s 25ms/step - loss: 0.4970 - acc: 0.7685 - val_loss: 0.4726 - val_acc: 0.7739\n",
            "Epoch 21/200\n",
            "1252/1252 [==============================] - 32s 26ms/step - loss: 0.4972 - acc: 0.7685 - val_loss: 0.4726 - val_acc: 0.7736\n",
            "Epoch 22/200\n",
            "1252/1252 [==============================] - 32s 26ms/step - loss: 0.4963 - acc: 0.7686 - val_loss: 0.4729 - val_acc: 0.7736\n",
            "Epoch 23/200\n",
            "1252/1252 [==============================] - 32s 26ms/step - loss: 0.4965 - acc: 0.7691 - val_loss: 0.4731 - val_acc: 0.7729\n",
            "Epoch 24/200\n",
            "1252/1252 [==============================] - 32s 26ms/step - loss: 0.4962 - acc: 0.7690 - val_loss: 0.4738 - val_acc: 0.7733\n",
            "Epoch 25/200\n",
            "1252/1252 [==============================] - 32s 26ms/step - loss: 0.4959 - acc: 0.7695 - val_loss: 0.4728 - val_acc: 0.7735\n",
            "Epoch 26/200\n",
            "1252/1252 [==============================] - 32s 26ms/step - loss: 0.4957 - acc: 0.7697 - val_loss: 0.4720 - val_acc: 0.7738\n",
            "Epoch 27/200\n",
            "1252/1252 [==============================] - 32s 26ms/step - loss: 0.4950 - acc: 0.7695 - val_loss: 0.4729 - val_acc: 0.7743\n",
            "Epoch 28/200\n",
            "1252/1252 [==============================] - 32s 26ms/step - loss: 0.4944 - acc: 0.7703 - val_loss: 0.4725 - val_acc: 0.7732\n",
            "Epoch 29/200\n",
            "1252/1252 [==============================] - 32s 26ms/step - loss: 0.4949 - acc: 0.7701 - val_loss: 0.4732 - val_acc: 0.7738\n",
            "Epoch 30/200\n",
            "1252/1252 [==============================] - 32s 26ms/step - loss: 0.4941 - acc: 0.7702 - val_loss: 0.4731 - val_acc: 0.7737\n",
            "Epoch 31/200\n",
            "1252/1252 [==============================] - 32s 26ms/step - loss: 0.4943 - acc: 0.7702 - val_loss: 0.4721 - val_acc: 0.7733\n",
            "Epoch 32/200\n",
            "1252/1252 [==============================] - 32s 26ms/step - loss: 0.4941 - acc: 0.7707 - val_loss: 0.4723 - val_acc: 0.7738\n",
            "Epoch 33/200\n",
            "1252/1252 [==============================] - 32s 26ms/step - loss: 0.4943 - acc: 0.7708 - val_loss: 0.4724 - val_acc: 0.7737\n",
            "Epoch 34/200\n",
            "1252/1252 [==============================] - 32s 26ms/step - loss: 0.4938 - acc: 0.7712 - val_loss: 0.4721 - val_acc: 0.7743\n",
            "Epoch 35/200\n",
            "1252/1252 [==============================] - 32s 26ms/step - loss: 0.4937 - acc: 0.7708 - val_loss: 0.4720 - val_acc: 0.7738\n",
            "Epoch 36/200\n",
            "1252/1252 [==============================] - 32s 26ms/step - loss: 0.4934 - acc: 0.7707 - val_loss: 0.4733 - val_acc: 0.7734\n",
            "Epoch 37/200\n",
            "1252/1252 [==============================] - 32s 26ms/step - loss: 0.4935 - acc: 0.7705 - val_loss: 0.4724 - val_acc: 0.7737\n",
            "Epoch 38/200\n",
            "1252/1252 [==============================] - 32s 26ms/step - loss: 0.4934 - acc: 0.7711 - val_loss: 0.4729 - val_acc: 0.7725\n",
            "Epoch 39/200\n",
            "1252/1252 [==============================] - 32s 26ms/step - loss: 0.4931 - acc: 0.7706 - val_loss: 0.4721 - val_acc: 0.7737\n",
            "Epoch 40/200\n",
            "1252/1252 [==============================] - 32s 25ms/step - loss: 0.4938 - acc: 0.7709 - val_loss: 0.4721 - val_acc: 0.7734\n",
            "Epoch 41/200\n",
            "1252/1252 [==============================] - 32s 25ms/step - loss: 0.4929 - acc: 0.7711 - val_loss: 0.4723 - val_acc: 0.7737\n",
            "Epoch 42/200\n",
            "1252/1252 [==============================] - 32s 25ms/step - loss: 0.4934 - acc: 0.7708 - val_loss: 0.4732 - val_acc: 0.7736\n",
            "Epoch 43/200\n",
            "1252/1252 [==============================] - 32s 25ms/step - loss: 0.4927 - acc: 0.7715 - val_loss: 0.4743 - val_acc: 0.7727\n",
            "Epoch 44/200\n",
            "1252/1252 [==============================] - 32s 25ms/step - loss: 0.4926 - acc: 0.7714 - val_loss: 0.4730 - val_acc: 0.7735\n",
            "Epoch 45/200\n",
            "1252/1252 [==============================] - 31s 25ms/step - loss: 0.4927 - acc: 0.7718 - val_loss: 0.4724 - val_acc: 0.7730\n",
            "Epoch 46/200\n",
            "1252/1252 [==============================] - 31s 25ms/step - loss: 0.4925 - acc: 0.7716 - val_loss: 0.4729 - val_acc: 0.7730\n",
            "Epoch 47/200\n",
            "1252/1252 [==============================] - 31s 25ms/step - loss: 0.4924 - acc: 0.7720 - val_loss: 0.4730 - val_acc: 0.7737\n",
            "Epoch 48/200\n",
            "1252/1252 [==============================] - 31s 25ms/step - loss: 0.4921 - acc: 0.7719 - val_loss: 0.4717 - val_acc: 0.7733\n",
            "Epoch 49/200\n",
            "1252/1252 [==============================] - 31s 25ms/step - loss: 0.4922 - acc: 0.7713 - val_loss: 0.4721 - val_acc: 0.7739\n",
            "Epoch 50/200\n",
            "1252/1252 [==============================] - 31s 25ms/step - loss: 0.4921 - acc: 0.7716 - val_loss: 0.4721 - val_acc: 0.7734\n",
            "Epoch 51/200\n",
            "1252/1252 [==============================] - 31s 25ms/step - loss: 0.4923 - acc: 0.7718 - val_loss: 0.4720 - val_acc: 0.7736\n",
            "Epoch 52/200\n",
            "1252/1252 [==============================] - 32s 25ms/step - loss: 0.4923 - acc: 0.7716 - val_loss: 0.4728 - val_acc: 0.7733\n",
            "Epoch 53/200\n",
            "1252/1252 [==============================] - 31s 25ms/step - loss: 0.4917 - acc: 0.7720 - val_loss: 0.4719 - val_acc: 0.7731\n",
            "Epoch 54/200\n",
            "1252/1252 [==============================] - 31s 25ms/step - loss: 0.4914 - acc: 0.7720 - val_loss: 0.4722 - val_acc: 0.7734\n",
            "Epoch 55/200\n",
            "1252/1252 [==============================] - 31s 25ms/step - loss: 0.4917 - acc: 0.7719 - val_loss: 0.4738 - val_acc: 0.7729\n",
            "Epoch 56/200\n",
            "1252/1252 [==============================] - 31s 25ms/step - loss: 0.4919 - acc: 0.7723 - val_loss: 0.4723 - val_acc: 0.7732\n",
            "Epoch 57/200\n",
            "1252/1252 [==============================] - 31s 25ms/step - loss: 0.4910 - acc: 0.7728 - val_loss: 0.4736 - val_acc: 0.7735\n",
            "Epoch 58/200\n",
            "1252/1252 [==============================] - 31s 25ms/step - loss: 0.4919 - acc: 0.7718 - val_loss: 0.4727 - val_acc: 0.7734\n",
            "Epoch 59/200\n",
            "1252/1252 [==============================] - 31s 25ms/step - loss: 0.4917 - acc: 0.7722 - val_loss: 0.4722 - val_acc: 0.7735\n",
            "Epoch 60/200\n",
            "1252/1252 [==============================] - 32s 25ms/step - loss: 0.4912 - acc: 0.7726 - val_loss: 0.4729 - val_acc: 0.7721\n",
            "Epoch 61/200\n",
            "1252/1252 [==============================] - 31s 25ms/step - loss: 0.4908 - acc: 0.7721 - val_loss: 0.4725 - val_acc: 0.7734\n",
            "Epoch 62/200\n",
            "1252/1252 [==============================] - 31s 25ms/step - loss: 0.4914 - acc: 0.7724 - val_loss: 0.4718 - val_acc: 0.7735\n",
            "Epoch 63/200\n",
            "1252/1252 [==============================] - 31s 25ms/step - loss: 0.4904 - acc: 0.7727 - val_loss: 0.4727 - val_acc: 0.7734\n",
            "Epoch 64/200\n",
            "1252/1252 [==============================] - 31s 25ms/step - loss: 0.4910 - acc: 0.7727 - val_loss: 0.4726 - val_acc: 0.7735\n",
            "Epoch 65/200\n",
            "1252/1252 [==============================] - 31s 25ms/step - loss: 0.4912 - acc: 0.7725 - val_loss: 0.4721 - val_acc: 0.7734\n",
            "Epoch 66/200\n",
            "1252/1252 [==============================] - 31s 25ms/step - loss: 0.4908 - acc: 0.7726 - val_loss: 0.4728 - val_acc: 0.7737\n",
            "Epoch 67/200\n",
            "1252/1252 [==============================] - 31s 25ms/step - loss: 0.4903 - acc: 0.7731 - val_loss: 0.4721 - val_acc: 0.7731\n",
            "Epoch 68/200\n",
            "1252/1252 [==============================] - 32s 25ms/step - loss: 0.4909 - acc: 0.7726 - val_loss: 0.4721 - val_acc: 0.7734\n",
            "Epoch 69/200\n",
            "1252/1252 [==============================] - 31s 25ms/step - loss: 0.4908 - acc: 0.7727 - val_loss: 0.4721 - val_acc: 0.7737\n",
            "Epoch 70/200\n",
            "1252/1252 [==============================] - 31s 25ms/step - loss: 0.4909 - acc: 0.7727 - val_loss: 0.4725 - val_acc: 0.7738\n",
            "Epoch 71/200\n",
            "1252/1252 [==============================] - 31s 25ms/step - loss: 0.4907 - acc: 0.7729 - val_loss: 0.4723 - val_acc: 0.7733\n",
            "Epoch 72/200\n",
            "1252/1252 [==============================] - 31s 25ms/step - loss: 0.4905 - acc: 0.7728 - val_loss: 0.4725 - val_acc: 0.7731\n",
            "Epoch 73/200\n",
            "1252/1252 [==============================] - 31s 25ms/step - loss: 0.4909 - acc: 0.7729 - val_loss: 0.4733 - val_acc: 0.7727\n",
            "Epoch 74/200\n",
            "1252/1252 [==============================] - 31s 25ms/step - loss: 0.4903 - acc: 0.7731 - val_loss: 0.4725 - val_acc: 0.7734\n",
            "Epoch 75/200\n",
            "1252/1252 [==============================] - 31s 25ms/step - loss: 0.4905 - acc: 0.7724 - val_loss: 0.4723 - val_acc: 0.7737\n",
            "Epoch 76/200\n",
            "1252/1252 [==============================] - 31s 25ms/step - loss: 0.4904 - acc: 0.7729 - val_loss: 0.4725 - val_acc: 0.7736\n",
            "Epoch 77/200\n",
            "1252/1252 [==============================] - 31s 25ms/step - loss: 0.4906 - acc: 0.7735 - val_loss: 0.4723 - val_acc: 0.7733\n",
            "Epoch 78/200\n",
            "1252/1252 [==============================] - 31s 25ms/step - loss: 0.4907 - acc: 0.7729 - val_loss: 0.4734 - val_acc: 0.7731\n",
            "Epoch 79/200\n",
            "1252/1252 [==============================] - 31s 25ms/step - loss: 0.4901 - acc: 0.7731 - val_loss: 0.4726 - val_acc: 0.7731\n",
            "Epoch 80/200\n",
            "1252/1252 [==============================] - 31s 25ms/step - loss: 0.4903 - acc: 0.7732 - val_loss: 0.4723 - val_acc: 0.7737\n",
            "Epoch 81/200\n",
            "1252/1252 [==============================] - 31s 25ms/step - loss: 0.4902 - acc: 0.7728 - val_loss: 0.4727 - val_acc: 0.7736\n",
            "Epoch 82/200\n",
            "1252/1252 [==============================] - 31s 25ms/step - loss: 0.4906 - acc: 0.7733 - val_loss: 0.4725 - val_acc: 0.7737\n",
            "Epoch 83/200\n",
            "1252/1252 [==============================] - 31s 25ms/step - loss: 0.4903 - acc: 0.7732 - val_loss: 0.4735 - val_acc: 0.7730\n",
            "Epoch 84/200\n",
            "1252/1252 [==============================] - 31s 25ms/step - loss: 0.4904 - acc: 0.7731 - val_loss: 0.4724 - val_acc: 0.7737\n",
            "Epoch 85/200\n",
            "1252/1252 [==============================] - 31s 25ms/step - loss: 0.4896 - acc: 0.7734 - val_loss: 0.4724 - val_acc: 0.7735\n",
            "Epoch 86/200\n",
            "1252/1252 [==============================] - 31s 25ms/step - loss: 0.4897 - acc: 0.7734 - val_loss: 0.4726 - val_acc: 0.7733\n",
            "Epoch 87/200\n",
            "1252/1252 [==============================] - 31s 25ms/step - loss: 0.4900 - acc: 0.7730 - val_loss: 0.4726 - val_acc: 0.7733\n",
            "Epoch 88/200\n",
            "1252/1252 [==============================] - 31s 25ms/step - loss: 0.4899 - acc: 0.7735 - val_loss: 0.4729 - val_acc: 0.7734\n",
            "Epoch 89/200\n",
            "1252/1252 [==============================] - 31s 25ms/step - loss: 0.4898 - acc: 0.7732 - val_loss: 0.4727 - val_acc: 0.7728\n",
            "Epoch 90/200\n",
            "1252/1252 [==============================] - 31s 25ms/step - loss: 0.4898 - acc: 0.7734 - val_loss: 0.4729 - val_acc: 0.7731\n",
            "Epoch 91/200\n",
            "1252/1252 [==============================] - 31s 25ms/step - loss: 0.4895 - acc: 0.7733 - val_loss: 0.4732 - val_acc: 0.7736\n",
            "Epoch 92/200\n",
            "1252/1252 [==============================] - 31s 25ms/step - loss: 0.4898 - acc: 0.7731 - val_loss: 0.4728 - val_acc: 0.7737\n",
            "Epoch 93/200\n",
            "1252/1252 [==============================] - 31s 25ms/step - loss: 0.4897 - acc: 0.7733 - val_loss: 0.4734 - val_acc: 0.7730\n",
            "Epoch 94/200\n",
            "1252/1252 [==============================] - 31s 25ms/step - loss: 0.4895 - acc: 0.7733 - val_loss: 0.4732 - val_acc: 0.7721\n",
            "Epoch 95/200\n",
            "1252/1252 [==============================] - 31s 25ms/step - loss: 0.4891 - acc: 0.7737 - val_loss: 0.4730 - val_acc: 0.7734\n",
            "Epoch 96/200\n",
            "1252/1252 [==============================] - 31s 25ms/step - loss: 0.4898 - acc: 0.7737 - val_loss: 0.4729 - val_acc: 0.7737\n",
            "Epoch 97/200\n",
            "1252/1252 [==============================] - 31s 25ms/step - loss: 0.4897 - acc: 0.7740 - val_loss: 0.4730 - val_acc: 0.7734\n",
            "Epoch 98/200\n",
            "1252/1252 [==============================] - 31s 25ms/step - loss: 0.4891 - acc: 0.7736 - val_loss: 0.4729 - val_acc: 0.7733\n",
            "Epoch 99/200\n",
            "1252/1252 [==============================] - 31s 25ms/step - loss: 0.4897 - acc: 0.7739 - val_loss: 0.4732 - val_acc: 0.7733\n",
            "Epoch 100/200\n",
            "1252/1252 [==============================] - 31s 25ms/step - loss: 0.4897 - acc: 0.7733 - val_loss: 0.4732 - val_acc: 0.7734\n",
            "Epoch 101/200\n",
            "1252/1252 [==============================] - 31s 25ms/step - loss: 0.4893 - acc: 0.7736 - val_loss: 0.4732 - val_acc: 0.7732\n",
            "Epoch 102/200\n",
            "1252/1252 [==============================] - 31s 25ms/step - loss: 0.4890 - acc: 0.7735 - val_loss: 0.4734 - val_acc: 0.7727\n",
            "Epoch 103/200\n",
            "1252/1252 [==============================] - 31s 25ms/step - loss: 0.4893 - acc: 0.7737 - val_loss: 0.4730 - val_acc: 0.7736\n",
            "Epoch 104/200\n",
            "1252/1252 [==============================] - 31s 25ms/step - loss: 0.4894 - acc: 0.7735 - val_loss: 0.4741 - val_acc: 0.7734\n",
            "Epoch 105/200\n",
            "1252/1252 [==============================] - 31s 25ms/step - loss: 0.4891 - acc: 0.7735 - val_loss: 0.4734 - val_acc: 0.7730\n",
            "Epoch 106/200\n",
            "1252/1252 [==============================] - 31s 25ms/step - loss: 0.4898 - acc: 0.7738 - val_loss: 0.4745 - val_acc: 0.7727\n",
            "Epoch 107/200\n",
            "1252/1252 [==============================] - 31s 25ms/step - loss: 0.4896 - acc: 0.7738 - val_loss: 0.4731 - val_acc: 0.7731\n",
            "Epoch 108/200\n",
            "1252/1252 [==============================] - 31s 25ms/step - loss: 0.4893 - acc: 0.7737 - val_loss: 0.4730 - val_acc: 0.7733\n",
            "Epoch 109/200\n",
            "1252/1252 [==============================] - 31s 25ms/step - loss: 0.4890 - acc: 0.7743 - val_loss: 0.4733 - val_acc: 0.7735\n",
            "Epoch 110/200\n",
            "1252/1252 [==============================] - 31s 25ms/step - loss: 0.4894 - acc: 0.7736 - val_loss: 0.4738 - val_acc: 0.7728\n",
            "Epoch 111/200\n",
            "1252/1252 [==============================] - 31s 25ms/step - loss: 0.4888 - acc: 0.7741 - val_loss: 0.4734 - val_acc: 0.7732\n",
            "Epoch 112/200\n",
            "1252/1252 [==============================] - 31s 25ms/step - loss: 0.4891 - acc: 0.7735 - val_loss: 0.4732 - val_acc: 0.7730\n",
            "Epoch 113/200\n",
            "1252/1252 [==============================] - 31s 25ms/step - loss: 0.4889 - acc: 0.7735 - val_loss: 0.4733 - val_acc: 0.7735\n",
            "Epoch 114/200\n",
            "1252/1252 [==============================] - 31s 25ms/step - loss: 0.4887 - acc: 0.7743 - val_loss: 0.4730 - val_acc: 0.7736\n",
            "Epoch 115/200\n",
            "1252/1252 [==============================] - 31s 25ms/step - loss: 0.4891 - acc: 0.7738 - val_loss: 0.4733 - val_acc: 0.7731\n",
            "Epoch 116/200\n",
            "1252/1252 [==============================] - 31s 25ms/step - loss: 0.4889 - acc: 0.7739 - val_loss: 0.4734 - val_acc: 0.7735\n",
            "Epoch 117/200\n",
            "1252/1252 [==============================] - 31s 25ms/step - loss: 0.4884 - acc: 0.7738 - val_loss: 0.4734 - val_acc: 0.7730\n",
            "Epoch 118/200\n",
            "1252/1252 [==============================] - 31s 25ms/step - loss: 0.4888 - acc: 0.7738 - val_loss: 0.4734 - val_acc: 0.7738\n",
            "Epoch 119/200\n",
            "1252/1252 [==============================] - 31s 25ms/step - loss: 0.4892 - acc: 0.7738 - val_loss: 0.4729 - val_acc: 0.7736\n",
            "Epoch 120/200\n",
            "1252/1252 [==============================] - 31s 25ms/step - loss: 0.4890 - acc: 0.7739 - val_loss: 0.4732 - val_acc: 0.7735\n",
            "Epoch 121/200\n",
            "1252/1252 [==============================] - 31s 25ms/step - loss: 0.4890 - acc: 0.7737 - val_loss: 0.4733 - val_acc: 0.7733\n",
            "Epoch 122/200\n",
            "1252/1252 [==============================] - 31s 25ms/step - loss: 0.4881 - acc: 0.7746 - val_loss: 0.4730 - val_acc: 0.7734\n",
            "Epoch 123/200\n",
            "1252/1252 [==============================] - 31s 25ms/step - loss: 0.4888 - acc: 0.7742 - val_loss: 0.4735 - val_acc: 0.7728\n",
            "Epoch 124/200\n",
            "1252/1252 [==============================] - 31s 25ms/step - loss: 0.4892 - acc: 0.7742 - val_loss: 0.4735 - val_acc: 0.7736\n",
            "Epoch 125/200\n",
            "1252/1252 [==============================] - 31s 25ms/step - loss: 0.4888 - acc: 0.7740 - val_loss: 0.4743 - val_acc: 0.7727\n",
            "Epoch 126/200\n",
            "1252/1252 [==============================] - 31s 25ms/step - loss: 0.4884 - acc: 0.7745 - val_loss: 0.4732 - val_acc: 0.7732\n",
            "Epoch 127/200\n",
            "1252/1252 [==============================] - 31s 25ms/step - loss: 0.4884 - acc: 0.7743 - val_loss: 0.4736 - val_acc: 0.7733\n",
            "Epoch 128/200\n",
            "1252/1252 [==============================] - 31s 25ms/step - loss: 0.4880 - acc: 0.7743 - val_loss: 0.4736 - val_acc: 0.7725\n",
            "Epoch 129/200\n",
            "1252/1252 [==============================] - 31s 25ms/step - loss: 0.4886 - acc: 0.7742 - val_loss: 0.4733 - val_acc: 0.7731\n",
            "Epoch 130/200\n",
            "1252/1252 [==============================] - 31s 25ms/step - loss: 0.4887 - acc: 0.7742 - val_loss: 0.4740 - val_acc: 0.7727\n",
            "Epoch 131/200\n",
            "1252/1252 [==============================] - 31s 25ms/step - loss: 0.4891 - acc: 0.7740 - val_loss: 0.4732 - val_acc: 0.7733\n",
            "Epoch 132/200\n",
            "1252/1252 [==============================] - 31s 25ms/step - loss: 0.4889 - acc: 0.7738 - val_loss: 0.4734 - val_acc: 0.7735\n",
            "Epoch 133/200\n",
            "1252/1252 [==============================] - 31s 25ms/step - loss: 0.4888 - acc: 0.7738 - val_loss: 0.4731 - val_acc: 0.7736\n",
            "Epoch 134/200\n",
            "1252/1252 [==============================] - 31s 25ms/step - loss: 0.4882 - acc: 0.7744 - val_loss: 0.4734 - val_acc: 0.7734\n",
            "Epoch 135/200\n",
            "1252/1252 [==============================] - 31s 25ms/step - loss: 0.4883 - acc: 0.7742 - val_loss: 0.4735 - val_acc: 0.7727\n",
            "Epoch 136/200\n",
            "1252/1252 [==============================] - 31s 25ms/step - loss: 0.4882 - acc: 0.7746 - val_loss: 0.4738 - val_acc: 0.7736\n",
            "Epoch 137/200\n",
            "1252/1252 [==============================] - 31s 25ms/step - loss: 0.4879 - acc: 0.7741 - val_loss: 0.4738 - val_acc: 0.7731\n",
            "Epoch 138/200\n",
            "1252/1252 [==============================] - 31s 25ms/step - loss: 0.4881 - acc: 0.7742 - val_loss: 0.4734 - val_acc: 0.7735\n",
            "Epoch 139/200\n",
            "1252/1252 [==============================] - 31s 25ms/step - loss: 0.4881 - acc: 0.7742 - val_loss: 0.4736 - val_acc: 0.7732\n",
            "Epoch 140/200\n",
            "1252/1252 [==============================] - 31s 25ms/step - loss: 0.4882 - acc: 0.7744 - val_loss: 0.4747 - val_acc: 0.7733\n",
            "Epoch 141/200\n",
            "1252/1252 [==============================] - 31s 25ms/step - loss: 0.4883 - acc: 0.7744 - val_loss: 0.4735 - val_acc: 0.7732\n",
            "Epoch 142/200\n",
            "1252/1252 [==============================] - 31s 25ms/step - loss: 0.4879 - acc: 0.7746 - val_loss: 0.4746 - val_acc: 0.7734\n",
            "Epoch 143/200\n",
            "1252/1252 [==============================] - 31s 25ms/step - loss: 0.4885 - acc: 0.7740 - val_loss: 0.4740 - val_acc: 0.7732\n",
            "Epoch 144/200\n",
            "1252/1252 [==============================] - 31s 25ms/step - loss: 0.4881 - acc: 0.7745 - val_loss: 0.4738 - val_acc: 0.7730\n",
            "Epoch 145/200\n",
            "1252/1252 [==============================] - 31s 25ms/step - loss: 0.4878 - acc: 0.7743 - val_loss: 0.4735 - val_acc: 0.7733\n",
            "Epoch 146/200\n",
            "1252/1252 [==============================] - 31s 25ms/step - loss: 0.4881 - acc: 0.7739 - val_loss: 0.4739 - val_acc: 0.7733\n",
            "Epoch 147/200\n",
            "1252/1252 [==============================] - 31s 25ms/step - loss: 0.4880 - acc: 0.7742 - val_loss: 0.4739 - val_acc: 0.7730\n",
            "Epoch 148/200\n",
            "1252/1252 [==============================] - 31s 25ms/step - loss: 0.4880 - acc: 0.7749 - val_loss: 0.4738 - val_acc: 0.7735\n",
            "Epoch 149/200\n",
            "1252/1252 [==============================] - 31s 25ms/step - loss: 0.4884 - acc: 0.7742 - val_loss: 0.4738 - val_acc: 0.7733\n",
            "Epoch 150/200\n",
            "1252/1252 [==============================] - 31s 25ms/step - loss: 0.4879 - acc: 0.7745 - val_loss: 0.4740 - val_acc: 0.7732\n",
            "Epoch 151/200\n",
            "1252/1252 [==============================] - 31s 25ms/step - loss: 0.4876 - acc: 0.7744 - val_loss: 0.4738 - val_acc: 0.7731\n",
            "Epoch 152/200\n",
            "1252/1252 [==============================] - 31s 25ms/step - loss: 0.4878 - acc: 0.7749 - val_loss: 0.4749 - val_acc: 0.7728\n",
            "Epoch 153/200\n",
            "1252/1252 [==============================] - 31s 25ms/step - loss: 0.4879 - acc: 0.7745 - val_loss: 0.4749 - val_acc: 0.7729\n",
            "Epoch 154/200\n",
            "1252/1252 [==============================] - 31s 25ms/step - loss: 0.4881 - acc: 0.7748 - val_loss: 0.4750 - val_acc: 0.7732\n",
            "Epoch 155/200\n",
            "1252/1252 [==============================] - 31s 25ms/step - loss: 0.4881 - acc: 0.7742 - val_loss: 0.4737 - val_acc: 0.7734\n",
            "Epoch 156/200\n",
            "1252/1252 [==============================] - 31s 25ms/step - loss: 0.4879 - acc: 0.7747 - val_loss: 0.4740 - val_acc: 0.7730\n",
            "Epoch 157/200\n",
            "1252/1252 [==============================] - 31s 25ms/step - loss: 0.4881 - acc: 0.7743 - val_loss: 0.4744 - val_acc: 0.7731\n",
            "Epoch 158/200\n",
            "1252/1252 [==============================] - 31s 25ms/step - loss: 0.4881 - acc: 0.7747 - val_loss: 0.4740 - val_acc: 0.7729\n",
            "Epoch 159/200\n",
            "1252/1252 [==============================] - 31s 25ms/step - loss: 0.4883 - acc: 0.7743 - val_loss: 0.4740 - val_acc: 0.7730\n",
            "Epoch 160/200\n",
            "1252/1252 [==============================] - 31s 25ms/step - loss: 0.4876 - acc: 0.7745 - val_loss: 0.4739 - val_acc: 0.7728\n",
            "Epoch 161/200\n",
            "1252/1252 [==============================] - 31s 25ms/step - loss: 0.4875 - acc: 0.7744 - val_loss: 0.4745 - val_acc: 0.7726\n",
            "Epoch 162/200\n",
            "1252/1252 [==============================] - 31s 25ms/step - loss: 0.4883 - acc: 0.7750 - val_loss: 0.4747 - val_acc: 0.7725\n",
            "Epoch 163/200\n",
            "1252/1252 [==============================] - 31s 25ms/step - loss: 0.4878 - acc: 0.7747 - val_loss: 0.4742 - val_acc: 0.7731\n",
            "Epoch 164/200\n",
            "1252/1252 [==============================] - 31s 25ms/step - loss: 0.4884 - acc: 0.7744 - val_loss: 0.4741 - val_acc: 0.7732\n",
            "Epoch 165/200\n",
            "1252/1252 [==============================] - 31s 25ms/step - loss: 0.4879 - acc: 0.7747 - val_loss: 0.4751 - val_acc: 0.7728\n",
            "Epoch 166/200\n",
            "1252/1252 [==============================] - 31s 25ms/step - loss: 0.4877 - acc: 0.7749 - val_loss: 0.4741 - val_acc: 0.7731\n",
            "Epoch 167/200\n",
            "1252/1252 [==============================] - 31s 25ms/step - loss: 0.4877 - acc: 0.7748 - val_loss: 0.4742 - val_acc: 0.7731\n",
            "Epoch 168/200\n",
            "1252/1252 [==============================] - 31s 25ms/step - loss: 0.4882 - acc: 0.7750 - val_loss: 0.4745 - val_acc: 0.7729\n",
            "Epoch 169/200\n",
            "1252/1252 [==============================] - 31s 25ms/step - loss: 0.4877 - acc: 0.7748 - val_loss: 0.4742 - val_acc: 0.7731\n",
            "Epoch 170/200\n",
            "1252/1252 [==============================] - 31s 25ms/step - loss: 0.4878 - acc: 0.7748 - val_loss: 0.4743 - val_acc: 0.7731\n",
            "Epoch 171/200\n",
            "1252/1252 [==============================] - 31s 25ms/step - loss: 0.4870 - acc: 0.7751 - val_loss: 0.4743 - val_acc: 0.7727\n",
            "Epoch 172/200\n",
            "1252/1252 [==============================] - 31s 25ms/step - loss: 0.4878 - acc: 0.7741 - val_loss: 0.4743 - val_acc: 0.7728\n",
            "Epoch 173/200\n",
            "1252/1252 [==============================] - 31s 25ms/step - loss: 0.4878 - acc: 0.7752 - val_loss: 0.4742 - val_acc: 0.7727\n",
            "Epoch 174/200\n",
            "1252/1252 [==============================] - 31s 25ms/step - loss: 0.4877 - acc: 0.7743 - val_loss: 0.4748 - val_acc: 0.7729\n",
            "Epoch 175/200\n",
            "1252/1252 [==============================] - 31s 25ms/step - loss: 0.4879 - acc: 0.7744 - val_loss: 0.4745 - val_acc: 0.7729\n",
            "Epoch 176/200\n",
            "1252/1252 [==============================] - 31s 25ms/step - loss: 0.4874 - acc: 0.7746 - val_loss: 0.4750 - val_acc: 0.7725\n",
            "Epoch 177/200\n",
            "1252/1252 [==============================] - 31s 25ms/step - loss: 0.4875 - acc: 0.7744 - val_loss: 0.4748 - val_acc: 0.7726\n",
            "Epoch 178/200\n",
            "1252/1252 [==============================] - 31s 25ms/step - loss: 0.4876 - acc: 0.7746 - val_loss: 0.4746 - val_acc: 0.7731\n",
            "Epoch 179/200\n",
            "1252/1252 [==============================] - 31s 25ms/step - loss: 0.4876 - acc: 0.7748 - val_loss: 0.4748 - val_acc: 0.7732\n",
            "Epoch 180/200\n",
            "1252/1252 [==============================] - 31s 25ms/step - loss: 0.4882 - acc: 0.7746 - val_loss: 0.4746 - val_acc: 0.7730\n",
            "Epoch 181/200\n",
            "1252/1252 [==============================] - 31s 25ms/step - loss: 0.4876 - acc: 0.7743 - val_loss: 0.4745 - val_acc: 0.7733\n",
            "Epoch 182/200\n",
            "1252/1252 [==============================] - 31s 25ms/step - loss: 0.4872 - acc: 0.7749 - val_loss: 0.4744 - val_acc: 0.7731\n",
            "Epoch 183/200\n",
            "1252/1252 [==============================] - 31s 25ms/step - loss: 0.4874 - acc: 0.7748 - val_loss: 0.4753 - val_acc: 0.7732\n",
            "Epoch 184/200\n",
            "1252/1252 [==============================] - 31s 25ms/step - loss: 0.4873 - acc: 0.7747 - val_loss: 0.4744 - val_acc: 0.7733\n",
            "Epoch 185/200\n",
            "1252/1252 [==============================] - 31s 25ms/step - loss: 0.4878 - acc: 0.7747 - val_loss: 0.4747 - val_acc: 0.7729\n",
            "Epoch 186/200\n",
            "1252/1252 [==============================] - 31s 25ms/step - loss: 0.4873 - acc: 0.7747 - val_loss: 0.4744 - val_acc: 0.7732\n",
            "Epoch 187/200\n",
            "1252/1252 [==============================] - 31s 25ms/step - loss: 0.4878 - acc: 0.7748 - val_loss: 0.4744 - val_acc: 0.7729\n",
            "Epoch 188/200\n",
            "1252/1252 [==============================] - 31s 25ms/step - loss: 0.4870 - acc: 0.7750 - val_loss: 0.4747 - val_acc: 0.7731\n",
            "Epoch 189/200\n",
            "1252/1252 [==============================] - 31s 25ms/step - loss: 0.4872 - acc: 0.7748 - val_loss: 0.4748 - val_acc: 0.7729\n",
            "Epoch 190/200\n",
            "1252/1252 [==============================] - 31s 25ms/step - loss: 0.4872 - acc: 0.7754 - val_loss: 0.4750 - val_acc: 0.7726\n",
            "Epoch 191/200\n",
            "1252/1252 [==============================] - 31s 25ms/step - loss: 0.4873 - acc: 0.7750 - val_loss: 0.4749 - val_acc: 0.7727\n",
            "Epoch 192/200\n",
            "1252/1252 [==============================] - 31s 25ms/step - loss: 0.4877 - acc: 0.7748 - val_loss: 0.4746 - val_acc: 0.7725\n",
            "Epoch 193/200\n",
            "1252/1252 [==============================] - 31s 25ms/step - loss: 0.4876 - acc: 0.7749 - val_loss: 0.4751 - val_acc: 0.7729\n",
            "Epoch 194/200\n",
            "1252/1252 [==============================] - 31s 25ms/step - loss: 0.4872 - acc: 0.7748 - val_loss: 0.4750 - val_acc: 0.7728\n",
            "Epoch 195/200\n",
            "1252/1252 [==============================] - 31s 25ms/step - loss: 0.4871 - acc: 0.7753 - val_loss: 0.4744 - val_acc: 0.7728\n",
            "Epoch 196/200\n",
            "1252/1252 [==============================] - 31s 25ms/step - loss: 0.4870 - acc: 0.7753 - val_loss: 0.4747 - val_acc: 0.7726\n",
            "Epoch 197/200\n",
            "1252/1252 [==============================] - 31s 25ms/step - loss: 0.4873 - acc: 0.7749 - val_loss: 0.4747 - val_acc: 0.7731\n",
            "Epoch 198/200\n",
            "1252/1252 [==============================] - 31s 25ms/step - loss: 0.4876 - acc: 0.7752 - val_loss: 0.4748 - val_acc: 0.7724\n",
            "Epoch 199/200\n",
            "1252/1252 [==============================] - 31s 25ms/step - loss: 0.4874 - acc: 0.7747 - val_loss: 0.4746 - val_acc: 0.7728\n",
            "Epoch 200/200\n",
            "1252/1252 [==============================] - 31s 25ms/step - loss: 0.4875 - acc: 0.7750 - val_loss: 0.4748 - val_acc: 0.7726\n"
          ]
        }
      ],
      "source": [
        "t0 = time()\n",
        "\n",
        "history_stem_glove_optimised = lstm_stem_glove_optimised.fit(xtrain_stem, \n",
        "                             ytrain,\n",
        "                             validation_data = (xval_stem, yval),\n",
        "                             epochs = epochs,\n",
        "                             batch_size = batch_size,\n",
        "                             verbose = 1)\n",
        "\n",
        "learning_times['stem_glove'] = time() - t0"
      ]
    },
    {
      "cell_type": "markdown",
      "id": "g4B9V-eQAGXV",
      "metadata": {
        "id": "g4B9V-eQAGXV"
      },
      "source": [
        "#### Learning Curve"
      ]
    },
    {
      "cell_type": "code",
      "execution_count": 71,
      "id": "bjMh39JaAGXV",
      "metadata": {
        "id": "bjMh39JaAGXV",
        "colab": {
          "base_uri": "https://localhost:8080/",
          "height": 573
        },
        "outputId": "b54b4afe-4a2d-4e59-dfa1-147d3850e861"
      },
      "outputs": [
        {
          "output_type": "display_data",
          "data": {
            "text/plain": [
              "<Figure size 432x288 with 1 Axes>"
            ],
            "image/png": "[encoded data removed]"
          },
          "metadata": {
            "needs_background": "light"
          }
        },
        {
          "output_type": "display_data",
          "data": {
            "text/plain": [
              "<Figure size 432x288 with 1 Axes>"
            ],
            "image/png": "[encoded data removed]"
          },
          "metadata": {
            "needs_background": "light"
          }
        }
      ],
      "source": [
        "history = history_stem_glove_optimised\n",
        "plot_history(history, list(history.history.keys()))"
      ]
    },
    {
      "cell_type": "markdown",
      "id": "cO5pxN1_AGXV",
      "metadata": {
        "id": "cO5pxN1_AGXV"
      },
      "source": [
        "#### Evaluation du modèle"
      ]
    },
    {
      "cell_type": "code",
      "execution_count": 72,
      "id": "N-ijxVEyAGXV",
      "metadata": {
        "id": "N-ijxVEyAGXV",
        "colab": {
          "base_uri": "https://localhost:8080/"
        },
        "outputId": "912f2262-e834-4527-e7fe-7d0f4d766464"
      },
      "outputs": [
        {
          "output_type": "stream",
          "name": "stdout",
          "text": [
            "Loss score 0.47 : \n",
            "Accuracy score: 0.77\n"
          ]
        }
      ],
      "source": [
        "evaluate = lstm_stem_glove_optimised.evaluate(xval_stem, yval, verbose=0)\n",
        "\n",
        "print('Loss score %.2f : \\nAccuracy score: %.2f'%(evaluate[0], evaluate[1]))"
      ]
    },
    {
      "cell_type": "markdown",
      "id": "IoyAwsjtAGXV",
      "metadata": {
        "id": "IoyAwsjtAGXV"
      },
      "source": [
        "#### Sauvegarde du modèle"
      ]
    },
    {
      "cell_type": "code",
      "execution_count": 73,
      "id": "4AC3jh-QAGXV",
      "metadata": {
        "id": "4AC3jh-QAGXV",
        "colab": {
          "base_uri": "https://localhost:8080/"
        },
        "outputId": "ec5ab8fa-bddf-40a6-8e8a-d022f435d55c"
      },
      "outputs": [
        {
          "output_type": "stream",
          "name": "stdout",
          "text": [
            "Model Saved!\n"
          ]
        }
      ],
      "source": [
        "# saving model architecture and weights\n",
        " \n",
        "# save model architecture\n",
        "lstm_stem_glove_optimised.save(path + 'models/lstm_stem_glove.h5')\n",
        " \n",
        "# save model weights\n",
        "lstm_stem_glove_optimised.save_weights(path + 'models/lstm_stem_glove_weights')\n",
        "print('Model Saved!')"
      ]
    },
    {
      "cell_type": "code",
      "source": [
        "# sauvegarde temsp d'entraînement\n",
        "import pickle\n",
        "\n",
        "with open(path + \"models/lstm_learning_times.pkl\", \"wb\") as tf:\n",
        "    pickle.dump(learning_times,tf)\n",
        "print('Done!')"
      ],
      "metadata": {
        "id": "zsrr2VNVTx9_",
        "colab": {
          "base_uri": "https://localhost:8080/"
        },
        "outputId": "ea6a82b8-9e9f-4d31-a365-6466dea9d124"
      },
      "id": "zsrr2VNVTx9_",
      "execution_count": 74,
      "outputs": [
        {
          "output_type": "stream",
          "name": "stdout",
          "text": [
            "Done!\n"
          ]
        }
      ]
    },
    {
      "cell_type": "markdown",
      "id": "TqDpl70KAGXV",
      "metadata": {
        "id": "TqDpl70KAGXV"
      },
      "source": [
        "<a href=\"##sommaire\" rev=\"footnote\">&#8617;</a>"
      ]
    }
  ],
  "metadata": {
    "accelerator": "GPU",
    "colab": {
      "provenance": [],
      "machine_shape": "hm",
      "toc_visible": true
    },
    "gpuClass": "premium",
    "kernelspec": {
      "display_name": "Python 3 (ipykernel)",
      "language": "python",
      "name": "python3"
    },
    "language_info": {
      "codemirror_mode": {
        "name": "ipython",
        "version": 3
      },
      "file_extension": ".py",
      "mimetype": "text/x-python",
      "name": "python",
      "nbconvert_exporter": "python",
      "pygments_lexer": "ipython3",
      "version": "3.9.13"
    }
  },
  "nbformat": 4,
  "nbformat_minor": 5
}
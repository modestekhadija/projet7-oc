{
  "nbformat": 4,
  "nbformat_minor": 0,
  "metadata": {
    "colab": {
      "provenance": [],
      "toc_visible": true,
      "machine_shape": "hm"
    },
    "kernelspec": {
      "name": "python3",
      "display_name": "Python 3"
    },
    "language_info": {
      "name": "python"
    },
    "accelerator": "GPU",
    "gpuClass": "premium"
  },
  "cells": [
    {
      "cell_type": "markdown",
      "source": [
        "# <center><span style='background:yellow'> Détectez les Bad Buzz grâce au Deep Learning</span></center>\n",
        "## <center><span style='background:yellow'>Comparaison des modèles (partie 1)</span></center> \n",
        "================================================================================================================="
      ],
      "metadata": {
        "id": "MIW6T1R0IGT-"
      }
    },
    {
      "cell_type": "markdown",
      "source": [
        "## Chargement des modèles et leurs inputs"
      ],
      "metadata": {
        "id": "iCqhZbGDVXnf"
      }
    },
    {
      "cell_type": "code",
      "source": [
        "pip install gensim==4.2.0"
      ],
      "metadata": {
        "colab": {
          "base_uri": "https://localhost:8080/"
        },
        "id": "bVVH9dy9WSht",
        "outputId": "c462674a-7d6f-4285-a6f3-7786618d9df0"
      },
      "execution_count": 1,
      "outputs": [
        {
          "output_type": "stream",
          "name": "stdout",
          "text": [
            "Looking in indexes: https://pypi.org/simple, https://us-python.pkg.dev/colab-wheels/public/simple/\n",
            "Collecting gensim==4.2.0\n",
            "  Downloading gensim-4.2.0-cp38-cp38-manylinux_2_12_x86_64.manylinux2010_x86_64.whl (24.1 MB)\n",
            "\u001b[K     |████████████████████████████████| 24.1 MB 237 kB/s \n",
            "\u001b[?25hRequirement already satisfied: scipy>=0.18.1 in /usr/local/lib/python3.8/dist-packages (from gensim==4.2.0) (1.7.3)\n",
            "Requirement already satisfied: numpy>=1.17.0 in /usr/local/lib/python3.8/dist-packages (from gensim==4.2.0) (1.21.6)\n",
            "Requirement already satisfied: smart-open>=1.8.1 in /usr/local/lib/python3.8/dist-packages (from gensim==4.2.0) (6.3.0)\n",
            "Installing collected packages: gensim\n",
            "  Attempting uninstall: gensim\n",
            "    Found existing installation: gensim 3.6.0\n",
            "    Uninstalling gensim-3.6.0:\n",
            "      Successfully uninstalled gensim-3.6.0\n",
            "Successfully installed gensim-4.2.0\n"
          ]
        }
      ]
    },
    {
      "cell_type": "code",
      "source": [
        "pip install transformers"
      ],
      "metadata": {
        "colab": {
          "base_uri": "https://localhost:8080/"
        },
        "id": "PpZbSkTY62_i",
        "outputId": "62e43aa3-7e10-40a0-e24f-be5ef655884d"
      },
      "execution_count": 2,
      "outputs": [
        {
          "output_type": "stream",
          "name": "stdout",
          "text": [
            "Looking in indexes: https://pypi.org/simple, https://us-python.pkg.dev/colab-wheels/public/simple/\n",
            "Collecting transformers\n",
            "  Downloading transformers-4.25.1-py3-none-any.whl (5.8 MB)\n",
            "\u001b[K     |████████████████████████████████| 5.8 MB 27.2 MB/s \n",
            "\u001b[?25hRequirement already satisfied: packaging>=20.0 in /usr/local/lib/python3.8/dist-packages (from transformers) (21.3)\n",
            "Requirement already satisfied: requests in /usr/local/lib/python3.8/dist-packages (from transformers) (2.23.0)\n",
            "Requirement already satisfied: filelock in /usr/local/lib/python3.8/dist-packages (from transformers) (3.8.2)\n",
            "Requirement already satisfied: tqdm>=4.27 in /usr/local/lib/python3.8/dist-packages (from transformers) (4.64.1)\n",
            "Requirement already satisfied: numpy>=1.17 in /usr/local/lib/python3.8/dist-packages (from transformers) (1.21.6)\n",
            "Collecting tokenizers!=0.11.3,<0.14,>=0.11.1\n",
            "  Downloading tokenizers-0.13.2-cp38-cp38-manylinux_2_17_x86_64.manylinux2014_x86_64.whl (7.6 MB)\n",
            "\u001b[K     |████████████████████████████████| 7.6 MB 79.4 MB/s \n",
            "\u001b[?25hRequirement already satisfied: pyyaml>=5.1 in /usr/local/lib/python3.8/dist-packages (from transformers) (6.0)\n",
            "Requirement already satisfied: regex!=2019.12.17 in /usr/local/lib/python3.8/dist-packages (from transformers) (2022.6.2)\n",
            "Collecting huggingface-hub<1.0,>=0.10.0\n",
            "  Downloading huggingface_hub-0.11.1-py3-none-any.whl (182 kB)\n",
            "\u001b[K     |████████████████████████████████| 182 kB 94.3 MB/s \n",
            "\u001b[?25hRequirement already satisfied: typing-extensions>=3.7.4.3 in /usr/local/lib/python3.8/dist-packages (from huggingface-hub<1.0,>=0.10.0->transformers) (4.4.0)\n",
            "Requirement already satisfied: pyparsing!=3.0.5,>=2.0.2 in /usr/local/lib/python3.8/dist-packages (from packaging>=20.0->transformers) (3.0.9)\n",
            "Requirement already satisfied: chardet<4,>=3.0.2 in /usr/local/lib/python3.8/dist-packages (from requests->transformers) (3.0.4)\n",
            "Requirement already satisfied: certifi>=2017.4.17 in /usr/local/lib/python3.8/dist-packages (from requests->transformers) (2022.12.7)\n",
            "Requirement already satisfied: idna<3,>=2.5 in /usr/local/lib/python3.8/dist-packages (from requests->transformers) (2.10)\n",
            "Requirement already satisfied: urllib3!=1.25.0,!=1.25.1,<1.26,>=1.21.1 in /usr/local/lib/python3.8/dist-packages (from requests->transformers) (1.24.3)\n",
            "Installing collected packages: tokenizers, huggingface-hub, transformers\n",
            "Successfully installed huggingface-hub-0.11.1 tokenizers-0.13.2 transformers-4.25.1\n"
          ]
        }
      ]
    },
    {
      "cell_type": "code",
      "source": [
        "# Chargement des données\n",
        "path = '/content/drive/MyDrive/p7/'"
      ],
      "metadata": {
        "id": "cFHXdMRuIHUZ"
      },
      "execution_count": 3,
      "outputs": []
    },
    {
      "cell_type": "code",
      "source": [
        "import numpy as np\n",
        "import pandas as pd\n",
        "import gensim\n",
        "from gensim.models import KeyedVectors\n",
        "from joblib import load\n",
        "from keras import models\n",
        "from sklearn.metrics import accuracy_score\n",
        "import pickle"
      ],
      "metadata": {
        "id": "NMfc3acVNiDE"
      },
      "execution_count": 4,
      "outputs": []
    },
    {
      "cell_type": "code",
      "source": [
        "test = pd.read_csv(path + 'data/test.csv', index_col=0, encoding='utf-8')"
      ],
      "metadata": {
        "id": "cRXTNS5QIU8H"
      },
      "execution_count": 5,
      "outputs": []
    },
    {
      "cell_type": "code",
      "source": [
        "test.head()"
      ],
      "metadata": {
        "id": "bYxvayc9SZAA",
        "colab": {
          "base_uri": "https://localhost:8080/",
          "height": 302
        },
        "outputId": "e9ce58db-f870-486f-ff11-f87b95111231"
      },
      "execution_count": 6,
      "outputs": [
        {
          "output_type": "execute_result",
          "data": {
            "text/plain": [
              "                                                     tweet  label  \\\n",
              "490007                                  Is really hurt.         0   \n",
              "1347780  I just bought Six Flags tickets online!! Pavel...      1   \n",
              "1476645                          @ladymaryann watched it!       1   \n",
              "181699       i spilled water all over the seat and myself       0   \n",
              "1065563  I'm getting ready to go get some food!!  The k...      1   \n",
              "\n",
              "                                          tweet_clean_lemm  \\\n",
              "490007                                                hurt   \n",
              "1347780  buy flags ticket online pavel go tomorrow sooo...   \n",
              "1476645                                              watch   \n",
              "181699                                    spill water seat   \n",
              "1065563                          get ready food kid hungry   \n",
              "\n",
              "                                          tweet_clean_stem  \n",
              "490007                                                hurt  \n",
              "1347780  bought flag ticket onlin pavel go tomorrow soo...  \n",
              "1476645                                              watch  \n",
              "181699                                    spill water seat  \n",
              "1065563                          get readi food kid hungri  "
            ],
            "text/html": [
              "\n",
              "  <div id=\"df-f42be309-651f-4f39-8f79-672b7719f67c\">\n",
              "    <div class=\"colab-df-container\">\n",
              "      <div>\n",
              "<style scoped>\n",
              "    .dataframe tbody tr th:only-of-type {\n",
              "        vertical-align: middle;\n",
              "    }\n",
              "\n",
              "    .dataframe tbody tr th {\n",
              "        vertical-align: top;\n",
              "    }\n",
              "\n",
              "    .dataframe thead th {\n",
              "        text-align: right;\n",
              "    }\n",
              "</style>\n",
              "<table border=\"1\" class=\"dataframe\">\n",
              "  <thead>\n",
              "    <tr style=\"text-align: right;\">\n",
              "      <th></th>\n",
              "      <th>tweet</th>\n",
              "      <th>label</th>\n",
              "      <th>tweet_clean_lemm</th>\n",
              "      <th>tweet_clean_stem</th>\n",
              "    </tr>\n",
              "  </thead>\n",
              "  <tbody>\n",
              "    <tr>\n",
              "      <th>490007</th>\n",
              "      <td>Is really hurt.</td>\n",
              "      <td>0</td>\n",
              "      <td>hurt</td>\n",
              "      <td>hurt</td>\n",
              "    </tr>\n",
              "    <tr>\n",
              "      <th>1347780</th>\n",
              "      <td>I just bought Six Flags tickets online!! Pavel...</td>\n",
              "      <td>1</td>\n",
              "      <td>buy flags ticket online pavel go tomorrow sooo...</td>\n",
              "      <td>bought flag ticket onlin pavel go tomorrow soo...</td>\n",
              "    </tr>\n",
              "    <tr>\n",
              "      <th>1476645</th>\n",
              "      <td>@ladymaryann watched it!</td>\n",
              "      <td>1</td>\n",
              "      <td>watch</td>\n",
              "      <td>watch</td>\n",
              "    </tr>\n",
              "    <tr>\n",
              "      <th>181699</th>\n",
              "      <td>i spilled water all over the seat and myself</td>\n",
              "      <td>0</td>\n",
              "      <td>spill water seat</td>\n",
              "      <td>spill water seat</td>\n",
              "    </tr>\n",
              "    <tr>\n",
              "      <th>1065563</th>\n",
              "      <td>I'm getting ready to go get some food!!  The k...</td>\n",
              "      <td>1</td>\n",
              "      <td>get ready food kid hungry</td>\n",
              "      <td>get readi food kid hungri</td>\n",
              "    </tr>\n",
              "  </tbody>\n",
              "</table>\n",
              "</div>\n",
              "      <button class=\"colab-df-convert\" onclick=\"convertToInteractive('df-f42be309-651f-4f39-8f79-672b7719f67c')\"\n",
              "              title=\"Convert this dataframe to an interactive table.\"\n",
              "              style=\"display:none;\">\n",
              "        \n",
              "  <svg xmlns=\"http://www.w3.org/2000/svg\" height=\"24px\"viewBox=\"0 0 24 24\"\n",
              "       width=\"24px\">\n",
              "    <path d=\"M0 0h24v24H0V0z\" fill=\"none\"/>\n",
              "    <path d=\"M18.56 5.44l.94 2.06.94-2.06 2.06-.94-2.06-.94-.94-2.06-.94 2.06-2.06.94zm-11 1L8.5 8.5l.94-2.06 2.06-.94-2.06-.94L8.5 2.5l-.94 2.06-2.06.94zm10 10l.94 2.06.94-2.06 2.06-.94-2.06-.94-.94-2.06-.94 2.06-2.06.94z\"/><path d=\"M17.41 7.96l-1.37-1.37c-.4-.4-.92-.59-1.43-.59-.52 0-1.04.2-1.43.59L10.3 9.45l-7.72 7.72c-.78.78-.78 2.05 0 2.83L4 21.41c.39.39.9.59 1.41.59.51 0 1.02-.2 1.41-.59l7.78-7.78 2.81-2.81c.8-.78.8-2.07 0-2.86zM5.41 20L4 18.59l7.72-7.72 1.47 1.35L5.41 20z\"/>\n",
              "  </svg>\n",
              "      </button>\n",
              "      \n",
              "  <style>\n",
              "    .colab-df-container {\n",
              "      display:flex;\n",
              "      flex-wrap:wrap;\n",
              "      gap: 12px;\n",
              "    }\n",
              "\n",
              "    .colab-df-convert {\n",
              "      background-color: #E8F0FE;\n",
              "      border: none;\n",
              "      border-radius: 50%;\n",
              "      cursor: pointer;\n",
              "      display: none;\n",
              "      fill: #1967D2;\n",
              "      height: 32px;\n",
              "      padding: 0 0 0 0;\n",
              "      width: 32px;\n",
              "    }\n",
              "\n",
              "    .colab-df-convert:hover {\n",
              "      background-color: #E2EBFA;\n",
              "      box-shadow: 0px 1px 2px rgba(60, 64, 67, 0.3), 0px 1px 3px 1px rgba(60, 64, 67, 0.15);\n",
              "      fill: #174EA6;\n",
              "    }\n",
              "\n",
              "    [theme=dark] .colab-df-convert {\n",
              "      background-color: #3B4455;\n",
              "      fill: #D2E3FC;\n",
              "    }\n",
              "\n",
              "    [theme=dark] .colab-df-convert:hover {\n",
              "      background-color: #434B5C;\n",
              "      box-shadow: 0px 1px 3px 1px rgba(0, 0, 0, 0.15);\n",
              "      filter: drop-shadow(0px 1px 2px rgba(0, 0, 0, 0.3));\n",
              "      fill: #FFFFFF;\n",
              "    }\n",
              "  </style>\n",
              "\n",
              "      <script>\n",
              "        const buttonEl =\n",
              "          document.querySelector('#df-f42be309-651f-4f39-8f79-672b7719f67c button.colab-df-convert');\n",
              "        buttonEl.style.display =\n",
              "          google.colab.kernel.accessAllowed ? 'block' : 'none';\n",
              "\n",
              "        async function convertToInteractive(key) {\n",
              "          const element = document.querySelector('#df-f42be309-651f-4f39-8f79-672b7719f67c');\n",
              "          const dataTable =\n",
              "            await google.colab.kernel.invokeFunction('convertToInteractive',\n",
              "                                                     [key], {});\n",
              "          if (!dataTable) return;\n",
              "\n",
              "          const docLinkHtml = 'Like what you see? Visit the ' +\n",
              "            '<a target=\"_blank\" href=https://colab.research.google.com/notebooks/data_table.ipynb>data table notebook</a>'\n",
              "            + ' to learn more about interactive tables.';\n",
              "          element.innerHTML = '';\n",
              "          dataTable['output_type'] = 'display_data';\n",
              "          await google.colab.output.renderOutput(dataTable, element);\n",
              "          const docLink = document.createElement('div');\n",
              "          docLink.innerHTML = docLinkHtml;\n",
              "          element.appendChild(docLink);\n",
              "        }\n",
              "      </script>\n",
              "    </div>\n",
              "  </div>\n",
              "  "
            ]
          },
          "metadata": {},
          "execution_count": 6
        }
      ]
    },
    {
      "cell_type": "code",
      "source": [
        "test.dropna(inplace=True)"
      ],
      "metadata": {
        "id": "lP94IibyNyyx"
      },
      "execution_count": 7,
      "outputs": []
    },
    {
      "cell_type": "code",
      "source": [
        "test.shape"
      ],
      "metadata": {
        "colab": {
          "base_uri": "https://localhost:8080/"
        },
        "id": "kK01lTvDN0gC",
        "outputId": "16fb36d5-a2a0-4ef7-b0a2-33654854701c"
      },
      "execution_count": 8,
      "outputs": [
        {
          "output_type": "execute_result",
          "data": {
            "text/plain": [
              "(99333, 4)"
            ]
          },
          "metadata": {},
          "execution_count": 8
        }
      ]
    },
    {
      "cell_type": "markdown",
      "source": [
        "**Chargement du modèle BERT**"
      ],
      "metadata": {
        "id": "bI-wf4TREYsX"
      }
    },
    {
      "cell_type": "code",
      "source": [
        "from transformers import TFAutoModelForSequenceClassification\n",
        "\n",
        "bert_model = TFAutoModelForSequenceClassification.from_pretrained(path + \"models/pt_save_pretrained\")"
      ],
      "metadata": {
        "colab": {
          "base_uri": "https://localhost:8080/"
        },
        "id": "rPhoX4yw5PM8",
        "outputId": "baecf6a4-7401-4a6b-eabe-8da2309f45f2"
      },
      "execution_count": 9,
      "outputs": [
        {
          "output_type": "stream",
          "name": "stderr",
          "text": [
            "All model checkpoint layers were used when initializing TFBertForSequenceClassification.\n",
            "\n",
            "All the layers of TFBertForSequenceClassification were initialized from the model checkpoint at /content/drive/MyDrive/p7/models/pt_save_pretrained.\n",
            "If your task is similar to the task the model of the checkpoint was trained on, you can already use TFBertForSequenceClassification for predictions without further training.\n"
          ]
        }
      ]
    },
    {
      "cell_type": "code",
      "source": [
        "#Learning time\n",
        "\n",
        "file = open(path + 'models/embedding_learning_times.pkl','rb')\n",
        "embedding_learning_times = pickle.load(file)\n",
        "file.close()\n",
        "\n",
        "file = open(path + 'models/bert_learning_times.pkl','rb')\n",
        "bert_learning_times = pickle.load(file)\n",
        "file.close()\n",
        "\n",
        "file = open(path + 'models/lstm_learning_times.pkl','rb')\n",
        "lstm_learning_times = pickle.load(file)\n",
        "file.close()\n",
        "\n",
        "print('Model with embedding layer learning time:')\n",
        "print(embedding_learning_times, '\\n')\n",
        "\n",
        "print('Model with bidirectionnal lstm layer learning time:')\n",
        "print(lstm_learning_times, '\\n')\n",
        "\n",
        "print('BERT learning time:')\n",
        "print(bert_learning_times, '\\n')"
      ],
      "metadata": {
        "colab": {
          "base_uri": "https://localhost:8080/"
        },
        "id": "CJeAQALMpLMU",
        "outputId": "99df7654-7eb9-43f8-b173-d5985f1182de"
      },
      "execution_count": 10,
      "outputs": [
        {
          "output_type": "stream",
          "name": "stdout",
          "text": [
            "Model with embedding layer learning time:\n",
            "{'lemm_word2vec': 682.468090057373, 'lemm_glove': 681.315753698349, 'stem_word2vec': 682.4985361099243, 'stem_glove': 682.5130333900452} \n",
            "\n",
            "Model with bidirectionnal lstm layer learning time:\n",
            "{'lemm_word2vec': 6300.75177192688, 'lemm_glove': 6496.0397934913635, 'stem_word2vec': 6303.854997396469, 'stem_glove': 6253.322942495346} \n",
            "\n",
            "BERT learning time:\n",
            "{'BERT': 6430.9893391132355} \n",
            "\n"
          ]
        }
      ]
    },
    {
      "cell_type": "code",
      "source": [
        "# Import des inputs et test du modèle BERT\n",
        "from keras.losses import BinaryCrossentropy\n",
        "from keras.optimizers import Adam\n",
        "from keras.metrics import BinaryAccuracy\n",
        "\n",
        "file = open(path + \"models/input_ids_test.pkl\",'rb')\n",
        "input_ids_test = pickle.load(file)\n",
        "file.close()\n",
        "\n",
        "file = open(path + \"models/attention_mask_test.pkl\",'rb')\n",
        "attention_mask_test = pickle.load(file)\n",
        "file.close()\n",
        "\n",
        "file = open(path + \"models/token_type_ids_test.pkl\",'rb')\n",
        "token_type_ids_test = pickle.load(file)\n",
        "file.close()\n",
        "\n",
        "# compile NN network\n",
        "print(\"Compiling model...\")\n",
        "bert_model.compile(\n",
        "    loss=BinaryCrossentropy(),\n",
        "    optimizer=Adam(learning_rate=2e-5),  # Value recommended by the Bert team\n",
        "    metrics=BinaryAccuracy())\n",
        "\n",
        "print('Model compiled!')\n",
        "print('Testing the model...')\n",
        "test_model = bert_model.evaluate([input_ids_test, attention_mask_test, token_type_ids_test], \n",
        "                                              test.label, \n",
        "                                              verbose=0)\n",
        "print('Done!')"
      ],
      "metadata": {
        "colab": {
          "base_uri": "https://localhost:8080/"
        },
        "id": "bC960ULh5Smo",
        "outputId": "0b13c830-0a09-4851-84b8-f8a8d5e11b2c"
      },
      "execution_count": 11,
      "outputs": [
        {
          "output_type": "stream",
          "name": "stdout",
          "text": [
            "Compiling model...\n",
            "Model compiled!\n",
            "Testing the model...\n",
            "Done!\n"
          ]
        }
      ]
    },
    {
      "cell_type": "markdown",
      "source": [
        "**Chargement des modèles avancés**"
      ],
      "metadata": {
        "id": "TX0uY5KmEgbV"
      }
    },
    {
      "cell_type": "code",
      "source": [
        "# Load w2v KeyVectors\n",
        "lemm_w2v_vectors = KeyedVectors.load(path + \"embedding/word2vec.wordvectors\", mmap='r')"
      ],
      "metadata": {
        "id": "whcSorVHTcib"
      },
      "execution_count": 16,
      "outputs": []
    },
    {
      "cell_type": "code",
      "source": [
        "# Pre-processing Logistic \n",
        "\n",
        "# Vectoriser un token avec word2vec\n",
        "def word_vector(token, model_vectors, size=100):\n",
        "\n",
        "    vec = np.zeros(size).reshape((1, size))\n",
        "    count = 0\n",
        "    \n",
        "    for word in token:\n",
        "        try:\n",
        "            vec += model_vectors[word].reshape((1, size))\n",
        "            count += 1.\n",
        "            \n",
        "        except KeyError: \n",
        "            continue\n",
        "    if count != 0:\n",
        "        vec /= count\n",
        "    return vec\n",
        "def model_vectorisation(serie, model_vectors, size=100):\n",
        "    print('Tokenisation ...')\n",
        "    sentences = serie.to_list()\n",
        "    sentences =  [gensim.utils.simple_preprocess(text) for text in sentences]\n",
        "\n",
        "    vectors = np.zeros((len(sentences), size)) \n",
        "    print('Vectorisation du corpus ...')\n",
        "    for i in range(len(sentences)):\n",
        "        vectors[i,:] = word_vector(model_vectors = model_vectors, \n",
        "                                   token = sentences[i], \n",
        "                                   size = size)\n",
        "        \n",
        "    vectors_df = pd.DataFrame(vectors)\n",
        "    print('matrix created')\n",
        "\n",
        "    return vectors_df"
      ],
      "metadata": {
        "id": "A-jO3_QuSiSZ"
      },
      "execution_count": 13,
      "outputs": []
    },
    {
      "cell_type": "code",
      "source": [
        "#  Loading the models\n",
        "\n",
        "print('Loading the models ...')\n",
        "log_regression = load(path + 'models/best_regression_model_saved.joblib')\n",
        "\n",
        "model_lemm_w2v = models.load_model(path + 'models/model_lemm_w2v')\n",
        "\n",
        "model_lemm_glove = models.load_model(path + 'models/model_lemm_glove')\n",
        "\n",
        "model_stem_w2v = models.load_model(path + 'models/model_stem_w2v')\n",
        "\n",
        "model_stem_glove = models.load_model(path + 'models/model_stem_glove')\n",
        "\n",
        "lstm_lemm_w2v = models.load_model(path + 'models/lstm_lemm_w2v.h5')\n",
        "lstm_lemm_w2v.load_weights(path + 'models/lstm_lemm_w2v_weights')\n",
        "\n",
        "lstm_lemm_glove = models.load_model(path + 'models/lstm_lemm_glove.h5')\n",
        "lstm_lemm_glove.load_weights(path + 'models/lstm_lemm_glove_weights')\n",
        "\n",
        "lstm_stem_w2v = models.load_model(path + 'models/lstm_stem_w2v.h5')\n",
        "lstm_stem_w2v.load_weights(path + 'models/lstm_stem_w2v_weights')\n",
        "\n",
        "lstm_stem_glove = models.load_model(path + 'models/lstm_stem_glove.h5')\n",
        "lstm_stem_glove.load_weights(path + 'models/lstm_stem_glove_weights')\n",
        "\n",
        "print('Models loaded!')"
      ],
      "metadata": {
        "id": "3Q4vnQ59N2qJ",
        "colab": {
          "base_uri": "https://localhost:8080/"
        },
        "outputId": "aa1331ff-d12f-41bb-a345-86f786282024"
      },
      "execution_count": 14,
      "outputs": [
        {
          "output_type": "stream",
          "name": "stdout",
          "text": [
            "Loading the models ...\n",
            "Models loaded!\n"
          ]
        }
      ]
    },
    {
      "cell_type": "code",
      "source": [
        "# Input data for Logistic Regression\n",
        "test_reg_input = lemm_w2v_xtrain = model_vectorisation(test.tweet_clean_lemm, \n",
        "                               model_vectors = lemm_w2v_vectors)"
      ],
      "metadata": {
        "id": "SNZF2YICMckO",
        "colab": {
          "base_uri": "https://localhost:8080/"
        },
        "outputId": "9e60b801-63a9-49a7-df31-8b16da0113c8"
      },
      "execution_count": 17,
      "outputs": [
        {
          "output_type": "stream",
          "name": "stdout",
          "text": [
            "Tokenisation ...\n",
            "Vectorisation du corpus ...\n",
            "matrix created\n"
          ]
        }
      ]
    },
    {
      "cell_type": "code",
      "source": [
        "# Inputs data for DL models\n",
        "xtest_lemm = np.load(path + 'test_input/xtest_lem.npy')\n",
        "xtest_stem = np.load(path + 'test_input/xtest_stem.npy')\n",
        "print('Done!')"
      ],
      "metadata": {
        "id": "fNgU7vsngGp7",
        "colab": {
          "base_uri": "https://localhost:8080/"
        },
        "outputId": "51f26280-f346-4b1d-cec8-a5e1854e0636"
      },
      "execution_count": 18,
      "outputs": [
        {
          "output_type": "stream",
          "name": "stdout",
          "text": [
            "Done!\n"
          ]
        }
      ]
    },
    {
      "cell_type": "code",
      "source": [
        "model_name = []\n",
        "acc = []\n",
        "learning_time = []\n",
        "\n",
        "# Logistic Regression\n",
        "model_name.append('Logistic Regression')\n",
        "acc.append(accuracy_score(test.label, log_regression.predict(test_reg_input)))\n",
        "learning_time.append(20.4)\n",
        "\n",
        "# Modèle DL avec une couche embedding appliqué sur les tweets lemmatisés et vectorisés par w2v\n",
        "xtest_lemm = np.load(path + 'test_input/xtest_lem.npy')\n",
        "model_name.append('Embedding_lemm_w2v')\n",
        "acc.append(model_lemm_w2v.evaluate(xtest_lemm, test.label, verbose=0)[1])\n",
        "learning_time.append(embedding_learning_times['lemm_word2vec'])\n",
        "\n",
        "# Modèle DL avec une couche embedding appliqué sur les tweets lemmatisés et vectorisés par glove\n",
        "model_name.append('Embedding_lemm_glove')\n",
        "acc.append(model_lemm_glove.evaluate(xtest_lemm, test.label, verbose=0)[1])\n",
        "learning_time.append(embedding_learning_times['lemm_glove'])\n",
        "\n",
        "# Modèle DL avec une couche embedding appliqué sur les tweets stemmés et vectorisés par w2v\n",
        "xtest_stem = np.load(path + 'test_input/xtest_stem.npy')\n",
        "model_name.append('Embedding_stem_w2v')\n",
        "acc.append(model_stem_w2v.evaluate(xtest_stem, test.label, verbose=0)[1])\n",
        "learning_time.append(embedding_learning_times['stem_word2vec'])\n",
        "\n",
        "# Modèle DL avec une couche embedding appliqué sur les tweets stemmés et vectorisés par glove\n",
        "model_name.append('Embedding_stem_glove')\n",
        "acc.append(model_stem_glove.evaluate(xtest_stem, test.label, verbose=0)[1])\n",
        "learning_time.append(embedding_learning_times['stem_glove'])\n",
        "\n",
        "# Modèle DL avec une couche embedding et une couche bidirectionnel lstm\n",
        "# appliqué sur les tweets lemmatisés et vectorisés par w2v\n",
        "model_name.append('Bidirect_lstm_lemm_w2v')\n",
        "acc.append(lstm_lemm_w2v.evaluate(xtest_lemm, test.label, verbose=0)[1])\n",
        "learning_time.append(lstm_learning_times['lemm_word2vec'])\n",
        "\n",
        "# Modèle DL avec une couche embedding et une couche bidirectionnel lstm\n",
        "# appliqué sur les tweets lemmatisés et vectorisés par glove\n",
        "model_name.append('Bidirect_lstm_lemm_glove')\n",
        "acc.append(lstm_lemm_glove.evaluate(xtest_lemm, test.label, verbose=0)[1])\n",
        "learning_time.append(lstm_learning_times['lemm_glove'])\n",
        "\n",
        "# Modèle DL avec une couche embedding et une couche bidirectionnel lstm\n",
        "# appliqué sur les tweets stemmés et vectorisés par w2v\n",
        "model_name.append('Bidirect_lstm_stem_w2v')\n",
        "acc.append(lstm_stem_w2v.evaluate(xtest_stem, test.label, verbose=0)[1])\n",
        "learning_time.append(lstm_learning_times['stem_word2vec'])\n",
        "\n",
        "# Modèle DL avec une couche embedding et une couche bidirectionnel lstm\n",
        "# appliqué sur les tweets stemmés et vectorisés par glove\n",
        "model_name.append('Bidirect_lstm_stem_glove')\n",
        "acc.append(lstm_stem_glove.evaluate(xtest_stem, test.label, verbose=0)[1])\n",
        "learning_time.append(lstm_learning_times['stem_glove'])\n",
        "\n",
        "# Modèle DL avec une couche embedding et une couche bidirectionnel lstm\n",
        "# appliqué sur les tweets stemmés et vectorisés par glove\n",
        "model_name.append('Bert_base_uncased')\n",
        "acc.append(test_model[1])\n",
        "learning_time.append(bert_learning_times['BERT'])"
      ],
      "metadata": {
        "id": "CcF-xHuy85Va"
      },
      "execution_count": 19,
      "outputs": []
    },
    {
      "cell_type": "markdown",
      "source": [
        "## Tableau comparatif des modèles"
      ],
      "metadata": {
        "id": "OoBjC520VHBe"
      }
    },
    {
      "cell_type": "code",
      "source": [
        "pd.options.display.float_format = '{:,.3f}'.format\n",
        "\n",
        "compare_df = pd.DataFrame({'Model_name' : model_name,\n",
        "                           'Accuracy_score' : [round(score,3) for score in acc],\n",
        "                           'Learning_time in minutes' : [round(t/60,2) for t in learning_time]})\n",
        "compare_df"
      ],
      "metadata": {
        "id": "4WFdmkSTugg9",
        "colab": {
          "base_uri": "https://localhost:8080/",
          "height": 363
        },
        "outputId": "2cfa5c12-3c17-4586-efa9-ecd604ca4aba"
      },
      "execution_count": 20,
      "outputs": [
        {
          "output_type": "execute_result",
          "data": {
            "text/plain": [
              "                 Model_name  Accuracy_score  Learning_time in minutes\n",
              "0       Logistic Regression           0.742                     0.340\n",
              "1        Embedding_lemm_w2v           0.756                    11.370\n",
              "2      Embedding_lemm_glove           0.755                    11.360\n",
              "3        Embedding_stem_w2v           0.754                    11.370\n",
              "4      Embedding_stem_glove           0.755                    11.380\n",
              "5    Bidirect_lstm_lemm_w2v           0.772                   105.010\n",
              "6  Bidirect_lstm_lemm_glove           0.774                   108.270\n",
              "7    Bidirect_lstm_stem_w2v           0.776                   105.060\n",
              "8  Bidirect_lstm_stem_glove           0.773                   104.220\n",
              "9         Bert_base_uncased           0.798                   107.180"
            ],
            "text/html": [
              "\n",
              "  <div id=\"df-00fcf71b-3e88-4c54-835f-f1a22b4a5d1d\">\n",
              "    <div class=\"colab-df-container\">\n",
              "      <div>\n",
              "<style scoped>\n",
              "    .dataframe tbody tr th:only-of-type {\n",
              "        vertical-align: middle;\n",
              "    }\n",
              "\n",
              "    .dataframe tbody tr th {\n",
              "        vertical-align: top;\n",
              "    }\n",
              "\n",
              "    .dataframe thead th {\n",
              "        text-align: right;\n",
              "    }\n",
              "</style>\n",
              "<table border=\"1\" class=\"dataframe\">\n",
              "  <thead>\n",
              "    <tr style=\"text-align: right;\">\n",
              "      <th></th>\n",
              "      <th>Model_name</th>\n",
              "      <th>Accuracy_score</th>\n",
              "      <th>Learning_time in minutes</th>\n",
              "    </tr>\n",
              "  </thead>\n",
              "  <tbody>\n",
              "    <tr>\n",
              "      <th>0</th>\n",
              "      <td>Logistic Regression</td>\n",
              "      <td>0.742</td>\n",
              "      <td>0.340</td>\n",
              "    </tr>\n",
              "    <tr>\n",
              "      <th>1</th>\n",
              "      <td>Embedding_lemm_w2v</td>\n",
              "      <td>0.756</td>\n",
              "      <td>11.370</td>\n",
              "    </tr>\n",
              "    <tr>\n",
              "      <th>2</th>\n",
              "      <td>Embedding_lemm_glove</td>\n",
              "      <td>0.755</td>\n",
              "      <td>11.360</td>\n",
              "    </tr>\n",
              "    <tr>\n",
              "      <th>3</th>\n",
              "      <td>Embedding_stem_w2v</td>\n",
              "      <td>0.754</td>\n",
              "      <td>11.370</td>\n",
              "    </tr>\n",
              "    <tr>\n",
              "      <th>4</th>\n",
              "      <td>Embedding_stem_glove</td>\n",
              "      <td>0.755</td>\n",
              "      <td>11.380</td>\n",
              "    </tr>\n",
              "    <tr>\n",
              "      <th>5</th>\n",
              "      <td>Bidirect_lstm_lemm_w2v</td>\n",
              "      <td>0.772</td>\n",
              "      <td>105.010</td>\n",
              "    </tr>\n",
              "    <tr>\n",
              "      <th>6</th>\n",
              "      <td>Bidirect_lstm_lemm_glove</td>\n",
              "      <td>0.774</td>\n",
              "      <td>108.270</td>\n",
              "    </tr>\n",
              "    <tr>\n",
              "      <th>7</th>\n",
              "      <td>Bidirect_lstm_stem_w2v</td>\n",
              "      <td>0.776</td>\n",
              "      <td>105.060</td>\n",
              "    </tr>\n",
              "    <tr>\n",
              "      <th>8</th>\n",
              "      <td>Bidirect_lstm_stem_glove</td>\n",
              "      <td>0.773</td>\n",
              "      <td>104.220</td>\n",
              "    </tr>\n",
              "    <tr>\n",
              "      <th>9</th>\n",
              "      <td>Bert_base_uncased</td>\n",
              "      <td>0.798</td>\n",
              "      <td>107.180</td>\n",
              "    </tr>\n",
              "  </tbody>\n",
              "</table>\n",
              "</div>\n",
              "      <button class=\"colab-df-convert\" onclick=\"convertToInteractive('df-00fcf71b-3e88-4c54-835f-f1a22b4a5d1d')\"\n",
              "              title=\"Convert this dataframe to an interactive table.\"\n",
              "              style=\"display:none;\">\n",
              "        \n",
              "  <svg xmlns=\"http://www.w3.org/2000/svg\" height=\"24px\"viewBox=\"0 0 24 24\"\n",
              "       width=\"24px\">\n",
              "    <path d=\"M0 0h24v24H0V0z\" fill=\"none\"/>\n",
              "    <path d=\"M18.56 5.44l.94 2.06.94-2.06 2.06-.94-2.06-.94-.94-2.06-.94 2.06-2.06.94zm-11 1L8.5 8.5l.94-2.06 2.06-.94-2.06-.94L8.5 2.5l-.94 2.06-2.06.94zm10 10l.94 2.06.94-2.06 2.06-.94-2.06-.94-.94-2.06-.94 2.06-2.06.94z\"/><path d=\"M17.41 7.96l-1.37-1.37c-.4-.4-.92-.59-1.43-.59-.52 0-1.04.2-1.43.59L10.3 9.45l-7.72 7.72c-.78.78-.78 2.05 0 2.83L4 21.41c.39.39.9.59 1.41.59.51 0 1.02-.2 1.41-.59l7.78-7.78 2.81-2.81c.8-.78.8-2.07 0-2.86zM5.41 20L4 18.59l7.72-7.72 1.47 1.35L5.41 20z\"/>\n",
              "  </svg>\n",
              "      </button>\n",
              "      \n",
              "  <style>\n",
              "    .colab-df-container {\n",
              "      display:flex;\n",
              "      flex-wrap:wrap;\n",
              "      gap: 12px;\n",
              "    }\n",
              "\n",
              "    .colab-df-convert {\n",
              "      background-color: #E8F0FE;\n",
              "      border: none;\n",
              "      border-radius: 50%;\n",
              "      cursor: pointer;\n",
              "      display: none;\n",
              "      fill: #1967D2;\n",
              "      height: 32px;\n",
              "      padding: 0 0 0 0;\n",
              "      width: 32px;\n",
              "    }\n",
              "\n",
              "    .colab-df-convert:hover {\n",
              "      background-color: #E2EBFA;\n",
              "      box-shadow: 0px 1px 2px rgba(60, 64, 67, 0.3), 0px 1px 3px 1px rgba(60, 64, 67, 0.15);\n",
              "      fill: #174EA6;\n",
              "    }\n",
              "\n",
              "    [theme=dark] .colab-df-convert {\n",
              "      background-color: #3B4455;\n",
              "      fill: #D2E3FC;\n",
              "    }\n",
              "\n",
              "    [theme=dark] .colab-df-convert:hover {\n",
              "      background-color: #434B5C;\n",
              "      box-shadow: 0px 1px 3px 1px rgba(0, 0, 0, 0.15);\n",
              "      filter: drop-shadow(0px 1px 2px rgba(0, 0, 0, 0.3));\n",
              "      fill: #FFFFFF;\n",
              "    }\n",
              "  </style>\n",
              "\n",
              "      <script>\n",
              "        const buttonEl =\n",
              "          document.querySelector('#df-00fcf71b-3e88-4c54-835f-f1a22b4a5d1d button.colab-df-convert');\n",
              "        buttonEl.style.display =\n",
              "          google.colab.kernel.accessAllowed ? 'block' : 'none';\n",
              "\n",
              "        async function convertToInteractive(key) {\n",
              "          const element = document.querySelector('#df-00fcf71b-3e88-4c54-835f-f1a22b4a5d1d');\n",
              "          const dataTable =\n",
              "            await google.colab.kernel.invokeFunction('convertToInteractive',\n",
              "                                                     [key], {});\n",
              "          if (!dataTable) return;\n",
              "\n",
              "          const docLinkHtml = 'Like what you see? Visit the ' +\n",
              "            '<a target=\"_blank\" href=https://colab.research.google.com/notebooks/data_table.ipynb>data table notebook</a>'\n",
              "            + ' to learn more about interactive tables.';\n",
              "          element.innerHTML = '';\n",
              "          dataTable['output_type'] = 'display_data';\n",
              "          await google.colab.output.renderOutput(dataTable, element);\n",
              "          const docLink = document.createElement('div');\n",
              "          docLink.innerHTML = docLinkHtml;\n",
              "          element.appendChild(docLink);\n",
              "        }\n",
              "      </script>\n",
              "    </div>\n",
              "  </div>\n",
              "  "
            ]
          },
          "metadata": {},
          "execution_count": 20
        }
      ]
    },
    {
      "cell_type": "code",
      "source": [
        "compare_df.head()\n",
        "compare_df.to_csv(path + 'compare_df.csv')"
      ],
      "metadata": {
        "id": "w8C93KG4yYjI"
      },
      "execution_count": 21,
      "outputs": []
    },
    {
      "cell_type": "markdown",
      "source": [
        "## Choix du modèle"
      ],
      "metadata": {
        "id": "M9SnqleQzvq6"
      }
    },
    {
      "cell_type": "code",
      "source": [
        "#Choix du modèle bidirectional LSTM appliqué sur des tweets stemmés et encodés selon glove\n",
        "\n",
        "from sklearn.metrics import confusion_matrix, classification_report\n",
        "import seaborn as sns\n",
        "import matplotlib.pyplot as plt\n",
        "\n",
        "y_pred = (lstm_stem_glove.predict(xtest_stem)>0.5)*1\n",
        "conf_matrix = confusion_matrix(test.label, y_pred)\n",
        "conf_matrix = pd.DataFrame(conf_matrix).rename_axis(index = ['Actual'], columns=['predicted'])\n",
        "conf_matrix"
      ],
      "metadata": {
        "colab": {
          "base_uri": "https://localhost:8080/"
        },
        "id": "_HSCEPm0tjbT",
        "outputId": "dffb9f6a-40d8-4696-a473-ee200e75709f"
      },
      "execution_count": 23,
      "outputs": [
        {
          "output_type": "stream",
          "name": "stdout",
          "text": [
            "3105/3105 [==============================] - 21s 7ms/step\n"
          ]
        }
      ]
    },
    {
      "cell_type": "code",
      "source": [
        "sns.heatmap(confusion_matrix(test.label, y_pred), annot=True, fmt='.0f', cbar=False)\n",
        "plt.xlabel('Predicted')\n",
        "plt.ylabel('Actual')\n",
        "plt.show()"
      ],
      "metadata": {
        "colab": {
          "base_uri": "https://localhost:8080/",
          "height": 279
        },
        "id": "t9bw2-UDu23D",
        "outputId": "5d213b79-5806-44c1-a921-ff5788884da1"
      },
      "execution_count": 52,
      "outputs": [
        {
          "output_type": "display_data",
          "data": {
            "text/plain": [
              "<Figure size 432x288 with 1 Axes>"
            ],
            "image/png": "[encoded data removed]"
          },
          "metadata": {
            "needs_background": "light"
          }
        }
      ]
    },
    {
      "cell_type": "code",
      "source": [
        "print(classification_report(test.label, y_pred))"
      ],
      "metadata": {
        "colab": {
          "base_uri": "https://localhost:8080/"
        },
        "id": "gjAiV2N2vDYG",
        "outputId": "b14aef7c-9d30-49a1-a485-d4cb4af2d6c6"
      },
      "execution_count": 30,
      "outputs": [
        {
          "output_type": "stream",
          "name": "stdout",
          "text": [
            "              precision    recall  f1-score   support\n",
            "\n",
            "           0       0.77      0.78      0.77     49719\n",
            "           1       0.77      0.77      0.77     49614\n",
            "\n",
            "    accuracy                           0.77     99333\n",
            "   macro avg       0.77      0.77      0.77     99333\n",
            "weighted avg       0.77      0.77      0.77     99333\n",
            "\n"
          ]
        }
      ]
    },
    {
      "cell_type": "markdown",
      "source": [
        "# Comparaison avec un modèle tensorflow avec une couche embedding"
      ],
      "metadata": {
        "id": "aNJF17nQ0gcT"
      }
    },
    {
      "cell_type": "code",
      "source": [
        "y_pred = (model_lemm_w2v.predict(xtest_lemm)>0.5)*1\n",
        "conf_matrix = confusion_matrix(test.label, y_pred)\n",
        "conf_matrix = pd.DataFrame(conf_matrix).rename_axis(index = ['Actual'], columns=['predicted'])\n",
        "conf_matrix"
      ],
      "metadata": {
        "colab": {
          "base_uri": "https://localhost:8080/",
          "height": 162
        },
        "id": "UR4nPBMp1QQx",
        "outputId": "3961710f-f2b0-410f-9c74-297a3b70bc13"
      },
      "execution_count": 54,
      "outputs": [
        {
          "output_type": "stream",
          "name": "stdout",
          "text": [
            "3105/3105 [==============================] - 4s 1ms/step\n"
          ]
        },
        {
          "output_type": "execute_result",
          "data": {
            "text/plain": [
              "predicted      0      1\n",
              "Actual                 \n",
              "0          38083  11636\n",
              "1          12617  36997"
            ],
            "text/html": [
              "\n",
              "  <div id=\"df-dbb784bc-e3fa-4d8e-83e3-3fc9b9086502\">\n",
              "    <div class=\"colab-df-container\">\n",
              "      <div>\n",
              "<style scoped>\n",
              "    .dataframe tbody tr th:only-of-type {\n",
              "        vertical-align: middle;\n",
              "    }\n",
              "\n",
              "    .dataframe tbody tr th {\n",
              "        vertical-align: top;\n",
              "    }\n",
              "\n",
              "    .dataframe thead th {\n",
              "        text-align: right;\n",
              "    }\n",
              "</style>\n",
              "<table border=\"1\" class=\"dataframe\">\n",
              "  <thead>\n",
              "    <tr style=\"text-align: right;\">\n",
              "      <th>predicted</th>\n",
              "      <th>0</th>\n",
              "      <th>1</th>\n",
              "    </tr>\n",
              "    <tr>\n",
              "      <th>Actual</th>\n",
              "      <th></th>\n",
              "      <th></th>\n",
              "    </tr>\n",
              "  </thead>\n",
              "  <tbody>\n",
              "    <tr>\n",
              "      <th>0</th>\n",
              "      <td>38083</td>\n",
              "      <td>11636</td>\n",
              "    </tr>\n",
              "    <tr>\n",
              "      <th>1</th>\n",
              "      <td>12617</td>\n",
              "      <td>36997</td>\n",
              "    </tr>\n",
              "  </tbody>\n",
              "</table>\n",
              "</div>\n",
              "      <button class=\"colab-df-convert\" onclick=\"convertToInteractive('df-dbb784bc-e3fa-4d8e-83e3-3fc9b9086502')\"\n",
              "              title=\"Convert this dataframe to an interactive table.\"\n",
              "              style=\"display:none;\">\n",
              "        \n",
              "  <svg xmlns=\"http://www.w3.org/2000/svg\" height=\"24px\"viewBox=\"0 0 24 24\"\n",
              "       width=\"24px\">\n",
              "    <path d=\"M0 0h24v24H0V0z\" fill=\"none\"/>\n",
              "    <path d=\"M18.56 5.44l.94 2.06.94-2.06 2.06-.94-2.06-.94-.94-2.06-.94 2.06-2.06.94zm-11 1L8.5 8.5l.94-2.06 2.06-.94-2.06-.94L8.5 2.5l-.94 2.06-2.06.94zm10 10l.94 2.06.94-2.06 2.06-.94-2.06-.94-.94-2.06-.94 2.06-2.06.94z\"/><path d=\"M17.41 7.96l-1.37-1.37c-.4-.4-.92-.59-1.43-.59-.52 0-1.04.2-1.43.59L10.3 9.45l-7.72 7.72c-.78.78-.78 2.05 0 2.83L4 21.41c.39.39.9.59 1.41.59.51 0 1.02-.2 1.41-.59l7.78-7.78 2.81-2.81c.8-.78.8-2.07 0-2.86zM5.41 20L4 18.59l7.72-7.72 1.47 1.35L5.41 20z\"/>\n",
              "  </svg>\n",
              "      </button>\n",
              "      \n",
              "  <style>\n",
              "    .colab-df-container {\n",
              "      display:flex;\n",
              "      flex-wrap:wrap;\n",
              "      gap: 12px;\n",
              "    }\n",
              "\n",
              "    .colab-df-convert {\n",
              "      background-color: #E8F0FE;\n",
              "      border: none;\n",
              "      border-radius: 50%;\n",
              "      cursor: pointer;\n",
              "      display: none;\n",
              "      fill: #1967D2;\n",
              "      height: 32px;\n",
              "      padding: 0 0 0 0;\n",
              "      width: 32px;\n",
              "    }\n",
              "\n",
              "    .colab-df-convert:hover {\n",
              "      background-color: #E2EBFA;\n",
              "      box-shadow: 0px 1px 2px rgba(60, 64, 67, 0.3), 0px 1px 3px 1px rgba(60, 64, 67, 0.15);\n",
              "      fill: #174EA6;\n",
              "    }\n",
              "\n",
              "    [theme=dark] .colab-df-convert {\n",
              "      background-color: #3B4455;\n",
              "      fill: #D2E3FC;\n",
              "    }\n",
              "\n",
              "    [theme=dark] .colab-df-convert:hover {\n",
              "      background-color: #434B5C;\n",
              "      box-shadow: 0px 1px 3px 1px rgba(0, 0, 0, 0.15);\n",
              "      filter: drop-shadow(0px 1px 2px rgba(0, 0, 0, 0.3));\n",
              "      fill: #FFFFFF;\n",
              "    }\n",
              "  </style>\n",
              "\n",
              "      <script>\n",
              "        const buttonEl =\n",
              "          document.querySelector('#df-dbb784bc-e3fa-4d8e-83e3-3fc9b9086502 button.colab-df-convert');\n",
              "        buttonEl.style.display =\n",
              "          google.colab.kernel.accessAllowed ? 'block' : 'none';\n",
              "\n",
              "        async function convertToInteractive(key) {\n",
              "          const element = document.querySelector('#df-dbb784bc-e3fa-4d8e-83e3-3fc9b9086502');\n",
              "          const dataTable =\n",
              "            await google.colab.kernel.invokeFunction('convertToInteractive',\n",
              "                                                     [key], {});\n",
              "          if (!dataTable) return;\n",
              "\n",
              "          const docLinkHtml = 'Like what you see? Visit the ' +\n",
              "            '<a target=\"_blank\" href=https://colab.research.google.com/notebooks/data_table.ipynb>data table notebook</a>'\n",
              "            + ' to learn more about interactive tables.';\n",
              "          element.innerHTML = '';\n",
              "          dataTable['output_type'] = 'display_data';\n",
              "          await google.colab.output.renderOutput(dataTable, element);\n",
              "          const docLink = document.createElement('div');\n",
              "          docLink.innerHTML = docLinkHtml;\n",
              "          element.appendChild(docLink);\n",
              "        }\n",
              "      </script>\n",
              "    </div>\n",
              "  </div>\n",
              "  "
            ]
          },
          "metadata": {},
          "execution_count": 54
        }
      ]
    },
    {
      "cell_type": "code",
      "source": [
        "sns.heatmap(confusion_matrix(test.label, y_pred), annot=True, fmt='.0f', cbar=False)\n",
        "plt.xlabel('Predicted')\n",
        "plt.ylabel('Actual')\n",
        "plt.show()"
      ],
      "metadata": {
        "colab": {
          "base_uri": "https://localhost:8080/",
          "height": 279
        },
        "id": "kp5igDRP2mAt",
        "outputId": "895e061d-f859-44ab-eefd-ba20f5a04696"
      },
      "execution_count": 55,
      "outputs": [
        {
          "output_type": "display_data",
          "data": {
            "text/plain": [
              "<Figure size 432x288 with 1 Axes>"
            ],
            "image/png": "[encoded data removed]"
          },
          "metadata": {
            "needs_background": "light"
          }
        }
      ]
    },
    {
      "cell_type": "code",
      "source": [
        "print(classification_report(test.label, y_pred))"
      ],
      "metadata": {
        "colab": {
          "base_uri": "https://localhost:8080/"
        },
        "id": "b_aWX1Q53Ine",
        "outputId": "14a32018-bf95-4659-bb98-afe9d0eeac99"
      },
      "execution_count": 56,
      "outputs": [
        {
          "output_type": "stream",
          "name": "stdout",
          "text": [
            "              precision    recall  f1-score   support\n",
            "\n",
            "           0       0.75      0.77      0.76     49719\n",
            "           1       0.76      0.75      0.75     49614\n",
            "\n",
            "    accuracy                           0.76     99333\n",
            "   macro avg       0.76      0.76      0.76     99333\n",
            "weighted avg       0.76      0.76      0.76     99333\n",
            "\n"
          ]
        }
      ]
    }
  ]
}